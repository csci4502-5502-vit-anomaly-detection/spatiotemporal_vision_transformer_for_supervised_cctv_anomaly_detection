{
 "cells": [
  {
   "cell_type": "markdown",
   "id": "2b14e77f",
   "metadata": {},
   "source": [
    "starting with stage 1"
   ]
  },
  {
   "cell_type": "code",
   "execution_count": 9,
   "id": "afc1ba06",
   "metadata": {},
   "outputs": [],
   "source": [
    "import os\n",
    "import torch\n",
    "from torch import nn\n",
    "from torch.utils.data import Dataset, DataLoader\n",
    "from torchvision import transforms\n",
    "from PIL import Image\n",
    "from tqdm import tqdm\n",
    "import json\n",
    "import shutil\n",
    "import numpy as np"
   ]
  },
  {
   "cell_type": "code",
   "execution_count": 10,
   "id": "72348811",
   "metadata": {},
   "outputs": [],
   "source": [
    "class UCFCrimeBinaryDataset(Dataset):\n",
    "    def __init__(self, root_dir, clip_len=16, transform=None):\n",
    "        self.root_dir = root_dir\n",
    "        self.clip_len = clip_len\n",
    "        self.transform = transform\n",
    "\n",
    "        self.samples = []\n",
    "        self._prepare_samples()\n",
    "\n",
    "    def _prepare_samples(self):\n",
    "        for category in os.listdir(self.root_dir):\n",
    "            category_path = os.path.join(self.root_dir, category)\n",
    "            if not os.path.isdir(category_path):\n",
    "                continue\n",
    "\n",
    "            label = 0 if category.lower() == \"normalvideos\" else 1  # normal=0, crime=1\n",
    "            for clip_name in os.listdir(category_path):\n",
    "                clip_path = os.path.join(category_path, clip_name)\n",
    "                if os.path.isdir(clip_path):\n",
    "                    self.samples.append((clip_path, label))\n",
    "\n",
    "    def __len__(self):\n",
    "        return len(self.samples)\n",
    "\n",
    "    def __getitem__(self, idx):\n",
    "        clip_path, label = self.samples[idx]\n",
    "        frames = sorted([f for f in os.listdir(clip_path) if f.endswith(\".png\")])\n",
    "        total_frames = len(frames)\n",
    "\n",
    "        # Sample frames uniformly across the clip\n",
    "        idxs = np.linspace(0, total_frames - 1, self.clip_len, dtype=int)\n",
    "        imgs = []\n",
    "        for i in idxs:\n",
    "            img = Image.open(os.path.join(clip_path, frames[i])).convert(\"RGB\")\n",
    "            if self.transform:\n",
    "                img = self.transform(img)\n",
    "            imgs.append(img)\n",
    "\n",
    "        clip_tensor = torch.stack(imgs, dim=1)  # (C, T, H, W)\n",
    "        return clip_tensor, torch.tensor(label, dtype=torch.long), clip_path\n"
   ]
  },
  {
   "cell_type": "code",
   "execution_count": 11,
   "id": "8e7fa036",
   "metadata": {},
   "outputs": [],
   "source": [
    "class BinaryCrimeDetector(nn.Module):\n",
    "    def __init__(self):\n",
    "        super().__init__()\n",
    "        self.features = nn.Sequential(\n",
    "            nn.Conv3d(3, 32, (1,3,3), padding=(0,1,1)),\n",
    "            nn.ReLU(inplace=True),\n",
    "            nn.Conv3d(32, 32, (3,1,1), padding=(1,0,0)),\n",
    "            nn.BatchNorm3d(32),\n",
    "            nn.ReLU(inplace=True),\n",
    "            nn.MaxPool3d((1,2,2)),\n",
    "\n",
    "            nn.Conv3d(32, 64, (1,3,3), padding=(0,1,1)),\n",
    "            nn.ReLU(inplace=True),\n",
    "            nn.Conv3d(64, 64, (3,1,1), padding=(1,0,0)),\n",
    "            nn.BatchNorm3d(64),\n",
    "            nn.ReLU(inplace=True),\n",
    "            nn.MaxPool3d((2,2,2))\n",
    "        )\n",
    "        self.classifier = nn.Sequential(\n",
    "            nn.AdaptiveAvgPool3d(1),\n",
    "            nn.Flatten(),\n",
    "            nn.Linear(64, 2)\n",
    "        )\n",
    "\n",
    "    def forward(self, x):\n",
    "        return self.classifier(self.features(x))\n"
   ]
  },
  {
   "cell_type": "code",
   "execution_count": 12,
   "id": "497c9600",
   "metadata": {},
   "outputs": [
    {
     "name": "stdout",
     "output_type": "stream",
     "text": [
      "Train clips: 1610, Test clips: 290\n"
     ]
    }
   ],
   "source": [
    "DEVICE = \"cuda\" if torch.cuda.is_available() else \"cpu\"\n",
    "CLIP_LEN = 16\n",
    "\n",
    "transform = transforms.Compose([\n",
    "    transforms.Resize((112, 112)),\n",
    "    transforms.ToTensor()\n",
    "])\n",
    "\n",
    "train_dir = r\"C:\\Users\\rayaa\\Downloads\\ucf_crime\\Train\"\n",
    "test_dir  = r\"C:\\Users\\rayaa\\Downloads\\ucf_crime\\Test\"\n",
    "\n",
    "train_data = UCFCrimeBinaryDataset(train_dir, clip_len=CLIP_LEN, transform=transform)\n",
    "test_data  = UCFCrimeBinaryDataset(test_dir, clip_len=CLIP_LEN, transform=transform)\n",
    "\n",
    "train_loader = DataLoader(train_data, batch_size=4, shuffle=True)\n",
    "test_loader  = DataLoader(test_data, batch_size=2, shuffle=False)\n",
    "\n",
    "print(f\"Train clips: {len(train_data)}, Test clips: {len(test_data)}\")\n"
   ]
  },
  {
   "cell_type": "code",
   "execution_count": 13,
   "id": "e2063c31",
   "metadata": {},
   "outputs": [
    {
     "name": "stderr",
     "output_type": "stream",
     "text": [
      "Epoch 1/5:   0%|          | 0/403 [00:00<?, ?it/s]"
     ]
    },
    {
     "name": "stderr",
     "output_type": "stream",
     "text": [
      "Epoch 1/5: 100%|██████████| 403/403 [09:43<00:00,  1.45s/it]\n"
     ]
    },
    {
     "name": "stdout",
     "output_type": "stream",
     "text": [
      "Epoch 1 Loss: 0.6681\n"
     ]
    },
    {
     "name": "stderr",
     "output_type": "stream",
     "text": [
      "Epoch 2/5: 100%|██████████| 403/403 [03:52<00:00,  1.73it/s]\n"
     ]
    },
    {
     "name": "stdout",
     "output_type": "stream",
     "text": [
      "Epoch 2 Loss: 0.6361\n"
     ]
    },
    {
     "name": "stderr",
     "output_type": "stream",
     "text": [
      "Epoch 3/5: 100%|██████████| 403/403 [03:41<00:00,  1.82it/s]\n"
     ]
    },
    {
     "name": "stdout",
     "output_type": "stream",
     "text": [
      "Epoch 3 Loss: 0.6067\n"
     ]
    },
    {
     "name": "stderr",
     "output_type": "stream",
     "text": [
      "Epoch 4/5: 100%|██████████| 403/403 [03:32<00:00,  1.90it/s]\n"
     ]
    },
    {
     "name": "stdout",
     "output_type": "stream",
     "text": [
      "Epoch 4 Loss: 0.6061\n"
     ]
    },
    {
     "name": "stderr",
     "output_type": "stream",
     "text": [
      "Epoch 5/5: 100%|██████████| 403/403 [03:34<00:00,  1.88it/s]"
     ]
    },
    {
     "name": "stdout",
     "output_type": "stream",
     "text": [
      "Epoch 5 Loss: 0.5924\n"
     ]
    },
    {
     "name": "stderr",
     "output_type": "stream",
     "text": [
      "\n"
     ]
    }
   ],
   "source": [
    "model = BinaryCrimeDetector().to(DEVICE)\n",
    "criterion = nn.CrossEntropyLoss()\n",
    "optimizer = torch.optim.Adam(model.parameters(), lr=1e-4)\n",
    "\n",
    "EPOCHS = 5\n",
    "for epoch in range(EPOCHS):\n",
    "    model.train()\n",
    "    total_loss = 0\n",
    "    for clips, labels, _ in tqdm(train_loader, desc=f\"Epoch {epoch+1}/{EPOCHS}\"):\n",
    "        clips, labels = clips.to(DEVICE), labels.to(DEVICE)\n",
    "        optimizer.zero_grad()\n",
    "        outputs = model(clips)\n",
    "        loss = criterion(outputs, labels)\n",
    "        loss.backward()\n",
    "        optimizer.step()\n",
    "        total_loss += loss.item()\n",
    "    print(f\"Epoch {epoch+1} Loss: {total_loss / len(train_loader):.4f}\")\n",
    "\n",
    "# save checkpoint\n",
    "os.makedirs(r\"C:\\Users\\rayaa\\Downloads\\ucf_crime\\crime_exist_checkpoints\", exist_ok=True)\n",
    "torch.save(model.state_dict(), r\"C:\\Users\\rayaa\\Downloads\\ucf_crime\\crime_exist_checkpoints\\binary_stage1.pt\")\n"
   ]
  },
  {
   "cell_type": "code",
   "execution_count": 14,
   "id": "e4b2531d",
   "metadata": {},
   "outputs": [
    {
     "name": "stderr",
     "output_type": "stream",
     "text": [
      "Stage 1 Inference: 100%|██████████| 145/145 [10:22<00:00,  4.29s/it]"
     ]
    },
    {
     "name": "stdout",
     "output_type": "stream",
     "text": [
      "Stage 1 complete — 153 crime clips saved to ./stage1_output/anomaly_clips\n"
     ]
    },
    {
     "name": "stderr",
     "output_type": "stream",
     "text": [
      "\n"
     ]
    }
   ],
   "source": [
    "model.eval()\n",
    "anomaly_dir = \"./stage1_output/anomaly_clips\"\n",
    "os.makedirs(anomaly_dir, exist_ok=True)\n",
    "anomaly_records = []\n",
    "\n",
    "with torch.no_grad():\n",
    "    for clips, labels, paths in tqdm(test_loader, desc=\"Stage 1 Inference\"):\n",
    "        clips = clips.to(DEVICE)\n",
    "        outputs = model(clips)\n",
    "        probs = torch.softmax(outputs, dim=1)\n",
    "        preds = probs.argmax(dim=1).cpu().numpy()\n",
    "        probs = probs[:,1].cpu().numpy()  # prob of 'crime'\n",
    "\n",
    "        for i, pred in enumerate(preds):\n",
    "            if pred == 1:\n",
    "                src = paths[i]\n",
    "                dst = os.path.join(anomaly_dir, os.path.basename(src))\n",
    "                shutil.copytree(src, dst, dirs_exist_ok=True)\n",
    "                anomaly_records.append({\n",
    "                    \"clip_path\": src,\n",
    "                    \"confidence\": float(probs[i])\n",
    "                })\n",
    "\n",
    "with open(\"./stage1_output/anomalies.json\", \"w\") as f:\n",
    "    json.dump(anomaly_records, f, indent=2)\n",
    "\n",
    "print(f\"Stage 1 complete — {len(anomaly_records)} crime clips saved to {anomaly_dir}\")\n"
   ]
  }
 ],
 "metadata": {
  "kernelspec": {
   "display_name": "cuda12_8",
   "language": "python",
   "name": "python3"
  },
  "language_info": {
   "codemirror_mode": {
    "name": "ipython",
    "version": 3
   },
   "file_extension": ".py",
   "mimetype": "text/x-python",
   "name": "python",
   "nbconvert_exporter": "python",
   "pygments_lexer": "ipython3",
   "version": "3.11.11"
  }
 },
 "nbformat": 4,
 "nbformat_minor": 5
}
