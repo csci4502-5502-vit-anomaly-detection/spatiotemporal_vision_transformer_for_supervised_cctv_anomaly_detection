{
 "cells": [
  {
   "cell_type": "markdown",
   "id": "42d56031",
   "metadata": {},
   "source": [
    "### Preprocessing\n",
    "\n",
    "Contains a helper to augment the UCF Crime dataset found on [Kaggle](https://www.kaggle.com/datasets/odins0n/ucf-crime-dataset).\n",
    "\n",
    "File structure is organized by frame granularity, for a video transformer, it would be helpful to aggregate data based on frames, which is what this script does."
   ]
  },
  {
   "cell_type": "code",
   "execution_count": null,
   "id": "24579781",
   "metadata": {},
   "outputs": [],
   "source": [
    "import os\n",
    "import shutil\n",
    "import re\n",
    "from tqdm import tqdm\n",
    "\n",
    "def reorganize_ucfcrime_frames(root_dir):\n",
    "    \"\"\"\n",
    "    Reorganize UCF-Crime dataset frames into video subfolders.\n",
    "\n",
    "    Example input structure:\n",
    "        Train/Vandalism/Vandalism046_x264_10.jpg\n",
    "        Train/Vandalism/Vandalism046_x264_20.jpg\n",
    "\n",
    "    Example output structure:\n",
    "        Train/Vandalism/Vandalism046/Vandalism046_x264_10.jpg\n",
    "        Train/Vandalism/Vandalism046/Vandalism046_x264_20.jpg\n",
    "    \"\"\"\n",
    "\n",
    "    # Regex pattern to capture video base (e.g., Vandalism046) and frame number\n",
    "    video_pattern = re.compile(r\"([A-Za-z]+[0-9]+)_x264_\\d+\\.(jpg|png)$\", re.IGNORECASE)\n",
    "\n",
    "    for split in [\"Train\", \"Test\"]:\n",
    "        split_path = os.path.join(root_dir, split)\n",
    "        if not os.path.exists(split_path):\n",
    "            print(f\"Skipping {split_path} (not found)\")\n",
    "            continue\n",
    "\n",
    "        print(f\"\\n📂 Processing {split_path}...\")\n",
    "        for class_name in tqdm(os.listdir(split_path)):\n",
    "            class_path = os.path.join(split_path, class_name)\n",
    "            if not os.path.isdir(class_path):\n",
    "                continue\n",
    "            frame_files = [f for f in os.listdir(class_path) if f.lower().endswith((\".jpg\", \".png\"))]\n",
    "\n",
    "            for frame_file in frame_files:\n",
    "                match = video_pattern.match(frame_file)\n",
    "                if not match:\n",
    "                    continue\n",
    "\n",
    "                video_id = match.group(1)\n",
    "                video_folder = os.path.join(class_path, video_id)\n",
    "\n",
    "                # Make subfolder if needed\n",
    "                os.makedirs(video_folder, exist_ok=True)\n",
    "\n",
    "                src = os.path.join(class_path, frame_file)\n",
    "                dst = os.path.join(video_folder, frame_file)\n",
    "\n",
    "                shutil.move(src, dst)\n",
    "\n",
    "        print(f\"✅ Finished reorganizing {split_path}\")\n",
    "\n",
    "\n",
    "# replace DATASET_ROOT with an abs path to the ucf_crime dataset on your device\n",
    "DATASET_ROOT = r\"C:\\Users\\rayaa\\Downloads\\ucf_crime\"\n",
    "reorganize_ucfcrime_frames(DATASET_ROOT)\n"
   ]
  }
 ],
 "metadata": {
  "language_info": {
   "name": "python"
  }
 },
 "nbformat": 4,
 "nbformat_minor": 5
}
