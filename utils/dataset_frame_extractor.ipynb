{
 "cells": [
  {
   "cell_type": "markdown",
   "id": "be9c4cc8",
   "metadata": {},
   "source": [
    "### Dataset Frame Extractor\n",
    "\n",
    "Script to extract frames for each video in the original mp4 dataset, done to avoid loading bottleneck in training from video decoding\n",
    "  \n",
    "---"
   ]
  },
  {
   "cell_type": "code",
   "execution_count": 2,
   "id": "e7e10e9a",
   "metadata": {},
   "outputs": [
    {
     "name": "stdout",
     "output_type": "stream",
     "text": [
      "\n",
      "[Processing] Train (frame_skip=10)...\n",
      " - Abuse / Abuse001_x264.mp4\n"
     ]
    },
    {
     "data": {
      "application/vnd.jupyter.widget-view+json": {
       "model_id": "cf01859705f94d75b7e011c9f6dcd631",
       "version_major": 2,
       "version_minor": 0
      },
      "text/plain": [
       "Extracting Abuse001_x264.mp4:   0%|          | 0/2729 [00:00<?, ?it/s]"
      ]
     },
     "metadata": {},
     "output_type": "display_data"
    },
    {
     "name": "stdout",
     "output_type": "stream",
     "text": [
      " - Abuse / Abuse002_x264.mp4\n"
     ]
    },
    {
     "data": {
      "application/vnd.jupyter.widget-view+json": {
       "model_id": "2406be02cb4c4ad49315a530c9a9ff46",
       "version_major": 2,
       "version_minor": 0
      },
      "text/plain": [
       "Extracting Abuse002_x264.mp4:   0%|          | 0/865 [00:00<?, ?it/s]"
      ]
     },
     "metadata": {},
     "output_type": "display_data"
    },
    {
     "name": "stdout",
     "output_type": "stream",
     "text": [
      " - Abuse / Abuse004_x264.mp4\n"
     ]
    },
    {
     "data": {
      "application/vnd.jupyter.widget-view+json": {
       "model_id": "9775ec889855438bbc575da51700f190",
       "version_major": 2,
       "version_minor": 0
      },
      "text/plain": [
       "Extracting Abuse004_x264.mp4:   0%|          | 0/16794 [00:00<?, ?it/s]"
      ]
     },
     "metadata": {},
     "output_type": "display_data"
    },
    {
     "name": "stdout",
     "output_type": "stream",
     "text": [
      " - Abuse / Abuse005_x264.mp4\n"
     ]
    },
    {
     "data": {
      "application/vnd.jupyter.widget-view+json": {
       "model_id": "b991a6e1c82c4331b7ae530bb0f28b08",
       "version_major": 2,
       "version_minor": 0
      },
      "text/plain": [
       "Extracting Abuse005_x264.mp4:   0%|          | 0/949 [00:00<?, ?it/s]"
      ]
     },
     "metadata": {},
     "output_type": "display_data"
    },
    {
     "name": "stdout",
     "output_type": "stream",
     "text": [
      " - Abuse / Abuse006_x264.mp4\n"
     ]
    },
    {
     "data": {
      "application/vnd.jupyter.widget-view+json": {
       "model_id": "1e68f562745e45e292be872fd05bd58b",
       "version_major": 2,
       "version_minor": 0
      },
      "text/plain": [
       "Extracting Abuse006_x264.mp4:   0%|          | 0/4380 [00:00<?, ?it/s]"
      ]
     },
     "metadata": {},
     "output_type": "display_data"
    },
    {
     "name": "stdout",
     "output_type": "stream",
     "text": [
      " - Abuse / Abuse007_x264.mp4\n"
     ]
    },
    {
     "data": {
      "application/vnd.jupyter.widget-view+json": {
       "model_id": "4500a78b3926434ba5167d2cef22a486",
       "version_major": 2,
       "version_minor": 0
      },
      "text/plain": [
       "Extracting Abuse007_x264.mp4:   0%|          | 0/1150 [00:00<?, ?it/s]"
      ]
     },
     "metadata": {},
     "output_type": "display_data"
    },
    {
     "name": "stdout",
     "output_type": "stream",
     "text": [
      " - Abuse / Abuse008_x264.mp4\n"
     ]
    },
    {
     "data": {
      "application/vnd.jupyter.widget-view+json": {
       "model_id": "dc86747b2b6a482d8643a235a4b6881a",
       "version_major": 2,
       "version_minor": 0
      },
      "text/plain": [
       "Extracting Abuse008_x264.mp4:   0%|          | 0/8406 [00:00<?, ?it/s]"
      ]
     },
     "metadata": {},
     "output_type": "display_data"
    },
    {
     "name": "stdout",
     "output_type": "stream",
     "text": [
      " - Abuse / Abuse009_x264.mp4\n"
     ]
    },
    {
     "data": {
      "application/vnd.jupyter.widget-view+json": {
       "model_id": "f12f397163f646898a29a35bd2fc3b3e",
       "version_major": 2,
       "version_minor": 0
      },
      "text/plain": [
       "Extracting Abuse009_x264.mp4:   0%|          | 0/1001 [00:00<?, ?it/s]"
      ]
     },
     "metadata": {},
     "output_type": "display_data"
    },
    {
     "name": "stdout",
     "output_type": "stream",
     "text": [
      " - Abuse / Abuse010_x264.mp4\n"
     ]
    },
    {
     "data": {
      "application/vnd.jupyter.widget-view+json": {
       "model_id": "61a3d0cdcd19457b9ad8142e573ce41f",
       "version_major": 2,
       "version_minor": 0
      },
      "text/plain": [
       "Extracting Abuse010_x264.mp4:   0%|          | 0/1133 [00:00<?, ?it/s]"
      ]
     },
     "metadata": {},
     "output_type": "display_data"
    },
    {
     "name": "stdout",
     "output_type": "stream",
     "text": [
      " - Abuse / Abuse012_x264.mp4\n"
     ]
    },
    {
     "data": {
      "application/vnd.jupyter.widget-view+json": {
       "model_id": "549f50d1fae54f348419a6aefba8f5db",
       "version_major": 2,
       "version_minor": 0
      },
      "text/plain": [
       "Extracting Abuse012_x264.mp4:   0%|          | 0/5130 [00:00<?, ?it/s]"
      ]
     },
     "metadata": {},
     "output_type": "display_data"
    },
    {
     "name": "stdout",
     "output_type": "stream",
     "text": [
      " - Abuse / Abuse014_x264.mp4\n"
     ]
    },
    {
     "data": {
      "application/vnd.jupyter.widget-view+json": {
       "model_id": "038691ab86da4eef97223477f7681231",
       "version_major": 2,
       "version_minor": 0
      },
      "text/plain": [
       "Extracting Abuse014_x264.mp4:   0%|          | 0/2590 [00:00<?, ?it/s]"
      ]
     },
     "metadata": {},
     "output_type": "display_data"
    },
    {
     "name": "stdout",
     "output_type": "stream",
     "text": [
      " - Abuse / Abuse015_x264.mp4\n"
     ]
    },
    {
     "data": {
      "application/vnd.jupyter.widget-view+json": {
       "model_id": "112ab5fe1f9a4f1bb953e92d9c956f48",
       "version_major": 2,
       "version_minor": 0
      },
      "text/plain": [
       "Extracting Abuse015_x264.mp4:   0%|          | 0/7875 [00:00<?, ?it/s]"
      ]
     },
     "metadata": {},
     "output_type": "display_data"
    },
    {
     "name": "stdout",
     "output_type": "stream",
     "text": [
      " - Abuse / Abuse016_x264.mp4\n"
     ]
    },
    {
     "data": {
      "application/vnd.jupyter.widget-view+json": {
       "model_id": "bb612fe8314a4680a151e9461b2b4949",
       "version_major": 2,
       "version_minor": 0
      },
      "text/plain": [
       "Extracting Abuse016_x264.mp4:   0%|          | 0/1407 [00:00<?, ?it/s]"
      ]
     },
     "metadata": {},
     "output_type": "display_data"
    },
    {
     "name": "stdout",
     "output_type": "stream",
     "text": [
      " - Abuse / Abuse017_x264.mp4\n"
     ]
    },
    {
     "data": {
      "application/vnd.jupyter.widget-view+json": {
       "model_id": "6ad9d14269b94d6cb5e0add0fc060b2e",
       "version_major": 2,
       "version_minor": 0
      },
      "text/plain": [
       "Extracting Abuse017_x264.mp4:   0%|          | 0/1920 [00:00<?, ?it/s]"
      ]
     },
     "metadata": {},
     "output_type": "display_data"
    },
    {
     "name": "stdout",
     "output_type": "stream",
     "text": [
      " - Abuse / Abuse018_x264.mp4\n"
     ]
    },
    {
     "data": {
      "application/vnd.jupyter.widget-view+json": {
       "model_id": "8f65aaaf95a5401193828f50e9565934",
       "version_major": 2,
       "version_minor": 0
      },
      "text/plain": [
       "Extracting Abuse018_x264.mp4:   0%|          | 0/2428 [00:00<?, ?it/s]"
      ]
     },
     "metadata": {},
     "output_type": "display_data"
    },
    {
     "name": "stdout",
     "output_type": "stream",
     "text": [
      " - Abuse / Abuse020_x264.mp4\n"
     ]
    },
    {
     "data": {
      "application/vnd.jupyter.widget-view+json": {
       "model_id": "7a5b9c5ed9bf4979b32b06593a26e163",
       "version_major": 2,
       "version_minor": 0
      },
      "text/plain": [
       "Extracting Abuse020_x264.mp4:   0%|          | 0/3104 [00:00<?, ?it/s]"
      ]
     },
     "metadata": {},
     "output_type": "display_data"
    },
    {
     "name": "stdout",
     "output_type": "stream",
     "text": [
      " - Abuse / Abuse021_x264.mp4\n"
     ]
    },
    {
     "data": {
      "application/vnd.jupyter.widget-view+json": {
       "model_id": "180b01e72aa742eaa1c9145b0caf739a",
       "version_major": 2,
       "version_minor": 0
      },
      "text/plain": [
       "Extracting Abuse021_x264.mp4:   0%|          | 0/1913 [00:00<?, ?it/s]"
      ]
     },
     "metadata": {},
     "output_type": "display_data"
    },
    {
     "name": "stdout",
     "output_type": "stream",
     "text": [
      " - Abuse / Abuse022_x264.mp4\n"
     ]
    },
    {
     "data": {
      "application/vnd.jupyter.widget-view+json": {
       "model_id": "b3eed30631744cef9359619b56c92967",
       "version_major": 2,
       "version_minor": 0
      },
      "text/plain": [
       "Extracting Abuse022_x264.mp4:   0%|          | 0/2832 [00:00<?, ?it/s]"
      ]
     },
     "metadata": {},
     "output_type": "display_data"
    },
    {
     "name": "stdout",
     "output_type": "stream",
     "text": [
      " - Abuse / Abuse023_x264.mp4\n"
     ]
    },
    {
     "data": {
      "application/vnd.jupyter.widget-view+json": {
       "model_id": "bbbd5164a474475796c11f0059e599ed",
       "version_major": 2,
       "version_minor": 0
      },
      "text/plain": [
       "Extracting Abuse023_x264.mp4:   0%|          | 0/992 [00:00<?, ?it/s]"
      ]
     },
     "metadata": {},
     "output_type": "display_data"
    },
    {
     "name": "stdout",
     "output_type": "stream",
     "text": [
      " - Abuse / Abuse024_x264.mp4\n"
     ]
    },
    {
     "data": {
      "application/vnd.jupyter.widget-view+json": {
       "model_id": "949beb2635684921883b3337c027e85a",
       "version_major": 2,
       "version_minor": 0
      },
      "text/plain": [
       "Extracting Abuse024_x264.mp4:   0%|          | 0/1021 [00:00<?, ?it/s]"
      ]
     },
     "metadata": {},
     "output_type": "display_data"
    },
    {
     "name": "stdout",
     "output_type": "stream",
     "text": [
      " - Abuse / Abuse025_x264.mp4\n"
     ]
    },
    {
     "data": {
      "application/vnd.jupyter.widget-view+json": {
       "model_id": "99aca7453d7d4577b5014d2feda50fb2",
       "version_major": 2,
       "version_minor": 0
      },
      "text/plain": [
       "Extracting Abuse025_x264.mp4:   0%|          | 0/2031 [00:00<?, ?it/s]"
      ]
     },
     "metadata": {},
     "output_type": "display_data"
    },
    {
     "name": "stdout",
     "output_type": "stream",
     "text": [
      " - Abuse / Abuse026_x264.mp4\n"
     ]
    },
    {
     "data": {
      "application/vnd.jupyter.widget-view+json": {
       "model_id": "a184db3d658e479f870b2c2af703b1de",
       "version_major": 2,
       "version_minor": 0
      },
      "text/plain": [
       "Extracting Abuse026_x264.mp4:   0%|          | 0/1986 [00:00<?, ?it/s]"
      ]
     },
     "metadata": {},
     "output_type": "display_data"
    },
    {
     "name": "stdout",
     "output_type": "stream",
     "text": [
      " - Abuse / Abuse027_x264.mp4\n"
     ]
    },
    {
     "data": {
      "application/vnd.jupyter.widget-view+json": {
       "model_id": "b32e9b00cdc546ebbfc647dbc5aa03c1",
       "version_major": 2,
       "version_minor": 0
      },
      "text/plain": [
       "Extracting Abuse027_x264.mp4:   0%|          | 0/4372 [00:00<?, ?it/s]"
      ]
     },
     "metadata": {},
     "output_type": "display_data"
    },
    {
     "name": "stdout",
     "output_type": "stream",
     "text": [
      " - Abuse / Abuse028_x264.mp4\n"
     ]
    },
    {
     "data": {
      "application/vnd.jupyter.widget-view+json": {
       "model_id": "5cc41a695d3442f59b5440b3675bb8db",
       "version_major": 2,
       "version_minor": 0
      },
      "text/plain": [
       "Extracting Abuse028_x264.mp4:   0%|          | 0/1412 [00:00<?, ?it/s]"
      ]
     },
     "metadata": {},
     "output_type": "display_data"
    },
    {
     "name": "stdout",
     "output_type": "stream",
     "text": [
      " - Abuse / Abuse029_x264.mp4\n"
     ]
    },
    {
     "data": {
      "application/vnd.jupyter.widget-view+json": {
       "model_id": "cc93fa1df9d54ba0ad61aaab54f434dc",
       "version_major": 2,
       "version_minor": 0
      },
      "text/plain": [
       "Extracting Abuse029_x264.mp4:   0%|          | 0/300 [00:00<?, ?it/s]"
      ]
     },
     "metadata": {},
     "output_type": "display_data"
    },
    {
     "name": "stdout",
     "output_type": "stream",
     "text": [
      " - Abuse / Abuse030_x264.mp4\n"
     ]
    },
    {
     "data": {
      "application/vnd.jupyter.widget-view+json": {
       "model_id": "677d58527d0e46aeb056a72ce3da30de",
       "version_major": 2,
       "version_minor": 0
      },
      "text/plain": [
       "Extracting Abuse030_x264.mp4:   0%|          | 0/1544 [00:00<?, ?it/s]"
      ]
     },
     "metadata": {},
     "output_type": "display_data"
    },
    {
     "name": "stdout",
     "output_type": "stream",
     "text": [
      " - Abuse / Abuse032_x264.mp4\n"
     ]
    },
    {
     "data": {
      "application/vnd.jupyter.widget-view+json": {
       "model_id": "1594ef3b9b934fb0a161b244ade955da",
       "version_major": 2,
       "version_minor": 0
      },
      "text/plain": [
       "Extracting Abuse032_x264.mp4:   0%|          | 0/4750 [00:00<?, ?it/s]"
      ]
     },
     "metadata": {},
     "output_type": "display_data"
    },
    {
     "name": "stdout",
     "output_type": "stream",
     "text": [
      " - Abuse / Abuse033_x264.mp4\n"
     ]
    },
    {
     "data": {
      "application/vnd.jupyter.widget-view+json": {
       "model_id": "2a9db7aebea745559cea5b58008dc14d",
       "version_major": 2,
       "version_minor": 0
      },
      "text/plain": [
       "Extracting Abuse033_x264.mp4:   0%|          | 0/2831 [00:00<?, ?it/s]"
      ]
     },
     "metadata": {},
     "output_type": "display_data"
    },
    {
     "name": "stdout",
     "output_type": "stream",
     "text": [
      " - Abuse / Abuse034_x264.mp4\n"
     ]
    },
    {
     "data": {
      "application/vnd.jupyter.widget-view+json": {
       "model_id": "2605db62f4644a229667648f6356eb6b",
       "version_major": 2,
       "version_minor": 0
      },
      "text/plain": [
       "Extracting Abuse034_x264.mp4:   0%|          | 0/1563 [00:00<?, ?it/s]"
      ]
     },
     "metadata": {},
     "output_type": "display_data"
    },
    {
     "name": "stdout",
     "output_type": "stream",
     "text": [
      " - Abuse / Abuse037_x264.mp4\n"
     ]
    },
    {
     "data": {
      "application/vnd.jupyter.widget-view+json": {
       "model_id": "3e085d769da44671bba9d39234c5105d",
       "version_major": 2,
       "version_minor": 0
      },
      "text/plain": [
       "Extracting Abuse037_x264.mp4:   0%|          | 0/1795 [00:00<?, ?it/s]"
      ]
     },
     "metadata": {},
     "output_type": "display_data"
    },
    {
     "name": "stdout",
     "output_type": "stream",
     "text": [
      " - Abuse / Abuse038_x264.mp4\n"
     ]
    },
    {
     "data": {
      "application/vnd.jupyter.widget-view+json": {
       "model_id": "3f007ca7129d4804840d324465af63ec",
       "version_major": 2,
       "version_minor": 0
      },
      "text/plain": [
       "Extracting Abuse038_x264.mp4:   0%|          | 0/891 [00:00<?, ?it/s]"
      ]
     },
     "metadata": {},
     "output_type": "display_data"
    },
    {
     "name": "stdout",
     "output_type": "stream",
     "text": [
      " - Abuse / Abuse040_x264.mp4\n"
     ]
    },
    {
     "data": {
      "application/vnd.jupyter.widget-view+json": {
       "model_id": "ae13d5182a49423fb6a865fc8c8f1eb1",
       "version_major": 2,
       "version_minor": 0
      },
      "text/plain": [
       "Extracting Abuse040_x264.mp4:   0%|          | 0/3413 [00:00<?, ?it/s]"
      ]
     },
     "metadata": {},
     "output_type": "display_data"
    },
    {
     "name": "stdout",
     "output_type": "stream",
     "text": [
      " - Abuse / Abuse041_x264.mp4\n"
     ]
    },
    {
     "data": {
      "application/vnd.jupyter.widget-view+json": {
       "model_id": "e60c79072668411ea0363de80ea6719d",
       "version_major": 2,
       "version_minor": 0
      },
      "text/plain": [
       "Extracting Abuse041_x264.mp4:   0%|          | 0/1385 [00:00<?, ?it/s]"
      ]
     },
     "metadata": {},
     "output_type": "display_data"
    },
    {
     "name": "stdout",
     "output_type": "stream",
     "text": [
      " - Abuse / Abuse042_x264.mp4\n"
     ]
    },
    {
     "data": {
      "application/vnd.jupyter.widget-view+json": {
       "model_id": "4365c8cb3a624652bb8091baf473ce1d",
       "version_major": 2,
       "version_minor": 0
      },
      "text/plain": [
       "Extracting Abuse042_x264.mp4:   0%|          | 0/28476 [00:00<?, ?it/s]"
      ]
     },
     "metadata": {},
     "output_type": "display_data"
    },
    {
     "name": "stdout",
     "output_type": "stream",
     "text": [
      " - Abuse / Abuse043_x264.mp4\n"
     ]
    },
    {
     "data": {
      "application/vnd.jupyter.widget-view+json": {
       "model_id": "6801cf2bdc4e4b6eb74e4b215e4b61e6",
       "version_major": 2,
       "version_minor": 0
      },
      "text/plain": [
       "Extracting Abuse043_x264.mp4:   0%|          | 0/3870 [00:00<?, ?it/s]"
      ]
     },
     "metadata": {},
     "output_type": "display_data"
    },
    {
     "name": "stdout",
     "output_type": "stream",
     "text": [
      " - Abuse / Abuse045_x264.mp4\n"
     ]
    },
    {
     "data": {
      "application/vnd.jupyter.widget-view+json": {
       "model_id": "036ccecb952b48bcae09972d602c0374",
       "version_major": 2,
       "version_minor": 0
      },
      "text/plain": [
       "Extracting Abuse045_x264.mp4:   0%|          | 0/5085 [00:00<?, ?it/s]"
      ]
     },
     "metadata": {},
     "output_type": "display_data"
    },
    {
     "name": "stdout",
     "output_type": "stream",
     "text": [
      " - Abuse / Abuse046_x264.mp4\n"
     ]
    },
    {
     "data": {
      "application/vnd.jupyter.widget-view+json": {
       "model_id": "4c6c8acafda04d8e971173d01369f9d8",
       "version_major": 2,
       "version_minor": 0
      },
      "text/plain": [
       "Extracting Abuse046_x264.mp4:   0%|          | 0/1159 [00:00<?, ?it/s]"
      ]
     },
     "metadata": {},
     "output_type": "display_data"
    },
    {
     "name": "stdout",
     "output_type": "stream",
     "text": [
      " - Abuse / Abuse048_x264.mp4\n"
     ]
    },
    {
     "data": {
      "application/vnd.jupyter.widget-view+json": {
       "model_id": "f5695ac3177942ff8e0182470892356a",
       "version_major": 2,
       "version_minor": 0
      },
      "text/plain": [
       "Extracting Abuse048_x264.mp4:   0%|          | 0/3416 [00:00<?, ?it/s]"
      ]
     },
     "metadata": {},
     "output_type": "display_data"
    },
    {
     "name": "stdout",
     "output_type": "stream",
     "text": [
      " - Abuse / Abuse049_x264.mp4\n"
     ]
    },
    {
     "data": {
      "application/vnd.jupyter.widget-view+json": {
       "model_id": "879549add39b457ba851063b2b23be41",
       "version_major": 2,
       "version_minor": 0
      },
      "text/plain": [
       "Extracting Abuse049_x264.mp4:   0%|          | 0/2137 [00:00<?, ?it/s]"
      ]
     },
     "metadata": {},
     "output_type": "display_data"
    },
    {
     "name": "stdout",
     "output_type": "stream",
     "text": [
      " - Abuse / Abuse050_x264.mp4\n"
     ]
    },
    {
     "data": {
      "application/vnd.jupyter.widget-view+json": {
       "model_id": "e4872769a4c348a1a11e2518f1db84e3",
       "version_major": 2,
       "version_minor": 0
      },
      "text/plain": [
       "Extracting Abuse050_x264.mp4:   0%|          | 0/4862 [00:00<?, ?it/s]"
      ]
     },
     "metadata": {},
     "output_type": "display_data"
    },
    {
     "name": "stdout",
     "output_type": "stream",
     "text": [
      " - Arrest / Arrest001_x264.mp4\n"
     ]
    },
    {
     "data": {
      "application/vnd.jupyter.widget-view+json": {
       "model_id": "cd28e78607f8497a8467cef2d3bc115c",
       "version_major": 2,
       "version_minor": 0
      },
      "text/plain": [
       "Extracting Arrest001_x264.mp4:   0%|          | 0/2374 [00:00<?, ?it/s]"
      ]
     },
     "metadata": {},
     "output_type": "display_data"
    },
    {
     "name": "stdout",
     "output_type": "stream",
     "text": [
      " - Arrest / Arrest002_x264.mp4\n"
     ]
    },
    {
     "data": {
      "application/vnd.jupyter.widget-view+json": {
       "model_id": "9a4e16a2ac954e35a367ad3125b95904",
       "version_major": 2,
       "version_minor": 0
      },
      "text/plain": [
       "Extracting Arrest002_x264.mp4:   0%|          | 0/1790 [00:00<?, ?it/s]"
      ]
     },
     "metadata": {},
     "output_type": "display_data"
    },
    {
     "name": "stdout",
     "output_type": "stream",
     "text": [
      " - Arrest / Arrest004_x264.mp4\n"
     ]
    },
    {
     "data": {
      "application/vnd.jupyter.widget-view+json": {
       "model_id": "7ea86c733b5b4823bd7cf5cf2b438f2d",
       "version_major": 2,
       "version_minor": 0
      },
      "text/plain": [
       "Extracting Arrest004_x264.mp4:   0%|          | 0/3603 [00:00<?, ?it/s]"
      ]
     },
     "metadata": {},
     "output_type": "display_data"
    },
    {
     "name": "stdout",
     "output_type": "stream",
     "text": [
      " - Arrest / Arrest005_x264.mp4\n"
     ]
    },
    {
     "data": {
      "application/vnd.jupyter.widget-view+json": {
       "model_id": "34a3ec1c7fc546e890d141bda4cb30ec",
       "version_major": 2,
       "version_minor": 0
      },
      "text/plain": [
       "Extracting Arrest005_x264.mp4:   0%|          | 0/3685 [00:00<?, ?it/s]"
      ]
     },
     "metadata": {},
     "output_type": "display_data"
    },
    {
     "name": "stdout",
     "output_type": "stream",
     "text": [
      " - Arrest / Arrest006_x264.mp4\n"
     ]
    },
    {
     "data": {
      "application/vnd.jupyter.widget-view+json": {
       "model_id": "8931f41863d44618a1cf8e997553e7f2",
       "version_major": 2,
       "version_minor": 0
      },
      "text/plain": [
       "Extracting Arrest006_x264.mp4:   0%|          | 0/3090 [00:00<?, ?it/s]"
      ]
     },
     "metadata": {},
     "output_type": "display_data"
    },
    {
     "name": "stdout",
     "output_type": "stream",
     "text": [
      " - Arrest / Arrest007_x264.mp4\n"
     ]
    },
    {
     "data": {
      "application/vnd.jupyter.widget-view+json": {
       "model_id": "094dfe6a3d85484d8a7534ac91db56e5",
       "version_major": 2,
       "version_minor": 0
      },
      "text/plain": [
       "Extracting Arrest007_x264.mp4:   0%|          | 0/3144 [00:00<?, ?it/s]"
      ]
     },
     "metadata": {},
     "output_type": "display_data"
    },
    {
     "name": "stdout",
     "output_type": "stream",
     "text": [
      " - Arrest / Arrest008_x264.mp4\n"
     ]
    },
    {
     "data": {
      "application/vnd.jupyter.widget-view+json": {
       "model_id": "399cb1d0093b438194563a6d677381ab",
       "version_major": 2,
       "version_minor": 0
      },
      "text/plain": [
       "Extracting Arrest008_x264.mp4:   0%|          | 0/6388 [00:00<?, ?it/s]"
      ]
     },
     "metadata": {},
     "output_type": "display_data"
    },
    {
     "name": "stdout",
     "output_type": "stream",
     "text": [
      " - Arrest / Arrest009_x264.mp4\n"
     ]
    },
    {
     "data": {
      "application/vnd.jupyter.widget-view+json": {
       "model_id": "b736d9b91f8247b6bef820290ef2942e",
       "version_major": 2,
       "version_minor": 0
      },
      "text/plain": [
       "Extracting Arrest009_x264.mp4:   0%|          | 0/1713 [00:00<?, ?it/s]"
      ]
     },
     "metadata": {},
     "output_type": "display_data"
    },
    {
     "name": "stdout",
     "output_type": "stream",
     "text": [
      " - Arrest / Arrest010_x264.mp4\n"
     ]
    },
    {
     "data": {
      "application/vnd.jupyter.widget-view+json": {
       "model_id": "32c5d8980c2043f59162c3e5223dbbdb",
       "version_major": 2,
       "version_minor": 0
      },
      "text/plain": [
       "Extracting Arrest010_x264.mp4:   0%|          | 0/2622 [00:00<?, ?it/s]"
      ]
     },
     "metadata": {},
     "output_type": "display_data"
    },
    {
     "name": "stdout",
     "output_type": "stream",
     "text": [
      " - Arrest / Arrest011_x264.mp4\n"
     ]
    },
    {
     "data": {
      "application/vnd.jupyter.widget-view+json": {
       "model_id": "4e87a9a33744488b9a368dc76d9453fa",
       "version_major": 2,
       "version_minor": 0
      },
      "text/plain": [
       "Extracting Arrest011_x264.mp4:   0%|          | 0/2214 [00:00<?, ?it/s]"
      ]
     },
     "metadata": {},
     "output_type": "display_data"
    },
    {
     "name": "stdout",
     "output_type": "stream",
     "text": [
      " - Arrest / Arrest012_x264.mp4\n"
     ]
    },
    {
     "data": {
      "application/vnd.jupyter.widget-view+json": {
       "model_id": "ac0532aa64fb48289e43b7f1bbd6dc8e",
       "version_major": 2,
       "version_minor": 0
      },
      "text/plain": [
       "Extracting Arrest012_x264.mp4:   0%|          | 0/16161 [00:00<?, ?it/s]"
      ]
     },
     "metadata": {},
     "output_type": "display_data"
    },
    {
     "name": "stdout",
     "output_type": "stream",
     "text": [
      " - Arrest / Arrest014_x264.mp4\n"
     ]
    },
    {
     "data": {
      "application/vnd.jupyter.widget-view+json": {
       "model_id": "966b71d7f22d4fd18f1555bd8c63c80f",
       "version_major": 2,
       "version_minor": 0
      },
      "text/plain": [
       "Extracting Arrest014_x264.mp4:   0%|          | 0/1536 [00:00<?, ?it/s]"
      ]
     },
     "metadata": {},
     "output_type": "display_data"
    },
    {
     "name": "stdout",
     "output_type": "stream",
     "text": [
      " - Arrest / Arrest016_x264.mp4\n"
     ]
    },
    {
     "data": {
      "application/vnd.jupyter.widget-view+json": {
       "model_id": "8a3b87c5b7554c978052f41ee4c53099",
       "version_major": 2,
       "version_minor": 0
      },
      "text/plain": [
       "Extracting Arrest016_x264.mp4:   0%|          | 0/10586 [00:00<?, ?it/s]"
      ]
     },
     "metadata": {},
     "output_type": "display_data"
    },
    {
     "name": "stdout",
     "output_type": "stream",
     "text": [
      " - Arrest / Arrest017_x264.mp4\n"
     ]
    },
    {
     "data": {
      "application/vnd.jupyter.widget-view+json": {
       "model_id": "7dd95fc771fc4c03b72de3a82a9bbee7",
       "version_major": 2,
       "version_minor": 0
      },
      "text/plain": [
       "Extracting Arrest017_x264.mp4:   0%|          | 0/3432 [00:00<?, ?it/s]"
      ]
     },
     "metadata": {},
     "output_type": "display_data"
    },
    {
     "name": "stdout",
     "output_type": "stream",
     "text": [
      " - Arrest / Arrest018_x264.mp4\n"
     ]
    },
    {
     "data": {
      "application/vnd.jupyter.widget-view+json": {
       "model_id": "e305ff101b374554ad4331953a9517d4",
       "version_major": 2,
       "version_minor": 0
      },
      "text/plain": [
       "Extracting Arrest018_x264.mp4:   0%|          | 0/2434 [00:00<?, ?it/s]"
      ]
     },
     "metadata": {},
     "output_type": "display_data"
    },
    {
     "name": "stdout",
     "output_type": "stream",
     "text": [
      " - Arrest / Arrest020_x264.mp4\n"
     ]
    },
    {
     "data": {
      "application/vnd.jupyter.widget-view+json": {
       "model_id": "982b6361ff5e4bfc8c73b9c6a4c2850e",
       "version_major": 2,
       "version_minor": 0
      },
      "text/plain": [
       "Extracting Arrest020_x264.mp4:   0%|          | 0/2942 [00:00<?, ?it/s]"
      ]
     },
     "metadata": {},
     "output_type": "display_data"
    },
    {
     "name": "stdout",
     "output_type": "stream",
     "text": [
      " - Arrest / Arrest021_x264.mp4\n"
     ]
    },
    {
     "data": {
      "application/vnd.jupyter.widget-view+json": {
       "model_id": "dcc2d38e09e94db9a28f646ab577c97a",
       "version_major": 2,
       "version_minor": 0
      },
      "text/plain": [
       "Extracting Arrest021_x264.mp4:   0%|          | 0/8734 [00:00<?, ?it/s]"
      ]
     },
     "metadata": {},
     "output_type": "display_data"
    },
    {
     "name": "stdout",
     "output_type": "stream",
     "text": [
      " - Arrest / Arrest022_x264.mp4\n"
     ]
    },
    {
     "data": {
      "application/vnd.jupyter.widget-view+json": {
       "model_id": "2766568be9f448a38dba013db152d800",
       "version_major": 2,
       "version_minor": 0
      },
      "text/plain": [
       "Extracting Arrest022_x264.mp4:   0%|          | 0/1595 [00:00<?, ?it/s]"
      ]
     },
     "metadata": {},
     "output_type": "display_data"
    },
    {
     "name": "stdout",
     "output_type": "stream",
     "text": [
      " - Arrest / Arrest025_x264.mp4\n"
     ]
    },
    {
     "data": {
      "application/vnd.jupyter.widget-view+json": {
       "model_id": "f29afefb30d64484bf90d8b5a9f499b8",
       "version_major": 2,
       "version_minor": 0
      },
      "text/plain": [
       "Extracting Arrest025_x264.mp4:   0%|          | 0/1057 [00:00<?, ?it/s]"
      ]
     },
     "metadata": {},
     "output_type": "display_data"
    },
    {
     "name": "stdout",
     "output_type": "stream",
     "text": [
      " - Arrest / Arrest026_x264.mp4\n"
     ]
    },
    {
     "data": {
      "application/vnd.jupyter.widget-view+json": {
       "model_id": "b9b3125ac70e420eafd8091b2a94b030",
       "version_major": 2,
       "version_minor": 0
      },
      "text/plain": [
       "Extracting Arrest026_x264.mp4:   0%|          | 0/6486 [00:00<?, ?it/s]"
      ]
     },
     "metadata": {},
     "output_type": "display_data"
    },
    {
     "name": "stdout",
     "output_type": "stream",
     "text": [
      " - Arrest / Arrest027_x264.mp4\n"
     ]
    },
    {
     "data": {
      "application/vnd.jupyter.widget-view+json": {
       "model_id": "0d23b671632842be8de8d77ffce5de41",
       "version_major": 2,
       "version_minor": 0
      },
      "text/plain": [
       "Extracting Arrest027_x264.mp4:   0%|          | 0/1708 [00:00<?, ?it/s]"
      ]
     },
     "metadata": {},
     "output_type": "display_data"
    },
    {
     "name": "stdout",
     "output_type": "stream",
     "text": [
      " - Arrest / Arrest028_x264.mp4\n"
     ]
    },
    {
     "data": {
      "application/vnd.jupyter.widget-view+json": {
       "model_id": "908003b130cb43deaca1a61156a93e50",
       "version_major": 2,
       "version_minor": 0
      },
      "text/plain": [
       "Extracting Arrest028_x264.mp4:   0%|          | 0/2495 [00:00<?, ?it/s]"
      ]
     },
     "metadata": {},
     "output_type": "display_data"
    },
    {
     "name": "stdout",
     "output_type": "stream",
     "text": [
      " - Arrest / Arrest029_x264.mp4\n"
     ]
    },
    {
     "data": {
      "application/vnd.jupyter.widget-view+json": {
       "model_id": "2972edaf7972430f8e8778be2517767e",
       "version_major": 2,
       "version_minor": 0
      },
      "text/plain": [
       "Extracting Arrest029_x264.mp4:   0%|          | 0/7766 [00:00<?, ?it/s]"
      ]
     },
     "metadata": {},
     "output_type": "display_data"
    },
    {
     "name": "stdout",
     "output_type": "stream",
     "text": [
      " - Arrest / Arrest031_x264.mp4\n"
     ]
    },
    {
     "data": {
      "application/vnd.jupyter.widget-view+json": {
       "model_id": "ee26a1bc6bd74d5c8236a5dc796001a6",
       "version_major": 2,
       "version_minor": 0
      },
      "text/plain": [
       "Extracting Arrest031_x264.mp4:   0%|          | 0/1848 [00:00<?, ?it/s]"
      ]
     },
     "metadata": {},
     "output_type": "display_data"
    },
    {
     "name": "stdout",
     "output_type": "stream",
     "text": [
      " - Arrest / Arrest032_x264.mp4\n"
     ]
    },
    {
     "data": {
      "application/vnd.jupyter.widget-view+json": {
       "model_id": "bae2ecfa6a7d4793bdd6ecd06fd5dd15",
       "version_major": 2,
       "version_minor": 0
      },
      "text/plain": [
       "Extracting Arrest032_x264.mp4:   0%|          | 0/1684 [00:00<?, ?it/s]"
      ]
     },
     "metadata": {},
     "output_type": "display_data"
    },
    {
     "name": "stdout",
     "output_type": "stream",
     "text": [
      " - Arrest / Arrest033_x264.mp4\n"
     ]
    },
    {
     "data": {
      "application/vnd.jupyter.widget-view+json": {
       "model_id": "cf5ecefa741d467db8593f2df98000e1",
       "version_major": 2,
       "version_minor": 0
      },
      "text/plain": [
       "Extracting Arrest033_x264.mp4:   0%|          | 0/7745 [00:00<?, ?it/s]"
      ]
     },
     "metadata": {},
     "output_type": "display_data"
    },
    {
     "name": "stdout",
     "output_type": "stream",
     "text": [
      " - Arrest / Arrest034_x264.mp4\n"
     ]
    },
    {
     "data": {
      "application/vnd.jupyter.widget-view+json": {
       "model_id": "f7f1f7f45f064999a4dbae4dde0eb8eb",
       "version_major": 2,
       "version_minor": 0
      },
      "text/plain": [
       "Extracting Arrest034_x264.mp4:   0%|          | 0/11620 [00:00<?, ?it/s]"
      ]
     },
     "metadata": {},
     "output_type": "display_data"
    },
    {
     "name": "stdout",
     "output_type": "stream",
     "text": [
      " - Arrest / Arrest035_x264.mp4\n"
     ]
    },
    {
     "data": {
      "application/vnd.jupyter.widget-view+json": {
       "model_id": "cc0faa7dbcff40c4aef6f65f7263614e",
       "version_major": 2,
       "version_minor": 0
      },
      "text/plain": [
       "Extracting Arrest035_x264.mp4:   0%|          | 0/6187 [00:00<?, ?it/s]"
      ]
     },
     "metadata": {},
     "output_type": "display_data"
    },
    {
     "name": "stdout",
     "output_type": "stream",
     "text": [
      " - Arrest / Arrest036_x264.mp4\n"
     ]
    },
    {
     "data": {
      "application/vnd.jupyter.widget-view+json": {
       "model_id": "a88ebab45859460a9a5a5015094332f3",
       "version_major": 2,
       "version_minor": 0
      },
      "text/plain": [
       "Extracting Arrest036_x264.mp4:   0%|          | 0/3827 [00:00<?, ?it/s]"
      ]
     },
     "metadata": {},
     "output_type": "display_data"
    },
    {
     "name": "stdout",
     "output_type": "stream",
     "text": [
      " - Arrest / Arrest037_x264.mp4\n"
     ]
    },
    {
     "data": {
      "application/vnd.jupyter.widget-view+json": {
       "model_id": "6fc8d6b45ce145f68ff1de93dc9a63b2",
       "version_major": 2,
       "version_minor": 0
      },
      "text/plain": [
       "Extracting Arrest037_x264.mp4:   0%|          | 0/2132 [00:00<?, ?it/s]"
      ]
     },
     "metadata": {},
     "output_type": "display_data"
    },
    {
     "name": "stdout",
     "output_type": "stream",
     "text": [
      " - Arrest / Arrest038_x264.mp4\n"
     ]
    },
    {
     "data": {
      "application/vnd.jupyter.widget-view+json": {
       "model_id": "4d6ed21e46a94d56996ea696eff18796",
       "version_major": 2,
       "version_minor": 0
      },
      "text/plain": [
       "Extracting Arrest038_x264.mp4:   0%|          | 0/2193 [00:00<?, ?it/s]"
      ]
     },
     "metadata": {},
     "output_type": "display_data"
    },
    {
     "name": "stdout",
     "output_type": "stream",
     "text": [
      " - Arrest / Arrest040_x264.mp4\n"
     ]
    },
    {
     "data": {
      "application/vnd.jupyter.widget-view+json": {
       "model_id": "31df0335f06e439aa612b74443b4e130",
       "version_major": 2,
       "version_minor": 0
      },
      "text/plain": [
       "Extracting Arrest040_x264.mp4:   0%|          | 0/1774 [00:00<?, ?it/s]"
      ]
     },
     "metadata": {},
     "output_type": "display_data"
    },
    {
     "name": "stdout",
     "output_type": "stream",
     "text": [
      " - Arrest / Arrest041_x264.mp4\n"
     ]
    },
    {
     "data": {
      "application/vnd.jupyter.widget-view+json": {
       "model_id": "81f26ff6d2f84f9f8ff88d40dfae3605",
       "version_major": 2,
       "version_minor": 0
      },
      "text/plain": [
       "Extracting Arrest041_x264.mp4:   0%|          | 0/3847 [00:00<?, ?it/s]"
      ]
     },
     "metadata": {},
     "output_type": "display_data"
    },
    {
     "name": "stdout",
     "output_type": "stream",
     "text": [
      " - Arrest / Arrest042_x264.mp4\n"
     ]
    },
    {
     "data": {
      "application/vnd.jupyter.widget-view+json": {
       "model_id": "e2a996309eba4d3d8c2600198c940028",
       "version_major": 2,
       "version_minor": 0
      },
      "text/plain": [
       "Extracting Arrest042_x264.mp4:   0%|          | 0/1590 [00:00<?, ?it/s]"
      ]
     },
     "metadata": {},
     "output_type": "display_data"
    },
    {
     "name": "stdout",
     "output_type": "stream",
     "text": [
      " - Arrest / Arrest043_x264.mp4\n"
     ]
    },
    {
     "data": {
      "application/vnd.jupyter.widget-view+json": {
       "model_id": "8c7d50cea4314cddaad9a3e7bec212c2",
       "version_major": 2,
       "version_minor": 0
      },
      "text/plain": [
       "Extracting Arrest043_x264.mp4:   0%|          | 0/10799 [00:00<?, ?it/s]"
      ]
     },
     "metadata": {},
     "output_type": "display_data"
    },
    {
     "name": "stdout",
     "output_type": "stream",
     "text": [
      " - Arrest / Arrest044_x264.mp4\n"
     ]
    },
    {
     "data": {
      "application/vnd.jupyter.widget-view+json": {
       "model_id": "22a992b4d2dd4651832b6b90b96c343c",
       "version_major": 2,
       "version_minor": 0
      },
      "text/plain": [
       "Extracting Arrest044_x264.mp4:   0%|          | 0/3411 [00:00<?, ?it/s]"
      ]
     },
     "metadata": {},
     "output_type": "display_data"
    },
    {
     "name": "stdout",
     "output_type": "stream",
     "text": [
      " - Arrest / Arrest047_x264.mp4\n"
     ]
    },
    {
     "data": {
      "application/vnd.jupyter.widget-view+json": {
       "model_id": "f40315550fa14026aa1ffc9c2d1d2c08",
       "version_major": 2,
       "version_minor": 0
      },
      "text/plain": [
       "Extracting Arrest047_x264.mp4:   0%|          | 0/63060 [00:00<?, ?it/s]"
      ]
     },
     "metadata": {},
     "output_type": "display_data"
    },
    {
     "name": "stdout",
     "output_type": "stream",
     "text": [
      " - Arrest / Arrest048_x264.mp4\n"
     ]
    },
    {
     "data": {
      "application/vnd.jupyter.widget-view+json": {
       "model_id": "e5af535b8085484bbbb4d8d26cd6f40e",
       "version_major": 2,
       "version_minor": 0
      },
      "text/plain": [
       "Extracting Arrest048_x264.mp4:   0%|          | 0/4077 [00:00<?, ?it/s]"
      ]
     },
     "metadata": {},
     "output_type": "display_data"
    },
    {
     "name": "stdout",
     "output_type": "stream",
     "text": [
      " - Arrest / Arrest049_x264.mp4\n"
     ]
    },
    {
     "data": {
      "application/vnd.jupyter.widget-view+json": {
       "model_id": "3873430a0f1e4da8b4f7bf36f95a8e2f",
       "version_major": 2,
       "version_minor": 0
      },
      "text/plain": [
       "Extracting Arrest049_x264.mp4:   0%|          | 0/11799 [00:00<?, ?it/s]"
      ]
     },
     "metadata": {},
     "output_type": "display_data"
    },
    {
     "name": "stdout",
     "output_type": "stream",
     "text": [
      " - Arrest / Arrest051_x264.mp4\n"
     ]
    },
    {
     "data": {
      "application/vnd.jupyter.widget-view+json": {
       "model_id": "ea9cbd7cb6984dd1a0bc54d3a095392b",
       "version_major": 2,
       "version_minor": 0
      },
      "text/plain": [
       "Extracting Arrest051_x264.mp4:   0%|          | 0/10800 [00:00<?, ?it/s]"
      ]
     },
     "metadata": {},
     "output_type": "display_data"
    },
    {
     "name": "stdout",
     "output_type": "stream",
     "text": [
      " - Arson / Arson001_x264.mp4\n"
     ]
    },
    {
     "data": {
      "application/vnd.jupyter.widget-view+json": {
       "model_id": "9c7de302572c497f97463d3554092db5",
       "version_major": 2,
       "version_minor": 0
      },
      "text/plain": [
       "Extracting Arson001_x264.mp4:   0%|          | 0/4187 [00:00<?, ?it/s]"
      ]
     },
     "metadata": {},
     "output_type": "display_data"
    },
    {
     "name": "stdout",
     "output_type": "stream",
     "text": [
      " - Arson / Arson002_x264.mp4\n"
     ]
    },
    {
     "data": {
      "application/vnd.jupyter.widget-view+json": {
       "model_id": "408f3733821d4a98a2515dfd39e2286c",
       "version_major": 2,
       "version_minor": 0
      },
      "text/plain": [
       "Extracting Arson002_x264.mp4:   0%|          | 0/4439 [00:00<?, ?it/s]"
      ]
     },
     "metadata": {},
     "output_type": "display_data"
    },
    {
     "name": "stdout",
     "output_type": "stream",
     "text": [
      " - Arson / Arson003_x264.mp4\n"
     ]
    },
    {
     "data": {
      "application/vnd.jupyter.widget-view+json": {
       "model_id": "578750a611684412b4ba999911f301fb",
       "version_major": 2,
       "version_minor": 0
      },
      "text/plain": [
       "Extracting Arson003_x264.mp4:   0%|          | 0/4013 [00:00<?, ?it/s]"
      ]
     },
     "metadata": {},
     "output_type": "display_data"
    },
    {
     "name": "stdout",
     "output_type": "stream",
     "text": [
      " - Arson / Arson005_x264.mp4\n"
     ]
    },
    {
     "data": {
      "application/vnd.jupyter.widget-view+json": {
       "model_id": "8cf5b570e7a04748b9e2daf666bf0e26",
       "version_major": 2,
       "version_minor": 0
      },
      "text/plain": [
       "Extracting Arson005_x264.mp4:   0%|          | 0/1174 [00:00<?, ?it/s]"
      ]
     },
     "metadata": {},
     "output_type": "display_data"
    },
    {
     "name": "stdout",
     "output_type": "stream",
     "text": [
      " - Arson / Arson006_x264.mp4\n"
     ]
    },
    {
     "data": {
      "application/vnd.jupyter.widget-view+json": {
       "model_id": "ca869ceac9f8417bafca7b1e19a52001",
       "version_major": 2,
       "version_minor": 0
      },
      "text/plain": [
       "Extracting Arson006_x264.mp4:   0%|          | 0/2815 [00:00<?, ?it/s]"
      ]
     },
     "metadata": {},
     "output_type": "display_data"
    },
    {
     "name": "stdout",
     "output_type": "stream",
     "text": [
      " - Arson / Arson007_x264.mp4\n"
     ]
    },
    {
     "data": {
      "application/vnd.jupyter.widget-view+json": {
       "model_id": "f1606f401a0b4ca9bee29c25440c7d79",
       "version_major": 2,
       "version_minor": 0
      },
      "text/plain": [
       "Extracting Arson007_x264.mp4:   0%|          | 0/6252 [00:00<?, ?it/s]"
      ]
     },
     "metadata": {},
     "output_type": "display_data"
    },
    {
     "name": "stdout",
     "output_type": "stream",
     "text": [
      " - Arson / Arson008_x264.mp4\n"
     ]
    },
    {
     "data": {
      "application/vnd.jupyter.widget-view+json": {
       "model_id": "66d2b02902614c3ba939d186837a8808",
       "version_major": 2,
       "version_minor": 0
      },
      "text/plain": [
       "Extracting Arson008_x264.mp4:   0%|          | 0/1220 [00:00<?, ?it/s]"
      ]
     },
     "metadata": {},
     "output_type": "display_data"
    },
    {
     "name": "stdout",
     "output_type": "stream",
     "text": [
      " - Arson / Arson009_x264.mp4\n"
     ]
    },
    {
     "data": {
      "application/vnd.jupyter.widget-view+json": {
       "model_id": "6ad71892b4584cc695473aaa4c4f28c6",
       "version_major": 2,
       "version_minor": 0
      },
      "text/plain": [
       "Extracting Arson009_x264.mp4:   0%|          | 0/743 [00:00<?, ?it/s]"
      ]
     },
     "metadata": {},
     "output_type": "display_data"
    },
    {
     "name": "stdout",
     "output_type": "stream",
     "text": [
      " - Arson / Arson010_x264.mp4\n"
     ]
    },
    {
     "data": {
      "application/vnd.jupyter.widget-view+json": {
       "model_id": "b9d9dc26371847aab788c24f226ea08a",
       "version_major": 2,
       "version_minor": 0
      },
      "text/plain": [
       "Extracting Arson010_x264.mp4:   0%|          | 0/3159 [00:00<?, ?it/s]"
      ]
     },
     "metadata": {},
     "output_type": "display_data"
    },
    {
     "name": "stdout",
     "output_type": "stream",
     "text": [
      " - Arson / Arson011_x264.mp4\n"
     ]
    },
    {
     "data": {
      "application/vnd.jupyter.widget-view+json": {
       "model_id": "4b067e5f040940f9a9f4d9bac13cfb1c",
       "version_major": 2,
       "version_minor": 0
      },
      "text/plain": [
       "Extracting Arson011_x264.mp4:   0%|          | 0/1266 [00:00<?, ?it/s]"
      ]
     },
     "metadata": {},
     "output_type": "display_data"
    },
    {
     "name": "stdout",
     "output_type": "stream",
     "text": [
      " - Arson / Arson013_x264.mp4\n"
     ]
    },
    {
     "data": {
      "application/vnd.jupyter.widget-view+json": {
       "model_id": "573b7173e2374097a40bfdc4137539c8",
       "version_major": 2,
       "version_minor": 0
      },
      "text/plain": [
       "Extracting Arson013_x264.mp4:   0%|          | 0/6379 [00:00<?, ?it/s]"
      ]
     },
     "metadata": {},
     "output_type": "display_data"
    },
    {
     "name": "stdout",
     "output_type": "stream",
     "text": [
      " - Arson / Arson014_x264.mp4\n"
     ]
    },
    {
     "data": {
      "application/vnd.jupyter.widget-view+json": {
       "model_id": "4fbc673dd7c84d1aad8dfd5b510b8e18",
       "version_major": 2,
       "version_minor": 0
      },
      "text/plain": [
       "Extracting Arson014_x264.mp4:   0%|          | 0/2634 [00:00<?, ?it/s]"
      ]
     },
     "metadata": {},
     "output_type": "display_data"
    },
    {
     "name": "stdout",
     "output_type": "stream",
     "text": [
      " - Arson / Arson015_x264.mp4\n"
     ]
    },
    {
     "data": {
      "application/vnd.jupyter.widget-view+json": {
       "model_id": "984e630ff7b444eaae38e7b38b5c52a1",
       "version_major": 2,
       "version_minor": 0
      },
      "text/plain": [
       "Extracting Arson015_x264.mp4:   0%|          | 0/10230 [00:00<?, ?it/s]"
      ]
     },
     "metadata": {},
     "output_type": "display_data"
    },
    {
     "name": "stdout",
     "output_type": "stream",
     "text": [
      " - Arson / Arson016_x264.mp4\n"
     ]
    },
    {
     "data": {
      "application/vnd.jupyter.widget-view+json": {
       "model_id": "4ec1256f60414d1999e7fd1c79a314a8",
       "version_major": 2,
       "version_minor": 0
      },
      "text/plain": [
       "Extracting Arson016_x264.mp4:   0%|          | 0/1795 [00:00<?, ?it/s]"
      ]
     },
     "metadata": {},
     "output_type": "display_data"
    },
    {
     "name": "stdout",
     "output_type": "stream",
     "text": [
      " - Arson / Arson017_x264.mp4\n"
     ]
    },
    {
     "data": {
      "application/vnd.jupyter.widget-view+json": {
       "model_id": "cc137ae4b0ec4085945e37328fb1ee50",
       "version_major": 2,
       "version_minor": 0
      },
      "text/plain": [
       "Extracting Arson017_x264.mp4:   0%|          | 0/1382 [00:00<?, ?it/s]"
      ]
     },
     "metadata": {},
     "output_type": "display_data"
    },
    {
     "name": "stdout",
     "output_type": "stream",
     "text": [
      " - Arson / Arson018_x264.mp4\n"
     ]
    },
    {
     "data": {
      "application/vnd.jupyter.widget-view+json": {
       "model_id": "57f78da77c6c440fa85d1f5bae6207ab",
       "version_major": 2,
       "version_minor": 0
      },
      "text/plain": [
       "Extracting Arson018_x264.mp4:   0%|          | 0/842 [00:00<?, ?it/s]"
      ]
     },
     "metadata": {},
     "output_type": "display_data"
    },
    {
     "name": "stdout",
     "output_type": "stream",
     "text": [
      " - Arson / Arson019_x264.mp4\n"
     ]
    },
    {
     "data": {
      "application/vnd.jupyter.widget-view+json": {
       "model_id": "6ab5eef065f74c3292ac31fa68a92537",
       "version_major": 2,
       "version_minor": 0
      },
      "text/plain": [
       "Extracting Arson019_x264.mp4:   0%|          | 0/126553 [00:00<?, ?it/s]"
      ]
     },
     "metadata": {},
     "output_type": "display_data"
    },
    {
     "name": "stdout",
     "output_type": "stream",
     "text": [
      " - Arson / Arson020_x264.mp4\n"
     ]
    },
    {
     "data": {
      "application/vnd.jupyter.widget-view+json": {
       "model_id": "370fba4cf94a483ea8ebd0b092a58100",
       "version_major": 2,
       "version_minor": 0
      },
      "text/plain": [
       "Extracting Arson020_x264.mp4:   0%|          | 0/2427 [00:00<?, ?it/s]"
      ]
     },
     "metadata": {},
     "output_type": "display_data"
    },
    {
     "name": "stdout",
     "output_type": "stream",
     "text": [
      " - Arson / Arson022_x264.mp4\n"
     ]
    },
    {
     "data": {
      "application/vnd.jupyter.widget-view+json": {
       "model_id": "f2dab9aa1ac541619ff9ee217c092991",
       "version_major": 2,
       "version_minor": 0
      },
      "text/plain": [
       "Extracting Arson022_x264.mp4:   0%|          | 0/8640 [00:00<?, ?it/s]"
      ]
     },
     "metadata": {},
     "output_type": "display_data"
    },
    {
     "name": "stdout",
     "output_type": "stream",
     "text": [
      " - Arson / Arson023_x264.mp4\n"
     ]
    },
    {
     "data": {
      "application/vnd.jupyter.widget-view+json": {
       "model_id": "e1ad87e8774c4bcc978c703d1b7bc0a8",
       "version_major": 2,
       "version_minor": 0
      },
      "text/plain": [
       "Extracting Arson023_x264.mp4:   0%|          | 0/1360 [00:00<?, ?it/s]"
      ]
     },
     "metadata": {},
     "output_type": "display_data"
    },
    {
     "name": "stdout",
     "output_type": "stream",
     "text": [
      " - Arson / Arson025_x264.mp4\n"
     ]
    },
    {
     "data": {
      "application/vnd.jupyter.widget-view+json": {
       "model_id": "ca9e0cbfb9de4637bfeefee0e156df1d",
       "version_major": 2,
       "version_minor": 0
      },
      "text/plain": [
       "Extracting Arson025_x264.mp4:   0%|          | 0/5283 [00:00<?, ?it/s]"
      ]
     },
     "metadata": {},
     "output_type": "display_data"
    },
    {
     "name": "stdout",
     "output_type": "stream",
     "text": [
      " - Arson / Arson026_x264.mp4\n"
     ]
    },
    {
     "data": {
      "application/vnd.jupyter.widget-view+json": {
       "model_id": "b4e9b4534fb649a7be5701156149099a",
       "version_major": 2,
       "version_minor": 0
      },
      "text/plain": [
       "Extracting Arson026_x264.mp4:   0%|          | 0/5899 [00:00<?, ?it/s]"
      ]
     },
     "metadata": {},
     "output_type": "display_data"
    },
    {
     "name": "stdout",
     "output_type": "stream",
     "text": [
      " - Arson / Arson027_x264.mp4\n"
     ]
    },
    {
     "data": {
      "application/vnd.jupyter.widget-view+json": {
       "model_id": "7fc2385d7a18453fa9c520049c08b81a",
       "version_major": 2,
       "version_minor": 0
      },
      "text/plain": [
       "Extracting Arson027_x264.mp4:   0%|          | 0/2697 [00:00<?, ?it/s]"
      ]
     },
     "metadata": {},
     "output_type": "display_data"
    },
    {
     "name": "stdout",
     "output_type": "stream",
     "text": [
      " - Arson / Arson028_x264.mp4\n"
     ]
    },
    {
     "data": {
      "application/vnd.jupyter.widget-view+json": {
       "model_id": "ccf16aeffcd84577b5247d37be2acd60",
       "version_major": 2,
       "version_minor": 0
      },
      "text/plain": [
       "Extracting Arson028_x264.mp4:   0%|          | 0/2409 [00:00<?, ?it/s]"
      ]
     },
     "metadata": {},
     "output_type": "display_data"
    },
    {
     "name": "stdout",
     "output_type": "stream",
     "text": [
      " - Arson / Arson029_x264.mp4\n"
     ]
    },
    {
     "data": {
      "application/vnd.jupyter.widget-view+json": {
       "model_id": "bd1d4082b1d74a57b0c16b059db13fdb",
       "version_major": 2,
       "version_minor": 0
      },
      "text/plain": [
       "Extracting Arson029_x264.mp4:   0%|          | 0/1349 [00:00<?, ?it/s]"
      ]
     },
     "metadata": {},
     "output_type": "display_data"
    },
    {
     "name": "stdout",
     "output_type": "stream",
     "text": [
      " - Arson / Arson030_x264.mp4\n"
     ]
    },
    {
     "data": {
      "application/vnd.jupyter.widget-view+json": {
       "model_id": "72643079e37345ddae704ec699e5eaf4",
       "version_major": 2,
       "version_minor": 0
      },
      "text/plain": [
       "Extracting Arson030_x264.mp4:   0%|          | 0/5053 [00:00<?, ?it/s]"
      ]
     },
     "metadata": {},
     "output_type": "display_data"
    },
    {
     "name": "stdout",
     "output_type": "stream",
     "text": [
      " - Arson / Arson031_x264.mp4\n"
     ]
    },
    {
     "data": {
      "application/vnd.jupyter.widget-view+json": {
       "model_id": "681d9e7fc8ba450aa7567a9088a714cf",
       "version_major": 2,
       "version_minor": 0
      },
      "text/plain": [
       "Extracting Arson031_x264.mp4:   0%|          | 0/2884 [00:00<?, ?it/s]"
      ]
     },
     "metadata": {},
     "output_type": "display_data"
    },
    {
     "name": "stdout",
     "output_type": "stream",
     "text": [
      " - Arson / Arson032_x264.mp4\n"
     ]
    },
    {
     "data": {
      "application/vnd.jupyter.widget-view+json": {
       "model_id": "0a25e7a56c9142b893e96ba516baf4fa",
       "version_major": 2,
       "version_minor": 0
      },
      "text/plain": [
       "Extracting Arson032_x264.mp4:   0%|          | 0/2781 [00:00<?, ?it/s]"
      ]
     },
     "metadata": {},
     "output_type": "display_data"
    },
    {
     "name": "stdout",
     "output_type": "stream",
     "text": [
      " - Arson / Arson034_x264.mp4\n"
     ]
    },
    {
     "data": {
      "application/vnd.jupyter.widget-view+json": {
       "model_id": "0f3a761f6d8e4849bb561bec17c49ddd",
       "version_major": 2,
       "version_minor": 0
      },
      "text/plain": [
       "Extracting Arson034_x264.mp4:   0%|          | 0/2388 [00:00<?, ?it/s]"
      ]
     },
     "metadata": {},
     "output_type": "display_data"
    },
    {
     "name": "stdout",
     "output_type": "stream",
     "text": [
      " - Arson / Arson036_x264.mp4\n"
     ]
    },
    {
     "data": {
      "application/vnd.jupyter.widget-view+json": {
       "model_id": "af281e053b024c76a5cdff9e1d46b79d",
       "version_major": 2,
       "version_minor": 0
      },
      "text/plain": [
       "Extracting Arson036_x264.mp4:   0%|          | 0/1695 [00:00<?, ?it/s]"
      ]
     },
     "metadata": {},
     "output_type": "display_data"
    },
    {
     "name": "stdout",
     "output_type": "stream",
     "text": [
      " - Arson / Arson037_x264.mp4\n"
     ]
    },
    {
     "data": {
      "application/vnd.jupyter.widget-view+json": {
       "model_id": "a9c5cdcacdab49cfb2de467af22e15b0",
       "version_major": 2,
       "version_minor": 0
      },
      "text/plain": [
       "Extracting Arson037_x264.mp4:   0%|          | 0/803 [00:00<?, ?it/s]"
      ]
     },
     "metadata": {},
     "output_type": "display_data"
    },
    {
     "name": "stdout",
     "output_type": "stream",
     "text": [
      " - Arson / Arson038_x264.mp4\n"
     ]
    },
    {
     "data": {
      "application/vnd.jupyter.widget-view+json": {
       "model_id": "83ec2cd5bfc54eb3be952edcb230f910",
       "version_major": 2,
       "version_minor": 0
      },
      "text/plain": [
       "Extracting Arson038_x264.mp4:   0%|          | 0/737 [00:00<?, ?it/s]"
      ]
     },
     "metadata": {},
     "output_type": "display_data"
    },
    {
     "name": "stdout",
     "output_type": "stream",
     "text": [
      " - Arson / Arson039_x264.mp4\n"
     ]
    },
    {
     "data": {
      "application/vnd.jupyter.widget-view+json": {
       "model_id": "1abfe81e0eac4803afdfe1dee59e87d9",
       "version_major": 2,
       "version_minor": 0
      },
      "text/plain": [
       "Extracting Arson039_x264.mp4:   0%|          | 0/3376 [00:00<?, ?it/s]"
      ]
     },
     "metadata": {},
     "output_type": "display_data"
    },
    {
     "name": "stdout",
     "output_type": "stream",
     "text": [
      " - Arson / Arson040_x264.mp4\n"
     ]
    },
    {
     "data": {
      "application/vnd.jupyter.widget-view+json": {
       "model_id": "0eb9b922c28d420392c239dd843c4008",
       "version_major": 2,
       "version_minor": 0
      },
      "text/plain": [
       "Extracting Arson040_x264.mp4:   0%|          | 0/2835 [00:00<?, ?it/s]"
      ]
     },
     "metadata": {},
     "output_type": "display_data"
    },
    {
     "name": "stdout",
     "output_type": "stream",
     "text": [
      " - Arson / Arson041_x264.mp4\n"
     ]
    },
    {
     "data": {
      "application/vnd.jupyter.widget-view+json": {
       "model_id": "1dae51cfd91d4caf819e7deeae95815c",
       "version_major": 2,
       "version_minor": 0
      },
      "text/plain": [
       "Extracting Arson041_x264.mp4:   0%|          | 0/3754 [00:00<?, ?it/s]"
      ]
     },
     "metadata": {},
     "output_type": "display_data"
    },
    {
     "name": "stdout",
     "output_type": "stream",
     "text": [
      " - Arson / Arson047_x264.mp4\n"
     ]
    },
    {
     "data": {
      "application/vnd.jupyter.widget-view+json": {
       "model_id": "47a0125be9364393b4d79c1b95581d1b",
       "version_major": 2,
       "version_minor": 0
      },
      "text/plain": [
       "Extracting Arson047_x264.mp4:   0%|          | 0/1442 [00:00<?, ?it/s]"
      ]
     },
     "metadata": {},
     "output_type": "display_data"
    },
    {
     "name": "stdout",
     "output_type": "stream",
     "text": [
      " - Arson / Arson049_x264.mp4\n"
     ]
    },
    {
     "data": {
      "application/vnd.jupyter.widget-view+json": {
       "model_id": "84045c5899ad4eb0a308969be7535407",
       "version_major": 2,
       "version_minor": 0
      },
      "text/plain": [
       "Extracting Arson049_x264.mp4:   0%|          | 0/386 [00:00<?, ?it/s]"
      ]
     },
     "metadata": {},
     "output_type": "display_data"
    },
    {
     "name": "stdout",
     "output_type": "stream",
     "text": [
      " - Arson / Arson050_x264.mp4\n"
     ]
    },
    {
     "data": {
      "application/vnd.jupyter.widget-view+json": {
       "model_id": "58ca4772655d4578abfc72bc50edafe2",
       "version_major": 2,
       "version_minor": 0
      },
      "text/plain": [
       "Extracting Arson050_x264.mp4:   0%|          | 0/1581 [00:00<?, ?it/s]"
      ]
     },
     "metadata": {},
     "output_type": "display_data"
    },
    {
     "name": "stdout",
     "output_type": "stream",
     "text": [
      " - Arson / Arson052_x264.mp4\n"
     ]
    },
    {
     "data": {
      "application/vnd.jupyter.widget-view+json": {
       "model_id": "2f1e535b763b42f792388d721666533b",
       "version_major": 2,
       "version_minor": 0
      },
      "text/plain": [
       "Extracting Arson052_x264.mp4:   0%|          | 0/4766 [00:00<?, ?it/s]"
      ]
     },
     "metadata": {},
     "output_type": "display_data"
    },
    {
     "name": "stdout",
     "output_type": "stream",
     "text": [
      " - Arson / Arson053_x264.mp4\n"
     ]
    },
    {
     "data": {
      "application/vnd.jupyter.widget-view+json": {
       "model_id": "5c805dffa0a74ba68d1440d9ed5f6811",
       "version_major": 2,
       "version_minor": 0
      },
      "text/plain": [
       "Extracting Arson053_x264.mp4:   0%|          | 0/6775 [00:00<?, ?it/s]"
      ]
     },
     "metadata": {},
     "output_type": "display_data"
    },
    {
     "name": "stdout",
     "output_type": "stream",
     "text": [
      " - Assault / Assault002_x264.mp4\n"
     ]
    },
    {
     "data": {
      "application/vnd.jupyter.widget-view+json": {
       "model_id": "dba27f0cb458494a98bd8709d574b2c2",
       "version_major": 2,
       "version_minor": 0
      },
      "text/plain": [
       "Extracting Assault002_x264.mp4:   0%|          | 0/2523 [00:00<?, ?it/s]"
      ]
     },
     "metadata": {},
     "output_type": "display_data"
    },
    {
     "name": "stdout",
     "output_type": "stream",
     "text": [
      " - Assault / Assault003_x264.mp4\n"
     ]
    },
    {
     "data": {
      "application/vnd.jupyter.widget-view+json": {
       "model_id": "cfff4da5a7754cba8ff756ad95ce8f0a",
       "version_major": 2,
       "version_minor": 0
      },
      "text/plain": [
       "Extracting Assault003_x264.mp4:   0%|          | 0/4443 [00:00<?, ?it/s]"
      ]
     },
     "metadata": {},
     "output_type": "display_data"
    },
    {
     "name": "stdout",
     "output_type": "stream",
     "text": [
      " - Assault / Assault004_x264.mp4\n"
     ]
    },
    {
     "data": {
      "application/vnd.jupyter.widget-view+json": {
       "model_id": "064148d5a97a474b931cc4c5e17f2f47",
       "version_major": 2,
       "version_minor": 0
      },
      "text/plain": [
       "Extracting Assault004_x264.mp4:   0%|          | 0/3223 [00:00<?, ?it/s]"
      ]
     },
     "metadata": {},
     "output_type": "display_data"
    },
    {
     "name": "stdout",
     "output_type": "stream",
     "text": [
      " - Assault / Assault006_x264.mp4\n"
     ]
    },
    {
     "data": {
      "application/vnd.jupyter.widget-view+json": {
       "model_id": "fb0212c1e4f04cc0857b45140643ac61",
       "version_major": 2,
       "version_minor": 0
      },
      "text/plain": [
       "Extracting Assault006_x264.mp4:   0%|          | 0/8096 [00:00<?, ?it/s]"
      ]
     },
     "metadata": {},
     "output_type": "display_data"
    },
    {
     "name": "stdout",
     "output_type": "stream",
     "text": [
      " - Assault / Assault007_x264.mp4\n"
     ]
    },
    {
     "data": {
      "application/vnd.jupyter.widget-view+json": {
       "model_id": "c55c2ec36d994683b4e52787a761b774",
       "version_major": 2,
       "version_minor": 0
      },
      "text/plain": [
       "Extracting Assault007_x264.mp4:   0%|          | 0/1952 [00:00<?, ?it/s]"
      ]
     },
     "metadata": {},
     "output_type": "display_data"
    },
    {
     "name": "stdout",
     "output_type": "stream",
     "text": [
      " - Assault / Assault008_x264.mp4\n"
     ]
    },
    {
     "data": {
      "application/vnd.jupyter.widget-view+json": {
       "model_id": "90171c28e38741c3bf0585e7243cd00e",
       "version_major": 2,
       "version_minor": 0
      },
      "text/plain": [
       "Extracting Assault008_x264.mp4:   0%|          | 0/7536 [00:00<?, ?it/s]"
      ]
     },
     "metadata": {},
     "output_type": "display_data"
    },
    {
     "name": "stdout",
     "output_type": "stream",
     "text": [
      " - Assault / Assault009_x264.mp4\n"
     ]
    },
    {
     "data": {
      "application/vnd.jupyter.widget-view+json": {
       "model_id": "4d86da20f1d04ff7ae8399740cd4f135",
       "version_major": 2,
       "version_minor": 0
      },
      "text/plain": [
       "Extracting Assault009_x264.mp4:   0%|          | 0/3599 [00:00<?, ?it/s]"
      ]
     },
     "metadata": {},
     "output_type": "display_data"
    },
    {
     "name": "stdout",
     "output_type": "stream",
     "text": [
      " - Assault / Assault012_x264.mp4\n"
     ]
    },
    {
     "data": {
      "application/vnd.jupyter.widget-view+json": {
       "model_id": "ff3116e38ac640d9aaa0f4e8fc33a0e0",
       "version_major": 2,
       "version_minor": 0
      },
      "text/plain": [
       "Extracting Assault012_x264.mp4:   0%|          | 0/783 [00:00<?, ?it/s]"
      ]
     },
     "metadata": {},
     "output_type": "display_data"
    },
    {
     "name": "stdout",
     "output_type": "stream",
     "text": [
      " - Assault / Assault013_x264.mp4\n"
     ]
    },
    {
     "data": {
      "application/vnd.jupyter.widget-view+json": {
       "model_id": "10b06caeab794c0b9a726d9d9bf5e354",
       "version_major": 2,
       "version_minor": 0
      },
      "text/plain": [
       "Extracting Assault013_x264.mp4:   0%|          | 0/2379 [00:00<?, ?it/s]"
      ]
     },
     "metadata": {},
     "output_type": "display_data"
    },
    {
     "name": "stdout",
     "output_type": "stream",
     "text": [
      " - Assault / Assault014_x264.mp4\n"
     ]
    },
    {
     "data": {
      "application/vnd.jupyter.widget-view+json": {
       "model_id": "be9dd7ef07294c2b8b6d41ab03626caa",
       "version_major": 2,
       "version_minor": 0
      },
      "text/plain": [
       "Extracting Assault014_x264.mp4:   0%|          | 0/1907 [00:00<?, ?it/s]"
      ]
     },
     "metadata": {},
     "output_type": "display_data"
    },
    {
     "name": "stdout",
     "output_type": "stream",
     "text": [
      " - Assault / Assault016_x264.mp4\n"
     ]
    },
    {
     "data": {
      "application/vnd.jupyter.widget-view+json": {
       "model_id": "5811d7e912444d84b8ac83caa3891771",
       "version_major": 2,
       "version_minor": 0
      },
      "text/plain": [
       "Extracting Assault016_x264.mp4:   0%|          | 0/6613 [00:00<?, ?it/s]"
      ]
     },
     "metadata": {},
     "output_type": "display_data"
    },
    {
     "name": "stdout",
     "output_type": "stream",
     "text": [
      " - Assault / Assault017_x264.mp4\n"
     ]
    },
    {
     "data": {
      "application/vnd.jupyter.widget-view+json": {
       "model_id": "0d107edb399d4ffb86633b920a7c57cc",
       "version_major": 2,
       "version_minor": 0
      },
      "text/plain": [
       "Extracting Assault017_x264.mp4:   0%|          | 0/2450 [00:00<?, ?it/s]"
      ]
     },
     "metadata": {},
     "output_type": "display_data"
    },
    {
     "name": "stdout",
     "output_type": "stream",
     "text": [
      " - Assault / Assault018_x264.mp4\n"
     ]
    },
    {
     "data": {
      "application/vnd.jupyter.widget-view+json": {
       "model_id": "00d79e0bac754d1b8c2131c31f7e6180",
       "version_major": 2,
       "version_minor": 0
      },
      "text/plain": [
       "Extracting Assault018_x264.mp4:   0%|          | 0/361 [00:00<?, ?it/s]"
      ]
     },
     "metadata": {},
     "output_type": "display_data"
    },
    {
     "name": "stdout",
     "output_type": "stream",
     "text": [
      " - Assault / Assault019_x264.mp4\n"
     ]
    },
    {
     "data": {
      "application/vnd.jupyter.widget-view+json": {
       "model_id": "2fe4d5d825e54260ba30fe009ab54605",
       "version_major": 2,
       "version_minor": 0
      },
      "text/plain": [
       "Extracting Assault019_x264.mp4:   0%|          | 0/2538 [00:00<?, ?it/s]"
      ]
     },
     "metadata": {},
     "output_type": "display_data"
    },
    {
     "name": "stdout",
     "output_type": "stream",
     "text": [
      " - Assault / Assault020_x264.mp4\n"
     ]
    },
    {
     "data": {
      "application/vnd.jupyter.widget-view+json": {
       "model_id": "e9e25849f0864139a0a9068bab580f47",
       "version_major": 2,
       "version_minor": 0
      },
      "text/plain": [
       "Extracting Assault020_x264.mp4:   0%|          | 0/474 [00:00<?, ?it/s]"
      ]
     },
     "metadata": {},
     "output_type": "display_data"
    },
    {
     "name": "stdout",
     "output_type": "stream",
     "text": [
      " - Assault / Assault023_x264.mp4\n"
     ]
    },
    {
     "data": {
      "application/vnd.jupyter.widget-view+json": {
       "model_id": "5c6167e02b884f8a8b13cd2772d81ce9",
       "version_major": 2,
       "version_minor": 0
      },
      "text/plain": [
       "Extracting Assault023_x264.mp4:   0%|          | 0/1013 [00:00<?, ?it/s]"
      ]
     },
     "metadata": {},
     "output_type": "display_data"
    },
    {
     "name": "stdout",
     "output_type": "stream",
     "text": [
      " - Assault / Assault024_x264.mp4\n"
     ]
    },
    {
     "data": {
      "application/vnd.jupyter.widget-view+json": {
       "model_id": "67ec09305a7c4a419a32bf33572cba27",
       "version_major": 2,
       "version_minor": 0
      },
      "text/plain": [
       "Extracting Assault024_x264.mp4:   0%|          | 0/446 [00:00<?, ?it/s]"
      ]
     },
     "metadata": {},
     "output_type": "display_data"
    },
    {
     "name": "stdout",
     "output_type": "stream",
     "text": [
      " - Assault / Assault025_x264.mp4\n"
     ]
    },
    {
     "data": {
      "application/vnd.jupyter.widget-view+json": {
       "model_id": "8a19872ba3d04dba8b790db9b81b9777",
       "version_major": 2,
       "version_minor": 0
      },
      "text/plain": [
       "Extracting Assault025_x264.mp4:   0%|          | 0/1160 [00:00<?, ?it/s]"
      ]
     },
     "metadata": {},
     "output_type": "display_data"
    },
    {
     "name": "stdout",
     "output_type": "stream",
     "text": [
      " - Assault / Assault026_x264.mp4\n"
     ]
    },
    {
     "data": {
      "application/vnd.jupyter.widget-view+json": {
       "model_id": "6cfc9ffbca98484f8cfa8312c8699916",
       "version_major": 2,
       "version_minor": 0
      },
      "text/plain": [
       "Extracting Assault026_x264.mp4:   0%|          | 0/842 [00:00<?, ?it/s]"
      ]
     },
     "metadata": {},
     "output_type": "display_data"
    },
    {
     "name": "stdout",
     "output_type": "stream",
     "text": [
      " - Assault / Assault027_x264.mp4\n"
     ]
    },
    {
     "data": {
      "application/vnd.jupyter.widget-view+json": {
       "model_id": "a6bdfbef604040bbbb0151e974fd8816",
       "version_major": 2,
       "version_minor": 0
      },
      "text/plain": [
       "Extracting Assault027_x264.mp4:   0%|          | 0/6949 [00:00<?, ?it/s]"
      ]
     },
     "metadata": {},
     "output_type": "display_data"
    },
    {
     "name": "stdout",
     "output_type": "stream",
     "text": [
      " - Assault / Assault028_x264.mp4\n"
     ]
    },
    {
     "data": {
      "application/vnd.jupyter.widget-view+json": {
       "model_id": "cf0fd43c853947a48f74991980678445",
       "version_major": 2,
       "version_minor": 0
      },
      "text/plain": [
       "Extracting Assault028_x264.mp4:   0%|          | 0/2635 [00:00<?, ?it/s]"
      ]
     },
     "metadata": {},
     "output_type": "display_data"
    },
    {
     "name": "stdout",
     "output_type": "stream",
     "text": [
      " - Assault / Assault029_x264.mp4\n"
     ]
    },
    {
     "data": {
      "application/vnd.jupyter.widget-view+json": {
       "model_id": "e62940bbcbeb4f6d9bc8aa1a5783c8be",
       "version_major": 2,
       "version_minor": 0
      },
      "text/plain": [
       "Extracting Assault029_x264.mp4:   0%|          | 0/609 [00:00<?, ?it/s]"
      ]
     },
     "metadata": {},
     "output_type": "display_data"
    },
    {
     "name": "stdout",
     "output_type": "stream",
     "text": [
      " - Assault / Assault030_x264.mp4\n"
     ]
    },
    {
     "data": {
      "application/vnd.jupyter.widget-view+json": {
       "model_id": "5f6dd5fccdde4b90a16056eb41360b0d",
       "version_major": 2,
       "version_minor": 0
      },
      "text/plain": [
       "Extracting Assault030_x264.mp4:   0%|          | 0/1767 [00:00<?, ?it/s]"
      ]
     },
     "metadata": {},
     "output_type": "display_data"
    },
    {
     "name": "stdout",
     "output_type": "stream",
     "text": [
      " - Assault / Assault031_x264.mp4\n"
     ]
    },
    {
     "data": {
      "application/vnd.jupyter.widget-view+json": {
       "model_id": "0c6b6ca57a694d2491587dff0837a78c",
       "version_major": 2,
       "version_minor": 0
      },
      "text/plain": [
       "Extracting Assault031_x264.mp4:   0%|          | 0/756 [00:00<?, ?it/s]"
      ]
     },
     "metadata": {},
     "output_type": "display_data"
    },
    {
     "name": "stdout",
     "output_type": "stream",
     "text": [
      " - Assault / Assault032_x264.mp4\n"
     ]
    },
    {
     "data": {
      "application/vnd.jupyter.widget-view+json": {
       "model_id": "11416e723a3d45ec986ea5230cf8742a",
       "version_major": 2,
       "version_minor": 0
      },
      "text/plain": [
       "Extracting Assault032_x264.mp4:   0%|          | 0/572 [00:00<?, ?it/s]"
      ]
     },
     "metadata": {},
     "output_type": "display_data"
    },
    {
     "name": "stdout",
     "output_type": "stream",
     "text": [
      " - Assault / Assault034_x264.mp4\n"
     ]
    },
    {
     "data": {
      "application/vnd.jupyter.widget-view+json": {
       "model_id": "c2a66728de4a4c508a6fd2d0c8f943af",
       "version_major": 2,
       "version_minor": 0
      },
      "text/plain": [
       "Extracting Assault034_x264.mp4:   0%|          | 0/2319 [00:00<?, ?it/s]"
      ]
     },
     "metadata": {},
     "output_type": "display_data"
    },
    {
     "name": "stdout",
     "output_type": "stream",
     "text": [
      " - Assault / Assault035_x264.mp4\n"
     ]
    },
    {
     "data": {
      "application/vnd.jupyter.widget-view+json": {
       "model_id": "ef78f3590b204e2698d44a189e744beb",
       "version_major": 2,
       "version_minor": 0
      },
      "text/plain": [
       "Extracting Assault035_x264.mp4:   0%|          | 0/897 [00:00<?, ?it/s]"
      ]
     },
     "metadata": {},
     "output_type": "display_data"
    },
    {
     "name": "stdout",
     "output_type": "stream",
     "text": [
      " - Assault / Assault036_x264.mp4\n"
     ]
    },
    {
     "data": {
      "application/vnd.jupyter.widget-view+json": {
       "model_id": "c69c536cb1f94013b2d00b94b67e4aa0",
       "version_major": 2,
       "version_minor": 0
      },
      "text/plain": [
       "Extracting Assault036_x264.mp4:   0%|          | 0/912 [00:00<?, ?it/s]"
      ]
     },
     "metadata": {},
     "output_type": "display_data"
    },
    {
     "name": "stdout",
     "output_type": "stream",
     "text": [
      " - Assault / Assault037_x264.mp4\n"
     ]
    },
    {
     "data": {
      "application/vnd.jupyter.widget-view+json": {
       "model_id": "2ce4daf94c514b8782d372afb8f6736e",
       "version_major": 2,
       "version_minor": 0
      },
      "text/plain": [
       "Extracting Assault037_x264.mp4:   0%|          | 0/3208 [00:00<?, ?it/s]"
      ]
     },
     "metadata": {},
     "output_type": "display_data"
    },
    {
     "name": "stdout",
     "output_type": "stream",
     "text": [
      " - Assault / Assault038_x264.mp4\n"
     ]
    },
    {
     "data": {
      "application/vnd.jupyter.widget-view+json": {
       "model_id": "b83827a088fb48ee91e2b73b5fe95965",
       "version_major": 2,
       "version_minor": 0
      },
      "text/plain": [
       "Extracting Assault038_x264.mp4:   0%|          | 0/137 [00:00<?, ?it/s]"
      ]
     },
     "metadata": {},
     "output_type": "display_data"
    },
    {
     "name": "stdout",
     "output_type": "stream",
     "text": [
      " - Assault / Assault039_x264.mp4\n"
     ]
    },
    {
     "data": {
      "application/vnd.jupyter.widget-view+json": {
       "model_id": "76d003555e5547dd9fb1f5f79b245724",
       "version_major": 2,
       "version_minor": 0
      },
      "text/plain": [
       "Extracting Assault039_x264.mp4:   0%|          | 0/295 [00:00<?, ?it/s]"
      ]
     },
     "metadata": {},
     "output_type": "display_data"
    },
    {
     "name": "stdout",
     "output_type": "stream",
     "text": [
      " - Assault / Assault040_x264.mp4\n"
     ]
    },
    {
     "data": {
      "application/vnd.jupyter.widget-view+json": {
       "model_id": "a5a00f93e873457db2a6a663ef786e84",
       "version_major": 2,
       "version_minor": 0
      },
      "text/plain": [
       "Extracting Assault040_x264.mp4:   0%|          | 0/3779 [00:00<?, ?it/s]"
      ]
     },
     "metadata": {},
     "output_type": "display_data"
    },
    {
     "name": "stdout",
     "output_type": "stream",
     "text": [
      " - Assault / Assault041_x264.mp4\n"
     ]
    },
    {
     "data": {
      "application/vnd.jupyter.widget-view+json": {
       "model_id": "5d05d65796074c31984ab400fb01a034",
       "version_major": 2,
       "version_minor": 0
      },
      "text/plain": [
       "Extracting Assault041_x264.mp4:   0%|          | 0/5023 [00:00<?, ?it/s]"
      ]
     },
     "metadata": {},
     "output_type": "display_data"
    },
    {
     "name": "stdout",
     "output_type": "stream",
     "text": [
      " - Assault / Assault042_x264.mp4\n"
     ]
    },
    {
     "data": {
      "application/vnd.jupyter.widget-view+json": {
       "model_id": "8dc633d210ee49fd84dec191550e9f8e",
       "version_major": 2,
       "version_minor": 0
      },
      "text/plain": [
       "Extracting Assault042_x264.mp4:   0%|          | 0/8994 [00:00<?, ?it/s]"
      ]
     },
     "metadata": {},
     "output_type": "display_data"
    },
    {
     "name": "stdout",
     "output_type": "stream",
     "text": [
      " - Assault / Assault045_x264.mp4\n"
     ]
    },
    {
     "data": {
      "application/vnd.jupyter.widget-view+json": {
       "model_id": "c0c4148e49844466a076d8bb2520c7f7",
       "version_major": 2,
       "version_minor": 0
      },
      "text/plain": [
       "Extracting Assault045_x264.mp4:   0%|          | 0/1119 [00:00<?, ?it/s]"
      ]
     },
     "metadata": {},
     "output_type": "display_data"
    },
    {
     "name": "stdout",
     "output_type": "stream",
     "text": [
      " - Assault / Assault046_x264.mp4\n"
     ]
    },
    {
     "data": {
      "application/vnd.jupyter.widget-view+json": {
       "model_id": "a4cb359f9ca64dcc8c4171e294a34bba",
       "version_major": 2,
       "version_minor": 0
      },
      "text/plain": [
       "Extracting Assault046_x264.mp4:   0%|          | 0/952 [00:00<?, ?it/s]"
      ]
     },
     "metadata": {},
     "output_type": "display_data"
    },
    {
     "name": "stdout",
     "output_type": "stream",
     "text": [
      " - Assault / Assault047_x264.mp4\n"
     ]
    },
    {
     "data": {
      "application/vnd.jupyter.widget-view+json": {
       "model_id": "c115290387fb4efcae18640c99562c4b",
       "version_major": 2,
       "version_minor": 0
      },
      "text/plain": [
       "Extracting Assault047_x264.mp4:   0%|          | 0/3336 [00:00<?, ?it/s]"
      ]
     },
     "metadata": {},
     "output_type": "display_data"
    },
    {
     "name": "stdout",
     "output_type": "stream",
     "text": [
      " - Assault / Assault049_x264.mp4\n"
     ]
    },
    {
     "data": {
      "application/vnd.jupyter.widget-view+json": {
       "model_id": "454469c3166542f591bbfc78cc2be5d9",
       "version_major": 2,
       "version_minor": 0
      },
      "text/plain": [
       "Extracting Assault049_x264.mp4:   0%|          | 0/1324 [00:00<?, ?it/s]"
      ]
     },
     "metadata": {},
     "output_type": "display_data"
    },
    {
     "name": "stdout",
     "output_type": "stream",
     "text": [
      " - Assault / Assault051_x264.mp4\n"
     ]
    },
    {
     "data": {
      "application/vnd.jupyter.widget-view+json": {
       "model_id": "827cd40a641947f2b8a819cd5feb00d1",
       "version_major": 2,
       "version_minor": 0
      },
      "text/plain": [
       "Extracting Assault051_x264.mp4:   0%|          | 0/601 [00:00<?, ?it/s]"
      ]
     },
     "metadata": {},
     "output_type": "display_data"
    },
    {
     "name": "stdout",
     "output_type": "stream",
     "text": [
      " - Assault / Assault052_x264.mp4\n"
     ]
    },
    {
     "data": {
      "application/vnd.jupyter.widget-view+json": {
       "model_id": "3afde282bfc245fe85c74cbcacecbadb",
       "version_major": 2,
       "version_minor": 0
      },
      "text/plain": [
       "Extracting Assault052_x264.mp4:   0%|          | 0/789 [00:00<?, ?it/s]"
      ]
     },
     "metadata": {},
     "output_type": "display_data"
    },
    {
     "name": "stdout",
     "output_type": "stream",
     "text": [
      " - Burglary / Burglary001_x264.mp4\n"
     ]
    },
    {
     "data": {
      "application/vnd.jupyter.widget-view+json": {
       "model_id": "2d4a085f57104a999af69094cf6be975",
       "version_major": 2,
       "version_minor": 0
      },
      "text/plain": [
       "Extracting Burglary001_x264.mp4:   0%|          | 0/3969 [00:00<?, ?it/s]"
      ]
     },
     "metadata": {},
     "output_type": "display_data"
    },
    {
     "name": "stdout",
     "output_type": "stream",
     "text": [
      " - Burglary / Burglary003_x264.mp4\n"
     ]
    },
    {
     "data": {
      "application/vnd.jupyter.widget-view+json": {
       "model_id": "9664a226debd461a885cf338b37ef710",
       "version_major": 2,
       "version_minor": 0
      },
      "text/plain": [
       "Extracting Burglary003_x264.mp4:   0%|          | 0/1173 [00:00<?, ?it/s]"
      ]
     },
     "metadata": {},
     "output_type": "display_data"
    },
    {
     "name": "stdout",
     "output_type": "stream",
     "text": [
      " - Burglary / Burglary005_x264.mp4\n"
     ]
    },
    {
     "data": {
      "application/vnd.jupyter.widget-view+json": {
       "model_id": "a9338b2875314342be02078d33fc3b36",
       "version_major": 2,
       "version_minor": 0
      },
      "text/plain": [
       "Extracting Burglary005_x264.mp4:   0%|          | 0/7729 [00:00<?, ?it/s]"
      ]
     },
     "metadata": {},
     "output_type": "display_data"
    },
    {
     "name": "stdout",
     "output_type": "stream",
     "text": [
      " - Burglary / Burglary007_x264.mp4\n"
     ]
    },
    {
     "data": {
      "application/vnd.jupyter.widget-view+json": {
       "model_id": "9c0fd27bd3e44030988969c821ab1c54",
       "version_major": 2,
       "version_minor": 0
      },
      "text/plain": [
       "Extracting Burglary007_x264.mp4:   0%|          | 0/1085 [00:00<?, ?it/s]"
      ]
     },
     "metadata": {},
     "output_type": "display_data"
    },
    {
     "name": "stdout",
     "output_type": "stream",
     "text": [
      " - Burglary / Burglary008_x264.mp4\n"
     ]
    },
    {
     "data": {
      "application/vnd.jupyter.widget-view+json": {
       "model_id": "fd40210245d04ed48bfe6c112528f593",
       "version_major": 2,
       "version_minor": 0
      },
      "text/plain": [
       "Extracting Burglary008_x264.mp4:   0%|          | 0/4920 [00:00<?, ?it/s]"
      ]
     },
     "metadata": {},
     "output_type": "display_data"
    },
    {
     "name": "stdout",
     "output_type": "stream",
     "text": [
      " - Burglary / Burglary009_x264.mp4\n"
     ]
    },
    {
     "data": {
      "application/vnd.jupyter.widget-view+json": {
       "model_id": "54ac00af4aa5425e971bfa6014335ddf",
       "version_major": 2,
       "version_minor": 0
      },
      "text/plain": [
       "Extracting Burglary009_x264.mp4:   0%|          | 0/2557 [00:00<?, ?it/s]"
      ]
     },
     "metadata": {},
     "output_type": "display_data"
    },
    {
     "name": "stdout",
     "output_type": "stream",
     "text": [
      " - Burglary / Burglary010_x264.mp4\n"
     ]
    },
    {
     "data": {
      "application/vnd.jupyter.widget-view+json": {
       "model_id": "f4e2440280e643a79b4f9f4dd6aab0a0",
       "version_major": 2,
       "version_minor": 0
      },
      "text/plain": [
       "Extracting Burglary010_x264.mp4:   0%|          | 0/5888 [00:00<?, ?it/s]"
      ]
     },
     "metadata": {},
     "output_type": "display_data"
    },
    {
     "name": "stdout",
     "output_type": "stream",
     "text": [
      " - Burglary / Burglary011_x264.mp4\n"
     ]
    },
    {
     "data": {
      "application/vnd.jupyter.widget-view+json": {
       "model_id": "17a95fdc188742d7aac4618373924e76",
       "version_major": 2,
       "version_minor": 0
      },
      "text/plain": [
       "Extracting Burglary011_x264.mp4:   0%|          | 0/1964 [00:00<?, ?it/s]"
      ]
     },
     "metadata": {},
     "output_type": "display_data"
    },
    {
     "name": "stdout",
     "output_type": "stream",
     "text": [
      " - Burglary / Burglary012_x264.mp4\n"
     ]
    },
    {
     "data": {
      "application/vnd.jupyter.widget-view+json": {
       "model_id": "001b248f944a41b09b02bff78cf50cd1",
       "version_major": 2,
       "version_minor": 0
      },
      "text/plain": [
       "Extracting Burglary012_x264.mp4:   0%|          | 0/1698 [00:00<?, ?it/s]"
      ]
     },
     "metadata": {},
     "output_type": "display_data"
    },
    {
     "name": "stdout",
     "output_type": "stream",
     "text": [
      " - Burglary / Burglary014_x264.mp4\n"
     ]
    },
    {
     "data": {
      "application/vnd.jupyter.widget-view+json": {
       "model_id": "7bd1b585b210498fa42907fe2ca3abdd",
       "version_major": 2,
       "version_minor": 0
      },
      "text/plain": [
       "Extracting Burglary014_x264.mp4:   0%|          | 0/2575 [00:00<?, ?it/s]"
      ]
     },
     "metadata": {},
     "output_type": "display_data"
    },
    {
     "name": "stdout",
     "output_type": "stream",
     "text": [
      " - Burglary / Burglary015_x264.mp4\n"
     ]
    },
    {
     "data": {
      "application/vnd.jupyter.widget-view+json": {
       "model_id": "987fcdadc8724cf79c22823ac28d3989",
       "version_major": 2,
       "version_minor": 0
      },
      "text/plain": [
       "Extracting Burglary015_x264.mp4:   0%|          | 0/1121 [00:00<?, ?it/s]"
      ]
     },
     "metadata": {},
     "output_type": "display_data"
    },
    {
     "name": "stdout",
     "output_type": "stream",
     "text": [
      " - Burglary / Burglary016_x264.mp4\n"
     ]
    },
    {
     "data": {
      "application/vnd.jupyter.widget-view+json": {
       "model_id": "312bcfb9fddc4c0d9640df11dfe5e4c4",
       "version_major": 2,
       "version_minor": 0
      },
      "text/plain": [
       "Extracting Burglary016_x264.mp4:   0%|          | 0/5258 [00:00<?, ?it/s]"
      ]
     },
     "metadata": {},
     "output_type": "display_data"
    },
    {
     "name": "stdout",
     "output_type": "stream",
     "text": [
      " - Burglary / Burglary017_x264.mp4\n"
     ]
    },
    {
     "data": {
      "application/vnd.jupyter.widget-view+json": {
       "model_id": "527e9fcdc7b34d2eb1620e991e8c9053",
       "version_major": 2,
       "version_minor": 0
      },
      "text/plain": [
       "Extracting Burglary017_x264.mp4:   0%|          | 0/2113 [00:00<?, ?it/s]"
      ]
     },
     "metadata": {},
     "output_type": "display_data"
    },
    {
     "name": "stdout",
     "output_type": "stream",
     "text": [
      " - Burglary / Burglary018_x264.mp4\n"
     ]
    },
    {
     "data": {
      "application/vnd.jupyter.widget-view+json": {
       "model_id": "749904e1b3e046eebedf73f60d5a947e",
       "version_major": 2,
       "version_minor": 0
      },
      "text/plain": [
       "Extracting Burglary018_x264.mp4:   0%|          | 0/1125 [00:00<?, ?it/s]"
      ]
     },
     "metadata": {},
     "output_type": "display_data"
    },
    {
     "name": "stdout",
     "output_type": "stream",
     "text": [
      " - Burglary / Burglary019_x264.mp4\n"
     ]
    },
    {
     "data": {
      "application/vnd.jupyter.widget-view+json": {
       "model_id": "d479469552c545d8aba7eadc51b5cdb4",
       "version_major": 2,
       "version_minor": 0
      },
      "text/plain": [
       "Extracting Burglary019_x264.mp4:   0%|          | 0/2891 [00:00<?, ?it/s]"
      ]
     },
     "metadata": {},
     "output_type": "display_data"
    },
    {
     "name": "stdout",
     "output_type": "stream",
     "text": [
      " - Burglary / Burglary020_x264.mp4\n"
     ]
    },
    {
     "data": {
      "application/vnd.jupyter.widget-view+json": {
       "model_id": "5bfe54787ebf40c9b5175b07b4a6e0dd",
       "version_major": 2,
       "version_minor": 0
      },
      "text/plain": [
       "Extracting Burglary020_x264.mp4:   0%|          | 0/3310 [00:00<?, ?it/s]"
      ]
     },
     "metadata": {},
     "output_type": "display_data"
    },
    {
     "name": "stdout",
     "output_type": "stream",
     "text": [
      " - Burglary / Burglary021_x264.mp4\n"
     ]
    },
    {
     "data": {
      "application/vnd.jupyter.widget-view+json": {
       "model_id": "f23d36e759cb488d96662b102a20a96a",
       "version_major": 2,
       "version_minor": 0
      },
      "text/plain": [
       "Extracting Burglary021_x264.mp4:   0%|          | 0/1537 [00:00<?, ?it/s]"
      ]
     },
     "metadata": {},
     "output_type": "display_data"
    },
    {
     "name": "stdout",
     "output_type": "stream",
     "text": [
      " - Burglary / Burglary022_x264.mp4\n"
     ]
    },
    {
     "data": {
      "application/vnd.jupyter.widget-view+json": {
       "model_id": "a68e86658cdb40b39349b50be1e0beeb",
       "version_major": 2,
       "version_minor": 0
      },
      "text/plain": [
       "Extracting Burglary022_x264.mp4:   0%|          | 0/2838 [00:00<?, ?it/s]"
      ]
     },
     "metadata": {},
     "output_type": "display_data"
    },
    {
     "name": "stdout",
     "output_type": "stream",
     "text": [
      " - Burglary / Burglary023_x264.mp4\n"
     ]
    },
    {
     "data": {
      "application/vnd.jupyter.widget-view+json": {
       "model_id": "5360c879f63a49f29e42dbe5ae74163a",
       "version_major": 2,
       "version_minor": 0
      },
      "text/plain": [
       "Extracting Burglary023_x264.mp4:   0%|          | 0/9944 [00:00<?, ?it/s]"
      ]
     },
     "metadata": {},
     "output_type": "display_data"
    },
    {
     "name": "stdout",
     "output_type": "stream",
     "text": [
      " - Burglary / Burglary024_x264.mp4\n"
     ]
    },
    {
     "data": {
      "application/vnd.jupyter.widget-view+json": {
       "model_id": "2b2396fd53cd4328ac67c773e3f02544",
       "version_major": 2,
       "version_minor": 0
      },
      "text/plain": [
       "Extracting Burglary024_x264.mp4:   0%|          | 0/3605 [00:00<?, ?it/s]"
      ]
     },
     "metadata": {},
     "output_type": "display_data"
    },
    {
     "name": "stdout",
     "output_type": "stream",
     "text": [
      " - Burglary / Burglary025_x264.mp4\n"
     ]
    },
    {
     "data": {
      "application/vnd.jupyter.widget-view+json": {
       "model_id": "ad97961a3b654b0a93307420e2afefcc",
       "version_major": 2,
       "version_minor": 0
      },
      "text/plain": [
       "Extracting Burglary025_x264.mp4:   0%|          | 0/6214 [00:00<?, ?it/s]"
      ]
     },
     "metadata": {},
     "output_type": "display_data"
    },
    {
     "name": "stdout",
     "output_type": "stream",
     "text": [
      " - Burglary / Burglary026_x264.mp4\n"
     ]
    },
    {
     "data": {
      "application/vnd.jupyter.widget-view+json": {
       "model_id": "6373c9668c194c46b2b9bbfd4b96efbe",
       "version_major": 2,
       "version_minor": 0
      },
      "text/plain": [
       "Extracting Burglary026_x264.mp4:   0%|          | 0/1534 [00:00<?, ?it/s]"
      ]
     },
     "metadata": {},
     "output_type": "display_data"
    },
    {
     "name": "stdout",
     "output_type": "stream",
     "text": [
      " - Burglary / Burglary027_x264.mp4\n"
     ]
    },
    {
     "data": {
      "application/vnd.jupyter.widget-view+json": {
       "model_id": "26243de295c64c6abce9c133bba838ed",
       "version_major": 2,
       "version_minor": 0
      },
      "text/plain": [
       "Extracting Burglary027_x264.mp4:   0%|          | 0/3096 [00:00<?, ?it/s]"
      ]
     },
     "metadata": {},
     "output_type": "display_data"
    },
    {
     "name": "stdout",
     "output_type": "stream",
     "text": [
      " - Burglary / Burglary028_x264.mp4\n"
     ]
    },
    {
     "data": {
      "application/vnd.jupyter.widget-view+json": {
       "model_id": "60b3c3732bcb4c26a1a72999f43276d9",
       "version_major": 2,
       "version_minor": 0
      },
      "text/plain": [
       "Extracting Burglary028_x264.mp4:   0%|          | 0/954 [00:00<?, ?it/s]"
      ]
     },
     "metadata": {},
     "output_type": "display_data"
    },
    {
     "name": "stdout",
     "output_type": "stream",
     "text": [
      " - Burglary / Burglary029_x264.mp4\n"
     ]
    },
    {
     "data": {
      "application/vnd.jupyter.widget-view+json": {
       "model_id": "047b21ad42504c8bbcafd8bd4d6d1865",
       "version_major": 2,
       "version_minor": 0
      },
      "text/plain": [
       "Extracting Burglary029_x264.mp4:   0%|          | 0/5021 [00:00<?, ?it/s]"
      ]
     },
     "metadata": {},
     "output_type": "display_data"
    },
    {
     "name": "stdout",
     "output_type": "stream",
     "text": [
      " - Burglary / Burglary030_x264.mp4\n"
     ]
    },
    {
     "data": {
      "application/vnd.jupyter.widget-view+json": {
       "model_id": "f6d599115a6549c1a91fffead1179807",
       "version_major": 2,
       "version_minor": 0
      },
      "text/plain": [
       "Extracting Burglary030_x264.mp4:   0%|          | 0/899 [00:00<?, ?it/s]"
      ]
     },
     "metadata": {},
     "output_type": "display_data"
    },
    {
     "name": "stdout",
     "output_type": "stream",
     "text": [
      " - Burglary / Burglary033_x264.mp4\n"
     ]
    },
    {
     "data": {
      "application/vnd.jupyter.widget-view+json": {
       "model_id": "331da37650c24ca4a31653dd4c12bd7d",
       "version_major": 2,
       "version_minor": 0
      },
      "text/plain": [
       "Extracting Burglary033_x264.mp4:   0%|          | 0/1259 [00:00<?, ?it/s]"
      ]
     },
     "metadata": {},
     "output_type": "display_data"
    },
    {
     "name": "stdout",
     "output_type": "stream",
     "text": [
      " - Burglary / Burglary035_x264.mp4\n"
     ]
    },
    {
     "data": {
      "application/vnd.jupyter.widget-view+json": {
       "model_id": "999ad5faa3c641bfb94b3528e88ae45b",
       "version_major": 2,
       "version_minor": 0
      },
      "text/plain": [
       "Extracting Burglary035_x264.mp4:   0%|          | 0/4050 [00:00<?, ?it/s]"
      ]
     },
     "metadata": {},
     "output_type": "display_data"
    },
    {
     "name": "stdout",
     "output_type": "stream",
     "text": [
      " - Burglary / Burglary036_x264.mp4\n"
     ]
    },
    {
     "data": {
      "application/vnd.jupyter.widget-view+json": {
       "model_id": "a7cbf0cd0f654ff0b817391aa57ea371",
       "version_major": 2,
       "version_minor": 0
      },
      "text/plain": [
       "Extracting Burglary036_x264.mp4:   0%|          | 0/1003 [00:00<?, ?it/s]"
      ]
     },
     "metadata": {},
     "output_type": "display_data"
    },
    {
     "name": "stdout",
     "output_type": "stream",
     "text": [
      " - Burglary / Burglary038_x264.mp4\n"
     ]
    },
    {
     "data": {
      "application/vnd.jupyter.widget-view+json": {
       "model_id": "94daae9843bd47aa9ed860934de92b2a",
       "version_major": 2,
       "version_minor": 0
      },
      "text/plain": [
       "Extracting Burglary038_x264.mp4:   0%|          | 0/899 [00:00<?, ?it/s]"
      ]
     },
     "metadata": {},
     "output_type": "display_data"
    },
    {
     "name": "stdout",
     "output_type": "stream",
     "text": [
      " - Burglary / Burglary040_x264.mp4\n"
     ]
    },
    {
     "data": {
      "application/vnd.jupyter.widget-view+json": {
       "model_id": "221438114b48487a811a861b266df9a3",
       "version_major": 2,
       "version_minor": 0
      },
      "text/plain": [
       "Extracting Burglary040_x264.mp4:   0%|          | 0/5702 [00:00<?, ?it/s]"
      ]
     },
     "metadata": {},
     "output_type": "display_data"
    },
    {
     "name": "stdout",
     "output_type": "stream",
     "text": [
      " - Burglary / Burglary041_x264.mp4\n"
     ]
    },
    {
     "data": {
      "application/vnd.jupyter.widget-view+json": {
       "model_id": "d566b9087f5348f7821e25bee573fce7",
       "version_major": 2,
       "version_minor": 0
      },
      "text/plain": [
       "Extracting Burglary041_x264.mp4:   0%|          | 0/1814 [00:00<?, ?it/s]"
      ]
     },
     "metadata": {},
     "output_type": "display_data"
    },
    {
     "name": "stdout",
     "output_type": "stream",
     "text": [
      " - Burglary / Burglary043_x264.mp4\n"
     ]
    },
    {
     "data": {
      "application/vnd.jupyter.widget-view+json": {
       "model_id": "06c5fdab3bc64a4cae729b57971496af",
       "version_major": 2,
       "version_minor": 0
      },
      "text/plain": [
       "Extracting Burglary043_x264.mp4:   0%|          | 0/539 [00:00<?, ?it/s]"
      ]
     },
     "metadata": {},
     "output_type": "display_data"
    },
    {
     "name": "stdout",
     "output_type": "stream",
     "text": [
      " - Burglary / Burglary044_x264.mp4\n"
     ]
    },
    {
     "data": {
      "application/vnd.jupyter.widget-view+json": {
       "model_id": "578f97481d784fc68affcbb91b87d46d",
       "version_major": 2,
       "version_minor": 0
      },
      "text/plain": [
       "Extracting Burglary044_x264.mp4:   0%|          | 0/6860 [00:00<?, ?it/s]"
      ]
     },
     "metadata": {},
     "output_type": "display_data"
    },
    {
     "name": "stdout",
     "output_type": "stream",
     "text": [
      " - Burglary / Burglary045_x264.mp4\n"
     ]
    },
    {
     "data": {
      "application/vnd.jupyter.widget-view+json": {
       "model_id": "1a4ad49f82ab49bebd6437eec60f58c7",
       "version_major": 2,
       "version_minor": 0
      },
      "text/plain": [
       "Extracting Burglary045_x264.mp4:   0%|          | 0/10957 [00:00<?, ?it/s]"
      ]
     },
     "metadata": {},
     "output_type": "display_data"
    },
    {
     "name": "stdout",
     "output_type": "stream",
     "text": [
      " - Burglary / Burglary046_x264.mp4\n"
     ]
    },
    {
     "data": {
      "application/vnd.jupyter.widget-view+json": {
       "model_id": "846fdb6ce1ce4c3ab239cf34a533c57b",
       "version_major": 2,
       "version_minor": 0
      },
      "text/plain": [
       "Extracting Burglary046_x264.mp4:   0%|          | 0/2289 [00:00<?, ?it/s]"
      ]
     },
     "metadata": {},
     "output_type": "display_data"
    },
    {
     "name": "stdout",
     "output_type": "stream",
     "text": [
      " - Burglary / Burglary047_x264.mp4\n"
     ]
    },
    {
     "data": {
      "application/vnd.jupyter.widget-view+json": {
       "model_id": "55210f2cb15145dba7301c733a4db061",
       "version_major": 2,
       "version_minor": 0
      },
      "text/plain": [
       "Extracting Burglary047_x264.mp4:   0%|          | 0/2760 [00:00<?, ?it/s]"
      ]
     },
     "metadata": {},
     "output_type": "display_data"
    },
    {
     "name": "stdout",
     "output_type": "stream",
     "text": [
      " - Burglary / Burglary048_x264.mp4\n"
     ]
    },
    {
     "data": {
      "application/vnd.jupyter.widget-view+json": {
       "model_id": "b6f749c2343242e78f4706927691a7cf",
       "version_major": 2,
       "version_minor": 0
      },
      "text/plain": [
       "Extracting Burglary048_x264.mp4:   0%|          | 0/1650 [00:00<?, ?it/s]"
      ]
     },
     "metadata": {},
     "output_type": "display_data"
    },
    {
     "name": "stdout",
     "output_type": "stream",
     "text": [
      " - Burglary / Burglary049_x264.mp4\n"
     ]
    },
    {
     "data": {
      "application/vnd.jupyter.widget-view+json": {
       "model_id": "3ee485ef23cc4943b29da407fa1a4923",
       "version_major": 2,
       "version_minor": 0
      },
      "text/plain": [
       "Extracting Burglary049_x264.mp4:   0%|          | 0/9218 [00:00<?, ?it/s]"
      ]
     },
     "metadata": {},
     "output_type": "display_data"
    },
    {
     "name": "stdout",
     "output_type": "stream",
     "text": [
      " - Burglary / Burglary050_x264.mp4\n"
     ]
    },
    {
     "data": {
      "application/vnd.jupyter.widget-view+json": {
       "model_id": "8a029189349540739401fb6558463418",
       "version_major": 2,
       "version_minor": 0
      },
      "text/plain": [
       "Extracting Burglary050_x264.mp4:   0%|          | 0/1143 [00:00<?, ?it/s]"
      ]
     },
     "metadata": {},
     "output_type": "display_data"
    },
    {
     "name": "stdout",
     "output_type": "stream",
     "text": [
      " - Explosion / Explosion001_x264.mp4\n"
     ]
    },
    {
     "data": {
      "application/vnd.jupyter.widget-view+json": {
       "model_id": "348a746870934ed0b76414508f17bfc4",
       "version_major": 2,
       "version_minor": 0
      },
      "text/plain": [
       "Extracting Explosion001_x264.mp4:   0%|          | 0/635 [00:00<?, ?it/s]"
      ]
     },
     "metadata": {},
     "output_type": "display_data"
    },
    {
     "name": "stdout",
     "output_type": "stream",
     "text": [
      " - Explosion / Explosion002_x264.mp4\n"
     ]
    },
    {
     "data": {
      "application/vnd.jupyter.widget-view+json": {
       "model_id": "fb949bd135634fa8a8bfce2d9cf1033a",
       "version_major": 2,
       "version_minor": 0
      },
      "text/plain": [
       "Extracting Explosion002_x264.mp4:   0%|          | 0/4013 [00:00<?, ?it/s]"
      ]
     },
     "metadata": {},
     "output_type": "display_data"
    },
    {
     "name": "stdout",
     "output_type": "stream",
     "text": [
      " - Explosion / Explosion004_x264.mp4\n"
     ]
    },
    {
     "data": {
      "application/vnd.jupyter.widget-view+json": {
       "model_id": "464883b3c844411b9312d6ce1d0d002f",
       "version_major": 2,
       "version_minor": 0
      },
      "text/plain": [
       "Extracting Explosion004_x264.mp4:   0%|          | 0/1902 [00:00<?, ?it/s]"
      ]
     },
     "metadata": {},
     "output_type": "display_data"
    },
    {
     "name": "stdout",
     "output_type": "stream",
     "text": [
      " - Explosion / Explosion005_x264.mp4\n"
     ]
    },
    {
     "data": {
      "application/vnd.jupyter.widget-view+json": {
       "model_id": "d95d2928007443d9b65780a44b9124a3",
       "version_major": 2,
       "version_minor": 0
      },
      "text/plain": [
       "Extracting Explosion005_x264.mp4:   0%|          | 0/693 [00:00<?, ?it/s]"
      ]
     },
     "metadata": {},
     "output_type": "display_data"
    },
    {
     "name": "stdout",
     "output_type": "stream",
     "text": [
      " - Explosion / Explosion006_x264.mp4\n"
     ]
    },
    {
     "data": {
      "application/vnd.jupyter.widget-view+json": {
       "model_id": "d529ddded9f046a3b64d428cc8aebafe",
       "version_major": 2,
       "version_minor": 0
      },
      "text/plain": [
       "Extracting Explosion006_x264.mp4:   0%|          | 0/1920 [00:00<?, ?it/s]"
      ]
     },
     "metadata": {},
     "output_type": "display_data"
    },
    {
     "name": "stdout",
     "output_type": "stream",
     "text": [
      " - Explosion / Explosion008_x264.mp4\n"
     ]
    },
    {
     "data": {
      "application/vnd.jupyter.widget-view+json": {
       "model_id": "34863d5e26204709ae141cf9311dda04",
       "version_major": 2,
       "version_minor": 0
      },
      "text/plain": [
       "Extracting Explosion008_x264.mp4:   0%|          | 0/1748 [00:00<?, ?it/s]"
      ]
     },
     "metadata": {},
     "output_type": "display_data"
    },
    {
     "name": "stdout",
     "output_type": "stream",
     "text": [
      " - Explosion / Explosion009_x264.mp4\n"
     ]
    },
    {
     "data": {
      "application/vnd.jupyter.widget-view+json": {
       "model_id": "dc4c7c9dfd334d6ca7edab7d8d9ee81c",
       "version_major": 2,
       "version_minor": 0
      },
      "text/plain": [
       "Extracting Explosion009_x264.mp4:   0%|          | 0/1101 [00:00<?, ?it/s]"
      ]
     },
     "metadata": {},
     "output_type": "display_data"
    },
    {
     "name": "stdout",
     "output_type": "stream",
     "text": [
      " - Explosion / Explosion010_x264.mp4\n"
     ]
    },
    {
     "data": {
      "application/vnd.jupyter.widget-view+json": {
       "model_id": "297fd94121404a4a94340a7dd8f19fed",
       "version_major": 2,
       "version_minor": 0
      },
      "text/plain": [
       "Extracting Explosion010_x264.mp4:   0%|          | 0/2498 [00:00<?, ?it/s]"
      ]
     },
     "metadata": {},
     "output_type": "display_data"
    },
    {
     "name": "stdout",
     "output_type": "stream",
     "text": [
      " - Explosion / Explosion011_x264.mp4\n"
     ]
    },
    {
     "data": {
      "application/vnd.jupyter.widget-view+json": {
       "model_id": "a38f13bb934d4b059126b0563858eac1",
       "version_major": 2,
       "version_minor": 0
      },
      "text/plain": [
       "Extracting Explosion011_x264.mp4:   0%|          | 0/1571 [00:00<?, ?it/s]"
      ]
     },
     "metadata": {},
     "output_type": "display_data"
    },
    {
     "name": "stdout",
     "output_type": "stream",
     "text": [
      " - Explosion / Explosion013_x264.mp4\n"
     ]
    },
    {
     "data": {
      "application/vnd.jupyter.widget-view+json": {
       "model_id": "b17d511e07014c50b4ef10f5c2d220f1",
       "version_major": 2,
       "version_minor": 0
      },
      "text/plain": [
       "Extracting Explosion013_x264.mp4:   0%|          | 0/3317 [00:00<?, ?it/s]"
      ]
     },
     "metadata": {},
     "output_type": "display_data"
    },
    {
     "name": "stdout",
     "output_type": "stream",
     "text": [
      " - Explosion / Explosion014_x264.mp4\n"
     ]
    },
    {
     "data": {
      "application/vnd.jupyter.widget-view+json": {
       "model_id": "464eac7646ff45328b6db999b4a871e5",
       "version_major": 2,
       "version_minor": 0
      },
      "text/plain": [
       "Extracting Explosion014_x264.mp4:   0%|          | 0/1292 [00:00<?, ?it/s]"
      ]
     },
     "metadata": {},
     "output_type": "display_data"
    },
    {
     "name": "stdout",
     "output_type": "stream",
     "text": [
      " - Explosion / Explosion015_x264.mp4\n"
     ]
    },
    {
     "data": {
      "application/vnd.jupyter.widget-view+json": {
       "model_id": "f512f788b3c24c29b78f82dae17fda8d",
       "version_major": 2,
       "version_minor": 0
      },
      "text/plain": [
       "Extracting Explosion015_x264.mp4:   0%|          | 0/880 [00:00<?, ?it/s]"
      ]
     },
     "metadata": {},
     "output_type": "display_data"
    },
    {
     "name": "stdout",
     "output_type": "stream",
     "text": [
      " - Explosion / Explosion017_x264.mp4\n"
     ]
    },
    {
     "data": {
      "application/vnd.jupyter.widget-view+json": {
       "model_id": "7c921234f72e4ada900b317411f9bdc4",
       "version_major": 2,
       "version_minor": 0
      },
      "text/plain": [
       "Extracting Explosion017_x264.mp4:   0%|          | 0/1643 [00:00<?, ?it/s]"
      ]
     },
     "metadata": {},
     "output_type": "display_data"
    },
    {
     "name": "stdout",
     "output_type": "stream",
     "text": [
      " - Explosion / Explosion018_x264.mp4\n"
     ]
    },
    {
     "data": {
      "application/vnd.jupyter.widget-view+json": {
       "model_id": "69027eec5ed04148b4343845d35ecd47",
       "version_major": 2,
       "version_minor": 0
      },
      "text/plain": [
       "Extracting Explosion018_x264.mp4:   0%|          | 0/1532 [00:00<?, ?it/s]"
      ]
     },
     "metadata": {},
     "output_type": "display_data"
    },
    {
     "name": "stdout",
     "output_type": "stream",
     "text": [
      " - Explosion / Explosion019_x264.mp4\n"
     ]
    },
    {
     "data": {
      "application/vnd.jupyter.widget-view+json": {
       "model_id": "ae322e0ea7d44605bce32821f0ecf2b6",
       "version_major": 2,
       "version_minor": 0
      },
      "text/plain": [
       "Extracting Explosion019_x264.mp4:   0%|          | 0/359 [00:00<?, ?it/s]"
      ]
     },
     "metadata": {},
     "output_type": "display_data"
    },
    {
     "name": "stdout",
     "output_type": "stream",
     "text": [
      " - Explosion / Explosion020_x264.mp4\n"
     ]
    },
    {
     "data": {
      "application/vnd.jupyter.widget-view+json": {
       "model_id": "8f5fda4357cf4177a6a8b266674bd879",
       "version_major": 2,
       "version_minor": 0
      },
      "text/plain": [
       "Extracting Explosion020_x264.mp4:   0%|          | 0/1291 [00:00<?, ?it/s]"
      ]
     },
     "metadata": {},
     "output_type": "display_data"
    },
    {
     "name": "stdout",
     "output_type": "stream",
     "text": [
      " - Explosion / Explosion021_x264.mp4\n"
     ]
    },
    {
     "data": {
      "application/vnd.jupyter.widget-view+json": {
       "model_id": "46952ec1a3634d4082782a5b3c0d94e2",
       "version_major": 2,
       "version_minor": 0
      },
      "text/plain": [
       "Extracting Explosion021_x264.mp4:   0%|          | 0/782 [00:00<?, ?it/s]"
      ]
     },
     "metadata": {},
     "output_type": "display_data"
    },
    {
     "name": "stdout",
     "output_type": "stream",
     "text": [
      " - Explosion / Explosion022_x264.mp4\n"
     ]
    },
    {
     "data": {
      "application/vnd.jupyter.widget-view+json": {
       "model_id": "341ce53debcf4b9f9bbc9effdd93326b",
       "version_major": 2,
       "version_minor": 0
      },
      "text/plain": [
       "Extracting Explosion022_x264.mp4:   0%|          | 0/3594 [00:00<?, ?it/s]"
      ]
     },
     "metadata": {},
     "output_type": "display_data"
    },
    {
     "name": "stdout",
     "output_type": "stream",
     "text": [
      " - Explosion / Explosion023_x264.mp4\n"
     ]
    },
    {
     "data": {
      "application/vnd.jupyter.widget-view+json": {
       "model_id": "7507bb2a0a0e4f84b14a42376c1bbb7b",
       "version_major": 2,
       "version_minor": 0
      },
      "text/plain": [
       "Extracting Explosion023_x264.mp4:   0%|          | 0/2335 [00:00<?, ?it/s]"
      ]
     },
     "metadata": {},
     "output_type": "display_data"
    },
    {
     "name": "stdout",
     "output_type": "stream",
     "text": [
      " - Explosion / Explosion024_x264.mp4\n"
     ]
    },
    {
     "data": {
      "application/vnd.jupyter.widget-view+json": {
       "model_id": "839286453b9a4791a7af0324b2a3f370",
       "version_major": 2,
       "version_minor": 0
      },
      "text/plain": [
       "Extracting Explosion024_x264.mp4:   0%|          | 0/1259 [00:00<?, ?it/s]"
      ]
     },
     "metadata": {},
     "output_type": "display_data"
    },
    {
     "name": "stdout",
     "output_type": "stream",
     "text": [
      " - Explosion / Explosion025_x264.mp4\n"
     ]
    },
    {
     "data": {
      "application/vnd.jupyter.widget-view+json": {
       "model_id": "bbb61f09d84c48c1935a03cbeb6f8e70",
       "version_major": 2,
       "version_minor": 0
      },
      "text/plain": [
       "Extracting Explosion025_x264.mp4:   0%|          | 0/505 [00:00<?, ?it/s]"
      ]
     },
     "metadata": {},
     "output_type": "display_data"
    },
    {
     "name": "stdout",
     "output_type": "stream",
     "text": [
      " - Explosion / Explosion027_x264.mp4\n"
     ]
    },
    {
     "data": {
      "application/vnd.jupyter.widget-view+json": {
       "model_id": "3a989d3d93fd433d8f5ce01f69fd43a0",
       "version_major": 2,
       "version_minor": 0
      },
      "text/plain": [
       "Extracting Explosion027_x264.mp4:   0%|          | 0/776 [00:00<?, ?it/s]"
      ]
     },
     "metadata": {},
     "output_type": "display_data"
    },
    {
     "name": "stdout",
     "output_type": "stream",
     "text": [
      " - Explosion / Explosion029_x264.mp4\n"
     ]
    },
    {
     "data": {
      "application/vnd.jupyter.widget-view+json": {
       "model_id": "f2d7c8c706264741af4da200da486385",
       "version_major": 2,
       "version_minor": 0
      },
      "text/plain": [
       "Extracting Explosion029_x264.mp4:   0%|          | 0/2410 [00:00<?, ?it/s]"
      ]
     },
     "metadata": {},
     "output_type": "display_data"
    },
    {
     "name": "stdout",
     "output_type": "stream",
     "text": [
      " - Explosion / Explosion030_x264.mp4\n"
     ]
    },
    {
     "data": {
      "application/vnd.jupyter.widget-view+json": {
       "model_id": "f05f6818abc84bb0b029f9082730b2f5",
       "version_major": 2,
       "version_minor": 0
      },
      "text/plain": [
       "Extracting Explosion030_x264.mp4:   0%|          | 0/3244 [00:00<?, ?it/s]"
      ]
     },
     "metadata": {},
     "output_type": "display_data"
    },
    {
     "name": "stdout",
     "output_type": "stream",
     "text": [
      " - Explosion / Explosion032_x264.mp4\n"
     ]
    },
    {
     "data": {
      "application/vnd.jupyter.widget-view+json": {
       "model_id": "99e56025d4bd433b964f5162af680011",
       "version_major": 2,
       "version_minor": 0
      },
      "text/plain": [
       "Extracting Explosion032_x264.mp4:   0%|          | 0/2118 [00:00<?, ?it/s]"
      ]
     },
     "metadata": {},
     "output_type": "display_data"
    },
    {
     "name": "stdout",
     "output_type": "stream",
     "text": [
      " - Explosion / Explosion033_x264.mp4\n"
     ]
    },
    {
     "data": {
      "application/vnd.jupyter.widget-view+json": {
       "model_id": "d11dd4161c5246e0a014221a8975c529",
       "version_major": 2,
       "version_minor": 0
      },
      "text/plain": [
       "Extracting Explosion033_x264.mp4:   0%|          | 0/3154 [00:00<?, ?it/s]"
      ]
     },
     "metadata": {},
     "output_type": "display_data"
    },
    {
     "name": "stdout",
     "output_type": "stream",
     "text": [
      " - Explosion / Explosion036_x264.mp4\n"
     ]
    },
    {
     "data": {
      "application/vnd.jupyter.widget-view+json": {
       "model_id": "13763c4146934a4ebe38baf6876f5411",
       "version_major": 2,
       "version_minor": 0
      },
      "text/plain": [
       "Extracting Explosion036_x264.mp4:   0%|          | 0/5327 [00:00<?, ?it/s]"
      ]
     },
     "metadata": {},
     "output_type": "display_data"
    },
    {
     "name": "stdout",
     "output_type": "stream",
     "text": [
      " - Explosion / Explosion037_x264.mp4\n"
     ]
    },
    {
     "data": {
      "application/vnd.jupyter.widget-view+json": {
       "model_id": "af6780a05c134375a58f863ce30f1f94",
       "version_major": 2,
       "version_minor": 0
      },
      "text/plain": [
       "Extracting Explosion037_x264.mp4:   0%|          | 0/962 [00:00<?, ?it/s]"
      ]
     },
     "metadata": {},
     "output_type": "display_data"
    },
    {
     "name": "stdout",
     "output_type": "stream",
     "text": [
      " - Explosion / Explosion038_x264.mp4\n"
     ]
    },
    {
     "data": {
      "application/vnd.jupyter.widget-view+json": {
       "model_id": "55c663a945bf48e2a8b084c3c0d7972a",
       "version_major": 2,
       "version_minor": 0
      },
      "text/plain": [
       "Extracting Explosion038_x264.mp4:   0%|          | 0/2703 [00:00<?, ?it/s]"
      ]
     },
     "metadata": {},
     "output_type": "display_data"
    },
    {
     "name": "stdout",
     "output_type": "stream",
     "text": [
      " - Explosion / Explosion041_x264.mp4\n"
     ]
    },
    {
     "data": {
      "application/vnd.jupyter.widget-view+json": {
       "model_id": "336bb7b95c40476ebc8dbbed7425e54b",
       "version_major": 2,
       "version_minor": 0
      },
      "text/plain": [
       "Extracting Explosion041_x264.mp4:   0%|          | 0/2755 [00:00<?, ?it/s]"
      ]
     },
     "metadata": {},
     "output_type": "display_data"
    },
    {
     "name": "stdout",
     "output_type": "stream",
     "text": [
      " - Explosion / Explosion042_x264.mp4\n"
     ]
    },
    {
     "data": {
      "application/vnd.jupyter.widget-view+json": {
       "model_id": "518cb76a59d94b03a6379329a4b8ef2e",
       "version_major": 2,
       "version_minor": 0
      },
      "text/plain": [
       "Extracting Explosion042_x264.mp4:   0%|          | 0/2765 [00:00<?, ?it/s]"
      ]
     },
     "metadata": {},
     "output_type": "display_data"
    },
    {
     "name": "stdout",
     "output_type": "stream",
     "text": [
      " - Explosion / Explosion043_x264.mp4\n"
     ]
    },
    {
     "data": {
      "application/vnd.jupyter.widget-view+json": {
       "model_id": "3cec6a1c133448559696f32eb17fd4cf",
       "version_major": 2,
       "version_minor": 0
      },
      "text/plain": [
       "Extracting Explosion043_x264.mp4:   0%|          | 0/7646 [00:00<?, ?it/s]"
      ]
     },
     "metadata": {},
     "output_type": "display_data"
    },
    {
     "name": "stdout",
     "output_type": "stream",
     "text": [
      " - Explosion / Explosion044_x264.mp4\n"
     ]
    },
    {
     "data": {
      "application/vnd.jupyter.widget-view+json": {
       "model_id": "a62a94cb4b4d4ee4b0a4c452cfdfbda3",
       "version_major": 2,
       "version_minor": 0
      },
      "text/plain": [
       "Extracting Explosion044_x264.mp4:   0%|          | 0/720 [00:00<?, ?it/s]"
      ]
     },
     "metadata": {},
     "output_type": "display_data"
    },
    {
     "name": "stdout",
     "output_type": "stream",
     "text": [
      " - Explosion / Explosion045_x264.mp4\n"
     ]
    },
    {
     "data": {
      "application/vnd.jupyter.widget-view+json": {
       "model_id": "14cea432896c424f810bd22ff90e7d6c",
       "version_major": 2,
       "version_minor": 0
      },
      "text/plain": [
       "Extracting Explosion045_x264.mp4:   0%|          | 0/757 [00:00<?, ?it/s]"
      ]
     },
     "metadata": {},
     "output_type": "display_data"
    },
    {
     "name": "stdout",
     "output_type": "stream",
     "text": [
      " - Explosion / Explosion046_x264.mp4\n"
     ]
    },
    {
     "data": {
      "application/vnd.jupyter.widget-view+json": {
       "model_id": "3bb8514f452e4ae8ae63052f4e615e97",
       "version_major": 2,
       "version_minor": 0
      },
      "text/plain": [
       "Extracting Explosion046_x264.mp4:   0%|          | 0/141900 [00:00<?, ?it/s]"
      ]
     },
     "metadata": {},
     "output_type": "display_data"
    },
    {
     "name": "stdout",
     "output_type": "stream",
     "text": [
      " - Explosion / Explosion047_x264.mp4\n"
     ]
    },
    {
     "data": {
      "application/vnd.jupyter.widget-view+json": {
       "model_id": "a98917b33b914396bc42a5fd87f1e929",
       "version_major": 2,
       "version_minor": 0
      },
      "text/plain": [
       "Extracting Explosion047_x264.mp4:   0%|          | 0/1387 [00:00<?, ?it/s]"
      ]
     },
     "metadata": {},
     "output_type": "display_data"
    },
    {
     "name": "stdout",
     "output_type": "stream",
     "text": [
      " - Explosion / Explosion048_x264.mp4\n"
     ]
    },
    {
     "data": {
      "application/vnd.jupyter.widget-view+json": {
       "model_id": "1cfdfc16d592462598ad3d48e34bf8d8",
       "version_major": 2,
       "version_minor": 0
      },
      "text/plain": [
       "Extracting Explosion048_x264.mp4:   0%|          | 0/459 [00:00<?, ?it/s]"
      ]
     },
     "metadata": {},
     "output_type": "display_data"
    },
    {
     "name": "stdout",
     "output_type": "stream",
     "text": [
      " - Explosion / Explosion050_x264.mp4\n"
     ]
    },
    {
     "data": {
      "application/vnd.jupyter.widget-view+json": {
       "model_id": "b1e7e0124278445882df4aca070c2cc3",
       "version_major": 2,
       "version_minor": 0
      },
      "text/plain": [
       "Extracting Explosion050_x264.mp4:   0%|          | 0/276 [00:00<?, ?it/s]"
      ]
     },
     "metadata": {},
     "output_type": "display_data"
    },
    {
     "name": "stdout",
     "output_type": "stream",
     "text": [
      " - Explosion / Explosion051_x264.mp4\n"
     ]
    },
    {
     "data": {
      "application/vnd.jupyter.widget-view+json": {
       "model_id": "99e2c3e1ea0149d28316a589c8ee8f7d",
       "version_major": 2,
       "version_minor": 0
      },
      "text/plain": [
       "Extracting Explosion051_x264.mp4:   0%|          | 0/2820 [00:00<?, ?it/s]"
      ]
     },
     "metadata": {},
     "output_type": "display_data"
    },
    {
     "name": "stdout",
     "output_type": "stream",
     "text": [
      " - Explosion / Explosion052_x264.mp4\n"
     ]
    },
    {
     "data": {
      "application/vnd.jupyter.widget-view+json": {
       "model_id": "6a512d7830554835840179a9520660c9",
       "version_major": 2,
       "version_minor": 0
      },
      "text/plain": [
       "Extracting Explosion052_x264.mp4:   0%|          | 0/3653 [00:00<?, ?it/s]"
      ]
     },
     "metadata": {},
     "output_type": "display_data"
    },
    {
     "name": "stdout",
     "output_type": "stream",
     "text": [
      " - Fighting / Fighting002_x264.mp4\n"
     ]
    },
    {
     "data": {
      "application/vnd.jupyter.widget-view+json": {
       "model_id": "a96e252a83664497b2716ef61279b7fe",
       "version_major": 2,
       "version_minor": 0
      },
      "text/plain": [
       "Extracting Fighting002_x264.mp4:   0%|          | 0/2688 [00:00<?, ?it/s]"
      ]
     },
     "metadata": {},
     "output_type": "display_data"
    },
    {
     "name": "stdout",
     "output_type": "stream",
     "text": [
      " - Fighting / Fighting003_x264.mp4\n"
     ]
    },
    {
     "data": {
      "application/vnd.jupyter.widget-view+json": {
       "model_id": "0864fc3deae04080a7b6cefdcc48acef",
       "version_major": 2,
       "version_minor": 0
      },
      "text/plain": [
       "Extracting Fighting003_x264.mp4:   0%|          | 0/3102 [00:00<?, ?it/s]"
      ]
     },
     "metadata": {},
     "output_type": "display_data"
    },
    {
     "name": "stdout",
     "output_type": "stream",
     "text": [
      " - Fighting / Fighting004_x264.mp4\n"
     ]
    },
    {
     "data": {
      "application/vnd.jupyter.widget-view+json": {
       "model_id": "67328dafb15444649eaf6664c63f3df4",
       "version_major": 2,
       "version_minor": 0
      },
      "text/plain": [
       "Extracting Fighting004_x264.mp4:   0%|          | 0/16777 [00:00<?, ?it/s]"
      ]
     },
     "metadata": {},
     "output_type": "display_data"
    },
    {
     "name": "stdout",
     "output_type": "stream",
     "text": [
      " - Fighting / Fighting005_x264.mp4\n"
     ]
    },
    {
     "data": {
      "application/vnd.jupyter.widget-view+json": {
       "model_id": "6f69e3980deb4b93892f86e3264cdd37",
       "version_major": 2,
       "version_minor": 0
      },
      "text/plain": [
       "Extracting Fighting005_x264.mp4:   0%|          | 0/1784 [00:00<?, ?it/s]"
      ]
     },
     "metadata": {},
     "output_type": "display_data"
    },
    {
     "name": "stdout",
     "output_type": "stream",
     "text": [
      " - Fighting / Fighting007_x264.mp4\n"
     ]
    },
    {
     "data": {
      "application/vnd.jupyter.widget-view+json": {
       "model_id": "6b62e644ee9e4a468e7a171cea1a3905",
       "version_major": 2,
       "version_minor": 0
      },
      "text/plain": [
       "Extracting Fighting007_x264.mp4:   0%|          | 0/3794 [00:00<?, ?it/s]"
      ]
     },
     "metadata": {},
     "output_type": "display_data"
    },
    {
     "name": "stdout",
     "output_type": "stream",
     "text": [
      " - Fighting / Fighting008_x264.mp4\n"
     ]
    },
    {
     "data": {
      "application/vnd.jupyter.widget-view+json": {
       "model_id": "aef91e786a314c9da5f6bbd515168176",
       "version_major": 2,
       "version_minor": 0
      },
      "text/plain": [
       "Extracting Fighting008_x264.mp4:   0%|          | 0/13134 [00:00<?, ?it/s]"
      ]
     },
     "metadata": {},
     "output_type": "display_data"
    },
    {
     "name": "stdout",
     "output_type": "stream",
     "text": [
      " - Fighting / Fighting010_x264.mp4\n"
     ]
    },
    {
     "data": {
      "application/vnd.jupyter.widget-view+json": {
       "model_id": "80499a9cf39e4ef0bf34de0b35df174e",
       "version_major": 2,
       "version_minor": 0
      },
      "text/plain": [
       "Extracting Fighting010_x264.mp4:   0%|          | 0/5865 [00:00<?, ?it/s]"
      ]
     },
     "metadata": {},
     "output_type": "display_data"
    },
    {
     "name": "stdout",
     "output_type": "stream",
     "text": [
      " - Fighting / Fighting011_x264.mp4\n"
     ]
    },
    {
     "data": {
      "application/vnd.jupyter.widget-view+json": {
       "model_id": "6e04aaf50ef04ddbbe95264bd8822bec",
       "version_major": 2,
       "version_minor": 0
      },
      "text/plain": [
       "Extracting Fighting011_x264.mp4:   0%|          | 0/8240 [00:00<?, ?it/s]"
      ]
     },
     "metadata": {},
     "output_type": "display_data"
    },
    {
     "name": "stdout",
     "output_type": "stream",
     "text": [
      " - Fighting / Fighting012_x264.mp4\n"
     ]
    },
    {
     "data": {
      "application/vnd.jupyter.widget-view+json": {
       "model_id": "c85813a8d86649438c7342ea03bf1ad3",
       "version_major": 2,
       "version_minor": 0
      },
      "text/plain": [
       "Extracting Fighting012_x264.mp4:   0%|          | 0/1169 [00:00<?, ?it/s]"
      ]
     },
     "metadata": {},
     "output_type": "display_data"
    },
    {
     "name": "stdout",
     "output_type": "stream",
     "text": [
      " - Fighting / Fighting013_x264.mp4\n"
     ]
    },
    {
     "data": {
      "application/vnd.jupyter.widget-view+json": {
       "model_id": "836099e6b44b4a3a85bcfb3513d17950",
       "version_major": 2,
       "version_minor": 0
      },
      "text/plain": [
       "Extracting Fighting013_x264.mp4:   0%|          | 0/1434 [00:00<?, ?it/s]"
      ]
     },
     "metadata": {},
     "output_type": "display_data"
    },
    {
     "name": "stdout",
     "output_type": "stream",
     "text": [
      " - Fighting / Fighting014_x264.mp4\n"
     ]
    },
    {
     "data": {
      "application/vnd.jupyter.widget-view+json": {
       "model_id": "6579728a4e2a49e29dcc0d2cfbd580d9",
       "version_major": 2,
       "version_minor": 0
      },
      "text/plain": [
       "Extracting Fighting014_x264.mp4:   0%|          | 0/4704 [00:00<?, ?it/s]"
      ]
     },
     "metadata": {},
     "output_type": "display_data"
    },
    {
     "name": "stdout",
     "output_type": "stream",
     "text": [
      " - Fighting / Fighting015_x264.mp4\n"
     ]
    },
    {
     "data": {
      "application/vnd.jupyter.widget-view+json": {
       "model_id": "6d910967f9964ed4b00f9df3cdf5aa2e",
       "version_major": 2,
       "version_minor": 0
      },
      "text/plain": [
       "Extracting Fighting015_x264.mp4:   0%|          | 0/9925 [00:00<?, ?it/s]"
      ]
     },
     "metadata": {},
     "output_type": "display_data"
    },
    {
     "name": "stdout",
     "output_type": "stream",
     "text": [
      " - Fighting / Fighting016_x264.mp4\n"
     ]
    },
    {
     "data": {
      "application/vnd.jupyter.widget-view+json": {
       "model_id": "6dd11f8a470747fea01c7da3e696c240",
       "version_major": 2,
       "version_minor": 0
      },
      "text/plain": [
       "Extracting Fighting016_x264.mp4:   0%|          | 0/2903 [00:00<?, ?it/s]"
      ]
     },
     "metadata": {},
     "output_type": "display_data"
    },
    {
     "name": "stdout",
     "output_type": "stream",
     "text": [
      " - Fighting / Fighting017_x264.mp4\n"
     ]
    },
    {
     "data": {
      "application/vnd.jupyter.widget-view+json": {
       "model_id": "b48c874ca3f54cd59d611e507970b5db",
       "version_major": 2,
       "version_minor": 0
      },
      "text/plain": [
       "Extracting Fighting017_x264.mp4:   0%|          | 0/2078 [00:00<?, ?it/s]"
      ]
     },
     "metadata": {},
     "output_type": "display_data"
    },
    {
     "name": "stdout",
     "output_type": "stream",
     "text": [
      " - Fighting / Fighting018_x264.mp4\n"
     ]
    },
    {
     "data": {
      "application/vnd.jupyter.widget-view+json": {
       "model_id": "836065b4355e4252b81bd935b56be97e",
       "version_major": 2,
       "version_minor": 0
      },
      "text/plain": [
       "Extracting Fighting018_x264.mp4:   0%|          | 0/1389 [00:00<?, ?it/s]"
      ]
     },
     "metadata": {},
     "output_type": "display_data"
    },
    {
     "name": "stdout",
     "output_type": "stream",
     "text": [
      " - Fighting / Fighting020_x264.mp4\n"
     ]
    },
    {
     "data": {
      "application/vnd.jupyter.widget-view+json": {
       "model_id": "fe19e988a5db498f89d007c9773bf09b",
       "version_major": 2,
       "version_minor": 0
      },
      "text/plain": [
       "Extracting Fighting020_x264.mp4:   0%|          | 0/2207 [00:00<?, ?it/s]"
      ]
     },
     "metadata": {},
     "output_type": "display_data"
    },
    {
     "name": "stdout",
     "output_type": "stream",
     "text": [
      " - Fighting / Fighting021_x264.mp4\n"
     ]
    },
    {
     "data": {
      "application/vnd.jupyter.widget-view+json": {
       "model_id": "0514155264fa46819a169cadc5729133",
       "version_major": 2,
       "version_minor": 0
      },
      "text/plain": [
       "Extracting Fighting021_x264.mp4:   0%|          | 0/3567 [00:00<?, ?it/s]"
      ]
     },
     "metadata": {},
     "output_type": "display_data"
    },
    {
     "name": "stdout",
     "output_type": "stream",
     "text": [
      " - Fighting / Fighting022_x264.mp4\n"
     ]
    },
    {
     "data": {
      "application/vnd.jupyter.widget-view+json": {
       "model_id": "53f550777dbf4685a61bb4e29345115c",
       "version_major": 2,
       "version_minor": 0
      },
      "text/plain": [
       "Extracting Fighting022_x264.mp4:   0%|          | 0/4353 [00:00<?, ?it/s]"
      ]
     },
     "metadata": {},
     "output_type": "display_data"
    },
    {
     "name": "stdout",
     "output_type": "stream",
     "text": [
      " - Fighting / Fighting023_x264.mp4\n"
     ]
    },
    {
     "data": {
      "application/vnd.jupyter.widget-view+json": {
       "model_id": "0effab0b87474ed58be9f0fb79d1a325",
       "version_major": 2,
       "version_minor": 0
      },
      "text/plain": [
       "Extracting Fighting023_x264.mp4:   0%|          | 0/1025 [00:00<?, ?it/s]"
      ]
     },
     "metadata": {},
     "output_type": "display_data"
    },
    {
     "name": "stdout",
     "output_type": "stream",
     "text": [
      " - Fighting / Fighting024_x264.mp4\n"
     ]
    },
    {
     "data": {
      "application/vnd.jupyter.widget-view+json": {
       "model_id": "7c2e4e86def64a10b4f961b47f6557e0",
       "version_major": 2,
       "version_minor": 0
      },
      "text/plain": [
       "Extracting Fighting024_x264.mp4:   0%|          | 0/6543 [00:00<?, ?it/s]"
      ]
     },
     "metadata": {},
     "output_type": "display_data"
    },
    {
     "name": "stdout",
     "output_type": "stream",
     "text": [
      " - Fighting / Fighting025_x264.mp4\n"
     ]
    },
    {
     "data": {
      "application/vnd.jupyter.widget-view+json": {
       "model_id": "0b916076d61f40d1835f7efafbde04cd",
       "version_major": 2,
       "version_minor": 0
      },
      "text/plain": [
       "Extracting Fighting025_x264.mp4:   0%|          | 0/4781 [00:00<?, ?it/s]"
      ]
     },
     "metadata": {},
     "output_type": "display_data"
    },
    {
     "name": "stdout",
     "output_type": "stream",
     "text": [
      " - Fighting / Fighting026_x264.mp4\n"
     ]
    },
    {
     "data": {
      "application/vnd.jupyter.widget-view+json": {
       "model_id": "ba9f15a26751455487456d2f0e1a4418",
       "version_major": 2,
       "version_minor": 0
      },
      "text/plain": [
       "Extracting Fighting026_x264.mp4:   0%|          | 0/3501 [00:00<?, ?it/s]"
      ]
     },
     "metadata": {},
     "output_type": "display_data"
    },
    {
     "name": "stdout",
     "output_type": "stream",
     "text": [
      " - Fighting / Fighting027_x264.mp4\n"
     ]
    },
    {
     "data": {
      "application/vnd.jupyter.widget-view+json": {
       "model_id": "c47660d101144ebfb6494d475dcd4b84",
       "version_major": 2,
       "version_minor": 0
      },
      "text/plain": [
       "Extracting Fighting027_x264.mp4:   0%|          | 0/3851 [00:00<?, ?it/s]"
      ]
     },
     "metadata": {},
     "output_type": "display_data"
    },
    {
     "name": "stdout",
     "output_type": "stream",
     "text": [
      " - Fighting / Fighting028_x264.mp4\n"
     ]
    },
    {
     "data": {
      "application/vnd.jupyter.widget-view+json": {
       "model_id": "ea814f65c317467092973aa22463105c",
       "version_major": 2,
       "version_minor": 0
      },
      "text/plain": [
       "Extracting Fighting028_x264.mp4:   0%|          | 0/2423 [00:00<?, ?it/s]"
      ]
     },
     "metadata": {},
     "output_type": "display_data"
    },
    {
     "name": "stdout",
     "output_type": "stream",
     "text": [
      " - Fighting / Fighting029_x264.mp4\n"
     ]
    },
    {
     "data": {
      "application/vnd.jupyter.widget-view+json": {
       "model_id": "d7708933223743d2835e445bf4a38f0e",
       "version_major": 2,
       "version_minor": 0
      },
      "text/plain": [
       "Extracting Fighting029_x264.mp4:   0%|          | 0/4375 [00:00<?, ?it/s]"
      ]
     },
     "metadata": {},
     "output_type": "display_data"
    },
    {
     "name": "stdout",
     "output_type": "stream",
     "text": [
      " - Fighting / Fighting030_x264.mp4\n"
     ]
    },
    {
     "data": {
      "application/vnd.jupyter.widget-view+json": {
       "model_id": "9a134a836b09423ebf843b221a777123",
       "version_major": 2,
       "version_minor": 0
      },
      "text/plain": [
       "Extracting Fighting030_x264.mp4:   0%|          | 0/2241 [00:00<?, ?it/s]"
      ]
     },
     "metadata": {},
     "output_type": "display_data"
    },
    {
     "name": "stdout",
     "output_type": "stream",
     "text": [
      " - Fighting / Fighting032_x264.mp4\n"
     ]
    },
    {
     "data": {
      "application/vnd.jupyter.widget-view+json": {
       "model_id": "ee269b65c1944119a8004f2aa14e230b",
       "version_major": 2,
       "version_minor": 0
      },
      "text/plain": [
       "Extracting Fighting032_x264.mp4:   0%|          | 0/1343 [00:00<?, ?it/s]"
      ]
     },
     "metadata": {},
     "output_type": "display_data"
    },
    {
     "name": "stdout",
     "output_type": "stream",
     "text": [
      " - Fighting / Fighting035_x264.mp4\n"
     ]
    },
    {
     "data": {
      "application/vnd.jupyter.widget-view+json": {
       "model_id": "63dd4563388a4811a451dcaf3d29b540",
       "version_major": 2,
       "version_minor": 0
      },
      "text/plain": [
       "Extracting Fighting035_x264.mp4:   0%|          | 0/961 [00:00<?, ?it/s]"
      ]
     },
     "metadata": {},
     "output_type": "display_data"
    },
    {
     "name": "stdout",
     "output_type": "stream",
     "text": [
      " - Fighting / Fighting036_x264.mp4\n"
     ]
    },
    {
     "data": {
      "application/vnd.jupyter.widget-view+json": {
       "model_id": "ea3dca24460e4522af5ac7d36bc8ab35",
       "version_major": 2,
       "version_minor": 0
      },
      "text/plain": [
       "Extracting Fighting036_x264.mp4:   0%|          | 0/3779 [00:00<?, ?it/s]"
      ]
     },
     "metadata": {},
     "output_type": "display_data"
    },
    {
     "name": "stdout",
     "output_type": "stream",
     "text": [
      " - Fighting / Fighting037_x264.mp4\n"
     ]
    },
    {
     "data": {
      "application/vnd.jupyter.widget-view+json": {
       "model_id": "27c348118e6a40e0a3346f5cacdfae37",
       "version_major": 2,
       "version_minor": 0
      },
      "text/plain": [
       "Extracting Fighting037_x264.mp4:   0%|          | 0/4357 [00:00<?, ?it/s]"
      ]
     },
     "metadata": {},
     "output_type": "display_data"
    },
    {
     "name": "stdout",
     "output_type": "stream",
     "text": [
      " - Fighting / Fighting039_x264.mp4\n"
     ]
    },
    {
     "data": {
      "application/vnd.jupyter.widget-view+json": {
       "model_id": "60c7ad225dd44aed992b235b016fd724",
       "version_major": 2,
       "version_minor": 0
      },
      "text/plain": [
       "Extracting Fighting039_x264.mp4:   0%|          | 0/6822 [00:00<?, ?it/s]"
      ]
     },
     "metadata": {},
     "output_type": "display_data"
    },
    {
     "name": "stdout",
     "output_type": "stream",
     "text": [
      " - Fighting / Fighting040_x264.mp4\n"
     ]
    },
    {
     "data": {
      "application/vnd.jupyter.widget-view+json": {
       "model_id": "dc8caf9f5c2d4cff8c3c02ff1c2490a6",
       "version_major": 2,
       "version_minor": 0
      },
      "text/plain": [
       "Extracting Fighting040_x264.mp4:   0%|          | 0/2329 [00:00<?, ?it/s]"
      ]
     },
     "metadata": {},
     "output_type": "display_data"
    },
    {
     "name": "stdout",
     "output_type": "stream",
     "text": [
      " - Fighting / Fighting041_x264.mp4\n"
     ]
    },
    {
     "data": {
      "application/vnd.jupyter.widget-view+json": {
       "model_id": "cb7caec1a65747f293f7b4c255fa9466",
       "version_major": 2,
       "version_minor": 0
      },
      "text/plain": [
       "Extracting Fighting041_x264.mp4:   0%|          | 0/31642 [00:00<?, ?it/s]"
      ]
     },
     "metadata": {},
     "output_type": "display_data"
    },
    {
     "name": "stdout",
     "output_type": "stream",
     "text": [
      " - Fighting / Fighting043_x264.mp4\n"
     ]
    },
    {
     "data": {
      "application/vnd.jupyter.widget-view+json": {
       "model_id": "a2c9d25d57ab42b38328a59378f0e232",
       "version_major": 2,
       "version_minor": 0
      },
      "text/plain": [
       "Extracting Fighting043_x264.mp4:   0%|          | 0/3143 [00:00<?, ?it/s]"
      ]
     },
     "metadata": {},
     "output_type": "display_data"
    },
    {
     "name": "stdout",
     "output_type": "stream",
     "text": [
      " - Fighting / Fighting046_x264.mp4\n"
     ]
    },
    {
     "data": {
      "application/vnd.jupyter.widget-view+json": {
       "model_id": "049349a145df48c3847b9393c44b873f",
       "version_major": 2,
       "version_minor": 0
      },
      "text/plain": [
       "Extracting Fighting046_x264.mp4:   0%|          | 0/2995 [00:00<?, ?it/s]"
      ]
     },
     "metadata": {},
     "output_type": "display_data"
    },
    {
     "name": "stdout",
     "output_type": "stream",
     "text": [
      " - Fighting / Fighting047_x264.mp4\n"
     ]
    },
    {
     "data": {
      "application/vnd.jupyter.widget-view+json": {
       "model_id": "26c27e71ced74dd5879e92f45400220e",
       "version_major": 2,
       "version_minor": 0
      },
      "text/plain": [
       "Extracting Fighting047_x264.mp4:   0%|          | 0/4459 [00:00<?, ?it/s]"
      ]
     },
     "metadata": {},
     "output_type": "display_data"
    },
    {
     "name": "stdout",
     "output_type": "stream",
     "text": [
      " - Fighting / Fighting048_x264.mp4\n"
     ]
    },
    {
     "data": {
      "application/vnd.jupyter.widget-view+json": {
       "model_id": "002ba88257244deca926357909e5b07d",
       "version_major": 2,
       "version_minor": 0
      },
      "text/plain": [
       "Extracting Fighting048_x264.mp4:   0%|          | 0/6888 [00:00<?, ?it/s]"
      ]
     },
     "metadata": {},
     "output_type": "display_data"
    },
    {
     "name": "stdout",
     "output_type": "stream",
     "text": [
      " - Fighting / Fighting049_x264.mp4\n"
     ]
    },
    {
     "data": {
      "application/vnd.jupyter.widget-view+json": {
       "model_id": "a13c615581954d81896381771e1260c0",
       "version_major": 2,
       "version_minor": 0
      },
      "text/plain": [
       "Extracting Fighting049_x264.mp4:   0%|          | 0/1550 [00:00<?, ?it/s]"
      ]
     },
     "metadata": {},
     "output_type": "display_data"
    },
    {
     "name": "stdout",
     "output_type": "stream",
     "text": [
      " - Fighting / Fighting050_x264.mp4\n"
     ]
    },
    {
     "data": {
      "application/vnd.jupyter.widget-view+json": {
       "model_id": "e31f4fc4450247e286bcfb168df0d538",
       "version_major": 2,
       "version_minor": 0
      },
      "text/plain": [
       "Extracting Fighting050_x264.mp4:   0%|          | 0/26264 [00:00<?, ?it/s]"
      ]
     },
     "metadata": {},
     "output_type": "display_data"
    },
    {
     "name": "stdout",
     "output_type": "stream",
     "text": [
      " - Fighting / Fighting051_x264.mp4\n"
     ]
    },
    {
     "data": {
      "application/vnd.jupyter.widget-view+json": {
       "model_id": "01bdfe63c3874f1299e6fe584463ae4f",
       "version_major": 2,
       "version_minor": 0
      },
      "text/plain": [
       "Extracting Fighting051_x264.mp4:   0%|          | 0/6608 [00:00<?, ?it/s]"
      ]
     },
     "metadata": {},
     "output_type": "display_data"
    },
    {
     "name": "stdout",
     "output_type": "stream",
     "text": [
      " - NormalVideos / Normal_Videos007_x264.mp4\n"
     ]
    },
    {
     "data": {
      "application/vnd.jupyter.widget-view+json": {
       "model_id": "35e710b48a5a4540b3e8357815672325",
       "version_major": 2,
       "version_minor": 0
      },
      "text/plain": [
       "Extracting Normal_Videos007_x264.mp4:   0%|          | 0/985 [00:00<?, ?it/s]"
      ]
     },
     "metadata": {},
     "output_type": "display_data"
    },
    {
     "name": "stdout",
     "output_type": "stream",
     "text": [
      " - NormalVideos / Normal_Videos009_x264.mp4\n"
     ]
    },
    {
     "data": {
      "application/vnd.jupyter.widget-view+json": {
       "model_id": "2c02b3d767ae49bf8f25909f708e1e0a",
       "version_major": 2,
       "version_minor": 0
      },
      "text/plain": [
       "Extracting Normal_Videos009_x264.mp4:   0%|          | 0/740 [00:00<?, ?it/s]"
      ]
     },
     "metadata": {},
     "output_type": "display_data"
    },
    {
     "name": "stdout",
     "output_type": "stream",
     "text": [
      " - NormalVideos / Normal_Videos011_x264.mp4\n"
     ]
    },
    {
     "data": {
      "application/vnd.jupyter.widget-view+json": {
       "model_id": "c73559f6d1e74180886559ffef40f859",
       "version_major": 2,
       "version_minor": 0
      },
      "text/plain": [
       "Extracting Normal_Videos011_x264.mp4:   0%|          | 0/897 [00:00<?, ?it/s]"
      ]
     },
     "metadata": {},
     "output_type": "display_data"
    },
    {
     "name": "stdout",
     "output_type": "stream",
     "text": [
      " - NormalVideos / Normal_Videos013_x264.mp4\n"
     ]
    },
    {
     "data": {
      "application/vnd.jupyter.widget-view+json": {
       "model_id": "b3cc3a6575c74694a7f9f115de7ffb4c",
       "version_major": 2,
       "version_minor": 0
      },
      "text/plain": [
       "Extracting Normal_Videos013_x264.mp4:   0%|          | 0/1212 [00:00<?, ?it/s]"
      ]
     },
     "metadata": {},
     "output_type": "display_data"
    },
    {
     "name": "stdout",
     "output_type": "stream",
     "text": [
      " - NormalVideos / Normal_Videos016_x264.mp4\n"
     ]
    },
    {
     "data": {
      "application/vnd.jupyter.widget-view+json": {
       "model_id": "896c1bf8f33e4465a548179165012b86",
       "version_major": 2,
       "version_minor": 0
      },
      "text/plain": [
       "Extracting Normal_Videos016_x264.mp4:   0%|          | 0/3631 [00:00<?, ?it/s]"
      ]
     },
     "metadata": {},
     "output_type": "display_data"
    },
    {
     "name": "stdout",
     "output_type": "stream",
     "text": [
      " - NormalVideos / Normal_Videos020_x264.mp4\n"
     ]
    },
    {
     "data": {
      "application/vnd.jupyter.widget-view+json": {
       "model_id": "738ace78c70142f282375608b07ff76d",
       "version_major": 2,
       "version_minor": 0
      },
      "text/plain": [
       "Extracting Normal_Videos020_x264.mp4:   0%|          | 0/485 [00:00<?, ?it/s]"
      ]
     },
     "metadata": {},
     "output_type": "display_data"
    },
    {
     "name": "stdout",
     "output_type": "stream",
     "text": [
      " - NormalVideos / Normal_Videos028_x264.mp4\n"
     ]
    },
    {
     "data": {
      "application/vnd.jupyter.widget-view+json": {
       "model_id": "ee97123155c34d0ca384c09384fc8541",
       "version_major": 2,
       "version_minor": 0
      },
      "text/plain": [
       "Extracting Normal_Videos028_x264.mp4:   0%|          | 0/9625 [00:00<?, ?it/s]"
      ]
     },
     "metadata": {},
     "output_type": "display_data"
    },
    {
     "name": "stdout",
     "output_type": "stream",
     "text": [
      " - NormalVideos / Normal_Videos029_x264.mp4\n"
     ]
    },
    {
     "data": {
      "application/vnd.jupyter.widget-view+json": {
       "model_id": "e30ea7adba364c1e847c23c8445df069",
       "version_major": 2,
       "version_minor": 0
      },
      "text/plain": [
       "Extracting Normal_Videos029_x264.mp4:   0%|          | 0/869 [00:00<?, ?it/s]"
      ]
     },
     "metadata": {},
     "output_type": "display_data"
    },
    {
     "name": "stdout",
     "output_type": "stream",
     "text": [
      " - NormalVideos / Normal_Videos038_x264.mp4\n"
     ]
    },
    {
     "data": {
      "application/vnd.jupyter.widget-view+json": {
       "model_id": "0f80c99576874e4684920b4140df4d69",
       "version_major": 2,
       "version_minor": 0
      },
      "text/plain": [
       "Extracting Normal_Videos038_x264.mp4:   0%|          | 0/2971 [00:00<?, ?it/s]"
      ]
     },
     "metadata": {},
     "output_type": "display_data"
    },
    {
     "name": "stdout",
     "output_type": "stream",
     "text": [
      " - NormalVideos / Normal_Videos049_x264.mp4\n"
     ]
    },
    {
     "data": {
      "application/vnd.jupyter.widget-view+json": {
       "model_id": "6307783f413443978feca055baafaff9",
       "version_major": 2,
       "version_minor": 0
      },
      "text/plain": [
       "Extracting Normal_Videos049_x264.mp4:   0%|          | 0/5495 [00:00<?, ?it/s]"
      ]
     },
     "metadata": {},
     "output_type": "display_data"
    },
    {
     "name": "stdout",
     "output_type": "stream",
     "text": [
      " - NormalVideos / Normal_Videos053_x264.mp4\n"
     ]
    },
    {
     "data": {
      "application/vnd.jupyter.widget-view+json": {
       "model_id": "75c058290372478e887581e453cade8d",
       "version_major": 2,
       "version_minor": 0
      },
      "text/plain": [
       "Extracting Normal_Videos053_x264.mp4:   0%|          | 0/399 [00:00<?, ?it/s]"
      ]
     },
     "metadata": {},
     "output_type": "display_data"
    },
    {
     "name": "stdout",
     "output_type": "stream",
     "text": [
      " - NormalVideos / Normal_Videos054_x264.mp4\n"
     ]
    },
    {
     "data": {
      "application/vnd.jupyter.widget-view+json": {
       "model_id": "3d3cae9b54a74cc4b8dc667fa0ec5f3f",
       "version_major": 2,
       "version_minor": 0
      },
      "text/plain": [
       "Extracting Normal_Videos054_x264.mp4:   0%|          | 0/1976 [00:00<?, ?it/s]"
      ]
     },
     "metadata": {},
     "output_type": "display_data"
    },
    {
     "name": "stdout",
     "output_type": "stream",
     "text": [
      " - NormalVideos / Normal_Videos055_x264.mp4\n"
     ]
    },
    {
     "data": {
      "application/vnd.jupyter.widget-view+json": {
       "model_id": "09c0fdc2dc36455ab878974edbf85c40",
       "version_major": 2,
       "version_minor": 0
      },
      "text/plain": [
       "Extracting Normal_Videos055_x264.mp4:   0%|          | 0/251 [00:00<?, ?it/s]"
      ]
     },
     "metadata": {},
     "output_type": "display_data"
    },
    {
     "name": "stdout",
     "output_type": "stream",
     "text": [
      " - NormalVideos / Normal_Videos060_x264.mp4\n"
     ]
    },
    {
     "data": {
      "application/vnd.jupyter.widget-view+json": {
       "model_id": "6ffbe8de66374f72ae4b4114fac6efd3",
       "version_major": 2,
       "version_minor": 0
      },
      "text/plain": [
       "Extracting Normal_Videos060_x264.mp4:   0%|          | 0/3072 [00:00<?, ?it/s]"
      ]
     },
     "metadata": {},
     "output_type": "display_data"
    },
    {
     "name": "stdout",
     "output_type": "stream",
     "text": [
      " - NormalVideos / Normal_Videos061_x264.mp4\n"
     ]
    },
    {
     "data": {
      "application/vnd.jupyter.widget-view+json": {
       "model_id": "af6ba1c4537242b3b96522e2f7012adb",
       "version_major": 2,
       "version_minor": 0
      },
      "text/plain": [
       "Extracting Normal_Videos061_x264.mp4:   0%|          | 0/17693 [00:00<?, ?it/s]"
      ]
     },
     "metadata": {},
     "output_type": "display_data"
    },
    {
     "name": "stdout",
     "output_type": "stream",
     "text": [
      " - NormalVideos / Normal_Videos062_x264.mp4\n"
     ]
    },
    {
     "data": {
      "application/vnd.jupyter.widget-view+json": {
       "model_id": "b91dabf61377489e97d707e6e1cc7d6d",
       "version_major": 2,
       "version_minor": 0
      },
      "text/plain": [
       "Extracting Normal_Videos062_x264.mp4:   0%|          | 0/1573 [00:00<?, ?it/s]"
      ]
     },
     "metadata": {},
     "output_type": "display_data"
    },
    {
     "name": "stdout",
     "output_type": "stream",
     "text": [
      " - NormalVideos / Normal_Videos068_x264.mp4\n"
     ]
    },
    {
     "data": {
      "application/vnd.jupyter.widget-view+json": {
       "model_id": "d6a5c7548064481386f96c39d6daefb4",
       "version_major": 2,
       "version_minor": 0
      },
      "text/plain": [
       "Extracting Normal_Videos068_x264.mp4:   0%|          | 0/1882 [00:00<?, ?it/s]"
      ]
     },
     "metadata": {},
     "output_type": "display_data"
    },
    {
     "name": "stdout",
     "output_type": "stream",
     "text": [
      " - NormalVideos / Normal_Videos071_x264.mp4\n"
     ]
    },
    {
     "data": {
      "application/vnd.jupyter.widget-view+json": {
       "model_id": "67862f2ee8964bc396716c0ae19735f4",
       "version_major": 2,
       "version_minor": 0
      },
      "text/plain": [
       "Extracting Normal_Videos071_x264.mp4:   0%|          | 0/871 [00:00<?, ?it/s]"
      ]
     },
     "metadata": {},
     "output_type": "display_data"
    },
    {
     "name": "stdout",
     "output_type": "stream",
     "text": [
      " - NormalVideos / Normal_Videos072_x264.mp4\n"
     ]
    },
    {
     "data": {
      "application/vnd.jupyter.widget-view+json": {
       "model_id": "07fae925452a4599b48ecc9539f57daa",
       "version_major": 2,
       "version_minor": 0
      },
      "text/plain": [
       "Extracting Normal_Videos072_x264.mp4:   0%|          | 0/952 [00:00<?, ?it/s]"
      ]
     },
     "metadata": {},
     "output_type": "display_data"
    },
    {
     "name": "stdout",
     "output_type": "stream",
     "text": [
      " - NormalVideos / Normal_Videos074_x264.mp4\n"
     ]
    },
    {
     "data": {
      "application/vnd.jupyter.widget-view+json": {
       "model_id": "6d752c6b307649e99a8927f1d055212b",
       "version_major": 2,
       "version_minor": 0
      },
      "text/plain": [
       "Extracting Normal_Videos074_x264.mp4:   0%|          | 0/2040 [00:00<?, ?it/s]"
      ]
     },
     "metadata": {},
     "output_type": "display_data"
    },
    {
     "name": "stdout",
     "output_type": "stream",
     "text": [
      " - NormalVideos / Normal_Videos075_x264.mp4\n"
     ]
    },
    {
     "data": {
      "application/vnd.jupyter.widget-view+json": {
       "model_id": "0bb07766db9147ae959409b90e3b549e",
       "version_major": 2,
       "version_minor": 0
      },
      "text/plain": [
       "Extracting Normal_Videos075_x264.mp4:   0%|          | 0/3397 [00:00<?, ?it/s]"
      ]
     },
     "metadata": {},
     "output_type": "display_data"
    },
    {
     "name": "stdout",
     "output_type": "stream",
     "text": [
      " - NormalVideos / Normal_Videos078_x264.mp4\n"
     ]
    },
    {
     "data": {
      "application/vnd.jupyter.widget-view+json": {
       "model_id": "1cce1cd8493f4ae4b337a38e59c1e7d8",
       "version_major": 2,
       "version_minor": 0
      },
      "text/plain": [
       "Extracting Normal_Videos078_x264.mp4:   0%|          | 0/2134 [00:00<?, ?it/s]"
      ]
     },
     "metadata": {},
     "output_type": "display_data"
    },
    {
     "name": "stdout",
     "output_type": "stream",
     "text": [
      " - NormalVideos / Normal_Videos087_x264.mp4\n"
     ]
    },
    {
     "data": {
      "application/vnd.jupyter.widget-view+json": {
       "model_id": "81e169978dce4bed8dcbe8f1c7766d78",
       "version_major": 2,
       "version_minor": 0
      },
      "text/plain": [
       "Extracting Normal_Videos087_x264.mp4:   0%|          | 0/80982 [00:00<?, ?it/s]"
      ]
     },
     "metadata": {},
     "output_type": "display_data"
    },
    {
     "name": "stdout",
     "output_type": "stream",
     "text": [
      " - NormalVideos / Normal_Videos088_x264.mp4\n"
     ]
    },
    {
     "data": {
      "application/vnd.jupyter.widget-view+json": {
       "model_id": "736fecaae01d464b808ee111f61d424e",
       "version_major": 2,
       "version_minor": 0
      },
      "text/plain": [
       "Extracting Normal_Videos088_x264.mp4:   0%|          | 0/2477 [00:00<?, ?it/s]"
      ]
     },
     "metadata": {},
     "output_type": "display_data"
    },
    {
     "name": "stdout",
     "output_type": "stream",
     "text": [
      " - NormalVideos / Normal_Videos089_x264.mp4\n"
     ]
    },
    {
     "data": {
      "application/vnd.jupyter.widget-view+json": {
       "model_id": "8605dd29fa8d4cf78b740ee89d96ed04",
       "version_major": 2,
       "version_minor": 0
      },
      "text/plain": [
       "Extracting Normal_Videos089_x264.mp4:   0%|          | 0/19656 [00:00<?, ?it/s]"
      ]
     },
     "metadata": {},
     "output_type": "display_data"
    },
    {
     "name": "stdout",
     "output_type": "stream",
     "text": [
      " - NormalVideos / Normal_Videos093_x264.mp4\n"
     ]
    },
    {
     "data": {
      "application/vnd.jupyter.widget-view+json": {
       "model_id": "ab69b1f8e00a4261b4444d453b61e678",
       "version_major": 2,
       "version_minor": 0
      },
      "text/plain": [
       "Extracting Normal_Videos093_x264.mp4:   0%|          | 0/1740 [00:00<?, ?it/s]"
      ]
     },
     "metadata": {},
     "output_type": "display_data"
    },
    {
     "name": "stdout",
     "output_type": "stream",
     "text": [
      " - NormalVideos / Normal_Videos101_x264.mp4\n"
     ]
    },
    {
     "data": {
      "application/vnd.jupyter.widget-view+json": {
       "model_id": "46c9e285152e4b5cba40a0824bd486b8",
       "version_major": 2,
       "version_minor": 0
      },
      "text/plain": [
       "Extracting Normal_Videos101_x264.mp4:   0%|          | 0/1538 [00:00<?, ?it/s]"
      ]
     },
     "metadata": {},
     "output_type": "display_data"
    },
    {
     "name": "stdout",
     "output_type": "stream",
     "text": [
      " - NormalVideos / Normal_Videos104_x264.mp4\n"
     ]
    },
    {
     "data": {
      "application/vnd.jupyter.widget-view+json": {
       "model_id": "8ae04898bebd42a8bcb0c84ab3d840da",
       "version_major": 2,
       "version_minor": 0
      },
      "text/plain": [
       "Extracting Normal_Videos104_x264.mp4:   0%|          | 0/689 [00:00<?, ?it/s]"
      ]
     },
     "metadata": {},
     "output_type": "display_data"
    },
    {
     "name": "stdout",
     "output_type": "stream",
     "text": [
      " - NormalVideos / Normal_Videos106_x264.mp4\n"
     ]
    },
    {
     "data": {
      "application/vnd.jupyter.widget-view+json": {
       "model_id": "71c78433668b4b1696c28761a27ccff8",
       "version_major": 2,
       "version_minor": 0
      },
      "text/plain": [
       "Extracting Normal_Videos106_x264.mp4:   0%|          | 0/1944 [00:00<?, ?it/s]"
      ]
     },
     "metadata": {},
     "output_type": "display_data"
    },
    {
     "name": "stdout",
     "output_type": "stream",
     "text": [
      " - NormalVideos / Normal_Videos108_x264.mp4\n"
     ]
    },
    {
     "data": {
      "application/vnd.jupyter.widget-view+json": {
       "model_id": "cb128608408d4974933d0a690f6ee7f5",
       "version_major": 2,
       "version_minor": 0
      },
      "text/plain": [
       "Extracting Normal_Videos108_x264.mp4:   0%|          | 0/1772 [00:00<?, ?it/s]"
      ]
     },
     "metadata": {},
     "output_type": "display_data"
    },
    {
     "name": "stdout",
     "output_type": "stream",
     "text": [
      " - NormalVideos / Normal_Videos109_x264.mp4\n"
     ]
    },
    {
     "data": {
      "application/vnd.jupyter.widget-view+json": {
       "model_id": "c9e9048a741e423d9da18f1ad0fa8b60",
       "version_major": 2,
       "version_minor": 0
      },
      "text/plain": [
       "Extracting Normal_Videos109_x264.mp4:   0%|          | 0/1722 [00:00<?, ?it/s]"
      ]
     },
     "metadata": {},
     "output_type": "display_data"
    },
    {
     "name": "stdout",
     "output_type": "stream",
     "text": [
      " - NormalVideos / Normal_Videos111_x264.mp4\n"
     ]
    },
    {
     "data": {
      "application/vnd.jupyter.widget-view+json": {
       "model_id": "b15a83b833af466ea018b76b458278f6",
       "version_major": 2,
       "version_minor": 0
      },
      "text/plain": [
       "Extracting Normal_Videos111_x264.mp4:   0%|          | 0/20371 [00:00<?, ?it/s]"
      ]
     },
     "metadata": {},
     "output_type": "display_data"
    },
    {
     "name": "stdout",
     "output_type": "stream",
     "text": [
      " - NormalVideos / Normal_Videos113_x264.mp4\n"
     ]
    },
    {
     "data": {
      "application/vnd.jupyter.widget-view+json": {
       "model_id": "841409cd3fcc4c20a6e81963725b639f",
       "version_major": 2,
       "version_minor": 0
      },
      "text/plain": [
       "Extracting Normal_Videos113_x264.mp4:   0%|          | 0/694 [00:00<?, ?it/s]"
      ]
     },
     "metadata": {},
     "output_type": "display_data"
    },
    {
     "name": "stdout",
     "output_type": "stream",
     "text": [
      " - NormalVideos / Normal_Videos114_x264.mp4\n"
     ]
    },
    {
     "data": {
      "application/vnd.jupyter.widget-view+json": {
       "model_id": "69c29610db4145b49a6fd19cd9d817ae",
       "version_major": 2,
       "version_minor": 0
      },
      "text/plain": [
       "Extracting Normal_Videos114_x264.mp4:   0%|          | 0/1787 [00:00<?, ?it/s]"
      ]
     },
     "metadata": {},
     "output_type": "display_data"
    },
    {
     "name": "stdout",
     "output_type": "stream",
     "text": [
      " - NormalVideos / Normal_Videos115_x264.mp4\n"
     ]
    },
    {
     "data": {
      "application/vnd.jupyter.widget-view+json": {
       "model_id": "69abae4232ef48178687663e909154b5",
       "version_major": 2,
       "version_minor": 0
      },
      "text/plain": [
       "Extracting Normal_Videos115_x264.mp4:   0%|          | 0/299 [00:00<?, ?it/s]"
      ]
     },
     "metadata": {},
     "output_type": "display_data"
    },
    {
     "name": "stdout",
     "output_type": "stream",
     "text": [
      " - NormalVideos / Normal_Videos116_x264.mp4\n"
     ]
    },
    {
     "data": {
      "application/vnd.jupyter.widget-view+json": {
       "model_id": "7c11762f2e0946c7b2eac72fb4217c0d",
       "version_major": 2,
       "version_minor": 0
      },
      "text/plain": [
       "Extracting Normal_Videos116_x264.mp4:   0%|          | 0/4531 [00:00<?, ?it/s]"
      ]
     },
     "metadata": {},
     "output_type": "display_data"
    },
    {
     "name": "stdout",
     "output_type": "stream",
     "text": [
      " - NormalVideos / Normal_Videos122_x264.mp4\n"
     ]
    },
    {
     "data": {
      "application/vnd.jupyter.widget-view+json": {
       "model_id": "9fed2cc6f35246ca8635c79cdced668b",
       "version_major": 2,
       "version_minor": 0
      },
      "text/plain": [
       "Extracting Normal_Videos122_x264.mp4:   0%|          | 0/1893 [00:00<?, ?it/s]"
      ]
     },
     "metadata": {},
     "output_type": "display_data"
    },
    {
     "name": "stdout",
     "output_type": "stream",
     "text": [
      " - NormalVideos / Normal_Videos124_x264.mp4\n"
     ]
    },
    {
     "data": {
      "application/vnd.jupyter.widget-view+json": {
       "model_id": "648d278cfc634a098d025477574d50e4",
       "version_major": 2,
       "version_minor": 0
      },
      "text/plain": [
       "Extracting Normal_Videos124_x264.mp4:   0%|          | 0/1394 [00:00<?, ?it/s]"
      ]
     },
     "metadata": {},
     "output_type": "display_data"
    },
    {
     "name": "stdout",
     "output_type": "stream",
     "text": [
      " - NormalVideos / Normal_Videos125_x264.mp4\n"
     ]
    },
    {
     "data": {
      "application/vnd.jupyter.widget-view+json": {
       "model_id": "fb6c8f14472c4267bd31b3748a2503bf",
       "version_major": 2,
       "version_minor": 0
      },
      "text/plain": [
       "Extracting Normal_Videos125_x264.mp4:   0%|          | 0/3121 [00:00<?, ?it/s]"
      ]
     },
     "metadata": {},
     "output_type": "display_data"
    },
    {
     "name": "stdout",
     "output_type": "stream",
     "text": [
      " - NormalVideos / Normal_Videos126_x264.mp4\n"
     ]
    },
    {
     "data": {
      "application/vnd.jupyter.widget-view+json": {
       "model_id": "ca850b29270445dcbc9b4622a5161381",
       "version_major": 2,
       "version_minor": 0
      },
      "text/plain": [
       "Extracting Normal_Videos126_x264.mp4:   0%|          | 0/2808 [00:00<?, ?it/s]"
      ]
     },
     "metadata": {},
     "output_type": "display_data"
    },
    {
     "name": "stdout",
     "output_type": "stream",
     "text": [
      " - RoadAccidents / RoadAccidents001_x264.mp4\n"
     ]
    },
    {
     "data": {
      "application/vnd.jupyter.widget-view+json": {
       "model_id": "7d10fdd77d844951a3c2935e0cd8f893",
       "version_major": 2,
       "version_minor": 0
      },
      "text/plain": [
       "Extracting RoadAccidents001_x264.mp4:   0%|          | 0/1366 [00:00<?, ?it/s]"
      ]
     },
     "metadata": {},
     "output_type": "display_data"
    },
    {
     "name": "stdout",
     "output_type": "stream",
     "text": [
      " - RoadAccidents / RoadAccidents003_x264.mp4\n"
     ]
    },
    {
     "data": {
      "application/vnd.jupyter.widget-view+json": {
       "model_id": "e5afc8c1b1a440a9a6f796f96daa1dfc",
       "version_major": 2,
       "version_minor": 0
      },
      "text/plain": [
       "Extracting RoadAccidents003_x264.mp4:   0%|          | 0/1483 [00:00<?, ?it/s]"
      ]
     },
     "metadata": {},
     "output_type": "display_data"
    },
    {
     "name": "stdout",
     "output_type": "stream",
     "text": [
      " - RoadAccidents / RoadAccidents004_x264.mp4\n"
     ]
    },
    {
     "data": {
      "application/vnd.jupyter.widget-view+json": {
       "model_id": "4c5846da1e2543029147f843a6b24a46",
       "version_major": 2,
       "version_minor": 0
      },
      "text/plain": [
       "Extracting RoadAccidents004_x264.mp4:   0%|          | 0/389 [00:00<?, ?it/s]"
      ]
     },
     "metadata": {},
     "output_type": "display_data"
    },
    {
     "name": "stdout",
     "output_type": "stream",
     "text": [
      " - RoadAccidents / RoadAccidents005_x264.mp4\n"
     ]
    },
    {
     "data": {
      "application/vnd.jupyter.widget-view+json": {
       "model_id": "1d10323f042848fdbb1465c2d68e2453",
       "version_major": 2,
       "version_minor": 0
      },
      "text/plain": [
       "Extracting RoadAccidents005_x264.mp4:   0%|          | 0/224 [00:00<?, ?it/s]"
      ]
     },
     "metadata": {},
     "output_type": "display_data"
    },
    {
     "name": "stdout",
     "output_type": "stream",
     "text": [
      " - RoadAccidents / RoadAccidents007_x264.mp4\n"
     ]
    },
    {
     "data": {
      "application/vnd.jupyter.widget-view+json": {
       "model_id": "59ade9150e0543bcb81e1b07dbcec155",
       "version_major": 2,
       "version_minor": 0
      },
      "text/plain": [
       "Extracting RoadAccidents007_x264.mp4:   0%|          | 0/1101 [00:00<?, ?it/s]"
      ]
     },
     "metadata": {},
     "output_type": "display_data"
    },
    {
     "name": "stdout",
     "output_type": "stream",
     "text": [
      " - RoadAccidents / RoadAccidents008_x264.mp4\n"
     ]
    },
    {
     "data": {
      "application/vnd.jupyter.widget-view+json": {
       "model_id": "a952e2e8b8a84cd394db23b80b19f911",
       "version_major": 2,
       "version_minor": 0
      },
      "text/plain": [
       "Extracting RoadAccidents008_x264.mp4:   0%|          | 0/1327 [00:00<?, ?it/s]"
      ]
     },
     "metadata": {},
     "output_type": "display_data"
    },
    {
     "name": "stdout",
     "output_type": "stream",
     "text": [
      " - RoadAccidents / RoadAccidents009_x264.mp4\n"
     ]
    },
    {
     "data": {
      "application/vnd.jupyter.widget-view+json": {
       "model_id": "ad46b28e17334bae882ac6176d260203",
       "version_major": 2,
       "version_minor": 0
      },
      "text/plain": [
       "Extracting RoadAccidents009_x264.mp4:   0%|          | 0/918 [00:00<?, ?it/s]"
      ]
     },
     "metadata": {},
     "output_type": "display_data"
    },
    {
     "name": "stdout",
     "output_type": "stream",
     "text": [
      " - RoadAccidents / RoadAccidents010_x264.mp4\n"
     ]
    },
    {
     "data": {
      "application/vnd.jupyter.widget-view+json": {
       "model_id": "d98710baf248431e9775100ed82780c2",
       "version_major": 2,
       "version_minor": 0
      },
      "text/plain": [
       "Extracting RoadAccidents010_x264.mp4:   0%|          | 0/528 [00:00<?, ?it/s]"
      ]
     },
     "metadata": {},
     "output_type": "display_data"
    },
    {
     "name": "stdout",
     "output_type": "stream",
     "text": [
      " - RoadAccidents / RoadAccidents011_x264.mp4\n"
     ]
    },
    {
     "data": {
      "application/vnd.jupyter.widget-view+json": {
       "model_id": "29df9aae9b6240d7a36f1ea8c641a070",
       "version_major": 2,
       "version_minor": 0
      },
      "text/plain": [
       "Extracting RoadAccidents011_x264.mp4:   0%|          | 0/2159 [00:00<?, ?it/s]"
      ]
     },
     "metadata": {},
     "output_type": "display_data"
    },
    {
     "name": "stdout",
     "output_type": "stream",
     "text": [
      " - RoadAccidents / RoadAccidents013_x264.mp4\n"
     ]
    },
    {
     "data": {
      "application/vnd.jupyter.widget-view+json": {
       "model_id": "57c8a2b769ae4fcba202b43e494753a4",
       "version_major": 2,
       "version_minor": 0
      },
      "text/plain": [
       "Extracting RoadAccidents013_x264.mp4:   0%|          | 0/1729 [00:00<?, ?it/s]"
      ]
     },
     "metadata": {},
     "output_type": "display_data"
    },
    {
     "name": "stdout",
     "output_type": "stream",
     "text": [
      " - RoadAccidents / RoadAccidents014_x264.mp4\n"
     ]
    },
    {
     "data": {
      "application/vnd.jupyter.widget-view+json": {
       "model_id": "f5b7b22aecc3472b9d189d6780aefd5c",
       "version_major": 2,
       "version_minor": 0
      },
      "text/plain": [
       "Extracting RoadAccidents014_x264.mp4:   0%|          | 0/11895 [00:00<?, ?it/s]"
      ]
     },
     "metadata": {},
     "output_type": "display_data"
    },
    {
     "name": "stdout",
     "output_type": "stream",
     "text": [
      " - RoadAccidents / RoadAccidents015_x264.mp4\n"
     ]
    },
    {
     "data": {
      "application/vnd.jupyter.widget-view+json": {
       "model_id": "ab9ad84824c34f14ad82eb4687fc1c65",
       "version_major": 2,
       "version_minor": 0
      },
      "text/plain": [
       "Extracting RoadAccidents015_x264.mp4:   0%|          | 0/1347 [00:00<?, ?it/s]"
      ]
     },
     "metadata": {},
     "output_type": "display_data"
    },
    {
     "name": "stdout",
     "output_type": "stream",
     "text": [
      " - RoadAccidents / RoadAccidents016_x264.mp4\n"
     ]
    },
    {
     "data": {
      "application/vnd.jupyter.widget-view+json": {
       "model_id": "8fab20a7cb354d19a8cf714c90ee6d7c",
       "version_major": 2,
       "version_minor": 0
      },
      "text/plain": [
       "Extracting RoadAccidents016_x264.mp4:   0%|          | 0/2192 [00:00<?, ?it/s]"
      ]
     },
     "metadata": {},
     "output_type": "display_data"
    },
    {
     "name": "stdout",
     "output_type": "stream",
     "text": [
      " - RoadAccidents / RoadAccidents018_x264.mp4\n"
     ]
    },
    {
     "data": {
      "application/vnd.jupyter.widget-view+json": {
       "model_id": "3bfb09a492c24bda91a43e690844c907",
       "version_major": 2,
       "version_minor": 0
      },
      "text/plain": [
       "Extracting RoadAccidents018_x264.mp4:   0%|          | 0/1518 [00:00<?, ?it/s]"
      ]
     },
     "metadata": {},
     "output_type": "display_data"
    },
    {
     "name": "stdout",
     "output_type": "stream",
     "text": [
      " - RoadAccidents / RoadAccidents019_x264.mp4\n"
     ]
    },
    {
     "data": {
      "application/vnd.jupyter.widget-view+json": {
       "model_id": "db217594ea6e4bc680f9e6d576709afe",
       "version_major": 2,
       "version_minor": 0
      },
      "text/plain": [
       "Extracting RoadAccidents019_x264.mp4:   0%|          | 0/1314 [00:00<?, ?it/s]"
      ]
     },
     "metadata": {},
     "output_type": "display_data"
    },
    {
     "name": "stdout",
     "output_type": "stream",
     "text": [
      " - RoadAccidents / RoadAccidents020_x264.mp4\n"
     ]
    },
    {
     "data": {
      "application/vnd.jupyter.widget-view+json": {
       "model_id": "44418ee41a8845debcd0ac5b3e2d5eee",
       "version_major": 2,
       "version_minor": 0
      },
      "text/plain": [
       "Extracting RoadAccidents020_x264.mp4:   0%|          | 0/1773 [00:00<?, ?it/s]"
      ]
     },
     "metadata": {},
     "output_type": "display_data"
    },
    {
     "name": "stdout",
     "output_type": "stream",
     "text": [
      " - RoadAccidents / RoadAccidents021_x264.mp4\n"
     ]
    },
    {
     "data": {
      "application/vnd.jupyter.widget-view+json": {
       "model_id": "92ae9fe80c894a46964cf7e8e830f89d",
       "version_major": 2,
       "version_minor": 0
      },
      "text/plain": [
       "Extracting RoadAccidents021_x264.mp4:   0%|          | 0/155 [00:00<?, ?it/s]"
      ]
     },
     "metadata": {},
     "output_type": "display_data"
    },
    {
     "name": "stdout",
     "output_type": "stream",
     "text": [
      " - RoadAccidents / RoadAccidents022_x264.mp4\n"
     ]
    },
    {
     "data": {
      "application/vnd.jupyter.widget-view+json": {
       "model_id": "7ed86a0f25c34bbfa21c58db72f5f5d1",
       "version_major": 2,
       "version_minor": 0
      },
      "text/plain": [
       "Extracting RoadAccidents022_x264.mp4:   0%|          | 0/716 [00:00<?, ?it/s]"
      ]
     },
     "metadata": {},
     "output_type": "display_data"
    },
    {
     "name": "stdout",
     "output_type": "stream",
     "text": [
      " - RoadAccidents / RoadAccidents023_x264.mp4\n"
     ]
    },
    {
     "data": {
      "application/vnd.jupyter.widget-view+json": {
       "model_id": "8e0fd619b8854271bc65717106311ec3",
       "version_major": 2,
       "version_minor": 0
      },
      "text/plain": [
       "Extracting RoadAccidents023_x264.mp4:   0%|          | 0/3510 [00:00<?, ?it/s]"
      ]
     },
     "metadata": {},
     "output_type": "display_data"
    },
    {
     "name": "stdout",
     "output_type": "stream",
     "text": [
      " - RoadAccidents / RoadAccidents024_x264.mp4\n"
     ]
    },
    {
     "data": {
      "application/vnd.jupyter.widget-view+json": {
       "model_id": "afcfa2afb0cb419eb883e7d121dc90f2",
       "version_major": 2,
       "version_minor": 0
      },
      "text/plain": [
       "Extracting RoadAccidents024_x264.mp4:   0%|          | 0/5946 [00:00<?, ?it/s]"
      ]
     },
     "metadata": {},
     "output_type": "display_data"
    },
    {
     "name": "stdout",
     "output_type": "stream",
     "text": [
      " - RoadAccidents / RoadAccidents025_x264.mp4\n"
     ]
    },
    {
     "data": {
      "application/vnd.jupyter.widget-view+json": {
       "model_id": "7242799f37964426af97fdf693dc4c5c",
       "version_major": 2,
       "version_minor": 0
      },
      "text/plain": [
       "Extracting RoadAccidents025_x264.mp4:   0%|          | 0/1189 [00:00<?, ?it/s]"
      ]
     },
     "metadata": {},
     "output_type": "display_data"
    },
    {
     "name": "stdout",
     "output_type": "stream",
     "text": [
      " - RoadAccidents / RoadAccidents027_x264.mp4\n"
     ]
    },
    {
     "data": {
      "application/vnd.jupyter.widget-view+json": {
       "model_id": "8e986cec69654f15944d85cf3ae6cdac",
       "version_major": 2,
       "version_minor": 0
      },
      "text/plain": [
       "Extracting RoadAccidents027_x264.mp4:   0%|          | 0/104 [00:00<?, ?it/s]"
      ]
     },
     "metadata": {},
     "output_type": "display_data"
    },
    {
     "name": "stdout",
     "output_type": "stream",
     "text": [
      " - RoadAccidents / RoadAccidents028_x264.mp4\n"
     ]
    },
    {
     "data": {
      "application/vnd.jupyter.widget-view+json": {
       "model_id": "c8cd7383df594d8c95d356395fe16a29",
       "version_major": 2,
       "version_minor": 0
      },
      "text/plain": [
       "Extracting RoadAccidents028_x264.mp4:   0%|          | 0/591 [00:00<?, ?it/s]"
      ]
     },
     "metadata": {},
     "output_type": "display_data"
    },
    {
     "name": "stdout",
     "output_type": "stream",
     "text": [
      " - RoadAccidents / RoadAccidents029_x264.mp4\n"
     ]
    },
    {
     "data": {
      "application/vnd.jupyter.widget-view+json": {
       "model_id": "120e36ceebed47f3828d9d6862884c33",
       "version_major": 2,
       "version_minor": 0
      },
      "text/plain": [
       "Extracting RoadAccidents029_x264.mp4:   0%|          | 0/527 [00:00<?, ?it/s]"
      ]
     },
     "metadata": {},
     "output_type": "display_data"
    },
    {
     "name": "stdout",
     "output_type": "stream",
     "text": [
      " - RoadAccidents / RoadAccidents030_x264.mp4\n"
     ]
    },
    {
     "data": {
      "application/vnd.jupyter.widget-view+json": {
       "model_id": "950e3d9249624239ada2a213d9a9e3b0",
       "version_major": 2,
       "version_minor": 0
      },
      "text/plain": [
       "Extracting RoadAccidents030_x264.mp4:   0%|          | 0/1290 [00:00<?, ?it/s]"
      ]
     },
     "metadata": {},
     "output_type": "display_data"
    },
    {
     "name": "stdout",
     "output_type": "stream",
     "text": [
      " - RoadAccidents / RoadAccidents031_x264.mp4\n"
     ]
    },
    {
     "data": {
      "application/vnd.jupyter.widget-view+json": {
       "model_id": "c7ec91c5b14f4dc9bb96db891b73c5e4",
       "version_major": 2,
       "version_minor": 0
      },
      "text/plain": [
       "Extracting RoadAccidents031_x264.mp4:   0%|          | 0/2185 [00:00<?, ?it/s]"
      ]
     },
     "metadata": {},
     "output_type": "display_data"
    },
    {
     "name": "stdout",
     "output_type": "stream",
     "text": [
      " - RoadAccidents / RoadAccidents033_x264.mp4\n"
     ]
    },
    {
     "data": {
      "application/vnd.jupyter.widget-view+json": {
       "model_id": "8cab2ae56b184ae99afedaa65e38f345",
       "version_major": 2,
       "version_minor": 0
      },
      "text/plain": [
       "Extracting RoadAccidents033_x264.mp4:   0%|          | 0/587 [00:00<?, ?it/s]"
      ]
     },
     "metadata": {},
     "output_type": "display_data"
    },
    {
     "name": "stdout",
     "output_type": "stream",
     "text": [
      " - RoadAccidents / RoadAccidents034_x264.mp4\n"
     ]
    },
    {
     "data": {
      "application/vnd.jupyter.widget-view+json": {
       "model_id": "b1bcada8c2084f33aa0d9246b2d98f11",
       "version_major": 2,
       "version_minor": 0
      },
      "text/plain": [
       "Extracting RoadAccidents034_x264.mp4:   0%|          | 0/1739 [00:00<?, ?it/s]"
      ]
     },
     "metadata": {},
     "output_type": "display_data"
    },
    {
     "name": "stdout",
     "output_type": "stream",
     "text": [
      " - RoadAccidents / RoadAccidents036_x264.mp4\n"
     ]
    },
    {
     "data": {
      "application/vnd.jupyter.widget-view+json": {
       "model_id": "a6fe86428c064f0a93abe4b1a99b5ff9",
       "version_major": 2,
       "version_minor": 0
      },
      "text/plain": [
       "Extracting RoadAccidents036_x264.mp4:   0%|          | 0/1315 [00:00<?, ?it/s]"
      ]
     },
     "metadata": {},
     "output_type": "display_data"
    },
    {
     "name": "stdout",
     "output_type": "stream",
     "text": [
      " - RoadAccidents / RoadAccidents037_x264.mp4\n"
     ]
    },
    {
     "data": {
      "application/vnd.jupyter.widget-view+json": {
       "model_id": "f51b3d43f0d847f6aae534cdd98a1ebf",
       "version_major": 2,
       "version_minor": 0
      },
      "text/plain": [
       "Extracting RoadAccidents037_x264.mp4:   0%|          | 0/2189 [00:00<?, ?it/s]"
      ]
     },
     "metadata": {},
     "output_type": "display_data"
    },
    {
     "name": "stdout",
     "output_type": "stream",
     "text": [
      " - RoadAccidents / RoadAccidents038_x264.mp4\n"
     ]
    },
    {
     "data": {
      "application/vnd.jupyter.widget-view+json": {
       "model_id": "94f28b9fb2da48e8bf2874679a9e5eb3",
       "version_major": 2,
       "version_minor": 0
      },
      "text/plain": [
       "Extracting RoadAccidents038_x264.mp4:   0%|          | 0/509 [00:00<?, ?it/s]"
      ]
     },
     "metadata": {},
     "output_type": "display_data"
    },
    {
     "name": "stdout",
     "output_type": "stream",
     "text": [
      " - RoadAccidents / RoadAccidents039_x264.mp4\n"
     ]
    },
    {
     "data": {
      "application/vnd.jupyter.widget-view+json": {
       "model_id": "5abdee83054b4fab8496b914a8c93c32",
       "version_major": 2,
       "version_minor": 0
      },
      "text/plain": [
       "Extracting RoadAccidents039_x264.mp4:   0%|          | 0/378 [00:00<?, ?it/s]"
      ]
     },
     "metadata": {},
     "output_type": "display_data"
    },
    {
     "name": "stdout",
     "output_type": "stream",
     "text": [
      " - RoadAccidents / RoadAccidents040_x264.mp4\n"
     ]
    },
    {
     "data": {
      "application/vnd.jupyter.widget-view+json": {
       "model_id": "8a025645db564dfbbe07b84c7c7fae00",
       "version_major": 2,
       "version_minor": 0
      },
      "text/plain": [
       "Extracting RoadAccidents040_x264.mp4:   0%|          | 0/1946 [00:00<?, ?it/s]"
      ]
     },
     "metadata": {},
     "output_type": "display_data"
    },
    {
     "name": "stdout",
     "output_type": "stream",
     "text": [
      " - RoadAccidents / RoadAccidents042_x264.mp4\n"
     ]
    },
    {
     "data": {
      "application/vnd.jupyter.widget-view+json": {
       "model_id": "dfbe934721e84d46a50680943f8581c2",
       "version_major": 2,
       "version_minor": 0
      },
      "text/plain": [
       "Extracting RoadAccidents042_x264.mp4:   0%|          | 0/920 [00:00<?, ?it/s]"
      ]
     },
     "metadata": {},
     "output_type": "display_data"
    },
    {
     "name": "stdout",
     "output_type": "stream",
     "text": [
      " - RoadAccidents / RoadAccidents043_x264.mp4\n"
     ]
    },
    {
     "data": {
      "application/vnd.jupyter.widget-view+json": {
       "model_id": "669af5c724c24a4dac45fe66671c58b3",
       "version_major": 2,
       "version_minor": 0
      },
      "text/plain": [
       "Extracting RoadAccidents043_x264.mp4:   0%|          | 0/187 [00:00<?, ?it/s]"
      ]
     },
     "metadata": {},
     "output_type": "display_data"
    },
    {
     "name": "stdout",
     "output_type": "stream",
     "text": [
      " - RoadAccidents / RoadAccidents044_x264.mp4\n"
     ]
    },
    {
     "data": {
      "application/vnd.jupyter.widget-view+json": {
       "model_id": "fd28e9cfd113426ca3c18797a1485d34",
       "version_major": 2,
       "version_minor": 0
      },
      "text/plain": [
       "Extracting RoadAccidents044_x264.mp4:   0%|          | 0/394 [00:00<?, ?it/s]"
      ]
     },
     "metadata": {},
     "output_type": "display_data"
    },
    {
     "name": "stdout",
     "output_type": "stream",
     "text": [
      " - RoadAccidents / RoadAccidents048_x264.mp4\n"
     ]
    },
    {
     "data": {
      "application/vnd.jupyter.widget-view+json": {
       "model_id": "6b173eb3a6f64f07849e2dadecc6a4d5",
       "version_major": 2,
       "version_minor": 0
      },
      "text/plain": [
       "Extracting RoadAccidents048_x264.mp4:   0%|          | 0/2429 [00:00<?, ?it/s]"
      ]
     },
     "metadata": {},
     "output_type": "display_data"
    },
    {
     "name": "stdout",
     "output_type": "stream",
     "text": [
      " - RoadAccidents / RoadAccidents049_x264.mp4\n"
     ]
    },
    {
     "data": {
      "application/vnd.jupyter.widget-view+json": {
       "model_id": "e91e5f6105964efb86f0cf3f91ab3afb",
       "version_major": 2,
       "version_minor": 0
      },
      "text/plain": [
       "Extracting RoadAccidents049_x264.mp4:   0%|          | 0/733 [00:00<?, ?it/s]"
      ]
     },
     "metadata": {},
     "output_type": "display_data"
    },
    {
     "name": "stdout",
     "output_type": "stream",
     "text": [
      " - RoadAccidents / RoadAccidents052_x264.mp4\n"
     ]
    },
    {
     "data": {
      "application/vnd.jupyter.widget-view+json": {
       "model_id": "f480a5e6ec08486986f16118c40a85c7",
       "version_major": 2,
       "version_minor": 0
      },
      "text/plain": [
       "Extracting RoadAccidents052_x264.mp4:   0%|          | 0/362 [00:00<?, ?it/s]"
      ]
     },
     "metadata": {},
     "output_type": "display_data"
    },
    {
     "name": "stdout",
     "output_type": "stream",
     "text": [
      " - RoadAccidents / RoadAccidents053_x264.mp4\n"
     ]
    },
    {
     "data": {
      "application/vnd.jupyter.widget-view+json": {
       "model_id": "c59872d9bd36484b9516291a6288aafe",
       "version_major": 2,
       "version_minor": 0
      },
      "text/plain": [
       "Extracting RoadAccidents053_x264.mp4:   0%|          | 0/684 [00:00<?, ?it/s]"
      ]
     },
     "metadata": {},
     "output_type": "display_data"
    },
    {
     "name": "stdout",
     "output_type": "stream",
     "text": [
      " - Robbery / Robbery001_x264.mp4\n"
     ]
    },
    {
     "data": {
      "application/vnd.jupyter.widget-view+json": {
       "model_id": "1f734432566445328901e095ef9241cc",
       "version_major": 2,
       "version_minor": 0
      },
      "text/plain": [
       "Extracting Robbery001_x264.mp4:   0%|          | 0/987 [00:00<?, ?it/s]"
      ]
     },
     "metadata": {},
     "output_type": "display_data"
    },
    {
     "name": "stdout",
     "output_type": "stream",
     "text": [
      " - Robbery / Robbery002_x264.mp4\n"
     ]
    },
    {
     "data": {
      "application/vnd.jupyter.widget-view+json": {
       "model_id": "599babf7dbe5411584bc0b9912d7b794",
       "version_major": 2,
       "version_minor": 0
      },
      "text/plain": [
       "Extracting Robbery002_x264.mp4:   0%|          | 0/3203 [00:00<?, ?it/s]"
      ]
     },
     "metadata": {},
     "output_type": "display_data"
    },
    {
     "name": "stdout",
     "output_type": "stream",
     "text": [
      " - Robbery / Robbery003_x264.mp4\n"
     ]
    },
    {
     "data": {
      "application/vnd.jupyter.widget-view+json": {
       "model_id": "6cf96ab9c11a41a8be2fd60f01561b50",
       "version_major": 2,
       "version_minor": 0
      },
      "text/plain": [
       "Extracting Robbery003_x264.mp4:   0%|          | 0/984 [00:00<?, ?it/s]"
      ]
     },
     "metadata": {},
     "output_type": "display_data"
    },
    {
     "name": "stdout",
     "output_type": "stream",
     "text": [
      " - Robbery / Robbery004_x264.mp4\n"
     ]
    },
    {
     "data": {
      "application/vnd.jupyter.widget-view+json": {
       "model_id": "7b577f9ee3f04c79b45413209f155567",
       "version_major": 2,
       "version_minor": 0
      },
      "text/plain": [
       "Extracting Robbery004_x264.mp4:   0%|          | 0/1529 [00:00<?, ?it/s]"
      ]
     },
     "metadata": {},
     "output_type": "display_data"
    },
    {
     "name": "stdout",
     "output_type": "stream",
     "text": [
      " - Robbery / Robbery005_x264.mp4\n"
     ]
    },
    {
     "data": {
      "application/vnd.jupyter.widget-view+json": {
       "model_id": "796a7a9a44354064b547246fdc4856d9",
       "version_major": 2,
       "version_minor": 0
      },
      "text/plain": [
       "Extracting Robbery005_x264.mp4:   0%|          | 0/2759 [00:00<?, ?it/s]"
      ]
     },
     "metadata": {},
     "output_type": "display_data"
    },
    {
     "name": "stdout",
     "output_type": "stream",
     "text": [
      " - Robbery / Robbery006_x264.mp4\n"
     ]
    },
    {
     "data": {
      "application/vnd.jupyter.widget-view+json": {
       "model_id": "b34569c8b11e41ca99c310f10f6a4c94",
       "version_major": 2,
       "version_minor": 0
      },
      "text/plain": [
       "Extracting Robbery006_x264.mp4:   0%|          | 0/3399 [00:00<?, ?it/s]"
      ]
     },
     "metadata": {},
     "output_type": "display_data"
    },
    {
     "name": "stdout",
     "output_type": "stream",
     "text": [
      " - Robbery / Robbery007_x264.mp4\n"
     ]
    },
    {
     "data": {
      "application/vnd.jupyter.widget-view+json": {
       "model_id": "316473329f054b188909c2425d7860b8",
       "version_major": 2,
       "version_minor": 0
      },
      "text/plain": [
       "Extracting Robbery007_x264.mp4:   0%|          | 0/2064 [00:00<?, ?it/s]"
      ]
     },
     "metadata": {},
     "output_type": "display_data"
    },
    {
     "name": "stdout",
     "output_type": "stream",
     "text": [
      " - Robbery / Robbery008_x264.mp4\n"
     ]
    },
    {
     "data": {
      "application/vnd.jupyter.widget-view+json": {
       "model_id": "6c1814f0eeab44b49c8fcd93596449f3",
       "version_major": 2,
       "version_minor": 0
      },
      "text/plain": [
       "Extracting Robbery008_x264.mp4:   0%|          | 0/2257 [00:00<?, ?it/s]"
      ]
     },
     "metadata": {},
     "output_type": "display_data"
    },
    {
     "name": "stdout",
     "output_type": "stream",
     "text": [
      " - Robbery / Robbery010_x264.mp4\n"
     ]
    },
    {
     "data": {
      "application/vnd.jupyter.widget-view+json": {
       "model_id": "6f13f05b279d43eb9cb274a265e16437",
       "version_major": 2,
       "version_minor": 0
      },
      "text/plain": [
       "Extracting Robbery010_x264.mp4:   0%|          | 0/3061 [00:00<?, ?it/s]"
      ]
     },
     "metadata": {},
     "output_type": "display_data"
    },
    {
     "name": "stdout",
     "output_type": "stream",
     "text": [
      " - Robbery / Robbery011_x264.mp4\n"
     ]
    },
    {
     "data": {
      "application/vnd.jupyter.widget-view+json": {
       "model_id": "3cd7a51582dd4dbfaf52c598f84f8d74",
       "version_major": 2,
       "version_minor": 0
      },
      "text/plain": [
       "Extracting Robbery011_x264.mp4:   0%|          | 0/1627 [00:00<?, ?it/s]"
      ]
     },
     "metadata": {},
     "output_type": "display_data"
    },
    {
     "name": "stdout",
     "output_type": "stream",
     "text": [
      " - Robbery / Robbery013_x264.mp4\n"
     ]
    },
    {
     "data": {
      "application/vnd.jupyter.widget-view+json": {
       "model_id": "0cc9eea039f446f781fc7368aadd533f",
       "version_major": 2,
       "version_minor": 0
      },
      "text/plain": [
       "Extracting Robbery013_x264.mp4:   0%|          | 0/3639 [00:00<?, ?it/s]"
      ]
     },
     "metadata": {},
     "output_type": "display_data"
    },
    {
     "name": "stdout",
     "output_type": "stream",
     "text": [
      " - Robbery / Robbery015_x264.mp4\n"
     ]
    },
    {
     "data": {
      "application/vnd.jupyter.widget-view+json": {
       "model_id": "9ed2555b208a4e029da6102371d7a22f",
       "version_major": 2,
       "version_minor": 0
      },
      "text/plain": [
       "Extracting Robbery015_x264.mp4:   0%|          | 0/2739 [00:00<?, ?it/s]"
      ]
     },
     "metadata": {},
     "output_type": "display_data"
    },
    {
     "name": "stdout",
     "output_type": "stream",
     "text": [
      " - Robbery / Robbery016_x264.mp4\n"
     ]
    },
    {
     "data": {
      "application/vnd.jupyter.widget-view+json": {
       "model_id": "bd2c6d5a66f14a99b6985ade88dc90b2",
       "version_major": 2,
       "version_minor": 0
      },
      "text/plain": [
       "Extracting Robbery016_x264.mp4:   0%|          | 0/1653 [00:00<?, ?it/s]"
      ]
     },
     "metadata": {},
     "output_type": "display_data"
    },
    {
     "name": "stdout",
     "output_type": "stream",
     "text": [
      " - Robbery / Robbery017_x264.mp4\n"
     ]
    },
    {
     "data": {
      "application/vnd.jupyter.widget-view+json": {
       "model_id": "a658d74a4d7240c08aeb7e7bdad6a4f6",
       "version_major": 2,
       "version_minor": 0
      },
      "text/plain": [
       "Extracting Robbery017_x264.mp4:   0%|          | 0/4358 [00:00<?, ?it/s]"
      ]
     },
     "metadata": {},
     "output_type": "display_data"
    },
    {
     "name": "stdout",
     "output_type": "stream",
     "text": [
      " - Robbery / Robbery018_x264.mp4\n"
     ]
    },
    {
     "data": {
      "application/vnd.jupyter.widget-view+json": {
       "model_id": "6262575147364810b93ce355d2543081",
       "version_major": 2,
       "version_minor": 0
      },
      "text/plain": [
       "Extracting Robbery018_x264.mp4:   0%|          | 0/2879 [00:00<?, ?it/s]"
      ]
     },
     "metadata": {},
     "output_type": "display_data"
    },
    {
     "name": "stdout",
     "output_type": "stream",
     "text": [
      " - Robbery / Robbery019_x264.mp4\n"
     ]
    },
    {
     "data": {
      "application/vnd.jupyter.widget-view+json": {
       "model_id": "81100d128da5473688ebb6e620639559",
       "version_major": 2,
       "version_minor": 0
      },
      "text/plain": [
       "Extracting Robbery019_x264.mp4:   0%|          | 0/5761 [00:00<?, ?it/s]"
      ]
     },
     "metadata": {},
     "output_type": "display_data"
    },
    {
     "name": "stdout",
     "output_type": "stream",
     "text": [
      " - Robbery / Robbery020_x264.mp4\n"
     ]
    },
    {
     "data": {
      "application/vnd.jupyter.widget-view+json": {
       "model_id": "4e7722d9f4954a95b7ed5e5ce30a8f6c",
       "version_major": 2,
       "version_minor": 0
      },
      "text/plain": [
       "Extracting Robbery020_x264.mp4:   0%|          | 0/4403 [00:00<?, ?it/s]"
      ]
     },
     "metadata": {},
     "output_type": "display_data"
    },
    {
     "name": "stdout",
     "output_type": "stream",
     "text": [
      " - Robbery / Robbery022_x264.mp4\n"
     ]
    },
    {
     "data": {
      "application/vnd.jupyter.widget-view+json": {
       "model_id": "72c39e4310844d3eae7bad791c6412c2",
       "version_major": 2,
       "version_minor": 0
      },
      "text/plain": [
       "Extracting Robbery022_x264.mp4:   0%|          | 0/3513 [00:00<?, ?it/s]"
      ]
     },
     "metadata": {},
     "output_type": "display_data"
    },
    {
     "name": "stdout",
     "output_type": "stream",
     "text": [
      " - Robbery / Robbery023_x264.mp4\n"
     ]
    },
    {
     "data": {
      "application/vnd.jupyter.widget-view+json": {
       "model_id": "45a2dbbc5edd421c9b61f4c5e22c0fd8",
       "version_major": 2,
       "version_minor": 0
      },
      "text/plain": [
       "Extracting Robbery023_x264.mp4:   0%|          | 0/1111 [00:00<?, ?it/s]"
      ]
     },
     "metadata": {},
     "output_type": "display_data"
    },
    {
     "name": "stdout",
     "output_type": "stream",
     "text": [
      " - Robbery / Robbery024_x264.mp4\n"
     ]
    },
    {
     "data": {
      "application/vnd.jupyter.widget-view+json": {
       "model_id": "ed47ffb5bbcf447b87333a2b013c3104",
       "version_major": 2,
       "version_minor": 0
      },
      "text/plain": [
       "Extracting Robbery024_x264.mp4:   0%|          | 0/2395 [00:00<?, ?it/s]"
      ]
     },
     "metadata": {},
     "output_type": "display_data"
    },
    {
     "name": "stdout",
     "output_type": "stream",
     "text": [
      " - Robbery / Robbery025_x264.mp4\n"
     ]
    },
    {
     "data": {
      "application/vnd.jupyter.widget-view+json": {
       "model_id": "048440247d0a404781bee35aa6122ed6",
       "version_major": 2,
       "version_minor": 0
      },
      "text/plain": [
       "Extracting Robbery025_x264.mp4:   0%|          | 0/1466 [00:00<?, ?it/s]"
      ]
     },
     "metadata": {},
     "output_type": "display_data"
    },
    {
     "name": "stdout",
     "output_type": "stream",
     "text": [
      " - Robbery / Robbery026_x264.mp4\n"
     ]
    },
    {
     "data": {
      "application/vnd.jupyter.widget-view+json": {
       "model_id": "8a3f7bd8c5224f2eb586a6e992d53ab5",
       "version_major": 2,
       "version_minor": 0
      },
      "text/plain": [
       "Extracting Robbery026_x264.mp4:   0%|          | 0/13115 [00:00<?, ?it/s]"
      ]
     },
     "metadata": {},
     "output_type": "display_data"
    },
    {
     "name": "stdout",
     "output_type": "stream",
     "text": [
      " - Robbery / Robbery027_x264.mp4\n"
     ]
    },
    {
     "data": {
      "application/vnd.jupyter.widget-view+json": {
       "model_id": "ecf3ea2b3ff341d8912f92dfda600707",
       "version_major": 2,
       "version_minor": 0
      },
      "text/plain": [
       "Extracting Robbery027_x264.mp4:   0%|          | 0/5400 [00:00<?, ?it/s]"
      ]
     },
     "metadata": {},
     "output_type": "display_data"
    },
    {
     "name": "stdout",
     "output_type": "stream",
     "text": [
      " - Robbery / Robbery028_x264.mp4\n"
     ]
    },
    {
     "data": {
      "application/vnd.jupyter.widget-view+json": {
       "model_id": "f312437d45c340d2a4740e4590e0628c",
       "version_major": 2,
       "version_minor": 0
      },
      "text/plain": [
       "Extracting Robbery028_x264.mp4:   0%|          | 0/2342 [00:00<?, ?it/s]"
      ]
     },
     "metadata": {},
     "output_type": "display_data"
    },
    {
     "name": "stdout",
     "output_type": "stream",
     "text": [
      " - Robbery / Robbery029_x264.mp4\n"
     ]
    },
    {
     "data": {
      "application/vnd.jupyter.widget-view+json": {
       "model_id": "8fb5467a0d1549f9908bf544ca7efa7d",
       "version_major": 2,
       "version_minor": 0
      },
      "text/plain": [
       "Extracting Robbery029_x264.mp4:   0%|          | 0/2183 [00:00<?, ?it/s]"
      ]
     },
     "metadata": {},
     "output_type": "display_data"
    },
    {
     "name": "stdout",
     "output_type": "stream",
     "text": [
      " - Robbery / Robbery030_x264.mp4\n"
     ]
    },
    {
     "data": {
      "application/vnd.jupyter.widget-view+json": {
       "model_id": "8b42513730ea4614912df3c70d83d26d",
       "version_major": 2,
       "version_minor": 0
      },
      "text/plain": [
       "Extracting Robbery030_x264.mp4:   0%|          | 0/2976 [00:00<?, ?it/s]"
      ]
     },
     "metadata": {},
     "output_type": "display_data"
    },
    {
     "name": "stdout",
     "output_type": "stream",
     "text": [
      " - Robbery / Robbery031_x264.mp4\n"
     ]
    },
    {
     "data": {
      "application/vnd.jupyter.widget-view+json": {
       "model_id": "34db92986462445f9de2c4216b7153d3",
       "version_major": 2,
       "version_minor": 0
      },
      "text/plain": [
       "Extracting Robbery031_x264.mp4:   0%|          | 0/1107 [00:00<?, ?it/s]"
      ]
     },
     "metadata": {},
     "output_type": "display_data"
    },
    {
     "name": "stdout",
     "output_type": "stream",
     "text": [
      " - Robbery / Robbery033_x264.mp4\n"
     ]
    },
    {
     "data": {
      "application/vnd.jupyter.widget-view+json": {
       "model_id": "3c5d588101e34210988315ba76b8d232",
       "version_major": 2,
       "version_minor": 0
      },
      "text/plain": [
       "Extracting Robbery033_x264.mp4:   0%|          | 0/950 [00:00<?, ?it/s]"
      ]
     },
     "metadata": {},
     "output_type": "display_data"
    },
    {
     "name": "stdout",
     "output_type": "stream",
     "text": [
      " - Robbery / Robbery034_x264.mp4\n"
     ]
    },
    {
     "data": {
      "application/vnd.jupyter.widget-view+json": {
       "model_id": "1796442188224cc4a8b597f379d23abe",
       "version_major": 2,
       "version_minor": 0
      },
      "text/plain": [
       "Extracting Robbery034_x264.mp4:   0%|          | 0/6332 [00:00<?, ?it/s]"
      ]
     },
     "metadata": {},
     "output_type": "display_data"
    },
    {
     "name": "stdout",
     "output_type": "stream",
     "text": [
      " - Robbery / Robbery035_x264.mp4\n"
     ]
    },
    {
     "data": {
      "application/vnd.jupyter.widget-view+json": {
       "model_id": "918fc24198ca446aac3d31088dfd8372",
       "version_major": 2,
       "version_minor": 0
      },
      "text/plain": [
       "Extracting Robbery035_x264.mp4:   0%|          | 0/4661 [00:00<?, ?it/s]"
      ]
     },
     "metadata": {},
     "output_type": "display_data"
    },
    {
     "name": "stdout",
     "output_type": "stream",
     "text": [
      " - Robbery / Robbery036_x264.mp4\n"
     ]
    },
    {
     "data": {
      "application/vnd.jupyter.widget-view+json": {
       "model_id": "4c196a71d5844f00b3313ba55d5cea33",
       "version_major": 2,
       "version_minor": 0
      },
      "text/plain": [
       "Extracting Robbery036_x264.mp4:   0%|          | 0/6171 [00:00<?, ?it/s]"
      ]
     },
     "metadata": {},
     "output_type": "display_data"
    },
    {
     "name": "stdout",
     "output_type": "stream",
     "text": [
      " - Robbery / Robbery037_x264.mp4\n"
     ]
    },
    {
     "data": {
      "application/vnd.jupyter.widget-view+json": {
       "model_id": "5dc9b1ab2a1c4a08bd5f8221a0b3b869",
       "version_major": 2,
       "version_minor": 0
      },
      "text/plain": [
       "Extracting Robbery037_x264.mp4:   0%|          | 0/8727 [00:00<?, ?it/s]"
      ]
     },
     "metadata": {},
     "output_type": "display_data"
    },
    {
     "name": "stdout",
     "output_type": "stream",
     "text": [
      " - Robbery / Robbery038_x264.mp4\n"
     ]
    },
    {
     "data": {
      "application/vnd.jupyter.widget-view+json": {
       "model_id": "2367dd6f4bdf410bb3bc30fa5e565d44",
       "version_major": 2,
       "version_minor": 0
      },
      "text/plain": [
       "Extracting Robbery038_x264.mp4:   0%|          | 0/1832 [00:00<?, ?it/s]"
      ]
     },
     "metadata": {},
     "output_type": "display_data"
    },
    {
     "name": "stdout",
     "output_type": "stream",
     "text": [
      " - Robbery / Robbery039_x264.mp4\n"
     ]
    },
    {
     "data": {
      "application/vnd.jupyter.widget-view+json": {
       "model_id": "31e4f61e8f5a4e919aa78eba945ab906",
       "version_major": 2,
       "version_minor": 0
      },
      "text/plain": [
       "Extracting Robbery039_x264.mp4:   0%|          | 0/525 [00:00<?, ?it/s]"
      ]
     },
     "metadata": {},
     "output_type": "display_data"
    },
    {
     "name": "stdout",
     "output_type": "stream",
     "text": [
      " - Robbery / Robbery040_x264.mp4\n"
     ]
    },
    {
     "data": {
      "application/vnd.jupyter.widget-view+json": {
       "model_id": "6d308987410d43659ea569642d0ba11b",
       "version_major": 2,
       "version_minor": 0
      },
      "text/plain": [
       "Extracting Robbery040_x264.mp4:   0%|          | 0/1044 [00:00<?, ?it/s]"
      ]
     },
     "metadata": {},
     "output_type": "display_data"
    },
    {
     "name": "stdout",
     "output_type": "stream",
     "text": [
      " - Robbery / Robbery041_x264.mp4\n"
     ]
    },
    {
     "data": {
      "application/vnd.jupyter.widget-view+json": {
       "model_id": "1baba85d2fdc45099bbcb02bc9f9fe86",
       "version_major": 2,
       "version_minor": 0
      },
      "text/plain": [
       "Extracting Robbery041_x264.mp4:   0%|          | 0/1367 [00:00<?, ?it/s]"
      ]
     },
     "metadata": {},
     "output_type": "display_data"
    },
    {
     "name": "stdout",
     "output_type": "stream",
     "text": [
      " - Robbery / Robbery042_x264.mp4\n"
     ]
    },
    {
     "data": {
      "application/vnd.jupyter.widget-view+json": {
       "model_id": "42cc588eaf3243d0bda3bebc7b3502be",
       "version_major": 2,
       "version_minor": 0
      },
      "text/plain": [
       "Extracting Robbery042_x264.mp4:   0%|          | 0/2172 [00:00<?, ?it/s]"
      ]
     },
     "metadata": {},
     "output_type": "display_data"
    },
    {
     "name": "stdout",
     "output_type": "stream",
     "text": [
      " - Robbery / Robbery044_x264.mp4\n"
     ]
    },
    {
     "data": {
      "application/vnd.jupyter.widget-view+json": {
       "model_id": "65619dfb00f6429c80cfb2c2621a0c6f",
       "version_major": 2,
       "version_minor": 0
      },
      "text/plain": [
       "Extracting Robbery044_x264.mp4:   0%|          | 0/468 [00:00<?, ?it/s]"
      ]
     },
     "metadata": {},
     "output_type": "display_data"
    },
    {
     "name": "stdout",
     "output_type": "stream",
     "text": [
      " - Robbery / Robbery045_x264.mp4\n"
     ]
    },
    {
     "data": {
      "application/vnd.jupyter.widget-view+json": {
       "model_id": "981da258561e407f99c5ee39ce36e015",
       "version_major": 2,
       "version_minor": 0
      },
      "text/plain": [
       "Extracting Robbery045_x264.mp4:   0%|          | 0/3331 [00:00<?, ?it/s]"
      ]
     },
     "metadata": {},
     "output_type": "display_data"
    },
    {
     "name": "stdout",
     "output_type": "stream",
     "text": [
      " - Robbery / Robbery046_x264.mp4\n"
     ]
    },
    {
     "data": {
      "application/vnd.jupyter.widget-view+json": {
       "model_id": "fd3b1477f43a4aa99d9711c9a6e00bf4",
       "version_major": 2,
       "version_minor": 0
      },
      "text/plain": [
       "Extracting Robbery046_x264.mp4:   0%|          | 0/852 [00:00<?, ?it/s]"
      ]
     },
     "metadata": {},
     "output_type": "display_data"
    },
    {
     "name": "stdout",
     "output_type": "stream",
     "text": [
      " - Shooting / Shooting002_x264.mp4\n"
     ]
    },
    {
     "data": {
      "application/vnd.jupyter.widget-view+json": {
       "model_id": "5af7995ca6ff42a9b693722edd25a183",
       "version_major": 2,
       "version_minor": 0
      },
      "text/plain": [
       "Extracting Shooting002_x264.mp4:   0%|          | 0/1206 [00:00<?, ?it/s]"
      ]
     },
     "metadata": {},
     "output_type": "display_data"
    },
    {
     "name": "stdout",
     "output_type": "stream",
     "text": [
      " - Shooting / Shooting004_x264.mp4\n"
     ]
    },
    {
     "data": {
      "application/vnd.jupyter.widget-view+json": {
       "model_id": "5696fc063b37455fbc2ac5a06be00b3d",
       "version_major": 2,
       "version_minor": 0
      },
      "text/plain": [
       "Extracting Shooting004_x264.mp4:   0%|          | 0/1793 [00:00<?, ?it/s]"
      ]
     },
     "metadata": {},
     "output_type": "display_data"
    },
    {
     "name": "stdout",
     "output_type": "stream",
     "text": [
      " - Shooting / Shooting005_x264.mp4\n"
     ]
    },
    {
     "data": {
      "application/vnd.jupyter.widget-view+json": {
       "model_id": "df8f31c665ea4b6886338a249c158e4c",
       "version_major": 2,
       "version_minor": 0
      },
      "text/plain": [
       "Extracting Shooting005_x264.mp4:   0%|          | 0/5330 [00:00<?, ?it/s]"
      ]
     },
     "metadata": {},
     "output_type": "display_data"
    },
    {
     "name": "stdout",
     "output_type": "stream",
     "text": [
      " - Shooting / Shooting007_x264.mp4\n"
     ]
    },
    {
     "data": {
      "application/vnd.jupyter.widget-view+json": {
       "model_id": "50431c44a9c348ed9859befc3b84f741",
       "version_major": 2,
       "version_minor": 0
      },
      "text/plain": [
       "Extracting Shooting007_x264.mp4:   0%|          | 0/1430 [00:00<?, ?it/s]"
      ]
     },
     "metadata": {},
     "output_type": "display_data"
    },
    {
     "name": "stdout",
     "output_type": "stream",
     "text": [
      " - Shooting / Shooting010_x264.mp4\n"
     ]
    },
    {
     "data": {
      "application/vnd.jupyter.widget-view+json": {
       "model_id": "af007034abd848469badc51ef9d60dd3",
       "version_major": 2,
       "version_minor": 0
      },
      "text/plain": [
       "Extracting Shooting010_x264.mp4:   0%|          | 0/2641 [00:00<?, ?it/s]"
      ]
     },
     "metadata": {},
     "output_type": "display_data"
    },
    {
     "name": "stdout",
     "output_type": "stream",
     "text": [
      " - Shooting / Shooting011_x264.mp4\n"
     ]
    },
    {
     "data": {
      "application/vnd.jupyter.widget-view+json": {
       "model_id": "254a267abf1d4af3bf03caa27ae87ccb",
       "version_major": 2,
       "version_minor": 0
      },
      "text/plain": [
       "Extracting Shooting011_x264.mp4:   0%|          | 0/4003 [00:00<?, ?it/s]"
      ]
     },
     "metadata": {},
     "output_type": "display_data"
    },
    {
     "name": "stdout",
     "output_type": "stream",
     "text": [
      " - Shooting / Shooting012_x264.mp4\n"
     ]
    },
    {
     "data": {
      "application/vnd.jupyter.widget-view+json": {
       "model_id": "96977210b4a248d194958399903a025f",
       "version_major": 2,
       "version_minor": 0
      },
      "text/plain": [
       "Extracting Shooting012_x264.mp4:   0%|          | 0/1886 [00:00<?, ?it/s]"
      ]
     },
     "metadata": {},
     "output_type": "display_data"
    },
    {
     "name": "stdout",
     "output_type": "stream",
     "text": [
      " - Shooting / Shooting013_x264.mp4\n"
     ]
    },
    {
     "data": {
      "application/vnd.jupyter.widget-view+json": {
       "model_id": "6c60a744317b45d491abcfffc9d77e4d",
       "version_major": 2,
       "version_minor": 0
      },
      "text/plain": [
       "Extracting Shooting013_x264.mp4:   0%|          | 0/1073 [00:00<?, ?it/s]"
      ]
     },
     "metadata": {},
     "output_type": "display_data"
    },
    {
     "name": "stdout",
     "output_type": "stream",
     "text": [
      " - Shooting / Shooting014_x264.mp4\n"
     ]
    },
    {
     "data": {
      "application/vnd.jupyter.widget-view+json": {
       "model_id": "32efea3c426046d881e034d33c741229",
       "version_major": 2,
       "version_minor": 0
      },
      "text/plain": [
       "Extracting Shooting014_x264.mp4:   0%|          | 0/6410 [00:00<?, ?it/s]"
      ]
     },
     "metadata": {},
     "output_type": "display_data"
    },
    {
     "name": "stdout",
     "output_type": "stream",
     "text": [
      " - Shooting / Shooting015_x264.mp4\n"
     ]
    },
    {
     "data": {
      "application/vnd.jupyter.widget-view+json": {
       "model_id": "0c885dc196b545c2bef213cf882d97a3",
       "version_major": 2,
       "version_minor": 0
      },
      "text/plain": [
       "Extracting Shooting015_x264.mp4:   0%|          | 0/1713 [00:00<?, ?it/s]"
      ]
     },
     "metadata": {},
     "output_type": "display_data"
    },
    {
     "name": "stdout",
     "output_type": "stream",
     "text": [
      " - Shooting / Shooting017_x264.mp4\n"
     ]
    },
    {
     "data": {
      "application/vnd.jupyter.widget-view+json": {
       "model_id": "6827088f89cf4ab2b3639fc80a147ccf",
       "version_major": 2,
       "version_minor": 0
      },
      "text/plain": [
       "Extracting Shooting017_x264.mp4:   0%|          | 0/942 [00:00<?, ?it/s]"
      ]
     },
     "metadata": {},
     "output_type": "display_data"
    },
    {
     "name": "stdout",
     "output_type": "stream",
     "text": [
      " - Shooting / Shooting018_x264.mp4\n"
     ]
    },
    {
     "data": {
      "application/vnd.jupyter.widget-view+json": {
       "model_id": "e30338bedb45400e876c6055b2c3e2ed",
       "version_major": 2,
       "version_minor": 0
      },
      "text/plain": [
       "Extracting Shooting018_x264.mp4:   0%|          | 0/1799 [00:00<?, ?it/s]"
      ]
     },
     "metadata": {},
     "output_type": "display_data"
    },
    {
     "name": "stdout",
     "output_type": "stream",
     "text": [
      " - Shooting / Shooting019_x264.mp4\n"
     ]
    },
    {
     "data": {
      "application/vnd.jupyter.widget-view+json": {
       "model_id": "36dc8e6e257a4a08accfe31b264eafb6",
       "version_major": 2,
       "version_minor": 0
      },
      "text/plain": [
       "Extracting Shooting019_x264.mp4:   0%|          | 0/2756 [00:00<?, ?it/s]"
      ]
     },
     "metadata": {},
     "output_type": "display_data"
    },
    {
     "name": "stdout",
     "output_type": "stream",
     "text": [
      " - Shooting / Shooting020_x264.mp4\n"
     ]
    },
    {
     "data": {
      "application/vnd.jupyter.widget-view+json": {
       "model_id": "15214de779824946b7b518a9a57dbe70",
       "version_major": 2,
       "version_minor": 0
      },
      "text/plain": [
       "Extracting Shooting020_x264.mp4:   0%|          | 0/5092 [00:00<?, ?it/s]"
      ]
     },
     "metadata": {},
     "output_type": "display_data"
    },
    {
     "name": "stdout",
     "output_type": "stream",
     "text": [
      " - Shooting / Shooting021_x264.mp4\n"
     ]
    },
    {
     "data": {
      "application/vnd.jupyter.widget-view+json": {
       "model_id": "1c51fea92faa4152bdeff140b7c3c821",
       "version_major": 2,
       "version_minor": 0
      },
      "text/plain": [
       "Extracting Shooting021_x264.mp4:   0%|          | 0/1275 [00:00<?, ?it/s]"
      ]
     },
     "metadata": {},
     "output_type": "display_data"
    },
    {
     "name": "stdout",
     "output_type": "stream",
     "text": [
      " - Shooting / Shooting022_x264.mp4\n"
     ]
    },
    {
     "data": {
      "application/vnd.jupyter.widget-view+json": {
       "model_id": "d2d3deb1e29245a9bde542431d1f01f2",
       "version_major": 2,
       "version_minor": 0
      },
      "text/plain": [
       "Extracting Shooting022_x264.mp4:   0%|          | 0/4554 [00:00<?, ?it/s]"
      ]
     },
     "metadata": {},
     "output_type": "display_data"
    },
    {
     "name": "stdout",
     "output_type": "stream",
     "text": [
      " - Shooting / Shooting024_x264.mp4\n"
     ]
    },
    {
     "data": {
      "application/vnd.jupyter.widget-view+json": {
       "model_id": "2b86a348b3b640f69a31e053d9a34f02",
       "version_major": 2,
       "version_minor": 0
      },
      "text/plain": [
       "Extracting Shooting024_x264.mp4:   0%|          | 0/2003 [00:00<?, ?it/s]"
      ]
     },
     "metadata": {},
     "output_type": "display_data"
    },
    {
     "name": "stdout",
     "output_type": "stream",
     "text": [
      " - Shooting / Shooting025_x264.mp4\n"
     ]
    },
    {
     "data": {
      "application/vnd.jupyter.widget-view+json": {
       "model_id": "32b1e1963db74e35b5d7855efabdef64",
       "version_major": 2,
       "version_minor": 0
      },
      "text/plain": [
       "Extracting Shooting025_x264.mp4:   0%|          | 0/2449 [00:00<?, ?it/s]"
      ]
     },
     "metadata": {},
     "output_type": "display_data"
    },
    {
     "name": "stdout",
     "output_type": "stream",
     "text": [
      " - Shooting / Shooting026_x264.mp4\n"
     ]
    },
    {
     "data": {
      "application/vnd.jupyter.widget-view+json": {
       "model_id": "13afcf8257464577b259c83f2a95b565",
       "version_major": 2,
       "version_minor": 0
      },
      "text/plain": [
       "Extracting Shooting026_x264.mp4:   0%|          | 0/1403 [00:00<?, ?it/s]"
      ]
     },
     "metadata": {},
     "output_type": "display_data"
    },
    {
     "name": "stdout",
     "output_type": "stream",
     "text": [
      " - Shooting / Shooting027_x264.mp4\n"
     ]
    },
    {
     "data": {
      "application/vnd.jupyter.widget-view+json": {
       "model_id": "c2295453892e42438ca2b95208cf6236",
       "version_major": 2,
       "version_minor": 0
      },
      "text/plain": [
       "Extracting Shooting027_x264.mp4:   0%|          | 0/708 [00:00<?, ?it/s]"
      ]
     },
     "metadata": {},
     "output_type": "display_data"
    },
    {
     "name": "stdout",
     "output_type": "stream",
     "text": [
      " - Shooting / Shooting028_x264.mp4\n"
     ]
    },
    {
     "data": {
      "application/vnd.jupyter.widget-view+json": {
       "model_id": "4674b48ad3d04913a64251a2f5c67c52",
       "version_major": 2,
       "version_minor": 0
      },
      "text/plain": [
       "Extracting Shooting028_x264.mp4:   0%|          | 0/1898 [00:00<?, ?it/s]"
      ]
     },
     "metadata": {},
     "output_type": "display_data"
    },
    {
     "name": "stdout",
     "output_type": "stream",
     "text": [
      " - Shooting / Shooting029_x264.mp4\n"
     ]
    },
    {
     "data": {
      "application/vnd.jupyter.widget-view+json": {
       "model_id": "0840201c46bf45f495b5d5f492601586",
       "version_major": 2,
       "version_minor": 0
      },
      "text/plain": [
       "Extracting Shooting029_x264.mp4:   0%|          | 0/1364 [00:00<?, ?it/s]"
      ]
     },
     "metadata": {},
     "output_type": "display_data"
    },
    {
     "name": "stdout",
     "output_type": "stream",
     "text": [
      " - Shooting / Shooting030_x264.mp4\n"
     ]
    },
    {
     "data": {
      "application/vnd.jupyter.widget-view+json": {
       "model_id": "5cebbf5e083143f782f1523920658d8a",
       "version_major": 2,
       "version_minor": 0
      },
      "text/plain": [
       "Extracting Shooting030_x264.mp4:   0%|          | 0/1142 [00:00<?, ?it/s]"
      ]
     },
     "metadata": {},
     "output_type": "display_data"
    },
    {
     "name": "stdout",
     "output_type": "stream",
     "text": [
      " - Shooting / Shooting031_x264.mp4\n"
     ]
    },
    {
     "data": {
      "application/vnd.jupyter.widget-view+json": {
       "model_id": "7c5408e633da42639ce5d91886a48379",
       "version_major": 2,
       "version_minor": 0
      },
      "text/plain": [
       "Extracting Shooting031_x264.mp4:   0%|          | 0/2113 [00:00<?, ?it/s]"
      ]
     },
     "metadata": {},
     "output_type": "display_data"
    },
    {
     "name": "stdout",
     "output_type": "stream",
     "text": [
      " - Shooting / Shooting032_x264.mp4\n"
     ]
    },
    {
     "data": {
      "application/vnd.jupyter.widget-view+json": {
       "model_id": "bc3babff8ee1472d9f76353a4980f946",
       "version_major": 2,
       "version_minor": 0
      },
      "text/plain": [
       "Extracting Shooting032_x264.mp4:   0%|          | 0/21681 [00:00<?, ?it/s]"
      ]
     },
     "metadata": {},
     "output_type": "display_data"
    },
    {
     "name": "stdout",
     "output_type": "stream",
     "text": [
      " - Shooting / Shooting033_x264.mp4\n"
     ]
    },
    {
     "data": {
      "application/vnd.jupyter.widget-view+json": {
       "model_id": "37c17e4fdc5a498eacf4acd094e7faef",
       "version_major": 2,
       "version_minor": 0
      },
      "text/plain": [
       "Extracting Shooting033_x264.mp4:   0%|          | 0/3630 [00:00<?, ?it/s]"
      ]
     },
     "metadata": {},
     "output_type": "display_data"
    },
    {
     "name": "stdout",
     "output_type": "stream",
     "text": [
      " - Shooting / Shooting034_x264.mp4\n"
     ]
    },
    {
     "data": {
      "application/vnd.jupyter.widget-view+json": {
       "model_id": "29f0b0b92bf840d79f401ed40eef9874",
       "version_major": 2,
       "version_minor": 0
      },
      "text/plain": [
       "Extracting Shooting034_x264.mp4:   0%|          | 0/1409 [00:00<?, ?it/s]"
      ]
     },
     "metadata": {},
     "output_type": "display_data"
    },
    {
     "name": "stdout",
     "output_type": "stream",
     "text": [
      " - Shooting / Shooting036_x264.mp4\n"
     ]
    },
    {
     "data": {
      "application/vnd.jupyter.widget-view+json": {
       "model_id": "b4bdf74714db4c038dc5035414e9219f",
       "version_major": 2,
       "version_minor": 0
      },
      "text/plain": [
       "Extracting Shooting036_x264.mp4:   0%|          | 0/3830 [00:00<?, ?it/s]"
      ]
     },
     "metadata": {},
     "output_type": "display_data"
    },
    {
     "name": "stdout",
     "output_type": "stream",
     "text": [
      " - Shooting / Shooting037_x264.mp4\n"
     ]
    },
    {
     "data": {
      "application/vnd.jupyter.widget-view+json": {
       "model_id": "b4b75923b86042e2adbb9dd9adb38a10",
       "version_major": 2,
       "version_minor": 0
      },
      "text/plain": [
       "Extracting Shooting037_x264.mp4:   0%|          | 0/305 [00:00<?, ?it/s]"
      ]
     },
     "metadata": {},
     "output_type": "display_data"
    },
    {
     "name": "stdout",
     "output_type": "stream",
     "text": [
      " - Shooting / Shooting038_x264.mp4\n"
     ]
    },
    {
     "data": {
      "application/vnd.jupyter.widget-view+json": {
       "model_id": "c3aa56db15c849b791da1b3ecd7378a8",
       "version_major": 2,
       "version_minor": 0
      },
      "text/plain": [
       "Extracting Shooting038_x264.mp4:   0%|          | 0/1298 [00:00<?, ?it/s]"
      ]
     },
     "metadata": {},
     "output_type": "display_data"
    },
    {
     "name": "stdout",
     "output_type": "stream",
     "text": [
      " - Shooting / Shooting039_x264.mp4\n"
     ]
    },
    {
     "data": {
      "application/vnd.jupyter.widget-view+json": {
       "model_id": "481c85e3db8e4323bd6a8d2801e00516",
       "version_major": 2,
       "version_minor": 0
      },
      "text/plain": [
       "Extracting Shooting039_x264.mp4:   0%|          | 0/831 [00:00<?, ?it/s]"
      ]
     },
     "metadata": {},
     "output_type": "display_data"
    },
    {
     "name": "stdout",
     "output_type": "stream",
     "text": [
      " - Shooting / Shooting040_x264.mp4\n"
     ]
    },
    {
     "data": {
      "application/vnd.jupyter.widget-view+json": {
       "model_id": "54b7402aaa97494dbcf7f8b23e99fab8",
       "version_major": 2,
       "version_minor": 0
      },
      "text/plain": [
       "Extracting Shooting040_x264.mp4:   0%|          | 0/860 [00:00<?, ?it/s]"
      ]
     },
     "metadata": {},
     "output_type": "display_data"
    },
    {
     "name": "stdout",
     "output_type": "stream",
     "text": [
      " - Shooting / Shooting042_x264.mp4\n"
     ]
    },
    {
     "data": {
      "application/vnd.jupyter.widget-view+json": {
       "model_id": "97043fdc6d164c6b8a5c694162b61e2c",
       "version_major": 2,
       "version_minor": 0
      },
      "text/plain": [
       "Extracting Shooting042_x264.mp4:   0%|          | 0/1547 [00:00<?, ?it/s]"
      ]
     },
     "metadata": {},
     "output_type": "display_data"
    },
    {
     "name": "stdout",
     "output_type": "stream",
     "text": [
      " - Shooting / Shooting043_x264.mp4\n"
     ]
    },
    {
     "data": {
      "application/vnd.jupyter.widget-view+json": {
       "model_id": "e0b57af78c954fc993c6b1c6fcc3e240",
       "version_major": 2,
       "version_minor": 0
      },
      "text/plain": [
       "Extracting Shooting043_x264.mp4:   0%|          | 0/1874 [00:00<?, ?it/s]"
      ]
     },
     "metadata": {},
     "output_type": "display_data"
    },
    {
     "name": "stdout",
     "output_type": "stream",
     "text": [
      " - Shooting / Shooting044_x264.mp4\n"
     ]
    },
    {
     "data": {
      "application/vnd.jupyter.widget-view+json": {
       "model_id": "57026e4d8e4c45b6b1ef099b434bbffa",
       "version_major": 2,
       "version_minor": 0
      },
      "text/plain": [
       "Extracting Shooting044_x264.mp4:   0%|          | 0/464 [00:00<?, ?it/s]"
      ]
     },
     "metadata": {},
     "output_type": "display_data"
    },
    {
     "name": "stdout",
     "output_type": "stream",
     "text": [
      " - Shooting / Shooting047_x264.mp4\n"
     ]
    },
    {
     "data": {
      "application/vnd.jupyter.widget-view+json": {
       "model_id": "c31528dc973843fda21d42e55c84cdc6",
       "version_major": 2,
       "version_minor": 0
      },
      "text/plain": [
       "Extracting Shooting047_x264.mp4:   0%|          | 0/8287 [00:00<?, ?it/s]"
      ]
     },
     "metadata": {},
     "output_type": "display_data"
    },
    {
     "name": "stdout",
     "output_type": "stream",
     "text": [
      " - Shooting / Shooting050_x264.mp4\n"
     ]
    },
    {
     "data": {
      "application/vnd.jupyter.widget-view+json": {
       "model_id": "6828cf86cfce454b86c3eb97f51dd0b8",
       "version_major": 2,
       "version_minor": 0
      },
      "text/plain": [
       "Extracting Shooting050_x264.mp4:   0%|          | 0/3828 [00:00<?, ?it/s]"
      ]
     },
     "metadata": {},
     "output_type": "display_data"
    },
    {
     "name": "stdout",
     "output_type": "stream",
     "text": [
      " - Shooting / Shooting051_x264.mp4\n"
     ]
    },
    {
     "data": {
      "application/vnd.jupyter.widget-view+json": {
       "model_id": "cd6cf31450e04a85aada7267181e5126",
       "version_major": 2,
       "version_minor": 0
      },
      "text/plain": [
       "Extracting Shooting051_x264.mp4:   0%|          | 0/1399 [00:00<?, ?it/s]"
      ]
     },
     "metadata": {},
     "output_type": "display_data"
    },
    {
     "name": "stdout",
     "output_type": "stream",
     "text": [
      " - Shooting / Shooting053_x264.mp4\n"
     ]
    },
    {
     "data": {
      "application/vnd.jupyter.widget-view+json": {
       "model_id": "bdfd4025a39d4d28bc441b464d86e747",
       "version_major": 2,
       "version_minor": 0
      },
      "text/plain": [
       "Extracting Shooting053_x264.mp4:   0%|          | 0/919 [00:00<?, ?it/s]"
      ]
     },
     "metadata": {},
     "output_type": "display_data"
    },
    {
     "name": "stdout",
     "output_type": "stream",
     "text": [
      " - Shooting / Shooting054_x264.mp4\n"
     ]
    },
    {
     "data": {
      "application/vnd.jupyter.widget-view+json": {
       "model_id": "9cd553cfe60040c7987843e1bf9d8be3",
       "version_major": 2,
       "version_minor": 0
      },
      "text/plain": [
       "Extracting Shooting054_x264.mp4:   0%|          | 0/731 [00:00<?, ?it/s]"
      ]
     },
     "metadata": {},
     "output_type": "display_data"
    },
    {
     "name": "stdout",
     "output_type": "stream",
     "text": [
      " - Shoplifting / Shoplifting001_x264.mp4\n"
     ]
    },
    {
     "data": {
      "application/vnd.jupyter.widget-view+json": {
       "model_id": "56b292ab03314ca8be634998d17c41ed",
       "version_major": 2,
       "version_minor": 0
      },
      "text/plain": [
       "Extracting Shoplifting001_x264.mp4:   0%|          | 0/4344 [00:00<?, ?it/s]"
      ]
     },
     "metadata": {},
     "output_type": "display_data"
    },
    {
     "name": "stdout",
     "output_type": "stream",
     "text": [
      " - Shoplifting / Shoplifting003_x264.mp4\n"
     ]
    },
    {
     "data": {
      "application/vnd.jupyter.widget-view+json": {
       "model_id": "85cb1dcd0e48437590b2aecc8ab1015c",
       "version_major": 2,
       "version_minor": 0
      },
      "text/plain": [
       "Extracting Shoplifting003_x264.mp4:   0%|          | 0/10817 [00:00<?, ?it/s]"
      ]
     },
     "metadata": {},
     "output_type": "display_data"
    },
    {
     "name": "stdout",
     "output_type": "stream",
     "text": [
      " - Shoplifting / Shoplifting004_x264.mp4\n"
     ]
    },
    {
     "data": {
      "application/vnd.jupyter.widget-view+json": {
       "model_id": "4524e49ce6af4eb2b90bbb4b2de45586",
       "version_major": 2,
       "version_minor": 0
      },
      "text/plain": [
       "Extracting Shoplifting004_x264.mp4:   0%|          | 0/6673 [00:00<?, ?it/s]"
      ]
     },
     "metadata": {},
     "output_type": "display_data"
    },
    {
     "name": "stdout",
     "output_type": "stream",
     "text": [
      " - Shoplifting / Shoplifting005_x264.mp4\n"
     ]
    },
    {
     "data": {
      "application/vnd.jupyter.widget-view+json": {
       "model_id": "f19f321dcf2a40ba94a772b66467e1bc",
       "version_major": 2,
       "version_minor": 0
      },
      "text/plain": [
       "Extracting Shoplifting005_x264.mp4:   0%|          | 0/1967 [00:00<?, ?it/s]"
      ]
     },
     "metadata": {},
     "output_type": "display_data"
    },
    {
     "name": "stdout",
     "output_type": "stream",
     "text": [
      " - Shoplifting / Shoplifting006_x264.mp4\n"
     ]
    },
    {
     "data": {
      "application/vnd.jupyter.widget-view+json": {
       "model_id": "f7196922d7634d25ba27f4817bc8ce8f",
       "version_major": 2,
       "version_minor": 0
      },
      "text/plain": [
       "Extracting Shoplifting006_x264.mp4:   0%|          | 0/3156 [00:00<?, ?it/s]"
      ]
     },
     "metadata": {},
     "output_type": "display_data"
    },
    {
     "name": "stdout",
     "output_type": "stream",
     "text": [
      " - Shoplifting / Shoplifting007_x264.mp4\n"
     ]
    },
    {
     "data": {
      "application/vnd.jupyter.widget-view+json": {
       "model_id": "2174ee4a1033498b8aa22734c3d9d214",
       "version_major": 2,
       "version_minor": 0
      },
      "text/plain": [
       "Extracting Shoplifting007_x264.mp4:   0%|          | 0/5124 [00:00<?, ?it/s]"
      ]
     },
     "metadata": {},
     "output_type": "display_data"
    },
    {
     "name": "stdout",
     "output_type": "stream",
     "text": [
      " - Shoplifting / Shoplifting010_x264.mp4\n"
     ]
    },
    {
     "data": {
      "application/vnd.jupyter.widget-view+json": {
       "model_id": "03b63457d2b84b7fa08f10a63c182072",
       "version_major": 2,
       "version_minor": 0
      },
      "text/plain": [
       "Extracting Shoplifting010_x264.mp4:   0%|          | 0/2736 [00:00<?, ?it/s]"
      ]
     },
     "metadata": {},
     "output_type": "display_data"
    },
    {
     "name": "stdout",
     "output_type": "stream",
     "text": [
      " - Shoplifting / Shoplifting012_x264.mp4\n"
     ]
    },
    {
     "data": {
      "application/vnd.jupyter.widget-view+json": {
       "model_id": "1c3f00b92ddf496db6d452065935921b",
       "version_major": 2,
       "version_minor": 0
      },
      "text/plain": [
       "Extracting Shoplifting012_x264.mp4:   0%|          | 0/23433 [00:00<?, ?it/s]"
      ]
     },
     "metadata": {},
     "output_type": "display_data"
    },
    {
     "name": "stdout",
     "output_type": "stream",
     "text": [
      " - Shoplifting / Shoplifting014_x264.mp4\n"
     ]
    },
    {
     "data": {
      "application/vnd.jupyter.widget-view+json": {
       "model_id": "e4f7cf7b94614d3bb7f1e7f3ae20bb7c",
       "version_major": 2,
       "version_minor": 0
      },
      "text/plain": [
       "Extracting Shoplifting014_x264.mp4:   0%|          | 0/66698 [00:00<?, ?it/s]"
      ]
     },
     "metadata": {},
     "output_type": "display_data"
    },
    {
     "name": "stdout",
     "output_type": "stream",
     "text": [
      " - Shoplifting / Shoplifting015_x264.mp4\n"
     ]
    },
    {
     "data": {
      "application/vnd.jupyter.widget-view+json": {
       "model_id": "55d71dae43204ca98232bbce9066aab8",
       "version_major": 2,
       "version_minor": 0
      },
      "text/plain": [
       "Extracting Shoplifting015_x264.mp4:   0%|          | 0/2256 [00:00<?, ?it/s]"
      ]
     },
     "metadata": {},
     "output_type": "display_data"
    },
    {
     "name": "stdout",
     "output_type": "stream",
     "text": [
      " - Shoplifting / Shoplifting017_x264.mp4\n"
     ]
    },
    {
     "data": {
      "application/vnd.jupyter.widget-view+json": {
       "model_id": "b97bad303c83433eac38e6580cc057f4",
       "version_major": 2,
       "version_minor": 0
      },
      "text/plain": [
       "Extracting Shoplifting017_x264.mp4:   0%|          | 0/457 [00:00<?, ?it/s]"
      ]
     },
     "metadata": {},
     "output_type": "display_data"
    },
    {
     "name": "stdout",
     "output_type": "stream",
     "text": [
      " - Shoplifting / Shoplifting018_x264.mp4\n"
     ]
    },
    {
     "data": {
      "application/vnd.jupyter.widget-view+json": {
       "model_id": "4c75deb16e89447b86b40d6f316ebead",
       "version_major": 2,
       "version_minor": 0
      },
      "text/plain": [
       "Extracting Shoplifting018_x264.mp4:   0%|          | 0/2132 [00:00<?, ?it/s]"
      ]
     },
     "metadata": {},
     "output_type": "display_data"
    },
    {
     "name": "stdout",
     "output_type": "stream",
     "text": [
      " - Shoplifting / Shoplifting020_x264.mp4\n"
     ]
    },
    {
     "data": {
      "application/vnd.jupyter.widget-view+json": {
       "model_id": "9bfccc6f21a9446aae1cd4dce68a98b8",
       "version_major": 2,
       "version_minor": 0
      },
      "text/plain": [
       "Extracting Shoplifting020_x264.mp4:   0%|          | 0/5770 [00:00<?, ?it/s]"
      ]
     },
     "metadata": {},
     "output_type": "display_data"
    },
    {
     "name": "stdout",
     "output_type": "stream",
     "text": [
      " - Shoplifting / Shoplifting021_x264.mp4\n"
     ]
    },
    {
     "data": {
      "application/vnd.jupyter.widget-view+json": {
       "model_id": "280f35f128fa47abbf42248f0405acf4",
       "version_major": 2,
       "version_minor": 0
      },
      "text/plain": [
       "Extracting Shoplifting021_x264.mp4:   0%|          | 0/3551 [00:00<?, ?it/s]"
      ]
     },
     "metadata": {},
     "output_type": "display_data"
    },
    {
     "name": "stdout",
     "output_type": "stream",
     "text": [
      " - Shoplifting / Shoplifting024_x264.mp4\n"
     ]
    },
    {
     "data": {
      "application/vnd.jupyter.widget-view+json": {
       "model_id": "f7e3d8b295f943438cfa62ef7fc8cce5",
       "version_major": 2,
       "version_minor": 0
      },
      "text/plain": [
       "Extracting Shoplifting024_x264.mp4:   0%|          | 0/1208 [00:00<?, ?it/s]"
      ]
     },
     "metadata": {},
     "output_type": "display_data"
    },
    {
     "name": "stdout",
     "output_type": "stream",
     "text": [
      " - Shoplifting / Shoplifting025_x264.mp4\n"
     ]
    },
    {
     "data": {
      "application/vnd.jupyter.widget-view+json": {
       "model_id": "cf4b74f3cb0148ca96f4c74ba03a97ef",
       "version_major": 2,
       "version_minor": 0
      },
      "text/plain": [
       "Extracting Shoplifting025_x264.mp4:   0%|          | 0/1824 [00:00<?, ?it/s]"
      ]
     },
     "metadata": {},
     "output_type": "display_data"
    },
    {
     "name": "stdout",
     "output_type": "stream",
     "text": [
      " - Shoplifting / Shoplifting026_x264.mp4\n"
     ]
    },
    {
     "data": {
      "application/vnd.jupyter.widget-view+json": {
       "model_id": "3631a533cab84017ad28128338a86c52",
       "version_major": 2,
       "version_minor": 0
      },
      "text/plain": [
       "Extracting Shoplifting026_x264.mp4:   0%|          | 0/1410 [00:00<?, ?it/s]"
      ]
     },
     "metadata": {},
     "output_type": "display_data"
    },
    {
     "name": "stdout",
     "output_type": "stream",
     "text": [
      " - Shoplifting / Shoplifting027_x264.mp4\n"
     ]
    },
    {
     "data": {
      "application/vnd.jupyter.widget-view+json": {
       "model_id": "d1431e903e42481c89c2a1e9705f08d3",
       "version_major": 2,
       "version_minor": 0
      },
      "text/plain": [
       "Extracting Shoplifting027_x264.mp4:   0%|          | 0/1873 [00:00<?, ?it/s]"
      ]
     },
     "metadata": {},
     "output_type": "display_data"
    },
    {
     "name": "stdout",
     "output_type": "stream",
     "text": [
      " - Shoplifting / Shoplifting029_x264.mp4\n"
     ]
    },
    {
     "data": {
      "application/vnd.jupyter.widget-view+json": {
       "model_id": "ae0afc2024574cae98762be4c5079acd",
       "version_major": 2,
       "version_minor": 0
      },
      "text/plain": [
       "Extracting Shoplifting029_x264.mp4:   0%|          | 0/2176 [00:00<?, ?it/s]"
      ]
     },
     "metadata": {},
     "output_type": "display_data"
    },
    {
     "name": "stdout",
     "output_type": "stream",
     "text": [
      " - Shoplifting / Shoplifting030_x264.mp4\n"
     ]
    },
    {
     "data": {
      "application/vnd.jupyter.widget-view+json": {
       "model_id": "61c591eaf95a4fdf89c687f755e06a43",
       "version_major": 2,
       "version_minor": 0
      },
      "text/plain": [
       "Extracting Shoplifting030_x264.mp4:   0%|          | 0/24193 [00:00<?, ?it/s]"
      ]
     },
     "metadata": {},
     "output_type": "display_data"
    },
    {
     "name": "stdout",
     "output_type": "stream",
     "text": [
      " - Shoplifting / Shoplifting031_x264.mp4\n"
     ]
    },
    {
     "data": {
      "application/vnd.jupyter.widget-view+json": {
       "model_id": "35f43c5048164469b47d417caa1e8fb0",
       "version_major": 2,
       "version_minor": 0
      },
      "text/plain": [
       "Extracting Shoplifting031_x264.mp4:   0%|          | 0/447 [00:00<?, ?it/s]"
      ]
     },
     "metadata": {},
     "output_type": "display_data"
    },
    {
     "name": "stdout",
     "output_type": "stream",
     "text": [
      " - Shoplifting / Shoplifting032_x264.mp4\n"
     ]
    },
    {
     "data": {
      "application/vnd.jupyter.widget-view+json": {
       "model_id": "81de351fbac94ae9884b563659cf03b4",
       "version_major": 2,
       "version_minor": 0
      },
      "text/plain": [
       "Extracting Shoplifting032_x264.mp4:   0%|          | 0/1426 [00:00<?, ?it/s]"
      ]
     },
     "metadata": {},
     "output_type": "display_data"
    },
    {
     "name": "stdout",
     "output_type": "stream",
     "text": [
      " - Shoplifting / Shoplifting033_x264.mp4\n"
     ]
    },
    {
     "data": {
      "application/vnd.jupyter.widget-view+json": {
       "model_id": "7b2b6e0dc31b4e8e86ff83018f078093",
       "version_major": 2,
       "version_minor": 0
      },
      "text/plain": [
       "Extracting Shoplifting033_x264.mp4:   0%|          | 0/899 [00:00<?, ?it/s]"
      ]
     },
     "metadata": {},
     "output_type": "display_data"
    },
    {
     "name": "stdout",
     "output_type": "stream",
     "text": [
      " - Shoplifting / Shoplifting034_x264.mp4\n"
     ]
    },
    {
     "data": {
      "application/vnd.jupyter.widget-view+json": {
       "model_id": "80bd134f43914c7e99e484465e37a941",
       "version_major": 2,
       "version_minor": 0
      },
      "text/plain": [
       "Extracting Shoplifting034_x264.mp4:   0%|          | 0/11937 [00:00<?, ?it/s]"
      ]
     },
     "metadata": {},
     "output_type": "display_data"
    },
    {
     "name": "stdout",
     "output_type": "stream",
     "text": [
      " - Shoplifting / Shoplifting036_x264.mp4\n"
     ]
    },
    {
     "data": {
      "application/vnd.jupyter.widget-view+json": {
       "model_id": "962576f4bb6d4f028b24781770a5fca3",
       "version_major": 2,
       "version_minor": 0
      },
      "text/plain": [
       "Extracting Shoplifting036_x264.mp4:   0%|          | 0/3657 [00:00<?, ?it/s]"
      ]
     },
     "metadata": {},
     "output_type": "display_data"
    },
    {
     "name": "stdout",
     "output_type": "stream",
     "text": [
      " - Shoplifting / Shoplifting037_x264.mp4\n"
     ]
    },
    {
     "data": {
      "application/vnd.jupyter.widget-view+json": {
       "model_id": "df82819b44664e18a3f27c2297871dd2",
       "version_major": 2,
       "version_minor": 0
      },
      "text/plain": [
       "Extracting Shoplifting037_x264.mp4:   0%|          | 0/1386 [00:00<?, ?it/s]"
      ]
     },
     "metadata": {},
     "output_type": "display_data"
    },
    {
     "name": "stdout",
     "output_type": "stream",
     "text": [
      " - Shoplifting / Shoplifting038_x264.mp4\n"
     ]
    },
    {
     "data": {
      "application/vnd.jupyter.widget-view+json": {
       "model_id": "5446055e317e450aa0b3582bd2c5550b",
       "version_major": 2,
       "version_minor": 0
      },
      "text/plain": [
       "Extracting Shoplifting038_x264.mp4:   0%|          | 0/2904 [00:00<?, ?it/s]"
      ]
     },
     "metadata": {},
     "output_type": "display_data"
    },
    {
     "name": "stdout",
     "output_type": "stream",
     "text": [
      " - Shoplifting / Shoplifting039_x264.mp4\n"
     ]
    },
    {
     "data": {
      "application/vnd.jupyter.widget-view+json": {
       "model_id": "8e5734e0646b4df9abe2ce7345165ef1",
       "version_major": 2,
       "version_minor": 0
      },
      "text/plain": [
       "Extracting Shoplifting039_x264.mp4:   0%|          | 0/2803 [00:00<?, ?it/s]"
      ]
     },
     "metadata": {},
     "output_type": "display_data"
    },
    {
     "name": "stdout",
     "output_type": "stream",
     "text": [
      " - Shoplifting / Shoplifting040_x264.mp4\n"
     ]
    },
    {
     "data": {
      "application/vnd.jupyter.widget-view+json": {
       "model_id": "5a5784fc9c5047b492dc2f39ccf55920",
       "version_major": 2,
       "version_minor": 0
      },
      "text/plain": [
       "Extracting Shoplifting040_x264.mp4:   0%|          | 0/27208 [00:00<?, ?it/s]"
      ]
     },
     "metadata": {},
     "output_type": "display_data"
    },
    {
     "name": "stdout",
     "output_type": "stream",
     "text": [
      " - Shoplifting / Shoplifting041_x264.mp4\n"
     ]
    },
    {
     "data": {
      "application/vnd.jupyter.widget-view+json": {
       "model_id": "4c225687e7854d39a4cd0a23185436b8",
       "version_major": 2,
       "version_minor": 0
      },
      "text/plain": [
       "Extracting Shoplifting041_x264.mp4:   0%|          | 0/12335 [00:00<?, ?it/s]"
      ]
     },
     "metadata": {},
     "output_type": "display_data"
    },
    {
     "name": "stdout",
     "output_type": "stream",
     "text": [
      " - Shoplifting / Shoplifting042_x264.mp4\n"
     ]
    },
    {
     "data": {
      "application/vnd.jupyter.widget-view+json": {
       "model_id": "fe901c49cb97481190e3c6a9417a2d01",
       "version_major": 2,
       "version_minor": 0
      },
      "text/plain": [
       "Extracting Shoplifting042_x264.mp4:   0%|          | 0/5121 [00:00<?, ?it/s]"
      ]
     },
     "metadata": {},
     "output_type": "display_data"
    },
    {
     "name": "stdout",
     "output_type": "stream",
     "text": [
      " - Shoplifting / Shoplifting043_x264.mp4\n"
     ]
    },
    {
     "data": {
      "application/vnd.jupyter.widget-view+json": {
       "model_id": "ea899eeb17d84da7a38139c4c12b8b99",
       "version_major": 2,
       "version_minor": 0
      },
      "text/plain": [
       "Extracting Shoplifting043_x264.mp4:   0%|          | 0/9518 [00:00<?, ?it/s]"
      ]
     },
     "metadata": {},
     "output_type": "display_data"
    },
    {
     "name": "stdout",
     "output_type": "stream",
     "text": [
      " - Shoplifting / Shoplifting047_x264.mp4\n"
     ]
    },
    {
     "data": {
      "application/vnd.jupyter.widget-view+json": {
       "model_id": "8e8ffecf26824157b07f59e76b4bd7e1",
       "version_major": 2,
       "version_minor": 0
      },
      "text/plain": [
       "Extracting Shoplifting047_x264.mp4:   0%|          | 0/2377 [00:00<?, ?it/s]"
      ]
     },
     "metadata": {},
     "output_type": "display_data"
    },
    {
     "name": "stdout",
     "output_type": "stream",
     "text": [
      " - Shoplifting / Shoplifting048_x264.mp4\n"
     ]
    },
    {
     "data": {
      "application/vnd.jupyter.widget-view+json": {
       "model_id": "f41fe7d16717441f91f134cb662ac490",
       "version_major": 2,
       "version_minor": 0
      },
      "text/plain": [
       "Extracting Shoplifting048_x264.mp4:   0%|          | 0/3108 [00:00<?, ?it/s]"
      ]
     },
     "metadata": {},
     "output_type": "display_data"
    },
    {
     "name": "stdout",
     "output_type": "stream",
     "text": [
      " - Shoplifting / Shoplifting049_x264.mp4\n"
     ]
    },
    {
     "data": {
      "application/vnd.jupyter.widget-view+json": {
       "model_id": "fa841d4b5d774ee8986f4caf5330f3c3",
       "version_major": 2,
       "version_minor": 0
      },
      "text/plain": [
       "Extracting Shoplifting049_x264.mp4:   0%|          | 0/2149 [00:00<?, ?it/s]"
      ]
     },
     "metadata": {},
     "output_type": "display_data"
    },
    {
     "name": "stdout",
     "output_type": "stream",
     "text": [
      " - Shoplifting / Shoplifting051_x264.mp4\n"
     ]
    },
    {
     "data": {
      "application/vnd.jupyter.widget-view+json": {
       "model_id": "2863816d60f14a60bacc228ed0c9b65d",
       "version_major": 2,
       "version_minor": 0
      },
      "text/plain": [
       "Extracting Shoplifting051_x264.mp4:   0%|          | 0/7218 [00:00<?, ?it/s]"
      ]
     },
     "metadata": {},
     "output_type": "display_data"
    },
    {
     "name": "stdout",
     "output_type": "stream",
     "text": [
      " - Shoplifting / Shoplifting052_x264.mp4\n"
     ]
    },
    {
     "data": {
      "application/vnd.jupyter.widget-view+json": {
       "model_id": "efda4d126d4b4d579e66d70aa2174215",
       "version_major": 2,
       "version_minor": 0
      },
      "text/plain": [
       "Extracting Shoplifting052_x264.mp4:   0%|          | 0/7646 [00:00<?, ?it/s]"
      ]
     },
     "metadata": {},
     "output_type": "display_data"
    },
    {
     "name": "stdout",
     "output_type": "stream",
     "text": [
      " - Shoplifting / Shoplifting053_x264.mp4\n"
     ]
    },
    {
     "data": {
      "application/vnd.jupyter.widget-view+json": {
       "model_id": "bb7e375ecdf04040a1a549ad2620f25b",
       "version_major": 2,
       "version_minor": 0
      },
      "text/plain": [
       "Extracting Shoplifting053_x264.mp4:   0%|          | 0/2097 [00:00<?, ?it/s]"
      ]
     },
     "metadata": {},
     "output_type": "display_data"
    },
    {
     "name": "stdout",
     "output_type": "stream",
     "text": [
      " - Shoplifting / Shoplifting054_x264.mp4\n"
     ]
    },
    {
     "data": {
      "application/vnd.jupyter.widget-view+json": {
       "model_id": "8a918613f8134d69bd8650eab55503c4",
       "version_major": 2,
       "version_minor": 0
      },
      "text/plain": [
       "Extracting Shoplifting054_x264.mp4:   0%|          | 0/1025 [00:00<?, ?it/s]"
      ]
     },
     "metadata": {},
     "output_type": "display_data"
    },
    {
     "name": "stdout",
     "output_type": "stream",
     "text": [
      " - Shoplifting / Shoplifting055_x264.mp4\n"
     ]
    },
    {
     "data": {
      "application/vnd.jupyter.widget-view+json": {
       "model_id": "3bd2b94b82f64b9b90706dd5d3b40df8",
       "version_major": 2,
       "version_minor": 0
      },
      "text/plain": [
       "Extracting Shoplifting055_x264.mp4:   0%|          | 0/6770 [00:00<?, ?it/s]"
      ]
     },
     "metadata": {},
     "output_type": "display_data"
    },
    {
     "name": "stdout",
     "output_type": "stream",
     "text": [
      " - Stealing / Stealing002_x264.mp4\n"
     ]
    },
    {
     "data": {
      "application/vnd.jupyter.widget-view+json": {
       "model_id": "90e1ef7ea42542f39c090f2058bf4767",
       "version_major": 2,
       "version_minor": 0
      },
      "text/plain": [
       "Extracting Stealing002_x264.mp4:   0%|          | 0/3517 [00:00<?, ?it/s]"
      ]
     },
     "metadata": {},
     "output_type": "display_data"
    },
    {
     "name": "stdout",
     "output_type": "stream",
     "text": [
      " - Stealing / Stealing003_x264.mp4\n"
     ]
    },
    {
     "data": {
      "application/vnd.jupyter.widget-view+json": {
       "model_id": "b942222eab7b4759a52e9f767de0e6b5",
       "version_major": 2,
       "version_minor": 0
      },
      "text/plain": [
       "Extracting Stealing003_x264.mp4:   0%|          | 0/3576 [00:00<?, ?it/s]"
      ]
     },
     "metadata": {},
     "output_type": "display_data"
    },
    {
     "name": "stdout",
     "output_type": "stream",
     "text": [
      " - Stealing / Stealing004_x264.mp4\n"
     ]
    },
    {
     "data": {
      "application/vnd.jupyter.widget-view+json": {
       "model_id": "90b67d5dbb6c4dc5966ae540fee0652e",
       "version_major": 2,
       "version_minor": 0
      },
      "text/plain": [
       "Extracting Stealing004_x264.mp4:   0%|          | 0/6654 [00:00<?, ?it/s]"
      ]
     },
     "metadata": {},
     "output_type": "display_data"
    },
    {
     "name": "stdout",
     "output_type": "stream",
     "text": [
      " - Stealing / Stealing006_x264.mp4\n"
     ]
    },
    {
     "data": {
      "application/vnd.jupyter.widget-view+json": {
       "model_id": "84e9e5bd13f1463eba973c567633da0d",
       "version_major": 2,
       "version_minor": 0
      },
      "text/plain": [
       "Extracting Stealing006_x264.mp4:   0%|          | 0/3223 [00:00<?, ?it/s]"
      ]
     },
     "metadata": {},
     "output_type": "display_data"
    },
    {
     "name": "stdout",
     "output_type": "stream",
     "text": [
      " - Stealing / Stealing008_x264.mp4\n"
     ]
    },
    {
     "data": {
      "application/vnd.jupyter.widget-view+json": {
       "model_id": "e9edac552c1e4ab997845e3d6fb271c3",
       "version_major": 2,
       "version_minor": 0
      },
      "text/plain": [
       "Extracting Stealing008_x264.mp4:   0%|          | 0/5010 [00:00<?, ?it/s]"
      ]
     },
     "metadata": {},
     "output_type": "display_data"
    },
    {
     "name": "stdout",
     "output_type": "stream",
     "text": [
      " - Stealing / Stealing010_x264.mp4\n"
     ]
    },
    {
     "data": {
      "application/vnd.jupyter.widget-view+json": {
       "model_id": "e90f16a9ca1b47c58dc56eee70c1ed8d",
       "version_major": 2,
       "version_minor": 0
      },
      "text/plain": [
       "Extracting Stealing010_x264.mp4:   0%|          | 0/3033 [00:00<?, ?it/s]"
      ]
     },
     "metadata": {},
     "output_type": "display_data"
    },
    {
     "name": "stdout",
     "output_type": "stream",
     "text": [
      " - Stealing / Stealing012_x264.mp4\n"
     ]
    },
    {
     "data": {
      "application/vnd.jupyter.widget-view+json": {
       "model_id": "ae2590e5b18d4b528b728a065767db48",
       "version_major": 2,
       "version_minor": 0
      },
      "text/plain": [
       "Extracting Stealing012_x264.mp4:   0%|          | 0/2713 [00:00<?, ?it/s]"
      ]
     },
     "metadata": {},
     "output_type": "display_data"
    },
    {
     "name": "stdout",
     "output_type": "stream",
     "text": [
      " - Stealing / Stealing014_x264.mp4\n"
     ]
    },
    {
     "data": {
      "application/vnd.jupyter.widget-view+json": {
       "model_id": "2fe4614f26a84b919ff25f817ceccccc",
       "version_major": 2,
       "version_minor": 0
      },
      "text/plain": [
       "Extracting Stealing014_x264.mp4:   0%|          | 0/3365 [00:00<?, ?it/s]"
      ]
     },
     "metadata": {},
     "output_type": "display_data"
    },
    {
     "name": "stdout",
     "output_type": "stream",
     "text": [
      " - Stealing / Stealing015_x264.mp4\n"
     ]
    },
    {
     "data": {
      "application/vnd.jupyter.widget-view+json": {
       "model_id": "e8d14d5e35a5419dacb3fdfddbd629b4",
       "version_major": 2,
       "version_minor": 0
      },
      "text/plain": [
       "Extracting Stealing015_x264.mp4:   0%|          | 0/1800 [00:00<?, ?it/s]"
      ]
     },
     "metadata": {},
     "output_type": "display_data"
    },
    {
     "name": "stdout",
     "output_type": "stream",
     "text": [
      " - Stealing / Stealing016_x264.mp4\n"
     ]
    },
    {
     "data": {
      "application/vnd.jupyter.widget-view+json": {
       "model_id": "25ec268c8f414ca38947095932ddbe9b",
       "version_major": 2,
       "version_minor": 0
      },
      "text/plain": [
       "Extracting Stealing016_x264.mp4:   0%|          | 0/2450 [00:00<?, ?it/s]"
      ]
     },
     "metadata": {},
     "output_type": "display_data"
    },
    {
     "name": "stdout",
     "output_type": "stream",
     "text": [
      " - Stealing / Stealing017_x264.mp4\n"
     ]
    },
    {
     "data": {
      "application/vnd.jupyter.widget-view+json": {
       "model_id": "ca433ed6e61c422b98066bc239defb4a",
       "version_major": 2,
       "version_minor": 0
      },
      "text/plain": [
       "Extracting Stealing017_x264.mp4:   0%|          | 0/1887 [00:00<?, ?it/s]"
      ]
     },
     "metadata": {},
     "output_type": "display_data"
    },
    {
     "name": "stdout",
     "output_type": "stream",
     "text": [
      " - Stealing / Stealing018_x264.mp4\n"
     ]
    },
    {
     "data": {
      "application/vnd.jupyter.widget-view+json": {
       "model_id": "69d5d404aa834478928eb073cd35008b",
       "version_major": 2,
       "version_minor": 0
      },
      "text/plain": [
       "Extracting Stealing018_x264.mp4:   0%|          | 0/2052 [00:00<?, ?it/s]"
      ]
     },
     "metadata": {},
     "output_type": "display_data"
    },
    {
     "name": "stdout",
     "output_type": "stream",
     "text": [
      " - Stealing / Stealing019_x264.mp4\n"
     ]
    },
    {
     "data": {
      "application/vnd.jupyter.widget-view+json": {
       "model_id": "8b9f110b69c34ec0a6895ada068bfd07",
       "version_major": 2,
       "version_minor": 0
      },
      "text/plain": [
       "Extracting Stealing019_x264.mp4:   0%|          | 0/4911 [00:00<?, ?it/s]"
      ]
     },
     "metadata": {},
     "output_type": "display_data"
    },
    {
     "name": "stdout",
     "output_type": "stream",
     "text": [
      " - Stealing / Stealing020_x264.mp4\n"
     ]
    },
    {
     "data": {
      "application/vnd.jupyter.widget-view+json": {
       "model_id": "79716b395f1640f09cc535f2c4e5fa13",
       "version_major": 2,
       "version_minor": 0
      },
      "text/plain": [
       "Extracting Stealing020_x264.mp4:   0%|          | 0/6603 [00:00<?, ?it/s]"
      ]
     },
     "metadata": {},
     "output_type": "display_data"
    },
    {
     "name": "stdout",
     "output_type": "stream",
     "text": [
      " - Stealing / Stealing021_x264.mp4\n"
     ]
    },
    {
     "data": {
      "application/vnd.jupyter.widget-view+json": {
       "model_id": "1515707b42eb4176badd1cefd8483b9b",
       "version_major": 2,
       "version_minor": 0
      },
      "text/plain": [
       "Extracting Stealing021_x264.mp4:   0%|          | 0/4121 [00:00<?, ?it/s]"
      ]
     },
     "metadata": {},
     "output_type": "display_data"
    },
    {
     "name": "stdout",
     "output_type": "stream",
     "text": [
      " - Stealing / Stealing022_x264.mp4\n"
     ]
    },
    {
     "data": {
      "application/vnd.jupyter.widget-view+json": {
       "model_id": "173c4c424d8944eb84d375ab9f627c95",
       "version_major": 2,
       "version_minor": 0
      },
      "text/plain": [
       "Extracting Stealing022_x264.mp4:   0%|          | 0/2459 [00:00<?, ?it/s]"
      ]
     },
     "metadata": {},
     "output_type": "display_data"
    },
    {
     "name": "stdout",
     "output_type": "stream",
     "text": [
      " - Stealing / Stealing023_x264.mp4\n"
     ]
    },
    {
     "data": {
      "application/vnd.jupyter.widget-view+json": {
       "model_id": "744a71f6388e47118fd0ff9fcb67f3b1",
       "version_major": 2,
       "version_minor": 0
      },
      "text/plain": [
       "Extracting Stealing023_x264.mp4:   0%|          | 0/5072 [00:00<?, ?it/s]"
      ]
     },
     "metadata": {},
     "output_type": "display_data"
    },
    {
     "name": "stdout",
     "output_type": "stream",
     "text": [
      " - Stealing / Stealing024_x264.mp4\n"
     ]
    },
    {
     "data": {
      "application/vnd.jupyter.widget-view+json": {
       "model_id": "f4dc5250b2354f66bd0af44c4bb69d6e",
       "version_major": 2,
       "version_minor": 0
      },
      "text/plain": [
       "Extracting Stealing024_x264.mp4:   0%|          | 0/2465 [00:00<?, ?it/s]"
      ]
     },
     "metadata": {},
     "output_type": "display_data"
    },
    {
     "name": "stdout",
     "output_type": "stream",
     "text": [
      " - Stealing / Stealing025_x264.mp4\n"
     ]
    },
    {
     "data": {
      "application/vnd.jupyter.widget-view+json": {
       "model_id": "637a673927f7457dbfb948a90f8cb1e7",
       "version_major": 2,
       "version_minor": 0
      },
      "text/plain": [
       "Extracting Stealing025_x264.mp4:   0%|          | 0/21815 [00:00<?, ?it/s]"
      ]
     },
     "metadata": {},
     "output_type": "display_data"
    },
    {
     "name": "stdout",
     "output_type": "stream",
     "text": [
      " - Stealing / Stealing026_x264.mp4\n"
     ]
    },
    {
     "data": {
      "application/vnd.jupyter.widget-view+json": {
       "model_id": "0855eda87b5c4edbaa11a64a0b102046",
       "version_major": 2,
       "version_minor": 0
      },
      "text/plain": [
       "Extracting Stealing026_x264.mp4:   0%|          | 0/2755 [00:00<?, ?it/s]"
      ]
     },
     "metadata": {},
     "output_type": "display_data"
    },
    {
     "name": "stdout",
     "output_type": "stream",
     "text": [
      " - Stealing / Stealing027_x264.mp4\n"
     ]
    },
    {
     "data": {
      "application/vnd.jupyter.widget-view+json": {
       "model_id": "c24855457eab4c1a9cc24deae2885908",
       "version_major": 2,
       "version_minor": 0
      },
      "text/plain": [
       "Extracting Stealing027_x264.mp4:   0%|          | 0/1904 [00:00<?, ?it/s]"
      ]
     },
     "metadata": {},
     "output_type": "display_data"
    },
    {
     "name": "stdout",
     "output_type": "stream",
     "text": [
      " - Stealing / Stealing028_x264.mp4\n"
     ]
    },
    {
     "data": {
      "application/vnd.jupyter.widget-view+json": {
       "model_id": "b767a4e5eb474475b8b3c29ff28d61fb",
       "version_major": 2,
       "version_minor": 0
      },
      "text/plain": [
       "Extracting Stealing028_x264.mp4:   0%|          | 0/1769 [00:00<?, ?it/s]"
      ]
     },
     "metadata": {},
     "output_type": "display_data"
    },
    {
     "name": "stdout",
     "output_type": "stream",
     "text": [
      " - Stealing / Stealing029_x264.mp4\n"
     ]
    },
    {
     "data": {
      "application/vnd.jupyter.widget-view+json": {
       "model_id": "c0e7e0eaad0e4cfca987154e11f49698",
       "version_major": 2,
       "version_minor": 0
      },
      "text/plain": [
       "Extracting Stealing029_x264.mp4:   0%|          | 0/406 [00:00<?, ?it/s]"
      ]
     },
     "metadata": {},
     "output_type": "display_data"
    },
    {
     "name": "stdout",
     "output_type": "stream",
     "text": [
      " - Stealing / Stealing030_x264.mp4\n"
     ]
    },
    {
     "data": {
      "application/vnd.jupyter.widget-view+json": {
       "model_id": "753f0604926f48e396ce3e3ff24fb9b5",
       "version_major": 2,
       "version_minor": 0
      },
      "text/plain": [
       "Extracting Stealing030_x264.mp4:   0%|          | 0/846 [00:00<?, ?it/s]"
      ]
     },
     "metadata": {},
     "output_type": "display_data"
    },
    {
     "name": "stdout",
     "output_type": "stream",
     "text": [
      " - Stealing / Stealing031_x264.mp4\n"
     ]
    },
    {
     "data": {
      "application/vnd.jupyter.widget-view+json": {
       "model_id": "0d25ec606b6a41fd9785372ca1de6e03",
       "version_major": 2,
       "version_minor": 0
      },
      "text/plain": [
       "Extracting Stealing031_x264.mp4:   0%|          | 0/1087 [00:00<?, ?it/s]"
      ]
     },
     "metadata": {},
     "output_type": "display_data"
    },
    {
     "name": "stdout",
     "output_type": "stream",
     "text": [
      " - Stealing / Stealing032_x264.mp4\n"
     ]
    },
    {
     "data": {
      "application/vnd.jupyter.widget-view+json": {
       "model_id": "dbd1c4d394664b1c934721972e2ccc77",
       "version_major": 2,
       "version_minor": 0
      },
      "text/plain": [
       "Extracting Stealing032_x264.mp4:   0%|          | 0/5395 [00:00<?, ?it/s]"
      ]
     },
     "metadata": {},
     "output_type": "display_data"
    },
    {
     "name": "stdout",
     "output_type": "stream",
     "text": [
      " - Stealing / Stealing035_x264.mp4\n"
     ]
    },
    {
     "data": {
      "application/vnd.jupyter.widget-view+json": {
       "model_id": "23d15368fc1c40559ea66282bfe4daea",
       "version_major": 2,
       "version_minor": 0
      },
      "text/plain": [
       "Extracting Stealing035_x264.mp4:   0%|          | 0/11154 [00:00<?, ?it/s]"
      ]
     },
     "metadata": {},
     "output_type": "display_data"
    },
    {
     "name": "stdout",
     "output_type": "stream",
     "text": [
      " - Stealing / Stealing036_x264.mp4\n"
     ]
    },
    {
     "data": {
      "application/vnd.jupyter.widget-view+json": {
       "model_id": "7ef5cb0345804f208fb6b072da931b5f",
       "version_major": 2,
       "version_minor": 0
      },
      "text/plain": [
       "Extracting Stealing036_x264.mp4:   0%|          | 0/2503 [00:00<?, ?it/s]"
      ]
     },
     "metadata": {},
     "output_type": "display_data"
    },
    {
     "name": "stdout",
     "output_type": "stream",
     "text": [
      " - Stealing / Stealing037_x264.mp4\n"
     ]
    },
    {
     "data": {
      "application/vnd.jupyter.widget-view+json": {
       "model_id": "8dd3184e53724190ba6763b3c14788f8",
       "version_major": 2,
       "version_minor": 0
      },
      "text/plain": [
       "Extracting Stealing037_x264.mp4:   0%|          | 0/4746 [00:00<?, ?it/s]"
      ]
     },
     "metadata": {},
     "output_type": "display_data"
    },
    {
     "name": "stdout",
     "output_type": "stream",
     "text": [
      " - Stealing / Stealing042_x264.mp4\n"
     ]
    },
    {
     "data": {
      "application/vnd.jupyter.widget-view+json": {
       "model_id": "537200c2ed0d49d996af0051cae47f6c",
       "version_major": 2,
       "version_minor": 0
      },
      "text/plain": [
       "Extracting Stealing042_x264.mp4:   0%|          | 0/4200 [00:00<?, ?it/s]"
      ]
     },
     "metadata": {},
     "output_type": "display_data"
    },
    {
     "name": "stdout",
     "output_type": "stream",
     "text": [
      " - Stealing / Stealing043_x264.mp4\n"
     ]
    },
    {
     "data": {
      "application/vnd.jupyter.widget-view+json": {
       "model_id": "aa808d4708c74998991746468769d74e",
       "version_major": 2,
       "version_minor": 0
      },
      "text/plain": [
       "Extracting Stealing043_x264.mp4:   0%|          | 0/4813 [00:00<?, ?it/s]"
      ]
     },
     "metadata": {},
     "output_type": "display_data"
    },
    {
     "name": "stdout",
     "output_type": "stream",
     "text": [
      " - Stealing / Stealing044_x264.mp4\n"
     ]
    },
    {
     "data": {
      "application/vnd.jupyter.widget-view+json": {
       "model_id": "e4303831d6bb42429366b04d54f0e29e",
       "version_major": 2,
       "version_minor": 0
      },
      "text/plain": [
       "Extracting Stealing044_x264.mp4:   0%|          | 0/3210 [00:00<?, ?it/s]"
      ]
     },
     "metadata": {},
     "output_type": "display_data"
    },
    {
     "name": "stdout",
     "output_type": "stream",
     "text": [
      " - Stealing / Stealing047_x264.mp4\n"
     ]
    },
    {
     "data": {
      "application/vnd.jupyter.widget-view+json": {
       "model_id": "36fe19f501674ac6a88c925c01302194",
       "version_major": 2,
       "version_minor": 0
      },
      "text/plain": [
       "Extracting Stealing047_x264.mp4:   0%|          | 0/1352 [00:00<?, ?it/s]"
      ]
     },
     "metadata": {},
     "output_type": "display_data"
    },
    {
     "name": "stdout",
     "output_type": "stream",
     "text": [
      " - Stealing / Stealing049_x264.mp4\n"
     ]
    },
    {
     "data": {
      "application/vnd.jupyter.widget-view+json": {
       "model_id": "820b69249d9043949a902fc68a34ca93",
       "version_major": 2,
       "version_minor": 0
      },
      "text/plain": [
       "Extracting Stealing049_x264.mp4:   0%|          | 0/1476 [00:00<?, ?it/s]"
      ]
     },
     "metadata": {},
     "output_type": "display_data"
    },
    {
     "name": "stdout",
     "output_type": "stream",
     "text": [
      " - Stealing / Stealing050_x264.mp4\n"
     ]
    },
    {
     "data": {
      "application/vnd.jupyter.widget-view+json": {
       "model_id": "d92b121461784306b8e555adec4c18f9",
       "version_major": 2,
       "version_minor": 0
      },
      "text/plain": [
       "Extracting Stealing050_x264.mp4:   0%|          | 0/3345 [00:00<?, ?it/s]"
      ]
     },
     "metadata": {},
     "output_type": "display_data"
    },
    {
     "name": "stdout",
     "output_type": "stream",
     "text": [
      " - Stealing / Stealing051_x264.mp4\n"
     ]
    },
    {
     "data": {
      "application/vnd.jupyter.widget-view+json": {
       "model_id": "4f1049dd7dc84733956f6bfed2be05d0",
       "version_major": 2,
       "version_minor": 0
      },
      "text/plain": [
       "Extracting Stealing051_x264.mp4:   0%|          | 0/3330 [00:00<?, ?it/s]"
      ]
     },
     "metadata": {},
     "output_type": "display_data"
    },
    {
     "name": "stdout",
     "output_type": "stream",
     "text": [
      " - Stealing / Stealing052_x264.mp4\n"
     ]
    },
    {
     "data": {
      "application/vnd.jupyter.widget-view+json": {
       "model_id": "71514d43d4394c7184fd8337d7d10bfd",
       "version_major": 2,
       "version_minor": 0
      },
      "text/plain": [
       "Extracting Stealing052_x264.mp4:   0%|          | 0/3375 [00:00<?, ?it/s]"
      ]
     },
     "metadata": {},
     "output_type": "display_data"
    },
    {
     "name": "stdout",
     "output_type": "stream",
     "text": [
      " - Stealing / Stealing053_x264.mp4\n"
     ]
    },
    {
     "data": {
      "application/vnd.jupyter.widget-view+json": {
       "model_id": "b5ec74d9677d488fa81e0670b3ee4538",
       "version_major": 2,
       "version_minor": 0
      },
      "text/plain": [
       "Extracting Stealing053_x264.mp4:   0%|          | 0/13057 [00:00<?, ?it/s]"
      ]
     },
     "metadata": {},
     "output_type": "display_data"
    },
    {
     "name": "stdout",
     "output_type": "stream",
     "text": [
      " - Stealing / Stealing054_x264.mp4\n"
     ]
    },
    {
     "data": {
      "application/vnd.jupyter.widget-view+json": {
       "model_id": "d9add437f2e848c8a54e9fef30d715fd",
       "version_major": 2,
       "version_minor": 0
      },
      "text/plain": [
       "Extracting Stealing054_x264.mp4:   0%|          | 0/2669 [00:00<?, ?it/s]"
      ]
     },
     "metadata": {},
     "output_type": "display_data"
    },
    {
     "name": "stdout",
     "output_type": "stream",
     "text": [
      " - Stealing / Stealing055_x264.mp4\n"
     ]
    },
    {
     "data": {
      "application/vnd.jupyter.widget-view+json": {
       "model_id": "776c8cc3ed4e4b54b14894a53bf38818",
       "version_major": 2,
       "version_minor": 0
      },
      "text/plain": [
       "Extracting Stealing055_x264.mp4:   0%|          | 0/1618 [00:00<?, ?it/s]"
      ]
     },
     "metadata": {},
     "output_type": "display_data"
    },
    {
     "name": "stdout",
     "output_type": "stream",
     "text": [
      " - Vandalism / Vandalism003_x264.mp4\n"
     ]
    },
    {
     "data": {
      "application/vnd.jupyter.widget-view+json": {
       "model_id": "87c7f1f023c6417a883f41dc53cd7256",
       "version_major": 2,
       "version_minor": 0
      },
      "text/plain": [
       "Extracting Vandalism003_x264.mp4:   0%|          | 0/1469 [00:00<?, ?it/s]"
      ]
     },
     "metadata": {},
     "output_type": "display_data"
    },
    {
     "name": "stdout",
     "output_type": "stream",
     "text": [
      " - Vandalism / Vandalism004_x264.mp4\n"
     ]
    },
    {
     "data": {
      "application/vnd.jupyter.widget-view+json": {
       "model_id": "5b4e8a7338d94aadb31e0f09068ea70e",
       "version_major": 2,
       "version_minor": 0
      },
      "text/plain": [
       "Extracting Vandalism004_x264.mp4:   0%|          | 0/2820 [00:00<?, ?it/s]"
      ]
     },
     "metadata": {},
     "output_type": "display_data"
    },
    {
     "name": "stdout",
     "output_type": "stream",
     "text": [
      " - Vandalism / Vandalism005_x264.mp4\n"
     ]
    },
    {
     "data": {
      "application/vnd.jupyter.widget-view+json": {
       "model_id": "f809a38b0a7a4a8ebd41ffd589060153",
       "version_major": 2,
       "version_minor": 0
      },
      "text/plain": [
       "Extracting Vandalism005_x264.mp4:   0%|          | 0/1624 [00:00<?, ?it/s]"
      ]
     },
     "metadata": {},
     "output_type": "display_data"
    },
    {
     "name": "stdout",
     "output_type": "stream",
     "text": [
      " - Vandalism / Vandalism006_x264.mp4\n"
     ]
    },
    {
     "data": {
      "application/vnd.jupyter.widget-view+json": {
       "model_id": "ce3091393f01446293c1c368b6c85c80",
       "version_major": 2,
       "version_minor": 0
      },
      "text/plain": [
       "Extracting Vandalism006_x264.mp4:   0%|          | 0/811 [00:00<?, ?it/s]"
      ]
     },
     "metadata": {},
     "output_type": "display_data"
    },
    {
     "name": "stdout",
     "output_type": "stream",
     "text": [
      " - Vandalism / Vandalism007_x264.mp4\n"
     ]
    },
    {
     "data": {
      "application/vnd.jupyter.widget-view+json": {
       "model_id": "0df1b5fcdba04af28b655abadccd247d",
       "version_major": 2,
       "version_minor": 0
      },
      "text/plain": [
       "Extracting Vandalism007_x264.mp4:   0%|          | 0/1146 [00:00<?, ?it/s]"
      ]
     },
     "metadata": {},
     "output_type": "display_data"
    },
    {
     "name": "stdout",
     "output_type": "stream",
     "text": [
      " - Vandalism / Vandalism008_x264.mp4\n"
     ]
    },
    {
     "data": {
      "application/vnd.jupyter.widget-view+json": {
       "model_id": "4b648b6b342c4a368ed8ee79f2557504",
       "version_major": 2,
       "version_minor": 0
      },
      "text/plain": [
       "Extracting Vandalism008_x264.mp4:   0%|          | 0/12589 [00:00<?, ?it/s]"
      ]
     },
     "metadata": {},
     "output_type": "display_data"
    },
    {
     "name": "stdout",
     "output_type": "stream",
     "text": [
      " - Vandalism / Vandalism009_x264.mp4\n"
     ]
    },
    {
     "data": {
      "application/vnd.jupyter.widget-view+json": {
       "model_id": "3ad3815014114233aa248bfa3d3ba19a",
       "version_major": 2,
       "version_minor": 0
      },
      "text/plain": [
       "Extracting Vandalism009_x264.mp4:   0%|          | 0/1328 [00:00<?, ?it/s]"
      ]
     },
     "metadata": {},
     "output_type": "display_data"
    },
    {
     "name": "stdout",
     "output_type": "stream",
     "text": [
      " - Vandalism / Vandalism010_x264.mp4\n"
     ]
    },
    {
     "data": {
      "application/vnd.jupyter.widget-view+json": {
       "model_id": "7f34b261e58448e2a6a9a78571e68a70",
       "version_major": 2,
       "version_minor": 0
      },
      "text/plain": [
       "Extracting Vandalism010_x264.mp4:   0%|          | 0/3945 [00:00<?, ?it/s]"
      ]
     },
     "metadata": {},
     "output_type": "display_data"
    },
    {
     "name": "stdout",
     "output_type": "stream",
     "text": [
      " - Vandalism / Vandalism011_x264.mp4\n"
     ]
    },
    {
     "data": {
      "application/vnd.jupyter.widget-view+json": {
       "model_id": "100c25c2f2d7482e84427e8ac4eae8e9",
       "version_major": 2,
       "version_minor": 0
      },
      "text/plain": [
       "Extracting Vandalism011_x264.mp4:   0%|          | 0/12449 [00:00<?, ?it/s]"
      ]
     },
     "metadata": {},
     "output_type": "display_data"
    },
    {
     "name": "stdout",
     "output_type": "stream",
     "text": [
      " - Vandalism / Vandalism012_x264.mp4\n"
     ]
    },
    {
     "data": {
      "application/vnd.jupyter.widget-view+json": {
       "model_id": "6bcafe98fe2c4853a244d7f9986d34dc",
       "version_major": 2,
       "version_minor": 0
      },
      "text/plain": [
       "Extracting Vandalism012_x264.mp4:   0%|          | 0/845 [00:00<?, ?it/s]"
      ]
     },
     "metadata": {},
     "output_type": "display_data"
    },
    {
     "name": "stdout",
     "output_type": "stream",
     "text": [
      " - Vandalism / Vandalism013_x264.mp4\n"
     ]
    },
    {
     "data": {
      "application/vnd.jupyter.widget-view+json": {
       "model_id": "c8a7ffa809de427f9f9cc9d46fde05d5",
       "version_major": 2,
       "version_minor": 0
      },
      "text/plain": [
       "Extracting Vandalism013_x264.mp4:   0%|          | 0/2379 [00:00<?, ?it/s]"
      ]
     },
     "metadata": {},
     "output_type": "display_data"
    },
    {
     "name": "stdout",
     "output_type": "stream",
     "text": [
      " - Vandalism / Vandalism014_x264.mp4\n"
     ]
    },
    {
     "data": {
      "application/vnd.jupyter.widget-view+json": {
       "model_id": "402397906b964d4f81c44d8c94512ce7",
       "version_major": 2,
       "version_minor": 0
      },
      "text/plain": [
       "Extracting Vandalism014_x264.mp4:   0%|          | 0/429 [00:00<?, ?it/s]"
      ]
     },
     "metadata": {},
     "output_type": "display_data"
    },
    {
     "name": "stdout",
     "output_type": "stream",
     "text": [
      " - Vandalism / Vandalism016_x264.mp4\n"
     ]
    },
    {
     "data": {
      "application/vnd.jupyter.widget-view+json": {
       "model_id": "9b8dce06feab465c80ee617f9190d6b3",
       "version_major": 2,
       "version_minor": 0
      },
      "text/plain": [
       "Extracting Vandalism016_x264.mp4:   0%|          | 0/5810 [00:00<?, ?it/s]"
      ]
     },
     "metadata": {},
     "output_type": "display_data"
    },
    {
     "name": "stdout",
     "output_type": "stream",
     "text": [
      " - Vandalism / Vandalism017_x264.mp4\n"
     ]
    },
    {
     "data": {
      "application/vnd.jupyter.widget-view+json": {
       "model_id": "13884b2524df4e3aa4da319059b16759",
       "version_major": 2,
       "version_minor": 0
      },
      "text/plain": [
       "Extracting Vandalism017_x264.mp4:   0%|          | 0/1011 [00:00<?, ?it/s]"
      ]
     },
     "metadata": {},
     "output_type": "display_data"
    },
    {
     "name": "stdout",
     "output_type": "stream",
     "text": [
      " - Vandalism / Vandalism019_x264.mp4\n"
     ]
    },
    {
     "data": {
      "application/vnd.jupyter.widget-view+json": {
       "model_id": "7190a94b5dfd4c5b98c367a66402f6c3",
       "version_major": 2,
       "version_minor": 0
      },
      "text/plain": [
       "Extracting Vandalism019_x264.mp4:   0%|          | 0/2047 [00:00<?, ?it/s]"
      ]
     },
     "metadata": {},
     "output_type": "display_data"
    },
    {
     "name": "stdout",
     "output_type": "stream",
     "text": [
      " - Vandalism / Vandalism020_x264.mp4\n"
     ]
    },
    {
     "data": {
      "application/vnd.jupyter.widget-view+json": {
       "model_id": "ad571acbcafc4df5b9ed568215e838b5",
       "version_major": 2,
       "version_minor": 0
      },
      "text/plain": [
       "Extracting Vandalism020_x264.mp4:   0%|          | 0/1447 [00:00<?, ?it/s]"
      ]
     },
     "metadata": {},
     "output_type": "display_data"
    },
    {
     "name": "stdout",
     "output_type": "stream",
     "text": [
      " - Vandalism / Vandalism022_x264.mp4\n"
     ]
    },
    {
     "data": {
      "application/vnd.jupyter.widget-view+json": {
       "model_id": "ce5a62bf5dfb4ac3b2662aef052348d1",
       "version_major": 2,
       "version_minor": 0
      },
      "text/plain": [
       "Extracting Vandalism022_x264.mp4:   0%|          | 0/3932 [00:00<?, ?it/s]"
      ]
     },
     "metadata": {},
     "output_type": "display_data"
    },
    {
     "name": "stdout",
     "output_type": "stream",
     "text": [
      " - Vandalism / Vandalism023_x264.mp4\n"
     ]
    },
    {
     "data": {
      "application/vnd.jupyter.widget-view+json": {
       "model_id": "59b82bf53dc7486ca209469eaa63edeb",
       "version_major": 2,
       "version_minor": 0
      },
      "text/plain": [
       "Extracting Vandalism023_x264.mp4:   0%|          | 0/6301 [00:00<?, ?it/s]"
      ]
     },
     "metadata": {},
     "output_type": "display_data"
    },
    {
     "name": "stdout",
     "output_type": "stream",
     "text": [
      " - Vandalism / Vandalism024_x264.mp4\n"
     ]
    },
    {
     "data": {
      "application/vnd.jupyter.widget-view+json": {
       "model_id": "45cdbeeecc544d39a429ac14942e2db9",
       "version_major": 2,
       "version_minor": 0
      },
      "text/plain": [
       "Extracting Vandalism024_x264.mp4:   0%|          | 0/1004 [00:00<?, ?it/s]"
      ]
     },
     "metadata": {},
     "output_type": "display_data"
    },
    {
     "name": "stdout",
     "output_type": "stream",
     "text": [
      " - Vandalism / Vandalism025_x264.mp4\n"
     ]
    },
    {
     "data": {
      "application/vnd.jupyter.widget-view+json": {
       "model_id": "c42f223914824b73ac1cfe51f58aa846",
       "version_major": 2,
       "version_minor": 0
      },
      "text/plain": [
       "Extracting Vandalism025_x264.mp4:   0%|          | 0/4304 [00:00<?, ?it/s]"
      ]
     },
     "metadata": {},
     "output_type": "display_data"
    },
    {
     "name": "stdout",
     "output_type": "stream",
     "text": [
      " - Vandalism / Vandalism026_x264.mp4\n"
     ]
    },
    {
     "data": {
      "application/vnd.jupyter.widget-view+json": {
       "model_id": "144020b9ab234b9cb42904ecd28574e5",
       "version_major": 2,
       "version_minor": 0
      },
      "text/plain": [
       "Extracting Vandalism026_x264.mp4:   0%|          | 0/969 [00:00<?, ?it/s]"
      ]
     },
     "metadata": {},
     "output_type": "display_data"
    },
    {
     "name": "stdout",
     "output_type": "stream",
     "text": [
      " - Vandalism / Vandalism027_x264.mp4\n"
     ]
    },
    {
     "data": {
      "application/vnd.jupyter.widget-view+json": {
       "model_id": "f7db7a859d0148e1942beb1d2f02f228",
       "version_major": 2,
       "version_minor": 0
      },
      "text/plain": [
       "Extracting Vandalism027_x264.mp4:   0%|          | 0/701 [00:00<?, ?it/s]"
      ]
     },
     "metadata": {},
     "output_type": "display_data"
    },
    {
     "name": "stdout",
     "output_type": "stream",
     "text": [
      " - Vandalism / Vandalism029_x264.mp4\n"
     ]
    },
    {
     "data": {
      "application/vnd.jupyter.widget-view+json": {
       "model_id": "16fffaf672a740fbb8ac506c3cff79b2",
       "version_major": 2,
       "version_minor": 0
      },
      "text/plain": [
       "Extracting Vandalism029_x264.mp4:   0%|          | 0/456 [00:00<?, ?it/s]"
      ]
     },
     "metadata": {},
     "output_type": "display_data"
    },
    {
     "name": "stdout",
     "output_type": "stream",
     "text": [
      " - Vandalism / Vandalism030_x264.mp4\n"
     ]
    },
    {
     "data": {
      "application/vnd.jupyter.widget-view+json": {
       "model_id": "bae23ed62deb435da305404f0500c1f0",
       "version_major": 2,
       "version_minor": 0
      },
      "text/plain": [
       "Extracting Vandalism030_x264.mp4:   0%|          | 0/1437 [00:00<?, ?it/s]"
      ]
     },
     "metadata": {},
     "output_type": "display_data"
    },
    {
     "name": "stdout",
     "output_type": "stream",
     "text": [
      " - Vandalism / Vandalism031_x264.mp4\n"
     ]
    },
    {
     "data": {
      "application/vnd.jupyter.widget-view+json": {
       "model_id": "c43e8c882cfa40a48eaff8e9a8f0fb83",
       "version_major": 2,
       "version_minor": 0
      },
      "text/plain": [
       "Extracting Vandalism031_x264.mp4:   0%|          | 0/1799 [00:00<?, ?it/s]"
      ]
     },
     "metadata": {},
     "output_type": "display_data"
    },
    {
     "name": "stdout",
     "output_type": "stream",
     "text": [
      " - Vandalism / Vandalism033_x264.mp4\n"
     ]
    },
    {
     "data": {
      "application/vnd.jupyter.widget-view+json": {
       "model_id": "d481e083a89a43ef8d924fb22ec2ef04",
       "version_major": 2,
       "version_minor": 0
      },
      "text/plain": [
       "Extracting Vandalism033_x264.mp4:   0%|          | 0/2265 [00:00<?, ?it/s]"
      ]
     },
     "metadata": {},
     "output_type": "display_data"
    },
    {
     "name": "stdout",
     "output_type": "stream",
     "text": [
      " - Vandalism / Vandalism034_x264.mp4\n"
     ]
    },
    {
     "data": {
      "application/vnd.jupyter.widget-view+json": {
       "model_id": "d8785ad017e943b197ed0a6934a4471e",
       "version_major": 2,
       "version_minor": 0
      },
      "text/plain": [
       "Extracting Vandalism034_x264.mp4:   0%|          | 0/1756 [00:00<?, ?it/s]"
      ]
     },
     "metadata": {},
     "output_type": "display_data"
    },
    {
     "name": "stdout",
     "output_type": "stream",
     "text": [
      " - Vandalism / Vandalism035_x264.mp4\n"
     ]
    },
    {
     "data": {
      "application/vnd.jupyter.widget-view+json": {
       "model_id": "62a0f64dcad1439a92086ec4f2895e8e",
       "version_major": 2,
       "version_minor": 0
      },
      "text/plain": [
       "Extracting Vandalism035_x264.mp4:   0%|          | 0/1188 [00:00<?, ?it/s]"
      ]
     },
     "metadata": {},
     "output_type": "display_data"
    },
    {
     "name": "stdout",
     "output_type": "stream",
     "text": [
      " - Vandalism / Vandalism036_x264.mp4\n"
     ]
    },
    {
     "data": {
      "application/vnd.jupyter.widget-view+json": {
       "model_id": "8a5f8a02cb8f4b739a428a014272ae85",
       "version_major": 2,
       "version_minor": 0
      },
      "text/plain": [
       "Extracting Vandalism036_x264.mp4:   0%|          | 0/1443 [00:00<?, ?it/s]"
      ]
     },
     "metadata": {},
     "output_type": "display_data"
    },
    {
     "name": "stdout",
     "output_type": "stream",
     "text": [
      " - Vandalism / Vandalism038_x264.mp4\n"
     ]
    },
    {
     "data": {
      "application/vnd.jupyter.widget-view+json": {
       "model_id": "a7cf12bd2e194fe594e900f8a6eaf101",
       "version_major": 2,
       "version_minor": 0
      },
      "text/plain": [
       "Extracting Vandalism038_x264.mp4:   0%|          | 0/2825 [00:00<?, ?it/s]"
      ]
     },
     "metadata": {},
     "output_type": "display_data"
    },
    {
     "name": "stdout",
     "output_type": "stream",
     "text": [
      " - Vandalism / Vandalism039_x264.mp4\n"
     ]
    },
    {
     "data": {
      "application/vnd.jupyter.widget-view+json": {
       "model_id": "93c24ca2b2e24fef8ce63a71bcf4787f",
       "version_major": 2,
       "version_minor": 0
      },
      "text/plain": [
       "Extracting Vandalism039_x264.mp4:   0%|          | 0/899 [00:00<?, ?it/s]"
      ]
     },
     "metadata": {},
     "output_type": "display_data"
    },
    {
     "name": "stdout",
     "output_type": "stream",
     "text": [
      " - Vandalism / Vandalism040_x264.mp4\n"
     ]
    },
    {
     "data": {
      "application/vnd.jupyter.widget-view+json": {
       "model_id": "768e619bb69843edbd9079adb0b2908e",
       "version_major": 2,
       "version_minor": 0
      },
      "text/plain": [
       "Extracting Vandalism040_x264.mp4:   0%|          | 0/1037 [00:00<?, ?it/s]"
      ]
     },
     "metadata": {},
     "output_type": "display_data"
    },
    {
     "name": "stdout",
     "output_type": "stream",
     "text": [
      " - Vandalism / Vandalism042_x264.mp4\n"
     ]
    },
    {
     "data": {
      "application/vnd.jupyter.widget-view+json": {
       "model_id": "24d1c4436c2e4384b7de3f07256a0f54",
       "version_major": 2,
       "version_minor": 0
      },
      "text/plain": [
       "Extracting Vandalism042_x264.mp4:   0%|          | 0/3596 [00:00<?, ?it/s]"
      ]
     },
     "metadata": {},
     "output_type": "display_data"
    },
    {
     "name": "stdout",
     "output_type": "stream",
     "text": [
      " - Vandalism / Vandalism043_x264.mp4\n"
     ]
    },
    {
     "data": {
      "application/vnd.jupyter.widget-view+json": {
       "model_id": "b673b80302a2480cbd2bd350331ea677",
       "version_major": 2,
       "version_minor": 0
      },
      "text/plain": [
       "Extracting Vandalism043_x264.mp4:   0%|          | 0/3243 [00:00<?, ?it/s]"
      ]
     },
     "metadata": {},
     "output_type": "display_data"
    },
    {
     "name": "stdout",
     "output_type": "stream",
     "text": [
      " - Vandalism / Vandalism044_x264.mp4\n"
     ]
    },
    {
     "data": {
      "application/vnd.jupyter.widget-view+json": {
       "model_id": "0d06bc25b8644c84871b19d301b3d49d",
       "version_major": 2,
       "version_minor": 0
      },
      "text/plain": [
       "Extracting Vandalism044_x264.mp4:   0%|          | 0/4605 [00:00<?, ?it/s]"
      ]
     },
     "metadata": {},
     "output_type": "display_data"
    },
    {
     "name": "stdout",
     "output_type": "stream",
     "text": [
      " - Vandalism / Vandalism045_x264.mp4\n"
     ]
    },
    {
     "data": {
      "application/vnd.jupyter.widget-view+json": {
       "model_id": "9a6f112d066943fd81df50f9abbee832",
       "version_major": 2,
       "version_minor": 0
      },
      "text/plain": [
       "Extracting Vandalism045_x264.mp4:   0%|          | 0/4358 [00:00<?, ?it/s]"
      ]
     },
     "metadata": {},
     "output_type": "display_data"
    },
    {
     "name": "stdout",
     "output_type": "stream",
     "text": [
      " - Vandalism / Vandalism046_x264.mp4\n"
     ]
    },
    {
     "data": {
      "application/vnd.jupyter.widget-view+json": {
       "model_id": "56f4644c01ab40fd99458ff3e3674e69",
       "version_major": 2,
       "version_minor": 0
      },
      "text/plain": [
       "Extracting Vandalism046_x264.mp4:   0%|          | 0/2099 [00:00<?, ?it/s]"
      ]
     },
     "metadata": {},
     "output_type": "display_data"
    },
    {
     "name": "stdout",
     "output_type": "stream",
     "text": [
      " - Vandalism / Vandalism048_x264.mp4\n"
     ]
    },
    {
     "data": {
      "application/vnd.jupyter.widget-view+json": {
       "model_id": "b3423ae558c94082988349ee142acb18",
       "version_major": 2,
       "version_minor": 0
      },
      "text/plain": [
       "Extracting Vandalism048_x264.mp4:   0%|          | 0/7183 [00:00<?, ?it/s]"
      ]
     },
     "metadata": {},
     "output_type": "display_data"
    },
    {
     "name": "stdout",
     "output_type": "stream",
     "text": [
      " - Vandalism / Vandalism049_x264.mp4\n"
     ]
    },
    {
     "data": {
      "application/vnd.jupyter.widget-view+json": {
       "model_id": "f7c4ee9b36ae44f8b0369b877f511e0c",
       "version_major": 2,
       "version_minor": 0
      },
      "text/plain": [
       "Extracting Vandalism049_x264.mp4:   0%|          | 0/7999 [00:00<?, ?it/s]"
      ]
     },
     "metadata": {},
     "output_type": "display_data"
    },
    {
     "name": "stdout",
     "output_type": "stream",
     "text": [
      " - Vandalism / Vandalism050_x264.mp4\n"
     ]
    },
    {
     "data": {
      "application/vnd.jupyter.widget-view+json": {
       "model_id": "bafc0d5710854aa6af4faae82b6bb5ec",
       "version_major": 2,
       "version_minor": 0
      },
      "text/plain": [
       "Extracting Vandalism050_x264.mp4:   0%|          | 0/899 [00:00<?, ?it/s]"
      ]
     },
     "metadata": {},
     "output_type": "display_data"
    },
    {
     "name": "stdout",
     "output_type": "stream",
     "text": [
      "\n",
      "[Processing] Test (frame_skip=10)...\n",
      " - Abuse / Abuse003_x264.mp4\n"
     ]
    },
    {
     "data": {
      "application/vnd.jupyter.widget-view+json": {
       "model_id": "96857083fe2943ca84deafe51f7a6618",
       "version_major": 2,
       "version_minor": 0
      },
      "text/plain": [
       "Extracting Abuse003_x264.mp4:   0%|          | 0/3699 [00:00<?, ?it/s]"
      ]
     },
     "metadata": {},
     "output_type": "display_data"
    },
    {
     "name": "stdout",
     "output_type": "stream",
     "text": [
      " - Abuse / Abuse011_x264.mp4\n"
     ]
    },
    {
     "data": {
      "application/vnd.jupyter.widget-view+json": {
       "model_id": "d9f0d451042b467abf90b529411f7110",
       "version_major": 2,
       "version_minor": 0
      },
      "text/plain": [
       "Extracting Abuse011_x264.mp4:   0%|          | 0/3646 [00:00<?, ?it/s]"
      ]
     },
     "metadata": {},
     "output_type": "display_data"
    },
    {
     "name": "stdout",
     "output_type": "stream",
     "text": [
      " - Abuse / Abuse013_x264.mp4\n"
     ]
    },
    {
     "data": {
      "application/vnd.jupyter.widget-view+json": {
       "model_id": "20b58419bae74e7aa6ab1e8007ab5570",
       "version_major": 2,
       "version_minor": 0
      },
      "text/plain": [
       "Extracting Abuse013_x264.mp4:   0%|          | 0/4869 [00:00<?, ?it/s]"
      ]
     },
     "metadata": {},
     "output_type": "display_data"
    },
    {
     "name": "stdout",
     "output_type": "stream",
     "text": [
      " - Abuse / Abuse039_x264.mp4\n"
     ]
    },
    {
     "data": {
      "application/vnd.jupyter.widget-view+json": {
       "model_id": "f4f88e3c88f14568a6ab5a2b647c243d",
       "version_major": 2,
       "version_minor": 0
      },
      "text/plain": [
       "Extracting Abuse039_x264.mp4:   0%|          | 0/14144 [00:00<?, ?it/s]"
      ]
     },
     "metadata": {},
     "output_type": "display_data"
    },
    {
     "name": "stdout",
     "output_type": "stream",
     "text": [
      " - Abuse / Abuse047_x264.mp4\n"
     ]
    },
    {
     "data": {
      "application/vnd.jupyter.widget-view+json": {
       "model_id": "0125d120749c44c8b458ff428641602f",
       "version_major": 2,
       "version_minor": 0
      },
      "text/plain": [
       "Extracting Abuse047_x264.mp4:   0%|          | 0/1563 [00:00<?, ?it/s]"
      ]
     },
     "metadata": {},
     "output_type": "display_data"
    },
    {
     "name": "stdout",
     "output_type": "stream",
     "text": [
      " - Arrest / Arrest013_x264.mp4\n"
     ]
    },
    {
     "data": {
      "application/vnd.jupyter.widget-view+json": {
       "model_id": "5f93bbacd8b640bc9a4a98e8245e74af",
       "version_major": 2,
       "version_minor": 0
      },
      "text/plain": [
       "Extracting Arrest013_x264.mp4:   0%|          | 0/1116 [00:00<?, ?it/s]"
      ]
     },
     "metadata": {},
     "output_type": "display_data"
    },
    {
     "name": "stdout",
     "output_type": "stream",
     "text": [
      " - Arrest / Arrest015_x264.mp4\n"
     ]
    },
    {
     "data": {
      "application/vnd.jupyter.widget-view+json": {
       "model_id": "a9fb750724404fb0b59f6fbaace38257",
       "version_major": 2,
       "version_minor": 0
      },
      "text/plain": [
       "Extracting Arrest015_x264.mp4:   0%|          | 0/976 [00:00<?, ?it/s]"
      ]
     },
     "metadata": {},
     "output_type": "display_data"
    },
    {
     "name": "stdout",
     "output_type": "stream",
     "text": [
      " - Arrest / Arrest023_x264.mp4\n"
     ]
    },
    {
     "data": {
      "application/vnd.jupyter.widget-view+json": {
       "model_id": "d4cb97101c5c401f9039299e24f2551e",
       "version_major": 2,
       "version_minor": 0
      },
      "text/plain": [
       "Extracting Arrest023_x264.mp4:   0%|          | 0/1807 [00:00<?, ?it/s]"
      ]
     },
     "metadata": {},
     "output_type": "display_data"
    },
    {
     "name": "stdout",
     "output_type": "stream",
     "text": [
      " - Arrest / Arrest024_x264.mp4\n"
     ]
    },
    {
     "data": {
      "application/vnd.jupyter.widget-view+json": {
       "model_id": "0512ee0049474fa3b4d9d0b4b143ee04",
       "version_major": 2,
       "version_minor": 0
      },
      "text/plain": [
       "Extracting Arrest024_x264.mp4:   0%|          | 0/3629 [00:00<?, ?it/s]"
      ]
     },
     "metadata": {},
     "output_type": "display_data"
    },
    {
     "name": "stdout",
     "output_type": "stream",
     "text": [
      " - Arrest / Arrest046_x264.mp4\n"
     ]
    },
    {
     "data": {
      "application/vnd.jupyter.widget-view+json": {
       "model_id": "eca0761ee5394dd288860fbf11a12fd1",
       "version_major": 2,
       "version_minor": 0
      },
      "text/plain": [
       "Extracting Arrest046_x264.mp4:   0%|          | 0/7883 [00:00<?, ?it/s]"
      ]
     },
     "metadata": {},
     "output_type": "display_data"
    },
    {
     "name": "stdout",
     "output_type": "stream",
     "text": [
      " - Arson / Arson012_x264.mp4\n"
     ]
    },
    {
     "data": {
      "application/vnd.jupyter.widget-view+json": {
       "model_id": "0f7f1c114e3c4577a931d8bc6a935bcd",
       "version_major": 2,
       "version_minor": 0
      },
      "text/plain": [
       "Extracting Arson012_x264.mp4:   0%|          | 0/894 [00:00<?, ?it/s]"
      ]
     },
     "metadata": {},
     "output_type": "display_data"
    },
    {
     "name": "stdout",
     "output_type": "stream",
     "text": [
      " - Arson / Arson021_x264.mp4\n"
     ]
    },
    {
     "data": {
      "application/vnd.jupyter.widget-view+json": {
       "model_id": "075cb674f2b549a3ac8d04568f54dc2b",
       "version_major": 2,
       "version_minor": 0
      },
      "text/plain": [
       "Extracting Arson021_x264.mp4:   0%|          | 0/1441 [00:00<?, ?it/s]"
      ]
     },
     "metadata": {},
     "output_type": "display_data"
    },
    {
     "name": "stdout",
     "output_type": "stream",
     "text": [
      " - Arson / Arson024_x264.mp4\n"
     ]
    },
    {
     "data": {
      "application/vnd.jupyter.widget-view+json": {
       "model_id": "1a3873c16020488b847f01751a5d97ed",
       "version_major": 2,
       "version_minor": 0
      },
      "text/plain": [
       "Extracting Arson024_x264.mp4:   0%|          | 0/3366 [00:00<?, ?it/s]"
      ]
     },
     "metadata": {},
     "output_type": "display_data"
    },
    {
     "name": "stdout",
     "output_type": "stream",
     "text": [
      " - Arson / Arson035_x264.mp4\n"
     ]
    },
    {
     "data": {
      "application/vnd.jupyter.widget-view+json": {
       "model_id": "099a2b3b9a0f45f0a77f161cc9ce1fd5",
       "version_major": 2,
       "version_minor": 0
      },
      "text/plain": [
       "Extracting Arson035_x264.mp4:   0%|          | 0/1437 [00:00<?, ?it/s]"
      ]
     },
     "metadata": {},
     "output_type": "display_data"
    },
    {
     "name": "stdout",
     "output_type": "stream",
     "text": [
      " - Arson / Arson048_x264.mp4\n"
     ]
    },
    {
     "data": {
      "application/vnd.jupyter.widget-view+json": {
       "model_id": "8f3b4c0abc6149998f73650e89044672",
       "version_major": 2,
       "version_minor": 0
      },
      "text/plain": [
       "Extracting Arson048_x264.mp4:   0%|          | 0/411 [00:00<?, ?it/s]"
      ]
     },
     "metadata": {},
     "output_type": "display_data"
    },
    {
     "name": "stdout",
     "output_type": "stream",
     "text": [
      " - Assault / Assault001_x264.mp4\n"
     ]
    },
    {
     "data": {
      "application/vnd.jupyter.widget-view+json": {
       "model_id": "e39f6e45d3e0471fb51b89597b6c4599",
       "version_major": 2,
       "version_minor": 0
      },
      "text/plain": [
       "Extracting Assault001_x264.mp4:   0%|          | 0/2486 [00:00<?, ?it/s]"
      ]
     },
     "metadata": {},
     "output_type": "display_data"
    },
    {
     "name": "stdout",
     "output_type": "stream",
     "text": [
      " - Assault / Assault010_x264.mp4\n"
     ]
    },
    {
     "data": {
      "application/vnd.jupyter.widget-view+json": {
       "model_id": "de401b2a895e44ab87342639334d521e",
       "version_major": 2,
       "version_minor": 0
      },
      "text/plain": [
       "Extracting Assault010_x264.mp4:   0%|          | 0/16177 [00:00<?, ?it/s]"
      ]
     },
     "metadata": {},
     "output_type": "display_data"
    },
    {
     "name": "stdout",
     "output_type": "stream",
     "text": [
      " - Assault / Assault015_x264.mp4\n"
     ]
    },
    {
     "data": {
      "application/vnd.jupyter.widget-view+json": {
       "model_id": "a8e88f8395144f2dae0e314fde77dd5e",
       "version_major": 2,
       "version_minor": 0
      },
      "text/plain": [
       "Extracting Assault015_x264.mp4:   0%|          | 0/1481 [00:00<?, ?it/s]"
      ]
     },
     "metadata": {},
     "output_type": "display_data"
    },
    {
     "name": "stdout",
     "output_type": "stream",
     "text": [
      " - Assault / Assault022_x264.mp4\n"
     ]
    },
    {
     "data": {
      "application/vnd.jupyter.widget-view+json": {
       "model_id": "9b1d6eb4137a4ceba12cc7e7ee18705e",
       "version_major": 2,
       "version_minor": 0
      },
      "text/plain": [
       "Extracting Assault022_x264.mp4:   0%|          | 0/2520 [00:00<?, ?it/s]"
      ]
     },
     "metadata": {},
     "output_type": "display_data"
    },
    {
     "name": "stdout",
     "output_type": "stream",
     "text": [
      " - Assault / Assault033_x264.mp4\n"
     ]
    },
    {
     "data": {
      "application/vnd.jupyter.widget-view+json": {
       "model_id": "f45caa1078d746e5a15946efcc0cd329",
       "version_major": 2,
       "version_minor": 0
      },
      "text/plain": [
       "Extracting Assault033_x264.mp4:   0%|          | 0/1278 [00:00<?, ?it/s]"
      ]
     },
     "metadata": {},
     "output_type": "display_data"
    },
    {
     "name": "stdout",
     "output_type": "stream",
     "text": [
      " - Burglary / Burglary002_x264.mp4\n"
     ]
    },
    {
     "data": {
      "application/vnd.jupyter.widget-view+json": {
       "model_id": "375f21ad56fa4fbea2e840ead314b920",
       "version_major": 2,
       "version_minor": 0
      },
      "text/plain": [
       "Extracting Burglary002_x264.mp4:   0%|          | 0/3064 [00:00<?, ?it/s]"
      ]
     },
     "metadata": {},
     "output_type": "display_data"
    },
    {
     "name": "stdout",
     "output_type": "stream",
     "text": [
      " - Burglary / Burglary004_x264.mp4\n"
     ]
    },
    {
     "data": {
      "application/vnd.jupyter.widget-view+json": {
       "model_id": "53704fe76c2040fdadf5694aacf03b91",
       "version_major": 2,
       "version_minor": 0
      },
      "text/plain": [
       "Extracting Burglary004_x264.mp4:   0%|          | 0/1787 [00:00<?, ?it/s]"
      ]
     },
     "metadata": {},
     "output_type": "display_data"
    },
    {
     "name": "stdout",
     "output_type": "stream",
     "text": [
      " - Burglary / Burglary006_x264.mp4\n"
     ]
    },
    {
     "data": {
      "application/vnd.jupyter.widget-view+json": {
       "model_id": "b40de2237a4c4177a21090c784b249aa",
       "version_major": 2,
       "version_minor": 0
      },
      "text/plain": [
       "Extracting Burglary006_x264.mp4:   0%|          | 0/8937 [00:00<?, ?it/s]"
      ]
     },
     "metadata": {},
     "output_type": "display_data"
    },
    {
     "name": "stdout",
     "output_type": "stream",
     "text": [
      " - Burglary / Burglary013_x264.mp4\n"
     ]
    },
    {
     "data": {
      "application/vnd.jupyter.widget-view+json": {
       "model_id": "19e1e5ab77b7411cb37ec87f7df471bf",
       "version_major": 2,
       "version_minor": 0
      },
      "text/plain": [
       "Extracting Burglary013_x264.mp4:   0%|          | 0/2234 [00:00<?, ?it/s]"
      ]
     },
     "metadata": {},
     "output_type": "display_data"
    },
    {
     "name": "stdout",
     "output_type": "stream",
     "text": [
      " - Burglary / Burglary061_x264.mp4\n"
     ]
    },
    {
     "data": {
      "application/vnd.jupyter.widget-view+json": {
       "model_id": "33947946c70b4b3ba224307d1971af51",
       "version_major": 2,
       "version_minor": 0
      },
      "text/plain": [
       "Extracting Burglary061_x264.mp4:   0%|          | 0/8990 [00:00<?, ?it/s]"
      ]
     },
     "metadata": {},
     "output_type": "display_data"
    },
    {
     "name": "stdout",
     "output_type": "stream",
     "text": [
      " - Explosion / Explosion003_x264.mp4\n"
     ]
    },
    {
     "data": {
      "application/vnd.jupyter.widget-view+json": {
       "model_id": "24e2d44aa50c471fb5202996aec90b1d",
       "version_major": 2,
       "version_minor": 0
      },
      "text/plain": [
       "Extracting Explosion003_x264.mp4:   0%|          | 0/576 [00:00<?, ?it/s]"
      ]
     },
     "metadata": {},
     "output_type": "display_data"
    },
    {
     "name": "stdout",
     "output_type": "stream",
     "text": [
      " - Explosion / Explosion007_x264.mp4\n"
     ]
    },
    {
     "data": {
      "application/vnd.jupyter.widget-view+json": {
       "model_id": "9abcb3ecd71c42b3bf7112e2af8ee16f",
       "version_major": 2,
       "version_minor": 0
      },
      "text/plain": [
       "Extracting Explosion007_x264.mp4:   0%|          | 0/16289 [00:00<?, ?it/s]"
      ]
     },
     "metadata": {},
     "output_type": "display_data"
    },
    {
     "name": "stdout",
     "output_type": "stream",
     "text": [
      " - Explosion / Explosion012_x264.mp4\n"
     ]
    },
    {
     "data": {
      "application/vnd.jupyter.widget-view+json": {
       "model_id": "d79f51f1352a4186b88e4312ac56a065",
       "version_major": 2,
       "version_minor": 0
      },
      "text/plain": [
       "Extracting Explosion012_x264.mp4:   0%|          | 0/734 [00:00<?, ?it/s]"
      ]
     },
     "metadata": {},
     "output_type": "display_data"
    },
    {
     "name": "stdout",
     "output_type": "stream",
     "text": [
      " - Explosion / Explosion016_x264.mp4\n"
     ]
    },
    {
     "data": {
      "application/vnd.jupyter.widget-view+json": {
       "model_id": "c5a29899f8904f00bbbf3a76438f73f2",
       "version_major": 2,
       "version_minor": 0
      },
      "text/plain": [
       "Extracting Explosion016_x264.mp4:   0%|          | 0/963 [00:00<?, ?it/s]"
      ]
     },
     "metadata": {},
     "output_type": "display_data"
    },
    {
     "name": "stdout",
     "output_type": "stream",
     "text": [
      " - Explosion / Explosion028_x264.mp4\n"
     ]
    },
    {
     "data": {
      "application/vnd.jupyter.widget-view+json": {
       "model_id": "19b7b3c2117544ee842cbc794b92736d",
       "version_major": 2,
       "version_minor": 0
      },
      "text/plain": [
       "Extracting Explosion028_x264.mp4:   0%|          | 0/1705 [00:00<?, ?it/s]"
      ]
     },
     "metadata": {},
     "output_type": "display_data"
    },
    {
     "name": "stdout",
     "output_type": "stream",
     "text": [
      " - Fighting / Fighting019_x264.mp4\n"
     ]
    },
    {
     "data": {
      "application/vnd.jupyter.widget-view+json": {
       "model_id": "ab8484f61ae943528c69a4b42934a958",
       "version_major": 2,
       "version_minor": 0
      },
      "text/plain": [
       "Extracting Fighting019_x264.mp4:   0%|          | 0/3213 [00:00<?, ?it/s]"
      ]
     },
     "metadata": {},
     "output_type": "display_data"
    },
    {
     "name": "stdout",
     "output_type": "stream",
     "text": [
      " - Fighting / Fighting033_x264.mp4\n"
     ]
    },
    {
     "data": {
      "application/vnd.jupyter.widget-view+json": {
       "model_id": "04d33798b17c4c33aff78c454c4daaae",
       "version_major": 2,
       "version_minor": 0
      },
      "text/plain": [
       "Extracting Fighting033_x264.mp4:   0%|          | 0/1105 [00:00<?, ?it/s]"
      ]
     },
     "metadata": {},
     "output_type": "display_data"
    },
    {
     "name": "stdout",
     "output_type": "stream",
     "text": [
      " - Fighting / Fighting034_x264.mp4\n"
     ]
    },
    {
     "data": {
      "application/vnd.jupyter.widget-view+json": {
       "model_id": "e8458eedab5c41f2a8d4203e5da3c3d8",
       "version_major": 2,
       "version_minor": 0
      },
      "text/plain": [
       "Extracting Fighting034_x264.mp4:   0%|          | 0/6266 [00:00<?, ?it/s]"
      ]
     },
     "metadata": {},
     "output_type": "display_data"
    },
    {
     "name": "stdout",
     "output_type": "stream",
     "text": [
      " - Fighting / Fighting038_x264.mp4\n"
     ]
    },
    {
     "data": {
      "application/vnd.jupyter.widget-view+json": {
       "model_id": "018d9b0a9f234f338838ffc71a0b2d74",
       "version_major": 2,
       "version_minor": 0
      },
      "text/plain": [
       "Extracting Fighting038_x264.mp4:   0%|          | 0/803 [00:00<?, ?it/s]"
      ]
     },
     "metadata": {},
     "output_type": "display_data"
    },
    {
     "name": "stdout",
     "output_type": "stream",
     "text": [
      " - Fighting / Fighting042_x264.mp4\n"
     ]
    },
    {
     "data": {
      "application/vnd.jupyter.widget-view+json": {
       "model_id": "4dea53cc3f1349dfaedd78f06af676b3",
       "version_major": 2,
       "version_minor": 0
      },
      "text/plain": [
       "Extracting Fighting042_x264.mp4:   0%|          | 0/2237 [00:00<?, ?it/s]"
      ]
     },
     "metadata": {},
     "output_type": "display_data"
    },
    {
     "name": "stdout",
     "output_type": "stream",
     "text": [
      " - NormalVideos / Normal_Videos_003_x264.mp4\n"
     ]
    },
    {
     "data": {
      "application/vnd.jupyter.widget-view+json": {
       "model_id": "abc95b1e12b447519a26fd94edf0c1c8",
       "version_major": 2,
       "version_minor": 0
      },
      "text/plain": [
       "Extracting Normal_Videos_003_x264.mp4:   0%|          | 0/2822 [00:00<?, ?it/s]"
      ]
     },
     "metadata": {},
     "output_type": "display_data"
    },
    {
     "name": "stdout",
     "output_type": "stream",
     "text": [
      " - NormalVideos / Normal_Videos_006_x264.mp4\n"
     ]
    },
    {
     "data": {
      "application/vnd.jupyter.widget-view+json": {
       "model_id": "0e17d0602a0e4f408d20bf448ab455e9",
       "version_major": 2,
       "version_minor": 0
      },
      "text/plain": [
       "Extracting Normal_Videos_006_x264.mp4:   0%|          | 0/450 [00:00<?, ?it/s]"
      ]
     },
     "metadata": {},
     "output_type": "display_data"
    },
    {
     "name": "stdout",
     "output_type": "stream",
     "text": [
      " - NormalVideos / Normal_Videos_010_x264.mp4\n"
     ]
    },
    {
     "data": {
      "application/vnd.jupyter.widget-view+json": {
       "model_id": "b22302edc8bf4c3bbf9cd10b70faa491",
       "version_major": 2,
       "version_minor": 0
      },
      "text/plain": [
       "Extracting Normal_Videos_010_x264.mp4:   0%|          | 0/1053 [00:00<?, ?it/s]"
      ]
     },
     "metadata": {},
     "output_type": "display_data"
    },
    {
     "name": "stdout",
     "output_type": "stream",
     "text": [
      " - NormalVideos / Normal_Videos_014_x264.mp4\n"
     ]
    },
    {
     "data": {
      "application/vnd.jupyter.widget-view+json": {
       "model_id": "2f8cc8d48df04d7e80d64fcc3b43323a",
       "version_major": 2,
       "version_minor": 0
      },
      "text/plain": [
       "Extracting Normal_Videos_014_x264.mp4:   0%|          | 0/1499 [00:00<?, ?it/s]"
      ]
     },
     "metadata": {},
     "output_type": "display_data"
    },
    {
     "name": "stdout",
     "output_type": "stream",
     "text": [
      " - NormalVideos / Normal_Videos_015_x264.mp4\n"
     ]
    },
    {
     "data": {
      "application/vnd.jupyter.widget-view+json": {
       "model_id": "00c28785289642d59411245449c8288a",
       "version_major": 2,
       "version_minor": 0
      },
      "text/plain": [
       "Extracting Normal_Videos_015_x264.mp4:   0%|          | 0/480 [00:00<?, ?it/s]"
      ]
     },
     "metadata": {},
     "output_type": "display_data"
    },
    {
     "name": "stdout",
     "output_type": "stream",
     "text": [
      " - RoadAccidents / RoadAccidents012_x264.mp4\n"
     ]
    },
    {
     "data": {
      "application/vnd.jupyter.widget-view+json": {
       "model_id": "97455903c0ad4063b75ff8e2141adb64",
       "version_major": 2,
       "version_minor": 0
      },
      "text/plain": [
       "Extracting RoadAccidents012_x264.mp4:   0%|          | 0/468 [00:00<?, ?it/s]"
      ]
     },
     "metadata": {},
     "output_type": "display_data"
    },
    {
     "name": "stdout",
     "output_type": "stream",
     "text": [
      " - RoadAccidents / RoadAccidents026_x264.mp4\n"
     ]
    },
    {
     "data": {
      "application/vnd.jupyter.widget-view+json": {
       "model_id": "77e883c593274e2dac6b9a0202f6dd7a",
       "version_major": 2,
       "version_minor": 0
      },
      "text/plain": [
       "Extracting RoadAccidents026_x264.mp4:   0%|          | 0/782 [00:00<?, ?it/s]"
      ]
     },
     "metadata": {},
     "output_type": "display_data"
    },
    {
     "name": "stdout",
     "output_type": "stream",
     "text": [
      " - RoadAccidents / RoadAccidents041_x264.mp4\n"
     ]
    },
    {
     "data": {
      "application/vnd.jupyter.widget-view+json": {
       "model_id": "e7ab6780904046f09047216c442fed95",
       "version_major": 2,
       "version_minor": 0
      },
      "text/plain": [
       "Extracting RoadAccidents041_x264.mp4:   0%|          | 0/239 [00:00<?, ?it/s]"
      ]
     },
     "metadata": {},
     "output_type": "display_data"
    },
    {
     "name": "stdout",
     "output_type": "stream",
     "text": [
      " - RoadAccidents / RoadAccidents046_x264.mp4\n"
     ]
    },
    {
     "data": {
      "application/vnd.jupyter.widget-view+json": {
       "model_id": "024bd33621be4fa183d284185597055d",
       "version_major": 2,
       "version_minor": 0
      },
      "text/plain": [
       "Extracting RoadAccidents046_x264.mp4:   0%|          | 0/665 [00:00<?, ?it/s]"
      ]
     },
     "metadata": {},
     "output_type": "display_data"
    },
    {
     "name": "stdout",
     "output_type": "stream",
     "text": [
      " - RoadAccidents / RoadAccidents065_x264.mp4\n"
     ]
    },
    {
     "data": {
      "application/vnd.jupyter.widget-view+json": {
       "model_id": "c25c829a8cf949119038de2ba9ff8655",
       "version_major": 2,
       "version_minor": 0
      },
      "text/plain": [
       "Extracting RoadAccidents065_x264.mp4:   0%|          | 0/117 [00:00<?, ?it/s]"
      ]
     },
     "metadata": {},
     "output_type": "display_data"
    },
    {
     "name": "stdout",
     "output_type": "stream",
     "text": [
      " - Robbery / Robbery012_x264.mp4\n"
     ]
    },
    {
     "data": {
      "application/vnd.jupyter.widget-view+json": {
       "model_id": "319d5016debf4549aa36fee06720cd43",
       "version_major": 2,
       "version_minor": 0
      },
      "text/plain": [
       "Extracting Robbery012_x264.mp4:   0%|          | 0/749 [00:00<?, ?it/s]"
      ]
     },
     "metadata": {},
     "output_type": "display_data"
    },
    {
     "name": "stdout",
     "output_type": "stream",
     "text": [
      " - Robbery / Robbery021_x264.mp4\n"
     ]
    },
    {
     "data": {
      "application/vnd.jupyter.widget-view+json": {
       "model_id": "004b9593c7694e20bfa233f2de91d0e3",
       "version_major": 2,
       "version_minor": 0
      },
      "text/plain": [
       "Extracting Robbery021_x264.mp4:   0%|          | 0/8223 [00:00<?, ?it/s]"
      ]
     },
     "metadata": {},
     "output_type": "display_data"
    },
    {
     "name": "stdout",
     "output_type": "stream",
     "text": [
      " - Robbery / Robbery032_x264.mp4\n"
     ]
    },
    {
     "data": {
      "application/vnd.jupyter.widget-view+json": {
       "model_id": "093eb875e17a43d69e573a2ffacc8be0",
       "version_major": 2,
       "version_minor": 0
      },
      "text/plain": [
       "Extracting Robbery032_x264.mp4:   0%|          | 0/5400 [00:00<?, ?it/s]"
      ]
     },
     "metadata": {},
     "output_type": "display_data"
    },
    {
     "name": "stdout",
     "output_type": "stream",
     "text": [
      " - Robbery / Robbery054_x264.mp4\n"
     ]
    },
    {
     "data": {
      "application/vnd.jupyter.widget-view+json": {
       "model_id": "e9c46a5fbf4a43b78698d4eb9627c812",
       "version_major": 2,
       "version_minor": 0
      },
      "text/plain": [
       "Extracting Robbery054_x264.mp4:   0%|          | 0/1977 [00:00<?, ?it/s]"
      ]
     },
     "metadata": {},
     "output_type": "display_data"
    },
    {
     "name": "stdout",
     "output_type": "stream",
     "text": [
      " - Robbery / Robbery065_x264.mp4\n"
     ]
    },
    {
     "data": {
      "application/vnd.jupyter.widget-view+json": {
       "model_id": "4910a8ddfb984d3db617ebe5415d702f",
       "version_major": 2,
       "version_minor": 0
      },
      "text/plain": [
       "Extracting Robbery065_x264.mp4:   0%|          | 0/2396 [00:00<?, ?it/s]"
      ]
     },
     "metadata": {},
     "output_type": "display_data"
    },
    {
     "name": "stdout",
     "output_type": "stream",
     "text": [
      " - Shooting / Shooting001_x264.mp4\n"
     ]
    },
    {
     "data": {
      "application/vnd.jupyter.widget-view+json": {
       "model_id": "26bf932964c948c29a469941eb9ea543",
       "version_major": 2,
       "version_minor": 0
      },
      "text/plain": [
       "Extracting Shooting001_x264.mp4:   0%|          | 0/253 [00:00<?, ?it/s]"
      ]
     },
     "metadata": {},
     "output_type": "display_data"
    },
    {
     "name": "stdout",
     "output_type": "stream",
     "text": [
      " - Shooting / Shooting006_x264.mp4\n"
     ]
    },
    {
     "data": {
      "application/vnd.jupyter.widget-view+json": {
       "model_id": "dd4b291fe5984afaa4bd6c4e4679e0e8",
       "version_major": 2,
       "version_minor": 0
      },
      "text/plain": [
       "Extracting Shooting006_x264.mp4:   0%|          | 0/13073 [00:00<?, ?it/s]"
      ]
     },
     "metadata": {},
     "output_type": "display_data"
    },
    {
     "name": "stdout",
     "output_type": "stream",
     "text": [
      " - Shooting / Shooting008_x264.mp4\n"
     ]
    },
    {
     "data": {
      "application/vnd.jupyter.widget-view+json": {
       "model_id": "fdf48de600b24399b90406b482a11be2",
       "version_major": 2,
       "version_minor": 0
      },
      "text/plain": [
       "Extracting Shooting008_x264.mp4:   0%|          | 0/1625 [00:00<?, ?it/s]"
      ]
     },
     "metadata": {},
     "output_type": "display_data"
    },
    {
     "name": "stdout",
     "output_type": "stream",
     "text": [
      " - Shooting / Shooting048_x264.mp4\n"
     ]
    },
    {
     "data": {
      "application/vnd.jupyter.widget-view+json": {
       "model_id": "6a22203e04f44d6cbeaea5c50007b524",
       "version_major": 2,
       "version_minor": 0
      },
      "text/plain": [
       "Extracting Shooting048_x264.mp4:   0%|          | 0/2741 [00:00<?, ?it/s]"
      ]
     },
     "metadata": {},
     "output_type": "display_data"
    },
    {
     "name": "stdout",
     "output_type": "stream",
     "text": [
      " - Shooting / Shooting052_x264.mp4\n"
     ]
    },
    {
     "data": {
      "application/vnd.jupyter.widget-view+json": {
       "model_id": "ff54bb668d7145f0bfe272a49ea34c4b",
       "version_major": 2,
       "version_minor": 0
      },
      "text/plain": [
       "Extracting Shooting052_x264.mp4:   0%|          | 0/5567 [00:00<?, ?it/s]"
      ]
     },
     "metadata": {},
     "output_type": "display_data"
    },
    {
     "name": "stdout",
     "output_type": "stream",
     "text": [
      " - Shoplifting / Shoplifting008_x264.mp4\n"
     ]
    },
    {
     "data": {
      "application/vnd.jupyter.widget-view+json": {
       "model_id": "c520877f65e44715bcd927deb8ffd8b7",
       "version_major": 2,
       "version_minor": 0
      },
      "text/plain": [
       "Extracting Shoplifting008_x264.mp4:   0%|          | 0/8927 [00:00<?, ?it/s]"
      ]
     },
     "metadata": {},
     "output_type": "display_data"
    },
    {
     "name": "stdout",
     "output_type": "stream",
     "text": [
      " - Shoplifting / Shoplifting009_x264.mp4\n"
     ]
    },
    {
     "data": {
      "application/vnd.jupyter.widget-view+json": {
       "model_id": "dbdd7284bb7e4627ae3588a766e40a25",
       "version_major": 2,
       "version_minor": 0
      },
      "text/plain": [
       "Extracting Shoplifting009_x264.mp4:   0%|          | 0/5201 [00:00<?, ?it/s]"
      ]
     },
     "metadata": {},
     "output_type": "display_data"
    },
    {
     "name": "stdout",
     "output_type": "stream",
     "text": [
      " - Shoplifting / Shoplifting019_x264.mp4\n"
     ]
    },
    {
     "data": {
      "application/vnd.jupyter.widget-view+json": {
       "model_id": "132a8381ac0d4e18ab735acf259f7a71",
       "version_major": 2,
       "version_minor": 0
      },
      "text/plain": [
       "Extracting Shoplifting019_x264.mp4:   0%|          | 0/657 [00:00<?, ?it/s]"
      ]
     },
     "metadata": {},
     "output_type": "display_data"
    },
    {
     "name": "stdout",
     "output_type": "stream",
     "text": [
      " - Shoplifting / Shoplifting022_x264.mp4\n"
     ]
    },
    {
     "data": {
      "application/vnd.jupyter.widget-view+json": {
       "model_id": "f7e3e07a024648d69d9760f95ff7bc99",
       "version_major": 2,
       "version_minor": 0
      },
      "text/plain": [
       "Extracting Shoplifting022_x264.mp4:   0%|          | 0/2191 [00:00<?, ?it/s]"
      ]
     },
     "metadata": {},
     "output_type": "display_data"
    },
    {
     "name": "stdout",
     "output_type": "stream",
     "text": [
      " - Shoplifting / Shoplifting050_x264.mp4\n"
     ]
    },
    {
     "data": {
      "application/vnd.jupyter.widget-view+json": {
       "model_id": "2df0bf5115d740ac9e93b142854ac08c",
       "version_major": 2,
       "version_minor": 0
      },
      "text/plain": [
       "Extracting Shoplifting050_x264.mp4:   0%|          | 0/2506 [00:00<?, ?it/s]"
      ]
     },
     "metadata": {},
     "output_type": "display_data"
    },
    {
     "name": "stdout",
     "output_type": "stream",
     "text": [
      " - Stealing / Stealing013_x264.mp4\n"
     ]
    },
    {
     "data": {
      "application/vnd.jupyter.widget-view+json": {
       "model_id": "7fb457ff7db7454093269817470a9562",
       "version_major": 2,
       "version_minor": 0
      },
      "text/plain": [
       "Extracting Stealing013_x264.mp4:   0%|          | 0/9251 [00:00<?, ?it/s]"
      ]
     },
     "metadata": {},
     "output_type": "display_data"
    },
    {
     "name": "stdout",
     "output_type": "stream",
     "text": [
      " - Stealing / Stealing046_x264.mp4\n"
     ]
    },
    {
     "data": {
      "application/vnd.jupyter.widget-view+json": {
       "model_id": "0819fa9f930d4d00a34ce52a167868c2",
       "version_major": 2,
       "version_minor": 0
      },
      "text/plain": [
       "Extracting Stealing046_x264.mp4:   0%|          | 0/10305 [00:00<?, ?it/s]"
      ]
     },
     "metadata": {},
     "output_type": "display_data"
    },
    {
     "name": "stdout",
     "output_type": "stream",
     "text": [
      " - Stealing / Stealing048_x264.mp4\n"
     ]
    },
    {
     "data": {
      "application/vnd.jupyter.widget-view+json": {
       "model_id": "c4a7d87a9cba4f1ebaf2757a898a3d1f",
       "version_major": 2,
       "version_minor": 0
      },
      "text/plain": [
       "Extracting Stealing048_x264.mp4:   0%|          | 0/7567 [00:00<?, ?it/s]"
      ]
     },
     "metadata": {},
     "output_type": "display_data"
    },
    {
     "name": "stdout",
     "output_type": "stream",
     "text": [
      " - Stealing / Stealing062_x264.mp4\n"
     ]
    },
    {
     "data": {
      "application/vnd.jupyter.widget-view+json": {
       "model_id": "4103f07a05c242efb1aa533cc8b36195",
       "version_major": 2,
       "version_minor": 0
      },
      "text/plain": [
       "Extracting Stealing062_x264.mp4:   0%|          | 0/1560 [00:00<?, ?it/s]"
      ]
     },
     "metadata": {},
     "output_type": "display_data"
    },
    {
     "name": "stdout",
     "output_type": "stream",
     "text": [
      " - Stealing / Stealing063_x264.mp4\n"
     ]
    },
    {
     "data": {
      "application/vnd.jupyter.widget-view+json": {
       "model_id": "92da4156ed904ecd9edbff0688814439",
       "version_major": 2,
       "version_minor": 0
      },
      "text/plain": [
       "Extracting Stealing063_x264.mp4:   0%|          | 0/11591 [00:00<?, ?it/s]"
      ]
     },
     "metadata": {},
     "output_type": "display_data"
    },
    {
     "name": "stdout",
     "output_type": "stream",
     "text": [
      " - Vandalism / Vandalism002_x264.mp4\n"
     ]
    },
    {
     "data": {
      "application/vnd.jupyter.widget-view+json": {
       "model_id": "0906f65fcab7477fbf942852ae64d59a",
       "version_major": 2,
       "version_minor": 0
      },
      "text/plain": [
       "Extracting Vandalism002_x264.mp4:   0%|          | 0/1841 [00:00<?, ?it/s]"
      ]
     },
     "metadata": {},
     "output_type": "display_data"
    },
    {
     "name": "stdout",
     "output_type": "stream",
     "text": [
      " - Vandalism / Vandalism028_x264.mp4\n"
     ]
    },
    {
     "data": {
      "application/vnd.jupyter.widget-view+json": {
       "model_id": "ccf512589129455b9ac4c97535b3b3e9",
       "version_major": 2,
       "version_minor": 0
      },
      "text/plain": [
       "Extracting Vandalism028_x264.mp4:   0%|          | 0/4495 [00:00<?, ?it/s]"
      ]
     },
     "metadata": {},
     "output_type": "display_data"
    },
    {
     "name": "stdout",
     "output_type": "stream",
     "text": [
      " - Vandalism / Vandalism032_x264.mp4\n"
     ]
    },
    {
     "data": {
      "application/vnd.jupyter.widget-view+json": {
       "model_id": "016f7f41dbac466b9fe00de3e8e0407c",
       "version_major": 2,
       "version_minor": 0
      },
      "text/plain": [
       "Extracting Vandalism032_x264.mp4:   0%|          | 0/674 [00:00<?, ?it/s]"
      ]
     },
     "metadata": {},
     "output_type": "display_data"
    },
    {
     "name": "stdout",
     "output_type": "stream",
     "text": [
      " - Vandalism / Vandalism041_x264.mp4\n"
     ]
    },
    {
     "data": {
      "application/vnd.jupyter.widget-view+json": {
       "model_id": "2b2b24f8cd004c6da6e7e8c13eaf10ce",
       "version_major": 2,
       "version_minor": 0
      },
      "text/plain": [
       "Extracting Vandalism041_x264.mp4:   0%|          | 0/4868 [00:00<?, ?it/s]"
      ]
     },
     "metadata": {},
     "output_type": "display_data"
    },
    {
     "name": "stdout",
     "output_type": "stream",
     "text": [
      " - Vandalism / Vandalism047_x264.mp4\n"
     ]
    },
    {
     "data": {
      "application/vnd.jupyter.widget-view+json": {
       "model_id": "ec8cabc1dee1469e8a837a276886e432",
       "version_major": 2,
       "version_minor": 0
      },
      "text/plain": [
       "Extracting Vandalism047_x264.mp4:   0%|          | 0/2483 [00:00<?, ?it/s]"
      ]
     },
     "metadata": {},
     "output_type": "display_data"
    },
    {
     "name": "stdout",
     "output_type": "stream",
     "text": [
      "\n",
      "[Processing] Validation (frame_skip=10)...\n",
      " - Abuse / Abuse019_x264.mp4\n"
     ]
    },
    {
     "data": {
      "application/vnd.jupyter.widget-view+json": {
       "model_id": "268289a1333b46409d78451acc5749cf",
       "version_major": 2,
       "version_minor": 0
      },
      "text/plain": [
       "Extracting Abuse019_x264.mp4:   0%|          | 0/3943 [00:00<?, ?it/s]"
      ]
     },
     "metadata": {},
     "output_type": "display_data"
    },
    {
     "name": "stdout",
     "output_type": "stream",
     "text": [
      " - Abuse / Abuse031_x264.mp4\n"
     ]
    },
    {
     "data": {
      "application/vnd.jupyter.widget-view+json": {
       "model_id": "cdb17d51b29542838b8dc189b123f005",
       "version_major": 2,
       "version_minor": 0
      },
      "text/plain": [
       "Extracting Abuse031_x264.mp4:   0%|          | 0/4442 [00:00<?, ?it/s]"
      ]
     },
     "metadata": {},
     "output_type": "display_data"
    },
    {
     "name": "stdout",
     "output_type": "stream",
     "text": [
      " - Abuse / Abuse035_x264.mp4\n"
     ]
    },
    {
     "data": {
      "application/vnd.jupyter.widget-view+json": {
       "model_id": "3ce7e91c5c5c4e969201d0a33c6683fa",
       "version_major": 2,
       "version_minor": 0
      },
      "text/plain": [
       "Extracting Abuse035_x264.mp4:   0%|          | 0/2651 [00:00<?, ?it/s]"
      ]
     },
     "metadata": {},
     "output_type": "display_data"
    },
    {
     "name": "stdout",
     "output_type": "stream",
     "text": [
      " - Abuse / Abuse036_x264.mp4\n"
     ]
    },
    {
     "data": {
      "application/vnd.jupyter.widget-view+json": {
       "model_id": "2107bac170504e68aaf09ab7af0b2f3d",
       "version_major": 2,
       "version_minor": 0
      },
      "text/plain": [
       "Extracting Abuse036_x264.mp4:   0%|          | 0/4703 [00:00<?, ?it/s]"
      ]
     },
     "metadata": {},
     "output_type": "display_data"
    },
    {
     "name": "stdout",
     "output_type": "stream",
     "text": [
      " - Abuse / Abuse044_x264.mp4\n"
     ]
    },
    {
     "data": {
      "application/vnd.jupyter.widget-view+json": {
       "model_id": "778850e6a5b64cd998f482df1b7530d3",
       "version_major": 2,
       "version_minor": 0
      },
      "text/plain": [
       "Extracting Abuse044_x264.mp4:   0%|          | 0/3940 [00:00<?, ?it/s]"
      ]
     },
     "metadata": {},
     "output_type": "display_data"
    },
    {
     "name": "stdout",
     "output_type": "stream",
     "text": [
      " - Arrest / Arrest003_x264.mp4\n"
     ]
    },
    {
     "data": {
      "application/vnd.jupyter.widget-view+json": {
       "model_id": "989ea25a64594b588e721b49114cd044",
       "version_major": 2,
       "version_minor": 0
      },
      "text/plain": [
       "Extracting Arrest003_x264.mp4:   0%|          | 0/3054 [00:00<?, ?it/s]"
      ]
     },
     "metadata": {},
     "output_type": "display_data"
    },
    {
     "name": "stdout",
     "output_type": "stream",
     "text": [
      " - Arrest / Arrest019_x264.mp4\n"
     ]
    },
    {
     "data": {
      "application/vnd.jupyter.widget-view+json": {
       "model_id": "f6982d5df130455f999c0e639fd776e2",
       "version_major": 2,
       "version_minor": 0
      },
      "text/plain": [
       "Extracting Arrest019_x264.mp4:   0%|          | 0/1394 [00:00<?, ?it/s]"
      ]
     },
     "metadata": {},
     "output_type": "display_data"
    },
    {
     "name": "stdout",
     "output_type": "stream",
     "text": [
      " - Arrest / Arrest030_x264.mp4\n"
     ]
    },
    {
     "data": {
      "application/vnd.jupyter.widget-view+json": {
       "model_id": "9c1d9237ab00463cab783dddb08821bc",
       "version_major": 2,
       "version_minor": 0
      },
      "text/plain": [
       "Extracting Arrest030_x264.mp4:   0%|          | 0/8642 [00:00<?, ?it/s]"
      ]
     },
     "metadata": {},
     "output_type": "display_data"
    },
    {
     "name": "stdout",
     "output_type": "stream",
     "text": [
      " - Arrest / Arrest039_x264.mp4\n"
     ]
    },
    {
     "data": {
      "application/vnd.jupyter.widget-view+json": {
       "model_id": "eb2d8afeb2324504bfcae05543b238ca",
       "version_major": 2,
       "version_minor": 0
      },
      "text/plain": [
       "Extracting Arrest039_x264.mp4:   0%|          | 0/15835 [00:00<?, ?it/s]"
      ]
     },
     "metadata": {},
     "output_type": "display_data"
    },
    {
     "name": "stdout",
     "output_type": "stream",
     "text": [
      " - Arrest / Arrest050_x264.mp4\n"
     ]
    },
    {
     "data": {
      "application/vnd.jupyter.widget-view+json": {
       "model_id": "952488dbd9e44139a355dcfd6daaca55",
       "version_major": 2,
       "version_minor": 0
      },
      "text/plain": [
       "Extracting Arrest050_x264.mp4:   0%|          | 0/7111 [00:00<?, ?it/s]"
      ]
     },
     "metadata": {},
     "output_type": "display_data"
    },
    {
     "name": "stdout",
     "output_type": "stream",
     "text": [
      " - Arson / Arson042_x264.mp4\n"
     ]
    },
    {
     "data": {
      "application/vnd.jupyter.widget-view+json": {
       "model_id": "6cf738592ae746328d1024a6bf7e1f33",
       "version_major": 2,
       "version_minor": 0
      },
      "text/plain": [
       "Extracting Arson042_x264.mp4:   0%|          | 0/5873 [00:00<?, ?it/s]"
      ]
     },
     "metadata": {},
     "output_type": "display_data"
    },
    {
     "name": "stdout",
     "output_type": "stream",
     "text": [
      " - Arson / Arson044_x264.mp4\n"
     ]
    },
    {
     "data": {
      "application/vnd.jupyter.widget-view+json": {
       "model_id": "331771188c0d4f3c953355d5f0794792",
       "version_major": 2,
       "version_minor": 0
      },
      "text/plain": [
       "Extracting Arson044_x264.mp4:   0%|          | 0/1196 [00:00<?, ?it/s]"
      ]
     },
     "metadata": {},
     "output_type": "display_data"
    },
    {
     "name": "stdout",
     "output_type": "stream",
     "text": [
      " - Arson / Arson045_x264.mp4\n"
     ]
    },
    {
     "data": {
      "application/vnd.jupyter.widget-view+json": {
       "model_id": "81a11d24b3514921aa1bc6f81b181f2d",
       "version_major": 2,
       "version_minor": 0
      },
      "text/plain": [
       "Extracting Arson045_x264.mp4:   0%|          | 0/3753 [00:00<?, ?it/s]"
      ]
     },
     "metadata": {},
     "output_type": "display_data"
    },
    {
     "name": "stdout",
     "output_type": "stream",
     "text": [
      " - Arson / Arson046_x264.mp4\n"
     ]
    },
    {
     "data": {
      "application/vnd.jupyter.widget-view+json": {
       "model_id": "b30a5cb026934ca18b2a9a030547d29c",
       "version_major": 2,
       "version_minor": 0
      },
      "text/plain": [
       "Extracting Arson046_x264.mp4:   0%|          | 0/2073 [00:00<?, ?it/s]"
      ]
     },
     "metadata": {},
     "output_type": "display_data"
    },
    {
     "name": "stdout",
     "output_type": "stream",
     "text": [
      " - Arson / Arson051_x264.mp4\n"
     ]
    },
    {
     "data": {
      "application/vnd.jupyter.widget-view+json": {
       "model_id": "bcc9349f9170430d93262babf07e1e18",
       "version_major": 2,
       "version_minor": 0
      },
      "text/plain": [
       "Extracting Arson051_x264.mp4:   0%|          | 0/1056 [00:00<?, ?it/s]"
      ]
     },
     "metadata": {},
     "output_type": "display_data"
    },
    {
     "name": "stdout",
     "output_type": "stream",
     "text": [
      " - Assault / Assault005_x264.mp4\n"
     ]
    },
    {
     "data": {
      "application/vnd.jupyter.widget-view+json": {
       "model_id": "35b290a116e4402582ba543516c46ce3",
       "version_major": 2,
       "version_minor": 0
      },
      "text/plain": [
       "Extracting Assault005_x264.mp4:   0%|          | 0/1217 [00:00<?, ?it/s]"
      ]
     },
     "metadata": {},
     "output_type": "display_data"
    },
    {
     "name": "stdout",
     "output_type": "stream",
     "text": [
      " - Assault / Assault011_x264.mp4\n"
     ]
    },
    {
     "data": {
      "application/vnd.jupyter.widget-view+json": {
       "model_id": "ac70f0203fdc44e5871320c916474a37",
       "version_major": 2,
       "version_minor": 0
      },
      "text/plain": [
       "Extracting Assault011_x264.mp4:   0%|          | 0/2288 [00:00<?, ?it/s]"
      ]
     },
     "metadata": {},
     "output_type": "display_data"
    },
    {
     "name": "stdout",
     "output_type": "stream",
     "text": [
      " - Assault / Assault044_x264.mp4\n"
     ]
    },
    {
     "data": {
      "application/vnd.jupyter.widget-view+json": {
       "model_id": "4b38d7196d1e4e858ae12709a9f3e263",
       "version_major": 2,
       "version_minor": 0
      },
      "text/plain": [
       "Extracting Assault044_x264.mp4:   0%|          | 0/764 [00:00<?, ?it/s]"
      ]
     },
     "metadata": {},
     "output_type": "display_data"
    },
    {
     "name": "stdout",
     "output_type": "stream",
     "text": [
      " - Assault / Assault048_x264.mp4\n"
     ]
    },
    {
     "data": {
      "application/vnd.jupyter.widget-view+json": {
       "model_id": "ccf55cad442c4a58a1c9667282e3874f",
       "version_major": 2,
       "version_minor": 0
      },
      "text/plain": [
       "Extracting Assault048_x264.mp4:   0%|          | 0/1801 [00:00<?, ?it/s]"
      ]
     },
     "metadata": {},
     "output_type": "display_data"
    },
    {
     "name": "stdout",
     "output_type": "stream",
     "text": [
      " - Assault / Assault050_x264.mp4\n"
     ]
    },
    {
     "data": {
      "application/vnd.jupyter.widget-view+json": {
       "model_id": "dbcfd4b047944409a08db461fb197a19",
       "version_major": 2,
       "version_minor": 0
      },
      "text/plain": [
       "Extracting Assault050_x264.mp4:   0%|          | 0/623 [00:00<?, ?it/s]"
      ]
     },
     "metadata": {},
     "output_type": "display_data"
    },
    {
     "name": "stdout",
     "output_type": "stream",
     "text": [
      " - Burglary / Burglary031_x264.mp4\n"
     ]
    },
    {
     "data": {
      "application/vnd.jupyter.widget-view+json": {
       "model_id": "1aeaa7d13d254d3bb2045d9903416b6f",
       "version_major": 2,
       "version_minor": 0
      },
      "text/plain": [
       "Extracting Burglary031_x264.mp4:   0%|          | 0/6257 [00:00<?, ?it/s]"
      ]
     },
     "metadata": {},
     "output_type": "display_data"
    },
    {
     "name": "stdout",
     "output_type": "stream",
     "text": [
      " - Burglary / Burglary032_x264.mp4\n"
     ]
    },
    {
     "data": {
      "application/vnd.jupyter.widget-view+json": {
       "model_id": "ef0ae7cd1af8417a85cf1af0165b9335",
       "version_major": 2,
       "version_minor": 0
      },
      "text/plain": [
       "Extracting Burglary032_x264.mp4:   0%|          | 0/15795 [00:00<?, ?it/s]"
      ]
     },
     "metadata": {},
     "output_type": "display_data"
    },
    {
     "name": "stdout",
     "output_type": "stream",
     "text": [
      " - Burglary / Burglary034_x264.mp4\n"
     ]
    },
    {
     "data": {
      "application/vnd.jupyter.widget-view+json": {
       "model_id": "6526526f6a6944c2b898d1059ade5b23",
       "version_major": 2,
       "version_minor": 0
      },
      "text/plain": [
       "Extracting Burglary034_x264.mp4:   0%|          | 0/1277 [00:00<?, ?it/s]"
      ]
     },
     "metadata": {},
     "output_type": "display_data"
    },
    {
     "name": "stdout",
     "output_type": "stream",
     "text": [
      " - Burglary / Burglary037_x264.mp4\n"
     ]
    },
    {
     "data": {
      "application/vnd.jupyter.widget-view+json": {
       "model_id": "4b56a7221a1a4e6ba274ff2dc018220f",
       "version_major": 2,
       "version_minor": 0
      },
      "text/plain": [
       "Extracting Burglary037_x264.mp4:   0%|          | 0/1920 [00:00<?, ?it/s]"
      ]
     },
     "metadata": {},
     "output_type": "display_data"
    },
    {
     "name": "stdout",
     "output_type": "stream",
     "text": [
      " - Burglary / Burglary039_x264.mp4\n"
     ]
    },
    {
     "data": {
      "application/vnd.jupyter.widget-view+json": {
       "model_id": "d3cdedbd536e4a22a2af5960a68210d6",
       "version_major": 2,
       "version_minor": 0
      },
      "text/plain": [
       "Extracting Burglary039_x264.mp4:   0%|          | 0/9421 [00:00<?, ?it/s]"
      ]
     },
     "metadata": {},
     "output_type": "display_data"
    },
    {
     "name": "stdout",
     "output_type": "stream",
     "text": [
      " - Explosion / Explosion026_x264.mp4\n"
     ]
    },
    {
     "data": {
      "application/vnd.jupyter.widget-view+json": {
       "model_id": "c1fc1699f1dc483095afd0112846f9ae",
       "version_major": 2,
       "version_minor": 0
      },
      "text/plain": [
       "Extracting Explosion026_x264.mp4:   0%|          | 0/2587 [00:00<?, ?it/s]"
      ]
     },
     "metadata": {},
     "output_type": "display_data"
    },
    {
     "name": "stdout",
     "output_type": "stream",
     "text": [
      " - Explosion / Explosion034_x264.mp4\n"
     ]
    },
    {
     "data": {
      "application/vnd.jupyter.widget-view+json": {
       "model_id": "22b604f31c044c45a315c8d06cbec5eb",
       "version_major": 2,
       "version_minor": 0
      },
      "text/plain": [
       "Extracting Explosion034_x264.mp4:   0%|          | 0/414 [00:00<?, ?it/s]"
      ]
     },
     "metadata": {},
     "output_type": "display_data"
    },
    {
     "name": "stdout",
     "output_type": "stream",
     "text": [
      " - Explosion / Explosion035_x264.mp4\n"
     ]
    },
    {
     "data": {
      "application/vnd.jupyter.widget-view+json": {
       "model_id": "5788ccde885a4a6c8140cbd1d5244de4",
       "version_major": 2,
       "version_minor": 0
      },
      "text/plain": [
       "Extracting Explosion035_x264.mp4:   0%|          | 0/2865 [00:00<?, ?it/s]"
      ]
     },
     "metadata": {},
     "output_type": "display_data"
    },
    {
     "name": "stdout",
     "output_type": "stream",
     "text": [
      " - Explosion / Explosion039_x264.mp4\n"
     ]
    },
    {
     "data": {
      "application/vnd.jupyter.widget-view+json": {
       "model_id": "797ebe0a0bb94318825ad8ef77ce9b72",
       "version_major": 2,
       "version_minor": 0
      },
      "text/plain": [
       "Extracting Explosion039_x264.mp4:   0%|          | 0/998 [00:00<?, ?it/s]"
      ]
     },
     "metadata": {},
     "output_type": "display_data"
    },
    {
     "name": "stdout",
     "output_type": "stream",
     "text": [
      " - Explosion / Explosion040_x264.mp4\n"
     ]
    },
    {
     "data": {
      "application/vnd.jupyter.widget-view+json": {
       "model_id": "2949a45dc6e94ce18310aaeb9b0c8b35",
       "version_major": 2,
       "version_minor": 0
      },
      "text/plain": [
       "Extracting Explosion040_x264.mp4:   0%|          | 0/4571 [00:00<?, ?it/s]"
      ]
     },
     "metadata": {},
     "output_type": "display_data"
    },
    {
     "name": "stdout",
     "output_type": "stream",
     "text": [
      " - Fighting / Fighting006_x264.mp4\n"
     ]
    },
    {
     "data": {
      "application/vnd.jupyter.widget-view+json": {
       "model_id": "bbdac91356fd460b85098de09f625bcb",
       "version_major": 2,
       "version_minor": 0
      },
      "text/plain": [
       "Extracting Fighting006_x264.mp4:   0%|          | 0/944 [00:00<?, ?it/s]"
      ]
     },
     "metadata": {},
     "output_type": "display_data"
    },
    {
     "name": "stdout",
     "output_type": "stream",
     "text": [
      " - Fighting / Fighting009_x264.mp4\n"
     ]
    },
    {
     "data": {
      "application/vnd.jupyter.widget-view+json": {
       "model_id": "46fc3d08a34d432590321baaca10d2a6",
       "version_major": 2,
       "version_minor": 0
      },
      "text/plain": [
       "Extracting Fighting009_x264.mp4:   0%|          | 0/2132 [00:00<?, ?it/s]"
      ]
     },
     "metadata": {},
     "output_type": "display_data"
    },
    {
     "name": "stdout",
     "output_type": "stream",
     "text": [
      " - Fighting / Fighting031_x264.mp4\n"
     ]
    },
    {
     "data": {
      "application/vnd.jupyter.widget-view+json": {
       "model_id": "5d47f7f1bae845ab9a2c824c5112a50f",
       "version_major": 2,
       "version_minor": 0
      },
      "text/plain": [
       "Extracting Fighting031_x264.mp4:   0%|          | 0/9001 [00:00<?, ?it/s]"
      ]
     },
     "metadata": {},
     "output_type": "display_data"
    },
    {
     "name": "stdout",
     "output_type": "stream",
     "text": [
      " - Fighting / Fighting044_x264.mp4\n"
     ]
    },
    {
     "data": {
      "application/vnd.jupyter.widget-view+json": {
       "model_id": "b4cc372ff07c4b608d4e3430e7592876",
       "version_major": 2,
       "version_minor": 0
      },
      "text/plain": [
       "Extracting Fighting044_x264.mp4:   0%|          | 0/6286 [00:00<?, ?it/s]"
      ]
     },
     "metadata": {},
     "output_type": "display_data"
    },
    {
     "name": "stdout",
     "output_type": "stream",
     "text": [
      " - Fighting / Fighting045_x264.mp4\n"
     ]
    },
    {
     "data": {
      "application/vnd.jupyter.widget-view+json": {
       "model_id": "ce864e779774495bab2a2a395faca4c2",
       "version_major": 2,
       "version_minor": 0
      },
      "text/plain": [
       "Extracting Fighting045_x264.mp4:   0%|          | 0/5915 [00:00<?, ?it/s]"
      ]
     },
     "metadata": {},
     "output_type": "display_data"
    },
    {
     "name": "stdout",
     "output_type": "stream",
     "text": [
      " - NormalVideos / Normal_Videos004_x264.mp4\n"
     ]
    },
    {
     "data": {
      "application/vnd.jupyter.widget-view+json": {
       "model_id": "214b7463e6104580a26d8eb6c8f0d00a",
       "version_major": 2,
       "version_minor": 0
      },
      "text/plain": [
       "Extracting Normal_Videos004_x264.mp4:   0%|          | 0/917 [00:00<?, ?it/s]"
      ]
     },
     "metadata": {},
     "output_type": "display_data"
    },
    {
     "name": "stdout",
     "output_type": "stream",
     "text": [
      " - NormalVideos / Normal_Videos040_x264.mp4\n"
     ]
    },
    {
     "data": {
      "application/vnd.jupyter.widget-view+json": {
       "model_id": "9b72566927714027bb545e98fccc1fcb",
       "version_major": 2,
       "version_minor": 0
      },
      "text/plain": [
       "Extracting Normal_Videos040_x264.mp4:   0%|          | 0/956 [00:00<?, ?it/s]"
      ]
     },
     "metadata": {},
     "output_type": "display_data"
    },
    {
     "name": "stdout",
     "output_type": "stream",
     "text": [
      " - NormalVideos / Normal_Videos084_x264.mp4\n"
     ]
    },
    {
     "data": {
      "application/vnd.jupyter.widget-view+json": {
       "model_id": "d7da74e8c29748f6bf09f43d79807442",
       "version_major": 2,
       "version_minor": 0
      },
      "text/plain": [
       "Extracting Normal_Videos084_x264.mp4:   0%|          | 0/27456 [00:00<?, ?it/s]"
      ]
     },
     "metadata": {},
     "output_type": "display_data"
    },
    {
     "name": "stdout",
     "output_type": "stream",
     "text": [
      " - NormalVideos / Normal_Videos094_x264.mp4\n"
     ]
    },
    {
     "data": {
      "application/vnd.jupyter.widget-view+json": {
       "model_id": "7e18b6eab2cb48148209266e82d7df82",
       "version_major": 2,
       "version_minor": 0
      },
      "text/plain": [
       "Extracting Normal_Videos094_x264.mp4:   0%|          | 0/1740 [00:00<?, ?it/s]"
      ]
     },
     "metadata": {},
     "output_type": "display_data"
    },
    {
     "name": "stdout",
     "output_type": "stream",
     "text": [
      " - NormalVideos / Normal_Videos123_x264.mp4\n"
     ]
    },
    {
     "data": {
      "application/vnd.jupyter.widget-view+json": {
       "model_id": "dd23a50d5ce2405497253a3a528f0cd8",
       "version_major": 2,
       "version_minor": 0
      },
      "text/plain": [
       "Extracting Normal_Videos123_x264.mp4:   0%|          | 0/22170 [00:00<?, ?it/s]"
      ]
     },
     "metadata": {},
     "output_type": "display_data"
    },
    {
     "name": "stdout",
     "output_type": "stream",
     "text": [
      " - RoadAccidents / RoadAccidents002_x264.mp4\n"
     ]
    },
    {
     "data": {
      "application/vnd.jupyter.widget-view+json": {
       "model_id": "74200dc6ced54a7897887d0cb8f8206d",
       "version_major": 2,
       "version_minor": 0
      },
      "text/plain": [
       "Extracting RoadAccidents002_x264.mp4:   0%|          | 0/347 [00:00<?, ?it/s]"
      ]
     },
     "metadata": {},
     "output_type": "display_data"
    },
    {
     "name": "stdout",
     "output_type": "stream",
     "text": [
      " - RoadAccidents / RoadAccidents006_x264.mp4\n"
     ]
    },
    {
     "data": {
      "application/vnd.jupyter.widget-view+json": {
       "model_id": "2c23f186d8ff47938bbbefa93a16572e",
       "version_major": 2,
       "version_minor": 0
      },
      "text/plain": [
       "Extracting RoadAccidents006_x264.mp4:   0%|          | 0/1691 [00:00<?, ?it/s]"
      ]
     },
     "metadata": {},
     "output_type": "display_data"
    },
    {
     "name": "stdout",
     "output_type": "stream",
     "text": [
      " - RoadAccidents / RoadAccidents017_x264.mp4\n"
     ]
    },
    {
     "data": {
      "application/vnd.jupyter.widget-view+json": {
       "model_id": "00b642017a1c4b84b528ccf6dff3ff67",
       "version_major": 2,
       "version_minor": 0
      },
      "text/plain": [
       "Extracting RoadAccidents017_x264.mp4:   0%|          | 0/243 [00:00<?, ?it/s]"
      ]
     },
     "metadata": {},
     "output_type": "display_data"
    },
    {
     "name": "stdout",
     "output_type": "stream",
     "text": [
      " - RoadAccidents / RoadAccidents032_x264.mp4\n"
     ]
    },
    {
     "data": {
      "application/vnd.jupyter.widget-view+json": {
       "model_id": "1d7444fc21da45b8890ea4bea0fa2896",
       "version_major": 2,
       "version_minor": 0
      },
      "text/plain": [
       "Extracting RoadAccidents032_x264.mp4:   0%|          | 0/2261 [00:00<?, ?it/s]"
      ]
     },
     "metadata": {},
     "output_type": "display_data"
    },
    {
     "name": "stdout",
     "output_type": "stream",
     "text": [
      " - RoadAccidents / RoadAccidents035_x264.mp4\n"
     ]
    },
    {
     "data": {
      "application/vnd.jupyter.widget-view+json": {
       "model_id": "dbcff5dcebb048cd92e50ee4b8f332c4",
       "version_major": 2,
       "version_minor": 0
      },
      "text/plain": [
       "Extracting RoadAccidents035_x264.mp4:   0%|          | 0/277 [00:00<?, ?it/s]"
      ]
     },
     "metadata": {},
     "output_type": "display_data"
    },
    {
     "name": "stdout",
     "output_type": "stream",
     "text": [
      " - Robbery / Robbery009_x264.mp4\n"
     ]
    },
    {
     "data": {
      "application/vnd.jupyter.widget-view+json": {
       "model_id": "867b4c3b3ac64e609c441db02306ce4b",
       "version_major": 2,
       "version_minor": 0
      },
      "text/plain": [
       "Extracting Robbery009_x264.mp4:   0%|          | 0/3203 [00:00<?, ?it/s]"
      ]
     },
     "metadata": {},
     "output_type": "display_data"
    },
    {
     "name": "stdout",
     "output_type": "stream",
     "text": [
      " - Robbery / Robbery014_x264.mp4\n"
     ]
    },
    {
     "data": {
      "application/vnd.jupyter.widget-view+json": {
       "model_id": "513e7ec0bc8947aea769db0c3130b6e4",
       "version_major": 2,
       "version_minor": 0
      },
      "text/plain": [
       "Extracting Robbery014_x264.mp4:   0%|          | 0/15278 [00:00<?, ?it/s]"
      ]
     },
     "metadata": {},
     "output_type": "display_data"
    },
    {
     "name": "stdout",
     "output_type": "stream",
     "text": [
      " - Robbery / Robbery043_x264.mp4\n"
     ]
    },
    {
     "data": {
      "application/vnd.jupyter.widget-view+json": {
       "model_id": "a49b44d2f0ad4b3d9bef8c074999217d",
       "version_major": 2,
       "version_minor": 0
      },
      "text/plain": [
       "Extracting Robbery043_x264.mp4:   0%|          | 0/1038 [00:00<?, ?it/s]"
      ]
     },
     "metadata": {},
     "output_type": "display_data"
    },
    {
     "name": "stdout",
     "output_type": "stream",
     "text": [
      " - Robbery / Robbery061_x264.mp4\n"
     ]
    },
    {
     "data": {
      "application/vnd.jupyter.widget-view+json": {
       "model_id": "7710b6a2251b4bf6b47e942bfc2c0850",
       "version_major": 2,
       "version_minor": 0
      },
      "text/plain": [
       "Extracting Robbery061_x264.mp4:   0%|          | 0/3681 [00:00<?, ?it/s]"
      ]
     },
     "metadata": {},
     "output_type": "display_data"
    },
    {
     "name": "stdout",
     "output_type": "stream",
     "text": [
      " - Robbery / Robbery072_x264.mp4\n"
     ]
    },
    {
     "data": {
      "application/vnd.jupyter.widget-view+json": {
       "model_id": "15ad4a8ddf4b4e5498eac52cbcc31879",
       "version_major": 2,
       "version_minor": 0
      },
      "text/plain": [
       "Extracting Robbery072_x264.mp4:   0%|          | 0/1394 [00:00<?, ?it/s]"
      ]
     },
     "metadata": {},
     "output_type": "display_data"
    },
    {
     "name": "stdout",
     "output_type": "stream",
     "text": [
      " - Shooting / Shooting003_x264.mp4\n"
     ]
    },
    {
     "data": {
      "application/vnd.jupyter.widget-view+json": {
       "model_id": "4ee33a914cee4edfa01c1160b81feb8a",
       "version_major": 2,
       "version_minor": 0
      },
      "text/plain": [
       "Extracting Shooting003_x264.mp4:   0%|          | 0/2277 [00:00<?, ?it/s]"
      ]
     },
     "metadata": {},
     "output_type": "display_data"
    },
    {
     "name": "stdout",
     "output_type": "stream",
     "text": [
      " - Shooting / Shooting009_x264.mp4\n"
     ]
    },
    {
     "data": {
      "application/vnd.jupyter.widget-view+json": {
       "model_id": "277d18cc3f0340df89355ed5bd7af273",
       "version_major": 2,
       "version_minor": 0
      },
      "text/plain": [
       "Extracting Shooting009_x264.mp4:   0%|          | 0/5166 [00:00<?, ?it/s]"
      ]
     },
     "metadata": {},
     "output_type": "display_data"
    },
    {
     "name": "stdout",
     "output_type": "stream",
     "text": [
      " - Shooting / Shooting023_x264.mp4\n"
     ]
    },
    {
     "data": {
      "application/vnd.jupyter.widget-view+json": {
       "model_id": "8bdd5f573df24970912f1cc0bc5c11ec",
       "version_major": 2,
       "version_minor": 0
      },
      "text/plain": [
       "Extracting Shooting023_x264.mp4:   0%|          | 0/416 [00:00<?, ?it/s]"
      ]
     },
     "metadata": {},
     "output_type": "display_data"
    },
    {
     "name": "stdout",
     "output_type": "stream",
     "text": [
      " - Shooting / Shooting041_x264.mp4\n"
     ]
    },
    {
     "data": {
      "application/vnd.jupyter.widget-view+json": {
       "model_id": "706a1a51b2a549569c140ce3abce6cb0",
       "version_major": 2,
       "version_minor": 0
      },
      "text/plain": [
       "Extracting Shooting041_x264.mp4:   0%|          | 0/1391 [00:00<?, ?it/s]"
      ]
     },
     "metadata": {},
     "output_type": "display_data"
    },
    {
     "name": "stdout",
     "output_type": "stream",
     "text": [
      " - Shooting / Shooting046_x264.mp4\n"
     ]
    },
    {
     "data": {
      "application/vnd.jupyter.widget-view+json": {
       "model_id": "19c300e3e10b4605a73fb1a2d04c5d00",
       "version_major": 2,
       "version_minor": 0
      },
      "text/plain": [
       "Extracting Shooting046_x264.mp4:   0%|          | 0/5088 [00:00<?, ?it/s]"
      ]
     },
     "metadata": {},
     "output_type": "display_data"
    },
    {
     "name": "stdout",
     "output_type": "stream",
     "text": [
      " - Shoplifting / Shoplifting013_x264.mp4\n"
     ]
    },
    {
     "data": {
      "application/vnd.jupyter.widget-view+json": {
       "model_id": "3b6f9f0e8c6a48bc97dc2262e55106e9",
       "version_major": 2,
       "version_minor": 0
      },
      "text/plain": [
       "Extracting Shoplifting013_x264.mp4:   0%|          | 0/2021 [00:00<?, ?it/s]"
      ]
     },
     "metadata": {},
     "output_type": "display_data"
    },
    {
     "name": "stdout",
     "output_type": "stream",
     "text": [
      " - Shoplifting / Shoplifting016_x264.mp4\n"
     ]
    },
    {
     "data": {
      "application/vnd.jupyter.widget-view+json": {
       "model_id": "df5876216db64adda1516aaf1a49ad29",
       "version_major": 2,
       "version_minor": 0
      },
      "text/plain": [
       "Extracting Shoplifting016_x264.mp4:   0%|          | 0/1483 [00:00<?, ?it/s]"
      ]
     },
     "metadata": {},
     "output_type": "display_data"
    },
    {
     "name": "stdout",
     "output_type": "stream",
     "text": [
      " - Shoplifting / Shoplifting028_x264.mp4\n"
     ]
    },
    {
     "data": {
      "application/vnd.jupyter.widget-view+json": {
       "model_id": "b1250159b097459082192ce9da7f051f",
       "version_major": 2,
       "version_minor": 0
      },
      "text/plain": [
       "Extracting Shoplifting028_x264.mp4:   0%|          | 0/1357 [00:00<?, ?it/s]"
      ]
     },
     "metadata": {},
     "output_type": "display_data"
    },
    {
     "name": "stdout",
     "output_type": "stream",
     "text": [
      " - Shoplifting / Shoplifting044_x264.mp4\n"
     ]
    },
    {
     "data": {
      "application/vnd.jupyter.widget-view+json": {
       "model_id": "f5992678d4314c0d8276d421d8696613",
       "version_major": 2,
       "version_minor": 0
      },
      "text/plain": [
       "Extracting Shoplifting044_x264.mp4:   0%|          | 0/14555 [00:00<?, ?it/s]"
      ]
     },
     "metadata": {},
     "output_type": "display_data"
    },
    {
     "name": "stdout",
     "output_type": "stream",
     "text": [
      " - Shoplifting / Shoplifting045_x264.mp4\n"
     ]
    },
    {
     "data": {
      "application/vnd.jupyter.widget-view+json": {
       "model_id": "74a0b7d3ff244d118940186bb7039e53",
       "version_major": 2,
       "version_minor": 0
      },
      "text/plain": [
       "Extracting Shoplifting045_x264.mp4:   0%|          | 0/1640 [00:00<?, ?it/s]"
      ]
     },
     "metadata": {},
     "output_type": "display_data"
    },
    {
     "name": "stdout",
     "output_type": "stream",
     "text": [
      " - Stealing / Stealing007_x264.mp4\n"
     ]
    },
    {
     "data": {
      "application/vnd.jupyter.widget-view+json": {
       "model_id": "85e09524a9e4459db123ca8ab22b5333",
       "version_major": 2,
       "version_minor": 0
      },
      "text/plain": [
       "Extracting Stealing007_x264.mp4:   0%|          | 0/3090 [00:00<?, ?it/s]"
      ]
     },
     "metadata": {},
     "output_type": "display_data"
    },
    {
     "name": "stdout",
     "output_type": "stream",
     "text": [
      " - Stealing / Stealing009_x264.mp4\n"
     ]
    },
    {
     "data": {
      "application/vnd.jupyter.widget-view+json": {
       "model_id": "57e1431b1ea44ffeb36df59aec5f58ea",
       "version_major": 2,
       "version_minor": 0
      },
      "text/plain": [
       "Extracting Stealing009_x264.mp4:   0%|          | 0/1614 [00:00<?, ?it/s]"
      ]
     },
     "metadata": {},
     "output_type": "display_data"
    },
    {
     "name": "stdout",
     "output_type": "stream",
     "text": [
      " - Stealing / Stealing011_x264.mp4\n"
     ]
    },
    {
     "data": {
      "application/vnd.jupyter.widget-view+json": {
       "model_id": "f867d26b577343e98f1eb1a7edcb6e2b",
       "version_major": 2,
       "version_minor": 0
      },
      "text/plain": [
       "Extracting Stealing011_x264.mp4:   0%|          | 0/3717 [00:00<?, ?it/s]"
      ]
     },
     "metadata": {},
     "output_type": "display_data"
    },
    {
     "name": "stdout",
     "output_type": "stream",
     "text": [
      " - Stealing / Stealing045_x264.mp4\n"
     ]
    },
    {
     "data": {
      "application/vnd.jupyter.widget-view+json": {
       "model_id": "c2595aeb4a8a478eadea039e0ef7d618",
       "version_major": 2,
       "version_minor": 0
      },
      "text/plain": [
       "Extracting Stealing045_x264.mp4:   0%|          | 0/10662 [00:00<?, ?it/s]"
      ]
     },
     "metadata": {},
     "output_type": "display_data"
    },
    {
     "name": "stdout",
     "output_type": "stream",
     "text": [
      " - Stealing / Stealing058_x264.mp4\n"
     ]
    },
    {
     "data": {
      "application/vnd.jupyter.widget-view+json": {
       "model_id": "6363315b5af44dee87dae50bb5c02c17",
       "version_major": 2,
       "version_minor": 0
      },
      "text/plain": [
       "Extracting Stealing058_x264.mp4:   0%|          | 0/4991 [00:00<?, ?it/s]"
      ]
     },
     "metadata": {},
     "output_type": "display_data"
    },
    {
     "name": "stdout",
     "output_type": "stream",
     "text": [
      " - Vandalism / Vandalism001_x264.mp4\n"
     ]
    },
    {
     "data": {
      "application/vnd.jupyter.widget-view+json": {
       "model_id": "b7a4265db5544843a61277d9d0de55dd",
       "version_major": 2,
       "version_minor": 0
      },
      "text/plain": [
       "Extracting Vandalism001_x264.mp4:   0%|          | 0/1434 [00:00<?, ?it/s]"
      ]
     },
     "metadata": {},
     "output_type": "display_data"
    },
    {
     "name": "stdout",
     "output_type": "stream",
     "text": [
      " - Vandalism / Vandalism015_x264.mp4\n"
     ]
    },
    {
     "data": {
      "application/vnd.jupyter.widget-view+json": {
       "model_id": "02add864f36042c78143b2bb184e20e6",
       "version_major": 2,
       "version_minor": 0
      },
      "text/plain": [
       "Extracting Vandalism015_x264.mp4:   0%|          | 0/2982 [00:00<?, ?it/s]"
      ]
     },
     "metadata": {},
     "output_type": "display_data"
    },
    {
     "name": "stdout",
     "output_type": "stream",
     "text": [
      " - Vandalism / Vandalism018_x264.mp4\n"
     ]
    },
    {
     "data": {
      "application/vnd.jupyter.widget-view+json": {
       "model_id": "45942e5376314e9bb8d8fec725910f6b",
       "version_major": 2,
       "version_minor": 0
      },
      "text/plain": [
       "Extracting Vandalism018_x264.mp4:   0%|          | 0/5557 [00:00<?, ?it/s]"
      ]
     },
     "metadata": {},
     "output_type": "display_data"
    },
    {
     "name": "stdout",
     "output_type": "stream",
     "text": [
      " - Vandalism / Vandalism021_x264.mp4\n"
     ]
    },
    {
     "data": {
      "application/vnd.jupyter.widget-view+json": {
       "model_id": "665e0f3bd5474e408df473635f9679a7",
       "version_major": 2,
       "version_minor": 0
      },
      "text/plain": [
       "Extracting Vandalism021_x264.mp4:   0%|          | 0/1362 [00:00<?, ?it/s]"
      ]
     },
     "metadata": {},
     "output_type": "display_data"
    },
    {
     "name": "stdout",
     "output_type": "stream",
     "text": [
      " - Vandalism / Vandalism037_x264.mp4\n"
     ]
    },
    {
     "data": {
      "application/vnd.jupyter.widget-view+json": {
       "model_id": "23303ce7f5044ad18fadd84cece48ebe",
       "version_major": 2,
       "version_minor": 0
      },
      "text/plain": [
       "Extracting Vandalism037_x264.mp4:   0%|          | 0/3019 [00:00<?, ?it/s]"
      ]
     },
     "metadata": {},
     "output_type": "display_data"
    }
   ],
   "source": [
    "import os\n",
    "import cv2\n",
    "from pathlib import Path\n",
    "from tqdm.notebook import tqdm\n",
    "\n",
    "def extract_frames(video_path, output_folder, frame_skip=1):\n",
    "    \"\"\"Extract frames with skipping (every `frame_skip` frames).\"\"\"\n",
    "    output_folder.mkdir(parents=True, exist_ok=True)\n",
    "    \n",
    "    cap = cv2.VideoCapture(str(video_path))\n",
    "    if not cap.isOpened():\n",
    "        print(f\"[ERROR] Could not open {video_path}\")\n",
    "        return\n",
    "\n",
    "    frame_idx = 0\n",
    "    saved_idx = 0\n",
    "\n",
    "    total_frames = int(cap.get(cv2.CAP_PROP_FRAME_COUNT))\n",
    "    progress = tqdm(total=total_frames, desc=f\"Extracting {video_path.name}\", leave=False)\n",
    "\n",
    "    while True:\n",
    "        ret, frame = cap.read()\n",
    "        if not ret:\n",
    "            break\n",
    "\n",
    "        if frame_idx % frame_skip == 0:\n",
    "            frame_filename = output_folder / f\"frame_{saved_idx:06d}.png\"\n",
    "            cv2.imwrite(str(frame_filename), frame)\n",
    "            saved_idx += 1\n",
    "        \n",
    "        frame_idx += 1\n",
    "        progress.update(1)\n",
    "\n",
    "    progress.close()\n",
    "    cap.release()\n",
    "\n",
    "def convert_ucf_videos_to_frames(src_root, dest_root, frame_skip=1):\n",
    "    src_root = Path(src_root)\n",
    "    dest_root = Path(dest_root)\n",
    "    \n",
    "    for split in [\"Train\", \"Test\", \"Validation\"]:\n",
    "        split_dir = src_root / split\n",
    "        if not split_dir.exists():\n",
    "            continue\n",
    "        \n",
    "        print(f\"\\n[Processing] {split} (frame_skip={frame_skip})...\")\n",
    "\n",
    "        for class_dir in split_dir.iterdir():\n",
    "            if not class_dir.is_dir():\n",
    "                continue\n",
    "\n",
    "            for video_file in class_dir.glob(\"*.mp4\"):\n",
    "                video_stem = video_file.stem\n",
    "                output_folder = dest_root / split / class_dir.name / video_stem\n",
    "\n",
    "                # Skip if frames already extracted\n",
    "                if output_folder.exists() and any(output_folder.iterdir()):\n",
    "                    continue\n",
    "\n",
    "                print(f\" - {class_dir.name} / {video_file.name}\")\n",
    "                extract_frames(video_file, output_folder, frame_skip=frame_skip)\n",
    "\n",
    "convert_ucf_videos_to_frames(\n",
    "    src_root=r\"C:\\Users\\rayaa\\Downloads\\ucf_crime_v2\\ucf_crime_v2\",\n",
    "    dest_root=r\"C:\\Users\\rayaa\\Downloads\\ucf_crime_v2\\ucf_crime_frames\",\n",
    "    frame_skip=10   # change this value to control skipping\n",
    ")\n"
   ]
  }
 ],
 "metadata": {
  "kernelspec": {
   "display_name": "cuda_12_8",
   "language": "python",
   "name": "python3"
  },
  "language_info": {
   "codemirror_mode": {
    "name": "ipython",
    "version": 3
   },
   "file_extension": ".py",
   "mimetype": "text/x-python",
   "name": "python",
   "nbconvert_exporter": "python",
   "pygments_lexer": "ipython3",
   "version": "3.10.19"
  }
 },
 "nbformat": 4,
 "nbformat_minor": 5
}
